{
  "nbformat": 4,
  "nbformat_minor": 0,
  "metadata": {
    "colab": {
      "provenance": []
    },
    "kernelspec": {
      "name": "python3",
      "display_name": "Python 3"
    },
    "language_info": {
      "name": "python"
    },
    "widgets": {
      "application/vnd.jupyter.widget-state+json": {
        "ae88eb9a08ed4d0f9e3a546068064f7a": {
          "model_module": "@jupyter-widgets/controls",
          "model_name": "HBoxModel",
          "model_module_version": "1.5.0",
          "state": {
            "_dom_classes": [],
            "_model_module": "@jupyter-widgets/controls",
            "_model_module_version": "1.5.0",
            "_model_name": "HBoxModel",
            "_view_count": null,
            "_view_module": "@jupyter-widgets/controls",
            "_view_module_version": "1.5.0",
            "_view_name": "HBoxView",
            "box_style": "",
            "children": [
              "IPY_MODEL_5c1dfdc6653b40e9b1fcee5460437e5a",
              "IPY_MODEL_406dcea6986542bfa53cfd258b29de8e",
              "IPY_MODEL_cc480863f81640febcf5e82893333690"
            ],
            "layout": "IPY_MODEL_00a779257e6e48c3b195af2f58848d47"
          }
        },
        "5c1dfdc6653b40e9b1fcee5460437e5a": {
          "model_module": "@jupyter-widgets/controls",
          "model_name": "HTMLModel",
          "model_module_version": "1.5.0",
          "state": {
            "_dom_classes": [],
            "_model_module": "@jupyter-widgets/controls",
            "_model_module_version": "1.5.0",
            "_model_name": "HTMLModel",
            "_view_count": null,
            "_view_module": "@jupyter-widgets/controls",
            "_view_module_version": "1.5.0",
            "_view_name": "HTMLView",
            "description": "",
            "description_tooltip": null,
            "layout": "IPY_MODEL_8c005a8c50f04a9ea7f713837a962cb4",
            "placeholder": "​",
            "style": "IPY_MODEL_48f56b5dd79d40438504c191eecc237f",
            "value": "pytorch_model.bin: 100%"
          }
        },
        "406dcea6986542bfa53cfd258b29de8e": {
          "model_module": "@jupyter-widgets/controls",
          "model_name": "FloatProgressModel",
          "model_module_version": "1.5.0",
          "state": {
            "_dom_classes": [],
            "_model_module": "@jupyter-widgets/controls",
            "_model_module_version": "1.5.0",
            "_model_name": "FloatProgressModel",
            "_view_count": null,
            "_view_module": "@jupyter-widgets/controls",
            "_view_module_version": "1.5.0",
            "_view_name": "ProgressView",
            "bar_style": "success",
            "description": "",
            "description_tooltip": null,
            "layout": "IPY_MODEL_f733c7f4d3404582abb4a15c3f3b6a54",
            "max": 780806090,
            "min": 0,
            "orientation": "horizontal",
            "style": "IPY_MODEL_822a50062d0d484480905a85e7b44a41",
            "value": 780806090
          }
        },
        "cc480863f81640febcf5e82893333690": {
          "model_module": "@jupyter-widgets/controls",
          "model_name": "HTMLModel",
          "model_module_version": "1.5.0",
          "state": {
            "_dom_classes": [],
            "_model_module": "@jupyter-widgets/controls",
            "_model_module_version": "1.5.0",
            "_model_name": "HTMLModel",
            "_view_count": null,
            "_view_module": "@jupyter-widgets/controls",
            "_view_module_version": "1.5.0",
            "_view_name": "HTMLView",
            "description": "",
            "description_tooltip": null,
            "layout": "IPY_MODEL_33017436beea41b4b607b5319061cce6",
            "placeholder": "​",
            "style": "IPY_MODEL_2a023af85fc84b2c84f8105b92c0c31b",
            "value": " 781M/781M [00:08&lt;00:00, 19.4MB/s]"
          }
        },
        "00a779257e6e48c3b195af2f58848d47": {
          "model_module": "@jupyter-widgets/base",
          "model_name": "LayoutModel",
          "model_module_version": "1.2.0",
          "state": {
            "_model_module": "@jupyter-widgets/base",
            "_model_module_version": "1.2.0",
            "_model_name": "LayoutModel",
            "_view_count": null,
            "_view_module": "@jupyter-widgets/base",
            "_view_module_version": "1.2.0",
            "_view_name": "LayoutView",
            "align_content": null,
            "align_items": null,
            "align_self": null,
            "border": null,
            "bottom": null,
            "display": null,
            "flex": null,
            "flex_flow": null,
            "grid_area": null,
            "grid_auto_columns": null,
            "grid_auto_flow": null,
            "grid_auto_rows": null,
            "grid_column": null,
            "grid_gap": null,
            "grid_row": null,
            "grid_template_areas": null,
            "grid_template_columns": null,
            "grid_template_rows": null,
            "height": null,
            "justify_content": null,
            "justify_items": null,
            "left": null,
            "margin": null,
            "max_height": null,
            "max_width": null,
            "min_height": null,
            "min_width": null,
            "object_fit": null,
            "object_position": null,
            "order": null,
            "overflow": null,
            "overflow_x": null,
            "overflow_y": null,
            "padding": null,
            "right": null,
            "top": null,
            "visibility": null,
            "width": null
          }
        },
        "8c005a8c50f04a9ea7f713837a962cb4": {
          "model_module": "@jupyter-widgets/base",
          "model_name": "LayoutModel",
          "model_module_version": "1.2.0",
          "state": {
            "_model_module": "@jupyter-widgets/base",
            "_model_module_version": "1.2.0",
            "_model_name": "LayoutModel",
            "_view_count": null,
            "_view_module": "@jupyter-widgets/base",
            "_view_module_version": "1.2.0",
            "_view_name": "LayoutView",
            "align_content": null,
            "align_items": null,
            "align_self": null,
            "border": null,
            "bottom": null,
            "display": null,
            "flex": null,
            "flex_flow": null,
            "grid_area": null,
            "grid_auto_columns": null,
            "grid_auto_flow": null,
            "grid_auto_rows": null,
            "grid_column": null,
            "grid_gap": null,
            "grid_row": null,
            "grid_template_areas": null,
            "grid_template_columns": null,
            "grid_template_rows": null,
            "height": null,
            "justify_content": null,
            "justify_items": null,
            "left": null,
            "margin": null,
            "max_height": null,
            "max_width": null,
            "min_height": null,
            "min_width": null,
            "object_fit": null,
            "object_position": null,
            "order": null,
            "overflow": null,
            "overflow_x": null,
            "overflow_y": null,
            "padding": null,
            "right": null,
            "top": null,
            "visibility": null,
            "width": null
          }
        },
        "48f56b5dd79d40438504c191eecc237f": {
          "model_module": "@jupyter-widgets/controls",
          "model_name": "DescriptionStyleModel",
          "model_module_version": "1.5.0",
          "state": {
            "_model_module": "@jupyter-widgets/controls",
            "_model_module_version": "1.5.0",
            "_model_name": "DescriptionStyleModel",
            "_view_count": null,
            "_view_module": "@jupyter-widgets/base",
            "_view_module_version": "1.2.0",
            "_view_name": "StyleView",
            "description_width": ""
          }
        },
        "f733c7f4d3404582abb4a15c3f3b6a54": {
          "model_module": "@jupyter-widgets/base",
          "model_name": "LayoutModel",
          "model_module_version": "1.2.0",
          "state": {
            "_model_module": "@jupyter-widgets/base",
            "_model_module_version": "1.2.0",
            "_model_name": "LayoutModel",
            "_view_count": null,
            "_view_module": "@jupyter-widgets/base",
            "_view_module_version": "1.2.0",
            "_view_name": "LayoutView",
            "align_content": null,
            "align_items": null,
            "align_self": null,
            "border": null,
            "bottom": null,
            "display": null,
            "flex": null,
            "flex_flow": null,
            "grid_area": null,
            "grid_auto_columns": null,
            "grid_auto_flow": null,
            "grid_auto_rows": null,
            "grid_column": null,
            "grid_gap": null,
            "grid_row": null,
            "grid_template_areas": null,
            "grid_template_columns": null,
            "grid_template_rows": null,
            "height": null,
            "justify_content": null,
            "justify_items": null,
            "left": null,
            "margin": null,
            "max_height": null,
            "max_width": null,
            "min_height": null,
            "min_width": null,
            "object_fit": null,
            "object_position": null,
            "order": null,
            "overflow": null,
            "overflow_x": null,
            "overflow_y": null,
            "padding": null,
            "right": null,
            "top": null,
            "visibility": null,
            "width": null
          }
        },
        "822a50062d0d484480905a85e7b44a41": {
          "model_module": "@jupyter-widgets/controls",
          "model_name": "ProgressStyleModel",
          "model_module_version": "1.5.0",
          "state": {
            "_model_module": "@jupyter-widgets/controls",
            "_model_module_version": "1.5.0",
            "_model_name": "ProgressStyleModel",
            "_view_count": null,
            "_view_module": "@jupyter-widgets/base",
            "_view_module_version": "1.2.0",
            "_view_name": "StyleView",
            "bar_color": null,
            "description_width": ""
          }
        },
        "33017436beea41b4b607b5319061cce6": {
          "model_module": "@jupyter-widgets/base",
          "model_name": "LayoutModel",
          "model_module_version": "1.2.0",
          "state": {
            "_model_module": "@jupyter-widgets/base",
            "_model_module_version": "1.2.0",
            "_model_name": "LayoutModel",
            "_view_count": null,
            "_view_module": "@jupyter-widgets/base",
            "_view_module_version": "1.2.0",
            "_view_name": "LayoutView",
            "align_content": null,
            "align_items": null,
            "align_self": null,
            "border": null,
            "bottom": null,
            "display": null,
            "flex": null,
            "flex_flow": null,
            "grid_area": null,
            "grid_auto_columns": null,
            "grid_auto_flow": null,
            "grid_auto_rows": null,
            "grid_column": null,
            "grid_gap": null,
            "grid_row": null,
            "grid_template_areas": null,
            "grid_template_columns": null,
            "grid_template_rows": null,
            "height": null,
            "justify_content": null,
            "justify_items": null,
            "left": null,
            "margin": null,
            "max_height": null,
            "max_width": null,
            "min_height": null,
            "min_width": null,
            "object_fit": null,
            "object_position": null,
            "order": null,
            "overflow": null,
            "overflow_x": null,
            "overflow_y": null,
            "padding": null,
            "right": null,
            "top": null,
            "visibility": null,
            "width": null
          }
        },
        "2a023af85fc84b2c84f8105b92c0c31b": {
          "model_module": "@jupyter-widgets/controls",
          "model_name": "DescriptionStyleModel",
          "model_module_version": "1.5.0",
          "state": {
            "_model_module": "@jupyter-widgets/controls",
            "_model_module_version": "1.5.0",
            "_model_name": "DescriptionStyleModel",
            "_view_count": null,
            "_view_module": "@jupyter-widgets/base",
            "_view_module_version": "1.2.0",
            "_view_name": "StyleView",
            "description_width": ""
          }
        },
        "121fca868b844513878b2735d3d37b27": {
          "model_module": "@jupyter-widgets/controls",
          "model_name": "HBoxModel",
          "model_module_version": "1.5.0",
          "state": {
            "_dom_classes": [],
            "_model_module": "@jupyter-widgets/controls",
            "_model_module_version": "1.5.0",
            "_model_name": "HBoxModel",
            "_view_count": null,
            "_view_module": "@jupyter-widgets/controls",
            "_view_module_version": "1.5.0",
            "_view_name": "HBoxView",
            "box_style": "",
            "children": [
              "IPY_MODEL_8e1cdb90131c4a2b867abde02511aa27",
              "IPY_MODEL_11265ed4bc324a96b98bfd806645fedf",
              "IPY_MODEL_b9bb01885f89411fa3a18923e5fb1440"
            ],
            "layout": "IPY_MODEL_1914c862eae0431a8fa2540de854a5f4"
          }
        },
        "8e1cdb90131c4a2b867abde02511aa27": {
          "model_module": "@jupyter-widgets/controls",
          "model_name": "HTMLModel",
          "model_module_version": "1.5.0",
          "state": {
            "_dom_classes": [],
            "_model_module": "@jupyter-widgets/controls",
            "_model_module_version": "1.5.0",
            "_model_name": "HTMLModel",
            "_view_count": null,
            "_view_module": "@jupyter-widgets/controls",
            "_view_module_version": "1.5.0",
            "_view_name": "HTMLView",
            "description": "",
            "description_tooltip": null,
            "layout": "IPY_MODEL_833d8697237b48719e5844f95656b4f1",
            "placeholder": "​",
            "style": "IPY_MODEL_d533beeef67546d6a7774564e8e9f7b5",
            "value": "gliner_config.json: 100%"
          }
        },
        "11265ed4bc324a96b98bfd806645fedf": {
          "model_module": "@jupyter-widgets/controls",
          "model_name": "FloatProgressModel",
          "model_module_version": "1.5.0",
          "state": {
            "_dom_classes": [],
            "_model_module": "@jupyter-widgets/controls",
            "_model_module_version": "1.5.0",
            "_model_name": "FloatProgressModel",
            "_view_count": null,
            "_view_module": "@jupyter-widgets/controls",
            "_view_module_version": "1.5.0",
            "_view_name": "ProgressView",
            "bar_style": "success",
            "description": "",
            "description_tooltip": null,
            "layout": "IPY_MODEL_d80cbca43c0c4362bdb75577723efb94",
            "max": 476,
            "min": 0,
            "orientation": "horizontal",
            "style": "IPY_MODEL_ad8057d12e6d42d4a06156bcc26b6774",
            "value": 476
          }
        },
        "b9bb01885f89411fa3a18923e5fb1440": {
          "model_module": "@jupyter-widgets/controls",
          "model_name": "HTMLModel",
          "model_module_version": "1.5.0",
          "state": {
            "_dom_classes": [],
            "_model_module": "@jupyter-widgets/controls",
            "_model_module_version": "1.5.0",
            "_model_name": "HTMLModel",
            "_view_count": null,
            "_view_module": "@jupyter-widgets/controls",
            "_view_module_version": "1.5.0",
            "_view_name": "HTMLView",
            "description": "",
            "description_tooltip": null,
            "layout": "IPY_MODEL_94d14e1dcb0d4085b2bfd34b5463f5a9",
            "placeholder": "​",
            "style": "IPY_MODEL_72af8f6fb7574c769b7a6158464777cd",
            "value": " 476/476 [00:00&lt;00:00, 27.0kB/s]"
          }
        },
        "1914c862eae0431a8fa2540de854a5f4": {
          "model_module": "@jupyter-widgets/base",
          "model_name": "LayoutModel",
          "model_module_version": "1.2.0",
          "state": {
            "_model_module": "@jupyter-widgets/base",
            "_model_module_version": "1.2.0",
            "_model_name": "LayoutModel",
            "_view_count": null,
            "_view_module": "@jupyter-widgets/base",
            "_view_module_version": "1.2.0",
            "_view_name": "LayoutView",
            "align_content": null,
            "align_items": null,
            "align_self": null,
            "border": null,
            "bottom": null,
            "display": null,
            "flex": null,
            "flex_flow": null,
            "grid_area": null,
            "grid_auto_columns": null,
            "grid_auto_flow": null,
            "grid_auto_rows": null,
            "grid_column": null,
            "grid_gap": null,
            "grid_row": null,
            "grid_template_areas": null,
            "grid_template_columns": null,
            "grid_template_rows": null,
            "height": null,
            "justify_content": null,
            "justify_items": null,
            "left": null,
            "margin": null,
            "max_height": null,
            "max_width": null,
            "min_height": null,
            "min_width": null,
            "object_fit": null,
            "object_position": null,
            "order": null,
            "overflow": null,
            "overflow_x": null,
            "overflow_y": null,
            "padding": null,
            "right": null,
            "top": null,
            "visibility": null,
            "width": null
          }
        },
        "833d8697237b48719e5844f95656b4f1": {
          "model_module": "@jupyter-widgets/base",
          "model_name": "LayoutModel",
          "model_module_version": "1.2.0",
          "state": {
            "_model_module": "@jupyter-widgets/base",
            "_model_module_version": "1.2.0",
            "_model_name": "LayoutModel",
            "_view_count": null,
            "_view_module": "@jupyter-widgets/base",
            "_view_module_version": "1.2.0",
            "_view_name": "LayoutView",
            "align_content": null,
            "align_items": null,
            "align_self": null,
            "border": null,
            "bottom": null,
            "display": null,
            "flex": null,
            "flex_flow": null,
            "grid_area": null,
            "grid_auto_columns": null,
            "grid_auto_flow": null,
            "grid_auto_rows": null,
            "grid_column": null,
            "grid_gap": null,
            "grid_row": null,
            "grid_template_areas": null,
            "grid_template_columns": null,
            "grid_template_rows": null,
            "height": null,
            "justify_content": null,
            "justify_items": null,
            "left": null,
            "margin": null,
            "max_height": null,
            "max_width": null,
            "min_height": null,
            "min_width": null,
            "object_fit": null,
            "object_position": null,
            "order": null,
            "overflow": null,
            "overflow_x": null,
            "overflow_y": null,
            "padding": null,
            "right": null,
            "top": null,
            "visibility": null,
            "width": null
          }
        },
        "d533beeef67546d6a7774564e8e9f7b5": {
          "model_module": "@jupyter-widgets/controls",
          "model_name": "DescriptionStyleModel",
          "model_module_version": "1.5.0",
          "state": {
            "_model_module": "@jupyter-widgets/controls",
            "_model_module_version": "1.5.0",
            "_model_name": "DescriptionStyleModel",
            "_view_count": null,
            "_view_module": "@jupyter-widgets/base",
            "_view_module_version": "1.2.0",
            "_view_name": "StyleView",
            "description_width": ""
          }
        },
        "d80cbca43c0c4362bdb75577723efb94": {
          "model_module": "@jupyter-widgets/base",
          "model_name": "LayoutModel",
          "model_module_version": "1.2.0",
          "state": {
            "_model_module": "@jupyter-widgets/base",
            "_model_module_version": "1.2.0",
            "_model_name": "LayoutModel",
            "_view_count": null,
            "_view_module": "@jupyter-widgets/base",
            "_view_module_version": "1.2.0",
            "_view_name": "LayoutView",
            "align_content": null,
            "align_items": null,
            "align_self": null,
            "border": null,
            "bottom": null,
            "display": null,
            "flex": null,
            "flex_flow": null,
            "grid_area": null,
            "grid_auto_columns": null,
            "grid_auto_flow": null,
            "grid_auto_rows": null,
            "grid_column": null,
            "grid_gap": null,
            "grid_row": null,
            "grid_template_areas": null,
            "grid_template_columns": null,
            "grid_template_rows": null,
            "height": null,
            "justify_content": null,
            "justify_items": null,
            "left": null,
            "margin": null,
            "max_height": null,
            "max_width": null,
            "min_height": null,
            "min_width": null,
            "object_fit": null,
            "object_position": null,
            "order": null,
            "overflow": null,
            "overflow_x": null,
            "overflow_y": null,
            "padding": null,
            "right": null,
            "top": null,
            "visibility": null,
            "width": null
          }
        },
        "ad8057d12e6d42d4a06156bcc26b6774": {
          "model_module": "@jupyter-widgets/controls",
          "model_name": "ProgressStyleModel",
          "model_module_version": "1.5.0",
          "state": {
            "_model_module": "@jupyter-widgets/controls",
            "_model_module_version": "1.5.0",
            "_model_name": "ProgressStyleModel",
            "_view_count": null,
            "_view_module": "@jupyter-widgets/base",
            "_view_module_version": "1.2.0",
            "_view_name": "StyleView",
            "bar_color": null,
            "description_width": ""
          }
        },
        "94d14e1dcb0d4085b2bfd34b5463f5a9": {
          "model_module": "@jupyter-widgets/base",
          "model_name": "LayoutModel",
          "model_module_version": "1.2.0",
          "state": {
            "_model_module": "@jupyter-widgets/base",
            "_model_module_version": "1.2.0",
            "_model_name": "LayoutModel",
            "_view_count": null,
            "_view_module": "@jupyter-widgets/base",
            "_view_module_version": "1.2.0",
            "_view_name": "LayoutView",
            "align_content": null,
            "align_items": null,
            "align_self": null,
            "border": null,
            "bottom": null,
            "display": null,
            "flex": null,
            "flex_flow": null,
            "grid_area": null,
            "grid_auto_columns": null,
            "grid_auto_flow": null,
            "grid_auto_rows": null,
            "grid_column": null,
            "grid_gap": null,
            "grid_row": null,
            "grid_template_areas": null,
            "grid_template_columns": null,
            "grid_template_rows": null,
            "height": null,
            "justify_content": null,
            "justify_items": null,
            "left": null,
            "margin": null,
            "max_height": null,
            "max_width": null,
            "min_height": null,
            "min_width": null,
            "object_fit": null,
            "object_position": null,
            "order": null,
            "overflow": null,
            "overflow_x": null,
            "overflow_y": null,
            "padding": null,
            "right": null,
            "top": null,
            "visibility": null,
            "width": null
          }
        },
        "72af8f6fb7574c769b7a6158464777cd": {
          "model_module": "@jupyter-widgets/controls",
          "model_name": "DescriptionStyleModel",
          "model_module_version": "1.5.0",
          "state": {
            "_model_module": "@jupyter-widgets/controls",
            "_model_module_version": "1.5.0",
            "_model_name": "DescriptionStyleModel",
            "_view_count": null,
            "_view_module": "@jupyter-widgets/base",
            "_view_module_version": "1.2.0",
            "_view_name": "StyleView",
            "description_width": ""
          }
        },
        "3ceabc3ce8fb4fd59cd4d61530f90c11": {
          "model_module": "@jupyter-widgets/controls",
          "model_name": "HBoxModel",
          "model_module_version": "1.5.0",
          "state": {
            "_dom_classes": [],
            "_model_module": "@jupyter-widgets/controls",
            "_model_module_version": "1.5.0",
            "_model_name": "HBoxModel",
            "_view_count": null,
            "_view_module": "@jupyter-widgets/controls",
            "_view_module_version": "1.5.0",
            "_view_name": "HBoxView",
            "box_style": "",
            "children": [
              "IPY_MODEL_8e5339b1e9314df9a713327bb651d80e",
              "IPY_MODEL_575448726bbd4a0390b8cbbf3745be3b",
              "IPY_MODEL_64f66cc18f524a94a9dcc80982a0bee3"
            ],
            "layout": "IPY_MODEL_96c20d8a92f745da9b6e10ec633f0a5b"
          }
        },
        "8e5339b1e9314df9a713327bb651d80e": {
          "model_module": "@jupyter-widgets/controls",
          "model_name": "HTMLModel",
          "model_module_version": "1.5.0",
          "state": {
            "_dom_classes": [],
            "_model_module": "@jupyter-widgets/controls",
            "_model_module_version": "1.5.0",
            "_model_name": "HTMLModel",
            "_view_count": null,
            "_view_module": "@jupyter-widgets/controls",
            "_view_module_version": "1.5.0",
            "_view_name": "HTMLView",
            "description": "",
            "description_tooltip": null,
            "layout": "IPY_MODEL_954dec0d011b4717ab8b19731a78c1b7",
            "placeholder": "​",
            "style": "IPY_MODEL_8145076f9d8147a9b7afee030b44a177",
            "value": "tokenizer_config.json: 100%"
          }
        },
        "575448726bbd4a0390b8cbbf3745be3b": {
          "model_module": "@jupyter-widgets/controls",
          "model_name": "FloatProgressModel",
          "model_module_version": "1.5.0",
          "state": {
            "_dom_classes": [],
            "_model_module": "@jupyter-widgets/controls",
            "_model_module_version": "1.5.0",
            "_model_name": "FloatProgressModel",
            "_view_count": null,
            "_view_module": "@jupyter-widgets/controls",
            "_view_module_version": "1.5.0",
            "_view_name": "ProgressView",
            "bar_style": "success",
            "description": "",
            "description_tooltip": null,
            "layout": "IPY_MODEL_3f009ec802ec42aab307249131d21fc0",
            "max": 52,
            "min": 0,
            "orientation": "horizontal",
            "style": "IPY_MODEL_d38cf0e1cddf42e6b707ed06b465d8f9",
            "value": 52
          }
        },
        "64f66cc18f524a94a9dcc80982a0bee3": {
          "model_module": "@jupyter-widgets/controls",
          "model_name": "HTMLModel",
          "model_module_version": "1.5.0",
          "state": {
            "_dom_classes": [],
            "_model_module": "@jupyter-widgets/controls",
            "_model_module_version": "1.5.0",
            "_model_name": "HTMLModel",
            "_view_count": null,
            "_view_module": "@jupyter-widgets/controls",
            "_view_module_version": "1.5.0",
            "_view_name": "HTMLView",
            "description": "",
            "description_tooltip": null,
            "layout": "IPY_MODEL_2953f53c60994715a63a7045d1112b63",
            "placeholder": "​",
            "style": "IPY_MODEL_af93378e55f844cb9dceb05f09a4abb8",
            "value": " 52.0/52.0 [00:00&lt;00:00, 1.89kB/s]"
          }
        },
        "96c20d8a92f745da9b6e10ec633f0a5b": {
          "model_module": "@jupyter-widgets/base",
          "model_name": "LayoutModel",
          "model_module_version": "1.2.0",
          "state": {
            "_model_module": "@jupyter-widgets/base",
            "_model_module_version": "1.2.0",
            "_model_name": "LayoutModel",
            "_view_count": null,
            "_view_module": "@jupyter-widgets/base",
            "_view_module_version": "1.2.0",
            "_view_name": "LayoutView",
            "align_content": null,
            "align_items": null,
            "align_self": null,
            "border": null,
            "bottom": null,
            "display": null,
            "flex": null,
            "flex_flow": null,
            "grid_area": null,
            "grid_auto_columns": null,
            "grid_auto_flow": null,
            "grid_auto_rows": null,
            "grid_column": null,
            "grid_gap": null,
            "grid_row": null,
            "grid_template_areas": null,
            "grid_template_columns": null,
            "grid_template_rows": null,
            "height": null,
            "justify_content": null,
            "justify_items": null,
            "left": null,
            "margin": null,
            "max_height": null,
            "max_width": null,
            "min_height": null,
            "min_width": null,
            "object_fit": null,
            "object_position": null,
            "order": null,
            "overflow": null,
            "overflow_x": null,
            "overflow_y": null,
            "padding": null,
            "right": null,
            "top": null,
            "visibility": null,
            "width": null
          }
        },
        "954dec0d011b4717ab8b19731a78c1b7": {
          "model_module": "@jupyter-widgets/base",
          "model_name": "LayoutModel",
          "model_module_version": "1.2.0",
          "state": {
            "_model_module": "@jupyter-widgets/base",
            "_model_module_version": "1.2.0",
            "_model_name": "LayoutModel",
            "_view_count": null,
            "_view_module": "@jupyter-widgets/base",
            "_view_module_version": "1.2.0",
            "_view_name": "LayoutView",
            "align_content": null,
            "align_items": null,
            "align_self": null,
            "border": null,
            "bottom": null,
            "display": null,
            "flex": null,
            "flex_flow": null,
            "grid_area": null,
            "grid_auto_columns": null,
            "grid_auto_flow": null,
            "grid_auto_rows": null,
            "grid_column": null,
            "grid_gap": null,
            "grid_row": null,
            "grid_template_areas": null,
            "grid_template_columns": null,
            "grid_template_rows": null,
            "height": null,
            "justify_content": null,
            "justify_items": null,
            "left": null,
            "margin": null,
            "max_height": null,
            "max_width": null,
            "min_height": null,
            "min_width": null,
            "object_fit": null,
            "object_position": null,
            "order": null,
            "overflow": null,
            "overflow_x": null,
            "overflow_y": null,
            "padding": null,
            "right": null,
            "top": null,
            "visibility": null,
            "width": null
          }
        },
        "8145076f9d8147a9b7afee030b44a177": {
          "model_module": "@jupyter-widgets/controls",
          "model_name": "DescriptionStyleModel",
          "model_module_version": "1.5.0",
          "state": {
            "_model_module": "@jupyter-widgets/controls",
            "_model_module_version": "1.5.0",
            "_model_name": "DescriptionStyleModel",
            "_view_count": null,
            "_view_module": "@jupyter-widgets/base",
            "_view_module_version": "1.2.0",
            "_view_name": "StyleView",
            "description_width": ""
          }
        },
        "3f009ec802ec42aab307249131d21fc0": {
          "model_module": "@jupyter-widgets/base",
          "model_name": "LayoutModel",
          "model_module_version": "1.2.0",
          "state": {
            "_model_module": "@jupyter-widgets/base",
            "_model_module_version": "1.2.0",
            "_model_name": "LayoutModel",
            "_view_count": null,
            "_view_module": "@jupyter-widgets/base",
            "_view_module_version": "1.2.0",
            "_view_name": "LayoutView",
            "align_content": null,
            "align_items": null,
            "align_self": null,
            "border": null,
            "bottom": null,
            "display": null,
            "flex": null,
            "flex_flow": null,
            "grid_area": null,
            "grid_auto_columns": null,
            "grid_auto_flow": null,
            "grid_auto_rows": null,
            "grid_column": null,
            "grid_gap": null,
            "grid_row": null,
            "grid_template_areas": null,
            "grid_template_columns": null,
            "grid_template_rows": null,
            "height": null,
            "justify_content": null,
            "justify_items": null,
            "left": null,
            "margin": null,
            "max_height": null,
            "max_width": null,
            "min_height": null,
            "min_width": null,
            "object_fit": null,
            "object_position": null,
            "order": null,
            "overflow": null,
            "overflow_x": null,
            "overflow_y": null,
            "padding": null,
            "right": null,
            "top": null,
            "visibility": null,
            "width": null
          }
        },
        "d38cf0e1cddf42e6b707ed06b465d8f9": {
          "model_module": "@jupyter-widgets/controls",
          "model_name": "ProgressStyleModel",
          "model_module_version": "1.5.0",
          "state": {
            "_model_module": "@jupyter-widgets/controls",
            "_model_module_version": "1.5.0",
            "_model_name": "ProgressStyleModel",
            "_view_count": null,
            "_view_module": "@jupyter-widgets/base",
            "_view_module_version": "1.2.0",
            "_view_name": "StyleView",
            "bar_color": null,
            "description_width": ""
          }
        },
        "2953f53c60994715a63a7045d1112b63": {
          "model_module": "@jupyter-widgets/base",
          "model_name": "LayoutModel",
          "model_module_version": "1.2.0",
          "state": {
            "_model_module": "@jupyter-widgets/base",
            "_model_module_version": "1.2.0",
            "_model_name": "LayoutModel",
            "_view_count": null,
            "_view_module": "@jupyter-widgets/base",
            "_view_module_version": "1.2.0",
            "_view_name": "LayoutView",
            "align_content": null,
            "align_items": null,
            "align_self": null,
            "border": null,
            "bottom": null,
            "display": null,
            "flex": null,
            "flex_flow": null,
            "grid_area": null,
            "grid_auto_columns": null,
            "grid_auto_flow": null,
            "grid_auto_rows": null,
            "grid_column": null,
            "grid_gap": null,
            "grid_row": null,
            "grid_template_areas": null,
            "grid_template_columns": null,
            "grid_template_rows": null,
            "height": null,
            "justify_content": null,
            "justify_items": null,
            "left": null,
            "margin": null,
            "max_height": null,
            "max_width": null,
            "min_height": null,
            "min_width": null,
            "object_fit": null,
            "object_position": null,
            "order": null,
            "overflow": null,
            "overflow_x": null,
            "overflow_y": null,
            "padding": null,
            "right": null,
            "top": null,
            "visibility": null,
            "width": null
          }
        },
        "af93378e55f844cb9dceb05f09a4abb8": {
          "model_module": "@jupyter-widgets/controls",
          "model_name": "DescriptionStyleModel",
          "model_module_version": "1.5.0",
          "state": {
            "_model_module": "@jupyter-widgets/controls",
            "_model_module_version": "1.5.0",
            "_model_name": "DescriptionStyleModel",
            "_view_count": null,
            "_view_module": "@jupyter-widgets/base",
            "_view_module_version": "1.2.0",
            "_view_name": "StyleView",
            "description_width": ""
          }
        },
        "f65c55820b8240fd86db576e266113c8": {
          "model_module": "@jupyter-widgets/controls",
          "model_name": "HBoxModel",
          "model_module_version": "1.5.0",
          "state": {
            "_dom_classes": [],
            "_model_module": "@jupyter-widgets/controls",
            "_model_module_version": "1.5.0",
            "_model_name": "HBoxModel",
            "_view_count": null,
            "_view_module": "@jupyter-widgets/controls",
            "_view_module_version": "1.5.0",
            "_view_name": "HBoxView",
            "box_style": "",
            "children": [
              "IPY_MODEL_f895232e7bf542b6abad90767726e0e5",
              "IPY_MODEL_c7f402c7fe514719ae785b882473c1d2",
              "IPY_MODEL_3661a19c6b3047f8869f805a851994a9"
            ],
            "layout": "IPY_MODEL_5e12e3a6faa5463d94be0212a16b8c57"
          }
        },
        "f895232e7bf542b6abad90767726e0e5": {
          "model_module": "@jupyter-widgets/controls",
          "model_name": "HTMLModel",
          "model_module_version": "1.5.0",
          "state": {
            "_dom_classes": [],
            "_model_module": "@jupyter-widgets/controls",
            "_model_module_version": "1.5.0",
            "_model_name": "HTMLModel",
            "_view_count": null,
            "_view_module": "@jupyter-widgets/controls",
            "_view_module_version": "1.5.0",
            "_view_name": "HTMLView",
            "description": "",
            "description_tooltip": null,
            "layout": "IPY_MODEL_2d48c7ee9cf6455c98e2308c2751439a",
            "placeholder": "​",
            "style": "IPY_MODEL_aef1ee2c2fb84f4db87ba25630c92ded",
            "value": "config.json: 100%"
          }
        },
        "c7f402c7fe514719ae785b882473c1d2": {
          "model_module": "@jupyter-widgets/controls",
          "model_name": "FloatProgressModel",
          "model_module_version": "1.5.0",
          "state": {
            "_dom_classes": [],
            "_model_module": "@jupyter-widgets/controls",
            "_model_module_version": "1.5.0",
            "_model_name": "FloatProgressModel",
            "_view_count": null,
            "_view_module": "@jupyter-widgets/controls",
            "_view_module_version": "1.5.0",
            "_view_name": "ProgressView",
            "bar_style": "success",
            "description": "",
            "description_tooltip": null,
            "layout": "IPY_MODEL_71b21b0abdae4110b26f6049ffc5839f",
            "max": 579,
            "min": 0,
            "orientation": "horizontal",
            "style": "IPY_MODEL_8071a986707c439f8c2ee4c20207e365",
            "value": 579
          }
        },
        "3661a19c6b3047f8869f805a851994a9": {
          "model_module": "@jupyter-widgets/controls",
          "model_name": "HTMLModel",
          "model_module_version": "1.5.0",
          "state": {
            "_dom_classes": [],
            "_model_module": "@jupyter-widgets/controls",
            "_model_module_version": "1.5.0",
            "_model_name": "HTMLModel",
            "_view_count": null,
            "_view_module": "@jupyter-widgets/controls",
            "_view_module_version": "1.5.0",
            "_view_name": "HTMLView",
            "description": "",
            "description_tooltip": null,
            "layout": "IPY_MODEL_99e2dc32cb1c4c879239189b91a63427",
            "placeholder": "​",
            "style": "IPY_MODEL_a6ce503ad85a4b1a9ac0fe9997751f58",
            "value": " 579/579 [00:00&lt;00:00, 27.1kB/s]"
          }
        },
        "5e12e3a6faa5463d94be0212a16b8c57": {
          "model_module": "@jupyter-widgets/base",
          "model_name": "LayoutModel",
          "model_module_version": "1.2.0",
          "state": {
            "_model_module": "@jupyter-widgets/base",
            "_model_module_version": "1.2.0",
            "_model_name": "LayoutModel",
            "_view_count": null,
            "_view_module": "@jupyter-widgets/base",
            "_view_module_version": "1.2.0",
            "_view_name": "LayoutView",
            "align_content": null,
            "align_items": null,
            "align_self": null,
            "border": null,
            "bottom": null,
            "display": null,
            "flex": null,
            "flex_flow": null,
            "grid_area": null,
            "grid_auto_columns": null,
            "grid_auto_flow": null,
            "grid_auto_rows": null,
            "grid_column": null,
            "grid_gap": null,
            "grid_row": null,
            "grid_template_areas": null,
            "grid_template_columns": null,
            "grid_template_rows": null,
            "height": null,
            "justify_content": null,
            "justify_items": null,
            "left": null,
            "margin": null,
            "max_height": null,
            "max_width": null,
            "min_height": null,
            "min_width": null,
            "object_fit": null,
            "object_position": null,
            "order": null,
            "overflow": null,
            "overflow_x": null,
            "overflow_y": null,
            "padding": null,
            "right": null,
            "top": null,
            "visibility": null,
            "width": null
          }
        },
        "2d48c7ee9cf6455c98e2308c2751439a": {
          "model_module": "@jupyter-widgets/base",
          "model_name": "LayoutModel",
          "model_module_version": "1.2.0",
          "state": {
            "_model_module": "@jupyter-widgets/base",
            "_model_module_version": "1.2.0",
            "_model_name": "LayoutModel",
            "_view_count": null,
            "_view_module": "@jupyter-widgets/base",
            "_view_module_version": "1.2.0",
            "_view_name": "LayoutView",
            "align_content": null,
            "align_items": null,
            "align_self": null,
            "border": null,
            "bottom": null,
            "display": null,
            "flex": null,
            "flex_flow": null,
            "grid_area": null,
            "grid_auto_columns": null,
            "grid_auto_flow": null,
            "grid_auto_rows": null,
            "grid_column": null,
            "grid_gap": null,
            "grid_row": null,
            "grid_template_areas": null,
            "grid_template_columns": null,
            "grid_template_rows": null,
            "height": null,
            "justify_content": null,
            "justify_items": null,
            "left": null,
            "margin": null,
            "max_height": null,
            "max_width": null,
            "min_height": null,
            "min_width": null,
            "object_fit": null,
            "object_position": null,
            "order": null,
            "overflow": null,
            "overflow_x": null,
            "overflow_y": null,
            "padding": null,
            "right": null,
            "top": null,
            "visibility": null,
            "width": null
          }
        },
        "aef1ee2c2fb84f4db87ba25630c92ded": {
          "model_module": "@jupyter-widgets/controls",
          "model_name": "DescriptionStyleModel",
          "model_module_version": "1.5.0",
          "state": {
            "_model_module": "@jupyter-widgets/controls",
            "_model_module_version": "1.5.0",
            "_model_name": "DescriptionStyleModel",
            "_view_count": null,
            "_view_module": "@jupyter-widgets/base",
            "_view_module_version": "1.2.0",
            "_view_name": "StyleView",
            "description_width": ""
          }
        },
        "71b21b0abdae4110b26f6049ffc5839f": {
          "model_module": "@jupyter-widgets/base",
          "model_name": "LayoutModel",
          "model_module_version": "1.2.0",
          "state": {
            "_model_module": "@jupyter-widgets/base",
            "_model_module_version": "1.2.0",
            "_model_name": "LayoutModel",
            "_view_count": null,
            "_view_module": "@jupyter-widgets/base",
            "_view_module_version": "1.2.0",
            "_view_name": "LayoutView",
            "align_content": null,
            "align_items": null,
            "align_self": null,
            "border": null,
            "bottom": null,
            "display": null,
            "flex": null,
            "flex_flow": null,
            "grid_area": null,
            "grid_auto_columns": null,
            "grid_auto_flow": null,
            "grid_auto_rows": null,
            "grid_column": null,
            "grid_gap": null,
            "grid_row": null,
            "grid_template_areas": null,
            "grid_template_columns": null,
            "grid_template_rows": null,
            "height": null,
            "justify_content": null,
            "justify_items": null,
            "left": null,
            "margin": null,
            "max_height": null,
            "max_width": null,
            "min_height": null,
            "min_width": null,
            "object_fit": null,
            "object_position": null,
            "order": null,
            "overflow": null,
            "overflow_x": null,
            "overflow_y": null,
            "padding": null,
            "right": null,
            "top": null,
            "visibility": null,
            "width": null
          }
        },
        "8071a986707c439f8c2ee4c20207e365": {
          "model_module": "@jupyter-widgets/controls",
          "model_name": "ProgressStyleModel",
          "model_module_version": "1.5.0",
          "state": {
            "_model_module": "@jupyter-widgets/controls",
            "_model_module_version": "1.5.0",
            "_model_name": "ProgressStyleModel",
            "_view_count": null,
            "_view_module": "@jupyter-widgets/base",
            "_view_module_version": "1.2.0",
            "_view_name": "StyleView",
            "bar_color": null,
            "description_width": ""
          }
        },
        "99e2dc32cb1c4c879239189b91a63427": {
          "model_module": "@jupyter-widgets/base",
          "model_name": "LayoutModel",
          "model_module_version": "1.2.0",
          "state": {
            "_model_module": "@jupyter-widgets/base",
            "_model_module_version": "1.2.0",
            "_model_name": "LayoutModel",
            "_view_count": null,
            "_view_module": "@jupyter-widgets/base",
            "_view_module_version": "1.2.0",
            "_view_name": "LayoutView",
            "align_content": null,
            "align_items": null,
            "align_self": null,
            "border": null,
            "bottom": null,
            "display": null,
            "flex": null,
            "flex_flow": null,
            "grid_area": null,
            "grid_auto_columns": null,
            "grid_auto_flow": null,
            "grid_auto_rows": null,
            "grid_column": null,
            "grid_gap": null,
            "grid_row": null,
            "grid_template_areas": null,
            "grid_template_columns": null,
            "grid_template_rows": null,
            "height": null,
            "justify_content": null,
            "justify_items": null,
            "left": null,
            "margin": null,
            "max_height": null,
            "max_width": null,
            "min_height": null,
            "min_width": null,
            "object_fit": null,
            "object_position": null,
            "order": null,
            "overflow": null,
            "overflow_x": null,
            "overflow_y": null,
            "padding": null,
            "right": null,
            "top": null,
            "visibility": null,
            "width": null
          }
        },
        "a6ce503ad85a4b1a9ac0fe9997751f58": {
          "model_module": "@jupyter-widgets/controls",
          "model_name": "DescriptionStyleModel",
          "model_module_version": "1.5.0",
          "state": {
            "_model_module": "@jupyter-widgets/controls",
            "_model_module_version": "1.5.0",
            "_model_name": "DescriptionStyleModel",
            "_view_count": null,
            "_view_module": "@jupyter-widgets/base",
            "_view_module_version": "1.2.0",
            "_view_name": "StyleView",
            "description_width": ""
          }
        },
        "6d8611b7632a4fc491c176ab9dcddf25": {
          "model_module": "@jupyter-widgets/controls",
          "model_name": "HBoxModel",
          "model_module_version": "1.5.0",
          "state": {
            "_dom_classes": [],
            "_model_module": "@jupyter-widgets/controls",
            "_model_module_version": "1.5.0",
            "_model_name": "HBoxModel",
            "_view_count": null,
            "_view_module": "@jupyter-widgets/controls",
            "_view_module_version": "1.5.0",
            "_view_name": "HBoxView",
            "box_style": "",
            "children": [
              "IPY_MODEL_1f4bcf8a2792498393cdde892a5febf4",
              "IPY_MODEL_37d8042f7742430888e27a97e67cb889",
              "IPY_MODEL_f619e04f59a64396a63b515f215672f8"
            ],
            "layout": "IPY_MODEL_1fd6250294ae4aa193e81c1db332477f"
          }
        },
        "1f4bcf8a2792498393cdde892a5febf4": {
          "model_module": "@jupyter-widgets/controls",
          "model_name": "HTMLModel",
          "model_module_version": "1.5.0",
          "state": {
            "_dom_classes": [],
            "_model_module": "@jupyter-widgets/controls",
            "_model_module_version": "1.5.0",
            "_model_name": "HTMLModel",
            "_view_count": null,
            "_view_module": "@jupyter-widgets/controls",
            "_view_module_version": "1.5.0",
            "_view_name": "HTMLView",
            "description": "",
            "description_tooltip": null,
            "layout": "IPY_MODEL_35ea7955a62446b483796c3872f8be44",
            "placeholder": "​",
            "style": "IPY_MODEL_05130abba16d411f93516f7b9ba62f14",
            "value": "spm.model: 100%"
          }
        },
        "37d8042f7742430888e27a97e67cb889": {
          "model_module": "@jupyter-widgets/controls",
          "model_name": "FloatProgressModel",
          "model_module_version": "1.5.0",
          "state": {
            "_dom_classes": [],
            "_model_module": "@jupyter-widgets/controls",
            "_model_module_version": "1.5.0",
            "_model_name": "FloatProgressModel",
            "_view_count": null,
            "_view_module": "@jupyter-widgets/controls",
            "_view_module_version": "1.5.0",
            "_view_name": "ProgressView",
            "bar_style": "success",
            "description": "",
            "description_tooltip": null,
            "layout": "IPY_MODEL_68efd6e792de487a847804df4831c2f9",
            "max": 2464616,
            "min": 0,
            "orientation": "horizontal",
            "style": "IPY_MODEL_6f8145deed0143ff9abb9cb5357d18b0",
            "value": 2464616
          }
        },
        "f619e04f59a64396a63b515f215672f8": {
          "model_module": "@jupyter-widgets/controls",
          "model_name": "HTMLModel",
          "model_module_version": "1.5.0",
          "state": {
            "_dom_classes": [],
            "_model_module": "@jupyter-widgets/controls",
            "_model_module_version": "1.5.0",
            "_model_name": "HTMLModel",
            "_view_count": null,
            "_view_module": "@jupyter-widgets/controls",
            "_view_module_version": "1.5.0",
            "_view_name": "HTMLView",
            "description": "",
            "description_tooltip": null,
            "layout": "IPY_MODEL_3b95dddbc2cf48cfa0abea1083a50ae3",
            "placeholder": "​",
            "style": "IPY_MODEL_957798e9b0a742709b2adba7fd063c3a",
            "value": " 2.46M/2.46M [00:00&lt;00:00, 10.5MB/s]"
          }
        },
        "1fd6250294ae4aa193e81c1db332477f": {
          "model_module": "@jupyter-widgets/base",
          "model_name": "LayoutModel",
          "model_module_version": "1.2.0",
          "state": {
            "_model_module": "@jupyter-widgets/base",
            "_model_module_version": "1.2.0",
            "_model_name": "LayoutModel",
            "_view_count": null,
            "_view_module": "@jupyter-widgets/base",
            "_view_module_version": "1.2.0",
            "_view_name": "LayoutView",
            "align_content": null,
            "align_items": null,
            "align_self": null,
            "border": null,
            "bottom": null,
            "display": null,
            "flex": null,
            "flex_flow": null,
            "grid_area": null,
            "grid_auto_columns": null,
            "grid_auto_flow": null,
            "grid_auto_rows": null,
            "grid_column": null,
            "grid_gap": null,
            "grid_row": null,
            "grid_template_areas": null,
            "grid_template_columns": null,
            "grid_template_rows": null,
            "height": null,
            "justify_content": null,
            "justify_items": null,
            "left": null,
            "margin": null,
            "max_height": null,
            "max_width": null,
            "min_height": null,
            "min_width": null,
            "object_fit": null,
            "object_position": null,
            "order": null,
            "overflow": null,
            "overflow_x": null,
            "overflow_y": null,
            "padding": null,
            "right": null,
            "top": null,
            "visibility": null,
            "width": null
          }
        },
        "35ea7955a62446b483796c3872f8be44": {
          "model_module": "@jupyter-widgets/base",
          "model_name": "LayoutModel",
          "model_module_version": "1.2.0",
          "state": {
            "_model_module": "@jupyter-widgets/base",
            "_model_module_version": "1.2.0",
            "_model_name": "LayoutModel",
            "_view_count": null,
            "_view_module": "@jupyter-widgets/base",
            "_view_module_version": "1.2.0",
            "_view_name": "LayoutView",
            "align_content": null,
            "align_items": null,
            "align_self": null,
            "border": null,
            "bottom": null,
            "display": null,
            "flex": null,
            "flex_flow": null,
            "grid_area": null,
            "grid_auto_columns": null,
            "grid_auto_flow": null,
            "grid_auto_rows": null,
            "grid_column": null,
            "grid_gap": null,
            "grid_row": null,
            "grid_template_areas": null,
            "grid_template_columns": null,
            "grid_template_rows": null,
            "height": null,
            "justify_content": null,
            "justify_items": null,
            "left": null,
            "margin": null,
            "max_height": null,
            "max_width": null,
            "min_height": null,
            "min_width": null,
            "object_fit": null,
            "object_position": null,
            "order": null,
            "overflow": null,
            "overflow_x": null,
            "overflow_y": null,
            "padding": null,
            "right": null,
            "top": null,
            "visibility": null,
            "width": null
          }
        },
        "05130abba16d411f93516f7b9ba62f14": {
          "model_module": "@jupyter-widgets/controls",
          "model_name": "DescriptionStyleModel",
          "model_module_version": "1.5.0",
          "state": {
            "_model_module": "@jupyter-widgets/controls",
            "_model_module_version": "1.5.0",
            "_model_name": "DescriptionStyleModel",
            "_view_count": null,
            "_view_module": "@jupyter-widgets/base",
            "_view_module_version": "1.2.0",
            "_view_name": "StyleView",
            "description_width": ""
          }
        },
        "68efd6e792de487a847804df4831c2f9": {
          "model_module": "@jupyter-widgets/base",
          "model_name": "LayoutModel",
          "model_module_version": "1.2.0",
          "state": {
            "_model_module": "@jupyter-widgets/base",
            "_model_module_version": "1.2.0",
            "_model_name": "LayoutModel",
            "_view_count": null,
            "_view_module": "@jupyter-widgets/base",
            "_view_module_version": "1.2.0",
            "_view_name": "LayoutView",
            "align_content": null,
            "align_items": null,
            "align_self": null,
            "border": null,
            "bottom": null,
            "display": null,
            "flex": null,
            "flex_flow": null,
            "grid_area": null,
            "grid_auto_columns": null,
            "grid_auto_flow": null,
            "grid_auto_rows": null,
            "grid_column": null,
            "grid_gap": null,
            "grid_row": null,
            "grid_template_areas": null,
            "grid_template_columns": null,
            "grid_template_rows": null,
            "height": null,
            "justify_content": null,
            "justify_items": null,
            "left": null,
            "margin": null,
            "max_height": null,
            "max_width": null,
            "min_height": null,
            "min_width": null,
            "object_fit": null,
            "object_position": null,
            "order": null,
            "overflow": null,
            "overflow_x": null,
            "overflow_y": null,
            "padding": null,
            "right": null,
            "top": null,
            "visibility": null,
            "width": null
          }
        },
        "6f8145deed0143ff9abb9cb5357d18b0": {
          "model_module": "@jupyter-widgets/controls",
          "model_name": "ProgressStyleModel",
          "model_module_version": "1.5.0",
          "state": {
            "_model_module": "@jupyter-widgets/controls",
            "_model_module_version": "1.5.0",
            "_model_name": "ProgressStyleModel",
            "_view_count": null,
            "_view_module": "@jupyter-widgets/base",
            "_view_module_version": "1.2.0",
            "_view_name": "StyleView",
            "bar_color": null,
            "description_width": ""
          }
        },
        "3b95dddbc2cf48cfa0abea1083a50ae3": {
          "model_module": "@jupyter-widgets/base",
          "model_name": "LayoutModel",
          "model_module_version": "1.2.0",
          "state": {
            "_model_module": "@jupyter-widgets/base",
            "_model_module_version": "1.2.0",
            "_model_name": "LayoutModel",
            "_view_count": null,
            "_view_module": "@jupyter-widgets/base",
            "_view_module_version": "1.2.0",
            "_view_name": "LayoutView",
            "align_content": null,
            "align_items": null,
            "align_self": null,
            "border": null,
            "bottom": null,
            "display": null,
            "flex": null,
            "flex_flow": null,
            "grid_area": null,
            "grid_auto_columns": null,
            "grid_auto_flow": null,
            "grid_auto_rows": null,
            "grid_column": null,
            "grid_gap": null,
            "grid_row": null,
            "grid_template_areas": null,
            "grid_template_columns": null,
            "grid_template_rows": null,
            "height": null,
            "justify_content": null,
            "justify_items": null,
            "left": null,
            "margin": null,
            "max_height": null,
            "max_width": null,
            "min_height": null,
            "min_width": null,
            "object_fit": null,
            "object_position": null,
            "order": null,
            "overflow": null,
            "overflow_x": null,
            "overflow_y": null,
            "padding": null,
            "right": null,
            "top": null,
            "visibility": null,
            "width": null
          }
        },
        "957798e9b0a742709b2adba7fd063c3a": {
          "model_module": "@jupyter-widgets/controls",
          "model_name": "DescriptionStyleModel",
          "model_module_version": "1.5.0",
          "state": {
            "_model_module": "@jupyter-widgets/controls",
            "_model_module_version": "1.5.0",
            "_model_name": "DescriptionStyleModel",
            "_view_count": null,
            "_view_module": "@jupyter-widgets/base",
            "_view_module_version": "1.2.0",
            "_view_name": "StyleView",
            "description_width": ""
          }
        },
        "e3164e3ec1134c6e920b76f906b023a5": {
          "model_module": "@jupyter-widgets/controls",
          "model_name": "HBoxModel",
          "model_module_version": "1.5.0",
          "state": {
            "_dom_classes": [],
            "_model_module": "@jupyter-widgets/controls",
            "_model_module_version": "1.5.0",
            "_model_name": "HBoxModel",
            "_view_count": null,
            "_view_module": "@jupyter-widgets/controls",
            "_view_module_version": "1.5.0",
            "_view_name": "HBoxView",
            "box_style": "",
            "children": [
              "IPY_MODEL_4ea0e2df6dff4ff387fb3bd5c6b2cfa3",
              "IPY_MODEL_70d46ef369df43e3ab9e9fdaff802e7f",
              "IPY_MODEL_29a794e2fde54585af83e6eda814065c"
            ],
            "layout": "IPY_MODEL_8845d5d14ac04bfcaaccbf18eb83af3a"
          }
        },
        "4ea0e2df6dff4ff387fb3bd5c6b2cfa3": {
          "model_module": "@jupyter-widgets/controls",
          "model_name": "HTMLModel",
          "model_module_version": "1.5.0",
          "state": {
            "_dom_classes": [],
            "_model_module": "@jupyter-widgets/controls",
            "_model_module_version": "1.5.0",
            "_model_name": "HTMLModel",
            "_view_count": null,
            "_view_module": "@jupyter-widgets/controls",
            "_view_module_version": "1.5.0",
            "_view_name": "HTMLView",
            "description": "",
            "description_tooltip": null,
            "layout": "IPY_MODEL_e456cb9dc5b8489596aebf41b071bac7",
            "placeholder": "​",
            "style": "IPY_MODEL_cb24633f52fa448c9b5191917047aa9a",
            "value": "pytorch_model.bin: 100%"
          }
        },
        "70d46ef369df43e3ab9e9fdaff802e7f": {
          "model_module": "@jupyter-widgets/controls",
          "model_name": "FloatProgressModel",
          "model_module_version": "1.5.0",
          "state": {
            "_dom_classes": [],
            "_model_module": "@jupyter-widgets/controls",
            "_model_module_version": "1.5.0",
            "_model_name": "FloatProgressModel",
            "_view_count": null,
            "_view_module": "@jupyter-widgets/controls",
            "_view_module_version": "1.5.0",
            "_view_name": "ProgressView",
            "bar_style": "success",
            "description": "",
            "description_tooltip": null,
            "layout": "IPY_MODEL_ba5f82c870eb4f03afa0d786ac1543aa",
            "max": 371146213,
            "min": 0,
            "orientation": "horizontal",
            "style": "IPY_MODEL_f8003c9854494bc6845dc7044e219b9d",
            "value": 371146213
          }
        },
        "29a794e2fde54585af83e6eda814065c": {
          "model_module": "@jupyter-widgets/controls",
          "model_name": "HTMLModel",
          "model_module_version": "1.5.0",
          "state": {
            "_dom_classes": [],
            "_model_module": "@jupyter-widgets/controls",
            "_model_module_version": "1.5.0",
            "_model_name": "HTMLModel",
            "_view_count": null,
            "_view_module": "@jupyter-widgets/controls",
            "_view_module_version": "1.5.0",
            "_view_name": "HTMLView",
            "description": "",
            "description_tooltip": null,
            "layout": "IPY_MODEL_5b4797bae6de412a99e5d098703eb726",
            "placeholder": "​",
            "style": "IPY_MODEL_08b07c50b6af418f95e14719bca5bbc7",
            "value": " 371M/371M [00:02&lt;00:00, 183MB/s]"
          }
        },
        "8845d5d14ac04bfcaaccbf18eb83af3a": {
          "model_module": "@jupyter-widgets/base",
          "model_name": "LayoutModel",
          "model_module_version": "1.2.0",
          "state": {
            "_model_module": "@jupyter-widgets/base",
            "_model_module_version": "1.2.0",
            "_model_name": "LayoutModel",
            "_view_count": null,
            "_view_module": "@jupyter-widgets/base",
            "_view_module_version": "1.2.0",
            "_view_name": "LayoutView",
            "align_content": null,
            "align_items": null,
            "align_self": null,
            "border": null,
            "bottom": null,
            "display": null,
            "flex": null,
            "flex_flow": null,
            "grid_area": null,
            "grid_auto_columns": null,
            "grid_auto_flow": null,
            "grid_auto_rows": null,
            "grid_column": null,
            "grid_gap": null,
            "grid_row": null,
            "grid_template_areas": null,
            "grid_template_columns": null,
            "grid_template_rows": null,
            "height": null,
            "justify_content": null,
            "justify_items": null,
            "left": null,
            "margin": null,
            "max_height": null,
            "max_width": null,
            "min_height": null,
            "min_width": null,
            "object_fit": null,
            "object_position": null,
            "order": null,
            "overflow": null,
            "overflow_x": null,
            "overflow_y": null,
            "padding": null,
            "right": null,
            "top": null,
            "visibility": null,
            "width": null
          }
        },
        "e456cb9dc5b8489596aebf41b071bac7": {
          "model_module": "@jupyter-widgets/base",
          "model_name": "LayoutModel",
          "model_module_version": "1.2.0",
          "state": {
            "_model_module": "@jupyter-widgets/base",
            "_model_module_version": "1.2.0",
            "_model_name": "LayoutModel",
            "_view_count": null,
            "_view_module": "@jupyter-widgets/base",
            "_view_module_version": "1.2.0",
            "_view_name": "LayoutView",
            "align_content": null,
            "align_items": null,
            "align_self": null,
            "border": null,
            "bottom": null,
            "display": null,
            "flex": null,
            "flex_flow": null,
            "grid_area": null,
            "grid_auto_columns": null,
            "grid_auto_flow": null,
            "grid_auto_rows": null,
            "grid_column": null,
            "grid_gap": null,
            "grid_row": null,
            "grid_template_areas": null,
            "grid_template_columns": null,
            "grid_template_rows": null,
            "height": null,
            "justify_content": null,
            "justify_items": null,
            "left": null,
            "margin": null,
            "max_height": null,
            "max_width": null,
            "min_height": null,
            "min_width": null,
            "object_fit": null,
            "object_position": null,
            "order": null,
            "overflow": null,
            "overflow_x": null,
            "overflow_y": null,
            "padding": null,
            "right": null,
            "top": null,
            "visibility": null,
            "width": null
          }
        },
        "cb24633f52fa448c9b5191917047aa9a": {
          "model_module": "@jupyter-widgets/controls",
          "model_name": "DescriptionStyleModel",
          "model_module_version": "1.5.0",
          "state": {
            "_model_module": "@jupyter-widgets/controls",
            "_model_module_version": "1.5.0",
            "_model_name": "DescriptionStyleModel",
            "_view_count": null,
            "_view_module": "@jupyter-widgets/base",
            "_view_module_version": "1.2.0",
            "_view_name": "StyleView",
            "description_width": ""
          }
        },
        "ba5f82c870eb4f03afa0d786ac1543aa": {
          "model_module": "@jupyter-widgets/base",
          "model_name": "LayoutModel",
          "model_module_version": "1.2.0",
          "state": {
            "_model_module": "@jupyter-widgets/base",
            "_model_module_version": "1.2.0",
            "_model_name": "LayoutModel",
            "_view_count": null,
            "_view_module": "@jupyter-widgets/base",
            "_view_module_version": "1.2.0",
            "_view_name": "LayoutView",
            "align_content": null,
            "align_items": null,
            "align_self": null,
            "border": null,
            "bottom": null,
            "display": null,
            "flex": null,
            "flex_flow": null,
            "grid_area": null,
            "grid_auto_columns": null,
            "grid_auto_flow": null,
            "grid_auto_rows": null,
            "grid_column": null,
            "grid_gap": null,
            "grid_row": null,
            "grid_template_areas": null,
            "grid_template_columns": null,
            "grid_template_rows": null,
            "height": null,
            "justify_content": null,
            "justify_items": null,
            "left": null,
            "margin": null,
            "max_height": null,
            "max_width": null,
            "min_height": null,
            "min_width": null,
            "object_fit": null,
            "object_position": null,
            "order": null,
            "overflow": null,
            "overflow_x": null,
            "overflow_y": null,
            "padding": null,
            "right": null,
            "top": null,
            "visibility": null,
            "width": null
          }
        },
        "f8003c9854494bc6845dc7044e219b9d": {
          "model_module": "@jupyter-widgets/controls",
          "model_name": "ProgressStyleModel",
          "model_module_version": "1.5.0",
          "state": {
            "_model_module": "@jupyter-widgets/controls",
            "_model_module_version": "1.5.0",
            "_model_name": "ProgressStyleModel",
            "_view_count": null,
            "_view_module": "@jupyter-widgets/base",
            "_view_module_version": "1.2.0",
            "_view_name": "StyleView",
            "bar_color": null,
            "description_width": ""
          }
        },
        "5b4797bae6de412a99e5d098703eb726": {
          "model_module": "@jupyter-widgets/base",
          "model_name": "LayoutModel",
          "model_module_version": "1.2.0",
          "state": {
            "_model_module": "@jupyter-widgets/base",
            "_model_module_version": "1.2.0",
            "_model_name": "LayoutModel",
            "_view_count": null,
            "_view_module": "@jupyter-widgets/base",
            "_view_module_version": "1.2.0",
            "_view_name": "LayoutView",
            "align_content": null,
            "align_items": null,
            "align_self": null,
            "border": null,
            "bottom": null,
            "display": null,
            "flex": null,
            "flex_flow": null,
            "grid_area": null,
            "grid_auto_columns": null,
            "grid_auto_flow": null,
            "grid_auto_rows": null,
            "grid_column": null,
            "grid_gap": null,
            "grid_row": null,
            "grid_template_areas": null,
            "grid_template_columns": null,
            "grid_template_rows": null,
            "height": null,
            "justify_content": null,
            "justify_items": null,
            "left": null,
            "margin": null,
            "max_height": null,
            "max_width": null,
            "min_height": null,
            "min_width": null,
            "object_fit": null,
            "object_position": null,
            "order": null,
            "overflow": null,
            "overflow_x": null,
            "overflow_y": null,
            "padding": null,
            "right": null,
            "top": null,
            "visibility": null,
            "width": null
          }
        },
        "08b07c50b6af418f95e14719bca5bbc7": {
          "model_module": "@jupyter-widgets/controls",
          "model_name": "DescriptionStyleModel",
          "model_module_version": "1.5.0",
          "state": {
            "_model_module": "@jupyter-widgets/controls",
            "_model_module_version": "1.5.0",
            "_model_name": "DescriptionStyleModel",
            "_view_count": null,
            "_view_module": "@jupyter-widgets/base",
            "_view_module_version": "1.2.0",
            "_view_name": "StyleView",
            "description_width": ""
          }
        },
        "dd703a86e5aa4fda8932ced38089efb3": {
          "model_module": "@jupyter-widgets/controls",
          "model_name": "HBoxModel",
          "model_module_version": "1.5.0",
          "state": {
            "_dom_classes": [],
            "_model_module": "@jupyter-widgets/controls",
            "_model_module_version": "1.5.0",
            "_model_name": "HBoxModel",
            "_view_count": null,
            "_view_module": "@jupyter-widgets/controls",
            "_view_module_version": "1.5.0",
            "_view_name": "HBoxView",
            "box_style": "",
            "children": [
              "IPY_MODEL_fd0e3cc0166748b2864d5e0052cf8629",
              "IPY_MODEL_a2270797403c4f7bbd625b0e2bed4396",
              "IPY_MODEL_13eb66a3618e4d67b93b4a2622a4b1f3"
            ],
            "layout": "IPY_MODEL_c2c3aac4c02847fbbec31385032fb235"
          }
        },
        "fd0e3cc0166748b2864d5e0052cf8629": {
          "model_module": "@jupyter-widgets/controls",
          "model_name": "HTMLModel",
          "model_module_version": "1.5.0",
          "state": {
            "_dom_classes": [],
            "_model_module": "@jupyter-widgets/controls",
            "_model_module_version": "1.5.0",
            "_model_name": "HTMLModel",
            "_view_count": null,
            "_view_module": "@jupyter-widgets/controls",
            "_view_module_version": "1.5.0",
            "_view_name": "HTMLView",
            "description": "",
            "description_tooltip": null,
            "layout": "IPY_MODEL_bbb062fa36b648fcac67b9967e2b449e",
            "placeholder": "​",
            "style": "IPY_MODEL_c036dc283cce44b1bc623bfe8bec161e",
            "value": "pytorch_model.bin: 100%"
          }
        },
        "a2270797403c4f7bbd625b0e2bed4396": {
          "model_module": "@jupyter-widgets/controls",
          "model_name": "FloatProgressModel",
          "model_module_version": "1.5.0",
          "state": {
            "_dom_classes": [],
            "_model_module": "@jupyter-widgets/controls",
            "_model_module_version": "1.5.0",
            "_model_name": "FloatProgressModel",
            "_view_count": null,
            "_view_module": "@jupyter-widgets/controls",
            "_view_module_version": "1.5.0",
            "_view_name": "ProgressView",
            "bar_style": "success",
            "description": "",
            "description_tooltip": null,
            "layout": "IPY_MODEL_db45221f80f9444498c7090d09302891",
            "max": 1155900362,
            "min": 0,
            "orientation": "horizontal",
            "style": "IPY_MODEL_bf4fe7be78b643929035a74bd39fdf35",
            "value": 1155900362
          }
        },
        "13eb66a3618e4d67b93b4a2622a4b1f3": {
          "model_module": "@jupyter-widgets/controls",
          "model_name": "HTMLModel",
          "model_module_version": "1.5.0",
          "state": {
            "_dom_classes": [],
            "_model_module": "@jupyter-widgets/controls",
            "_model_module_version": "1.5.0",
            "_model_name": "HTMLModel",
            "_view_count": null,
            "_view_module": "@jupyter-widgets/controls",
            "_view_module_version": "1.5.0",
            "_view_name": "HTMLView",
            "description": "",
            "description_tooltip": null,
            "layout": "IPY_MODEL_46d95e472e41443993847a10132e69dd",
            "placeholder": "​",
            "style": "IPY_MODEL_ea3b521f73a048fcb07177ef108c9053",
            "value": " 1.16G/1.16G [00:12&lt;00:00, 138MB/s]"
          }
        },
        "c2c3aac4c02847fbbec31385032fb235": {
          "model_module": "@jupyter-widgets/base",
          "model_name": "LayoutModel",
          "model_module_version": "1.2.0",
          "state": {
            "_model_module": "@jupyter-widgets/base",
            "_model_module_version": "1.2.0",
            "_model_name": "LayoutModel",
            "_view_count": null,
            "_view_module": "@jupyter-widgets/base",
            "_view_module_version": "1.2.0",
            "_view_name": "LayoutView",
            "align_content": null,
            "align_items": null,
            "align_self": null,
            "border": null,
            "bottom": null,
            "display": null,
            "flex": null,
            "flex_flow": null,
            "grid_area": null,
            "grid_auto_columns": null,
            "grid_auto_flow": null,
            "grid_auto_rows": null,
            "grid_column": null,
            "grid_gap": null,
            "grid_row": null,
            "grid_template_areas": null,
            "grid_template_columns": null,
            "grid_template_rows": null,
            "height": null,
            "justify_content": null,
            "justify_items": null,
            "left": null,
            "margin": null,
            "max_height": null,
            "max_width": null,
            "min_height": null,
            "min_width": null,
            "object_fit": null,
            "object_position": null,
            "order": null,
            "overflow": null,
            "overflow_x": null,
            "overflow_y": null,
            "padding": null,
            "right": null,
            "top": null,
            "visibility": null,
            "width": null
          }
        },
        "bbb062fa36b648fcac67b9967e2b449e": {
          "model_module": "@jupyter-widgets/base",
          "model_name": "LayoutModel",
          "model_module_version": "1.2.0",
          "state": {
            "_model_module": "@jupyter-widgets/base",
            "_model_module_version": "1.2.0",
            "_model_name": "LayoutModel",
            "_view_count": null,
            "_view_module": "@jupyter-widgets/base",
            "_view_module_version": "1.2.0",
            "_view_name": "LayoutView",
            "align_content": null,
            "align_items": null,
            "align_self": null,
            "border": null,
            "bottom": null,
            "display": null,
            "flex": null,
            "flex_flow": null,
            "grid_area": null,
            "grid_auto_columns": null,
            "grid_auto_flow": null,
            "grid_auto_rows": null,
            "grid_column": null,
            "grid_gap": null,
            "grid_row": null,
            "grid_template_areas": null,
            "grid_template_columns": null,
            "grid_template_rows": null,
            "height": null,
            "justify_content": null,
            "justify_items": null,
            "left": null,
            "margin": null,
            "max_height": null,
            "max_width": null,
            "min_height": null,
            "min_width": null,
            "object_fit": null,
            "object_position": null,
            "order": null,
            "overflow": null,
            "overflow_x": null,
            "overflow_y": null,
            "padding": null,
            "right": null,
            "top": null,
            "visibility": null,
            "width": null
          }
        },
        "c036dc283cce44b1bc623bfe8bec161e": {
          "model_module": "@jupyter-widgets/controls",
          "model_name": "DescriptionStyleModel",
          "model_module_version": "1.5.0",
          "state": {
            "_model_module": "@jupyter-widgets/controls",
            "_model_module_version": "1.5.0",
            "_model_name": "DescriptionStyleModel",
            "_view_count": null,
            "_view_module": "@jupyter-widgets/base",
            "_view_module_version": "1.2.0",
            "_view_name": "StyleView",
            "description_width": ""
          }
        },
        "db45221f80f9444498c7090d09302891": {
          "model_module": "@jupyter-widgets/base",
          "model_name": "LayoutModel",
          "model_module_version": "1.2.0",
          "state": {
            "_model_module": "@jupyter-widgets/base",
            "_model_module_version": "1.2.0",
            "_model_name": "LayoutModel",
            "_view_count": null,
            "_view_module": "@jupyter-widgets/base",
            "_view_module_version": "1.2.0",
            "_view_name": "LayoutView",
            "align_content": null,
            "align_items": null,
            "align_self": null,
            "border": null,
            "bottom": null,
            "display": null,
            "flex": null,
            "flex_flow": null,
            "grid_area": null,
            "grid_auto_columns": null,
            "grid_auto_flow": null,
            "grid_auto_rows": null,
            "grid_column": null,
            "grid_gap": null,
            "grid_row": null,
            "grid_template_areas": null,
            "grid_template_columns": null,
            "grid_template_rows": null,
            "height": null,
            "justify_content": null,
            "justify_items": null,
            "left": null,
            "margin": null,
            "max_height": null,
            "max_width": null,
            "min_height": null,
            "min_width": null,
            "object_fit": null,
            "object_position": null,
            "order": null,
            "overflow": null,
            "overflow_x": null,
            "overflow_y": null,
            "padding": null,
            "right": null,
            "top": null,
            "visibility": null,
            "width": null
          }
        },
        "bf4fe7be78b643929035a74bd39fdf35": {
          "model_module": "@jupyter-widgets/controls",
          "model_name": "ProgressStyleModel",
          "model_module_version": "1.5.0",
          "state": {
            "_model_module": "@jupyter-widgets/controls",
            "_model_module_version": "1.5.0",
            "_model_name": "ProgressStyleModel",
            "_view_count": null,
            "_view_module": "@jupyter-widgets/base",
            "_view_module_version": "1.2.0",
            "_view_name": "StyleView",
            "bar_color": null,
            "description_width": ""
          }
        },
        "46d95e472e41443993847a10132e69dd": {
          "model_module": "@jupyter-widgets/base",
          "model_name": "LayoutModel",
          "model_module_version": "1.2.0",
          "state": {
            "_model_module": "@jupyter-widgets/base",
            "_model_module_version": "1.2.0",
            "_model_name": "LayoutModel",
            "_view_count": null,
            "_view_module": "@jupyter-widgets/base",
            "_view_module_version": "1.2.0",
            "_view_name": "LayoutView",
            "align_content": null,
            "align_items": null,
            "align_self": null,
            "border": null,
            "bottom": null,
            "display": null,
            "flex": null,
            "flex_flow": null,
            "grid_area": null,
            "grid_auto_columns": null,
            "grid_auto_flow": null,
            "grid_auto_rows": null,
            "grid_column": null,
            "grid_gap": null,
            "grid_row": null,
            "grid_template_areas": null,
            "grid_template_columns": null,
            "grid_template_rows": null,
            "height": null,
            "justify_content": null,
            "justify_items": null,
            "left": null,
            "margin": null,
            "max_height": null,
            "max_width": null,
            "min_height": null,
            "min_width": null,
            "object_fit": null,
            "object_position": null,
            "order": null,
            "overflow": null,
            "overflow_x": null,
            "overflow_y": null,
            "padding": null,
            "right": null,
            "top": null,
            "visibility": null,
            "width": null
          }
        },
        "ea3b521f73a048fcb07177ef108c9053": {
          "model_module": "@jupyter-widgets/controls",
          "model_name": "DescriptionStyleModel",
          "model_module_version": "1.5.0",
          "state": {
            "_model_module": "@jupyter-widgets/controls",
            "_model_module_version": "1.5.0",
            "_model_name": "DescriptionStyleModel",
            "_view_count": null,
            "_view_module": "@jupyter-widgets/base",
            "_view_module_version": "1.2.0",
            "_view_name": "StyleView",
            "description_width": ""
          }
        },
        "43a72a0f8f04473fbaa39b54ed5ce657": {
          "model_module": "@jupyter-widgets/controls",
          "model_name": "HBoxModel",
          "model_module_version": "1.5.0",
          "state": {
            "_dom_classes": [],
            "_model_module": "@jupyter-widgets/controls",
            "_model_module_version": "1.5.0",
            "_model_name": "HBoxModel",
            "_view_count": null,
            "_view_module": "@jupyter-widgets/controls",
            "_view_module_version": "1.5.0",
            "_view_name": "HBoxView",
            "box_style": "",
            "children": [
              "IPY_MODEL_99c476cec15143ff881cae8261e57aa0",
              "IPY_MODEL_80d875e3a2af4222854f17bf1e7cfe0d",
              "IPY_MODEL_96cab7be098943ef8072dbe700ee8ad5"
            ],
            "layout": "IPY_MODEL_f5c168ae53194443a328089ec2c1453d"
          }
        },
        "99c476cec15143ff881cae8261e57aa0": {
          "model_module": "@jupyter-widgets/controls",
          "model_name": "HTMLModel",
          "model_module_version": "1.5.0",
          "state": {
            "_dom_classes": [],
            "_model_module": "@jupyter-widgets/controls",
            "_model_module_version": "1.5.0",
            "_model_name": "HTMLModel",
            "_view_count": null,
            "_view_module": "@jupyter-widgets/controls",
            "_view_module_version": "1.5.0",
            "_view_name": "HTMLView",
            "description": "",
            "description_tooltip": null,
            "layout": "IPY_MODEL_e64cfac1c5b54a989530259727fd1b67",
            "placeholder": "​",
            "style": "IPY_MODEL_d24f28dfd7264e099e2ca6c5f74ddd8c",
            "value": "gliner_config.json: 100%"
          }
        },
        "80d875e3a2af4222854f17bf1e7cfe0d": {
          "model_module": "@jupyter-widgets/controls",
          "model_name": "FloatProgressModel",
          "model_module_version": "1.5.0",
          "state": {
            "_dom_classes": [],
            "_model_module": "@jupyter-widgets/controls",
            "_model_module_version": "1.5.0",
            "_model_name": "FloatProgressModel",
            "_view_count": null,
            "_view_module": "@jupyter-widgets/controls",
            "_view_module_version": "1.5.0",
            "_view_name": "ProgressView",
            "bar_style": "success",
            "description": "",
            "description_tooltip": null,
            "layout": "IPY_MODEL_49c362ba9e084f52bad5aade8f1e5b78",
            "max": 477,
            "min": 0,
            "orientation": "horizontal",
            "style": "IPY_MODEL_ef2d9b834b014a6e8327a9f4a308ca3c",
            "value": 477
          }
        },
        "96cab7be098943ef8072dbe700ee8ad5": {
          "model_module": "@jupyter-widgets/controls",
          "model_name": "HTMLModel",
          "model_module_version": "1.5.0",
          "state": {
            "_dom_classes": [],
            "_model_module": "@jupyter-widgets/controls",
            "_model_module_version": "1.5.0",
            "_model_name": "HTMLModel",
            "_view_count": null,
            "_view_module": "@jupyter-widgets/controls",
            "_view_module_version": "1.5.0",
            "_view_name": "HTMLView",
            "description": "",
            "description_tooltip": null,
            "layout": "IPY_MODEL_fc1c7830d92d4365b477841c05b35265",
            "placeholder": "​",
            "style": "IPY_MODEL_abcaaddb7b8a47d8b2fb1d4c7c122c44",
            "value": " 477/477 [00:00&lt;00:00, 28.3kB/s]"
          }
        },
        "f5c168ae53194443a328089ec2c1453d": {
          "model_module": "@jupyter-widgets/base",
          "model_name": "LayoutModel",
          "model_module_version": "1.2.0",
          "state": {
            "_model_module": "@jupyter-widgets/base",
            "_model_module_version": "1.2.0",
            "_model_name": "LayoutModel",
            "_view_count": null,
            "_view_module": "@jupyter-widgets/base",
            "_view_module_version": "1.2.0",
            "_view_name": "LayoutView",
            "align_content": null,
            "align_items": null,
            "align_self": null,
            "border": null,
            "bottom": null,
            "display": null,
            "flex": null,
            "flex_flow": null,
            "grid_area": null,
            "grid_auto_columns": null,
            "grid_auto_flow": null,
            "grid_auto_rows": null,
            "grid_column": null,
            "grid_gap": null,
            "grid_row": null,
            "grid_template_areas": null,
            "grid_template_columns": null,
            "grid_template_rows": null,
            "height": null,
            "justify_content": null,
            "justify_items": null,
            "left": null,
            "margin": null,
            "max_height": null,
            "max_width": null,
            "min_height": null,
            "min_width": null,
            "object_fit": null,
            "object_position": null,
            "order": null,
            "overflow": null,
            "overflow_x": null,
            "overflow_y": null,
            "padding": null,
            "right": null,
            "top": null,
            "visibility": null,
            "width": null
          }
        },
        "e64cfac1c5b54a989530259727fd1b67": {
          "model_module": "@jupyter-widgets/base",
          "model_name": "LayoutModel",
          "model_module_version": "1.2.0",
          "state": {
            "_model_module": "@jupyter-widgets/base",
            "_model_module_version": "1.2.0",
            "_model_name": "LayoutModel",
            "_view_count": null,
            "_view_module": "@jupyter-widgets/base",
            "_view_module_version": "1.2.0",
            "_view_name": "LayoutView",
            "align_content": null,
            "align_items": null,
            "align_self": null,
            "border": null,
            "bottom": null,
            "display": null,
            "flex": null,
            "flex_flow": null,
            "grid_area": null,
            "grid_auto_columns": null,
            "grid_auto_flow": null,
            "grid_auto_rows": null,
            "grid_column": null,
            "grid_gap": null,
            "grid_row": null,
            "grid_template_areas": null,
            "grid_template_columns": null,
            "grid_template_rows": null,
            "height": null,
            "justify_content": null,
            "justify_items": null,
            "left": null,
            "margin": null,
            "max_height": null,
            "max_width": null,
            "min_height": null,
            "min_width": null,
            "object_fit": null,
            "object_position": null,
            "order": null,
            "overflow": null,
            "overflow_x": null,
            "overflow_y": null,
            "padding": null,
            "right": null,
            "top": null,
            "visibility": null,
            "width": null
          }
        },
        "d24f28dfd7264e099e2ca6c5f74ddd8c": {
          "model_module": "@jupyter-widgets/controls",
          "model_name": "DescriptionStyleModel",
          "model_module_version": "1.5.0",
          "state": {
            "_model_module": "@jupyter-widgets/controls",
            "_model_module_version": "1.5.0",
            "_model_name": "DescriptionStyleModel",
            "_view_count": null,
            "_view_module": "@jupyter-widgets/base",
            "_view_module_version": "1.2.0",
            "_view_name": "StyleView",
            "description_width": ""
          }
        },
        "49c362ba9e084f52bad5aade8f1e5b78": {
          "model_module": "@jupyter-widgets/base",
          "model_name": "LayoutModel",
          "model_module_version": "1.2.0",
          "state": {
            "_model_module": "@jupyter-widgets/base",
            "_model_module_version": "1.2.0",
            "_model_name": "LayoutModel",
            "_view_count": null,
            "_view_module": "@jupyter-widgets/base",
            "_view_module_version": "1.2.0",
            "_view_name": "LayoutView",
            "align_content": null,
            "align_items": null,
            "align_self": null,
            "border": null,
            "bottom": null,
            "display": null,
            "flex": null,
            "flex_flow": null,
            "grid_area": null,
            "grid_auto_columns": null,
            "grid_auto_flow": null,
            "grid_auto_rows": null,
            "grid_column": null,
            "grid_gap": null,
            "grid_row": null,
            "grid_template_areas": null,
            "grid_template_columns": null,
            "grid_template_rows": null,
            "height": null,
            "justify_content": null,
            "justify_items": null,
            "left": null,
            "margin": null,
            "max_height": null,
            "max_width": null,
            "min_height": null,
            "min_width": null,
            "object_fit": null,
            "object_position": null,
            "order": null,
            "overflow": null,
            "overflow_x": null,
            "overflow_y": null,
            "padding": null,
            "right": null,
            "top": null,
            "visibility": null,
            "width": null
          }
        },
        "ef2d9b834b014a6e8327a9f4a308ca3c": {
          "model_module": "@jupyter-widgets/controls",
          "model_name": "ProgressStyleModel",
          "model_module_version": "1.5.0",
          "state": {
            "_model_module": "@jupyter-widgets/controls",
            "_model_module_version": "1.5.0",
            "_model_name": "ProgressStyleModel",
            "_view_count": null,
            "_view_module": "@jupyter-widgets/base",
            "_view_module_version": "1.2.0",
            "_view_name": "StyleView",
            "bar_color": null,
            "description_width": ""
          }
        },
        "fc1c7830d92d4365b477841c05b35265": {
          "model_module": "@jupyter-widgets/base",
          "model_name": "LayoutModel",
          "model_module_version": "1.2.0",
          "state": {
            "_model_module": "@jupyter-widgets/base",
            "_model_module_version": "1.2.0",
            "_model_name": "LayoutModel",
            "_view_count": null,
            "_view_module": "@jupyter-widgets/base",
            "_view_module_version": "1.2.0",
            "_view_name": "LayoutView",
            "align_content": null,
            "align_items": null,
            "align_self": null,
            "border": null,
            "bottom": null,
            "display": null,
            "flex": null,
            "flex_flow": null,
            "grid_area": null,
            "grid_auto_columns": null,
            "grid_auto_flow": null,
            "grid_auto_rows": null,
            "grid_column": null,
            "grid_gap": null,
            "grid_row": null,
            "grid_template_areas": null,
            "grid_template_columns": null,
            "grid_template_rows": null,
            "height": null,
            "justify_content": null,
            "justify_items": null,
            "left": null,
            "margin": null,
            "max_height": null,
            "max_width": null,
            "min_height": null,
            "min_width": null,
            "object_fit": null,
            "object_position": null,
            "order": null,
            "overflow": null,
            "overflow_x": null,
            "overflow_y": null,
            "padding": null,
            "right": null,
            "top": null,
            "visibility": null,
            "width": null
          }
        },
        "abcaaddb7b8a47d8b2fb1d4c7c122c44": {
          "model_module": "@jupyter-widgets/controls",
          "model_name": "DescriptionStyleModel",
          "model_module_version": "1.5.0",
          "state": {
            "_model_module": "@jupyter-widgets/controls",
            "_model_module_version": "1.5.0",
            "_model_name": "DescriptionStyleModel",
            "_view_count": null,
            "_view_module": "@jupyter-widgets/base",
            "_view_module_version": "1.2.0",
            "_view_name": "StyleView",
            "description_width": ""
          }
        },
        "dd2604b08cb34a3d9041e35ed73aea2f": {
          "model_module": "@jupyter-widgets/controls",
          "model_name": "HBoxModel",
          "model_module_version": "1.5.0",
          "state": {
            "_dom_classes": [],
            "_model_module": "@jupyter-widgets/controls",
            "_model_module_version": "1.5.0",
            "_model_name": "HBoxModel",
            "_view_count": null,
            "_view_module": "@jupyter-widgets/controls",
            "_view_module_version": "1.5.0",
            "_view_name": "HBoxView",
            "box_style": "",
            "children": [
              "IPY_MODEL_5083d875e0a64003a2b85bbf5923872d",
              "IPY_MODEL_996d4643af2d4f65be18346876b9dc1e",
              "IPY_MODEL_acb64698b4a94cf9bece5628cd6a6e88"
            ],
            "layout": "IPY_MODEL_25af9a68275643af8a80c58ed6a3333b"
          }
        },
        "5083d875e0a64003a2b85bbf5923872d": {
          "model_module": "@jupyter-widgets/controls",
          "model_name": "HTMLModel",
          "model_module_version": "1.5.0",
          "state": {
            "_dom_classes": [],
            "_model_module": "@jupyter-widgets/controls",
            "_model_module_version": "1.5.0",
            "_model_name": "HTMLModel",
            "_view_count": null,
            "_view_module": "@jupyter-widgets/controls",
            "_view_module_version": "1.5.0",
            "_view_name": "HTMLView",
            "description": "",
            "description_tooltip": null,
            "layout": "IPY_MODEL_9ec78681d5e74bc6a366e5f4b1fe16b8",
            "placeholder": "​",
            "style": "IPY_MODEL_c17e1bc4c8fd4ec5acbaf4fd765f1555",
            "value": "tokenizer_config.json: 100%"
          }
        },
        "996d4643af2d4f65be18346876b9dc1e": {
          "model_module": "@jupyter-widgets/controls",
          "model_name": "FloatProgressModel",
          "model_module_version": "1.5.0",
          "state": {
            "_dom_classes": [],
            "_model_module": "@jupyter-widgets/controls",
            "_model_module_version": "1.5.0",
            "_model_name": "FloatProgressModel",
            "_view_count": null,
            "_view_module": "@jupyter-widgets/controls",
            "_view_module_version": "1.5.0",
            "_view_name": "ProgressView",
            "bar_style": "success",
            "description": "",
            "description_tooltip": null,
            "layout": "IPY_MODEL_fa24d79b6aaf419e852d24421404fe3d",
            "max": 52,
            "min": 0,
            "orientation": "horizontal",
            "style": "IPY_MODEL_f722771bd6be4109a89b0c8dee547309",
            "value": 52
          }
        },
        "acb64698b4a94cf9bece5628cd6a6e88": {
          "model_module": "@jupyter-widgets/controls",
          "model_name": "HTMLModel",
          "model_module_version": "1.5.0",
          "state": {
            "_dom_classes": [],
            "_model_module": "@jupyter-widgets/controls",
            "_model_module_version": "1.5.0",
            "_model_name": "HTMLModel",
            "_view_count": null,
            "_view_module": "@jupyter-widgets/controls",
            "_view_module_version": "1.5.0",
            "_view_name": "HTMLView",
            "description": "",
            "description_tooltip": null,
            "layout": "IPY_MODEL_756b18ecc05b451396c10d7fafd13f9d",
            "placeholder": "​",
            "style": "IPY_MODEL_46f624e0d2b24b19a60623869b88face",
            "value": " 52.0/52.0 [00:00&lt;00:00, 2.59kB/s]"
          }
        },
        "25af9a68275643af8a80c58ed6a3333b": {
          "model_module": "@jupyter-widgets/base",
          "model_name": "LayoutModel",
          "model_module_version": "1.2.0",
          "state": {
            "_model_module": "@jupyter-widgets/base",
            "_model_module_version": "1.2.0",
            "_model_name": "LayoutModel",
            "_view_count": null,
            "_view_module": "@jupyter-widgets/base",
            "_view_module_version": "1.2.0",
            "_view_name": "LayoutView",
            "align_content": null,
            "align_items": null,
            "align_self": null,
            "border": null,
            "bottom": null,
            "display": null,
            "flex": null,
            "flex_flow": null,
            "grid_area": null,
            "grid_auto_columns": null,
            "grid_auto_flow": null,
            "grid_auto_rows": null,
            "grid_column": null,
            "grid_gap": null,
            "grid_row": null,
            "grid_template_areas": null,
            "grid_template_columns": null,
            "grid_template_rows": null,
            "height": null,
            "justify_content": null,
            "justify_items": null,
            "left": null,
            "margin": null,
            "max_height": null,
            "max_width": null,
            "min_height": null,
            "min_width": null,
            "object_fit": null,
            "object_position": null,
            "order": null,
            "overflow": null,
            "overflow_x": null,
            "overflow_y": null,
            "padding": null,
            "right": null,
            "top": null,
            "visibility": null,
            "width": null
          }
        },
        "9ec78681d5e74bc6a366e5f4b1fe16b8": {
          "model_module": "@jupyter-widgets/base",
          "model_name": "LayoutModel",
          "model_module_version": "1.2.0",
          "state": {
            "_model_module": "@jupyter-widgets/base",
            "_model_module_version": "1.2.0",
            "_model_name": "LayoutModel",
            "_view_count": null,
            "_view_module": "@jupyter-widgets/base",
            "_view_module_version": "1.2.0",
            "_view_name": "LayoutView",
            "align_content": null,
            "align_items": null,
            "align_self": null,
            "border": null,
            "bottom": null,
            "display": null,
            "flex": null,
            "flex_flow": null,
            "grid_area": null,
            "grid_auto_columns": null,
            "grid_auto_flow": null,
            "grid_auto_rows": null,
            "grid_column": null,
            "grid_gap": null,
            "grid_row": null,
            "grid_template_areas": null,
            "grid_template_columns": null,
            "grid_template_rows": null,
            "height": null,
            "justify_content": null,
            "justify_items": null,
            "left": null,
            "margin": null,
            "max_height": null,
            "max_width": null,
            "min_height": null,
            "min_width": null,
            "object_fit": null,
            "object_position": null,
            "order": null,
            "overflow": null,
            "overflow_x": null,
            "overflow_y": null,
            "padding": null,
            "right": null,
            "top": null,
            "visibility": null,
            "width": null
          }
        },
        "c17e1bc4c8fd4ec5acbaf4fd765f1555": {
          "model_module": "@jupyter-widgets/controls",
          "model_name": "DescriptionStyleModel",
          "model_module_version": "1.5.0",
          "state": {
            "_model_module": "@jupyter-widgets/controls",
            "_model_module_version": "1.5.0",
            "_model_name": "DescriptionStyleModel",
            "_view_count": null,
            "_view_module": "@jupyter-widgets/base",
            "_view_module_version": "1.2.0",
            "_view_name": "StyleView",
            "description_width": ""
          }
        },
        "fa24d79b6aaf419e852d24421404fe3d": {
          "model_module": "@jupyter-widgets/base",
          "model_name": "LayoutModel",
          "model_module_version": "1.2.0",
          "state": {
            "_model_module": "@jupyter-widgets/base",
            "_model_module_version": "1.2.0",
            "_model_name": "LayoutModel",
            "_view_count": null,
            "_view_module": "@jupyter-widgets/base",
            "_view_module_version": "1.2.0",
            "_view_name": "LayoutView",
            "align_content": null,
            "align_items": null,
            "align_self": null,
            "border": null,
            "bottom": null,
            "display": null,
            "flex": null,
            "flex_flow": null,
            "grid_area": null,
            "grid_auto_columns": null,
            "grid_auto_flow": null,
            "grid_auto_rows": null,
            "grid_column": null,
            "grid_gap": null,
            "grid_row": null,
            "grid_template_areas": null,
            "grid_template_columns": null,
            "grid_template_rows": null,
            "height": null,
            "justify_content": null,
            "justify_items": null,
            "left": null,
            "margin": null,
            "max_height": null,
            "max_width": null,
            "min_height": null,
            "min_width": null,
            "object_fit": null,
            "object_position": null,
            "order": null,
            "overflow": null,
            "overflow_x": null,
            "overflow_y": null,
            "padding": null,
            "right": null,
            "top": null,
            "visibility": null,
            "width": null
          }
        },
        "f722771bd6be4109a89b0c8dee547309": {
          "model_module": "@jupyter-widgets/controls",
          "model_name": "ProgressStyleModel",
          "model_module_version": "1.5.0",
          "state": {
            "_model_module": "@jupyter-widgets/controls",
            "_model_module_version": "1.5.0",
            "_model_name": "ProgressStyleModel",
            "_view_count": null,
            "_view_module": "@jupyter-widgets/base",
            "_view_module_version": "1.2.0",
            "_view_name": "StyleView",
            "bar_color": null,
            "description_width": ""
          }
        },
        "756b18ecc05b451396c10d7fafd13f9d": {
          "model_module": "@jupyter-widgets/base",
          "model_name": "LayoutModel",
          "model_module_version": "1.2.0",
          "state": {
            "_model_module": "@jupyter-widgets/base",
            "_model_module_version": "1.2.0",
            "_model_name": "LayoutModel",
            "_view_count": null,
            "_view_module": "@jupyter-widgets/base",
            "_view_module_version": "1.2.0",
            "_view_name": "LayoutView",
            "align_content": null,
            "align_items": null,
            "align_self": null,
            "border": null,
            "bottom": null,
            "display": null,
            "flex": null,
            "flex_flow": null,
            "grid_area": null,
            "grid_auto_columns": null,
            "grid_auto_flow": null,
            "grid_auto_rows": null,
            "grid_column": null,
            "grid_gap": null,
            "grid_row": null,
            "grid_template_areas": null,
            "grid_template_columns": null,
            "grid_template_rows": null,
            "height": null,
            "justify_content": null,
            "justify_items": null,
            "left": null,
            "margin": null,
            "max_height": null,
            "max_width": null,
            "min_height": null,
            "min_width": null,
            "object_fit": null,
            "object_position": null,
            "order": null,
            "overflow": null,
            "overflow_x": null,
            "overflow_y": null,
            "padding": null,
            "right": null,
            "top": null,
            "visibility": null,
            "width": null
          }
        },
        "46f624e0d2b24b19a60623869b88face": {
          "model_module": "@jupyter-widgets/controls",
          "model_name": "DescriptionStyleModel",
          "model_module_version": "1.5.0",
          "state": {
            "_model_module": "@jupyter-widgets/controls",
            "_model_module_version": "1.5.0",
            "_model_name": "DescriptionStyleModel",
            "_view_count": null,
            "_view_module": "@jupyter-widgets/base",
            "_view_module_version": "1.2.0",
            "_view_name": "StyleView",
            "description_width": ""
          }
        },
        "a2a9bd4607bc476a937320a23e7c9e03": {
          "model_module": "@jupyter-widgets/controls",
          "model_name": "HBoxModel",
          "model_module_version": "1.5.0",
          "state": {
            "_dom_classes": [],
            "_model_module": "@jupyter-widgets/controls",
            "_model_module_version": "1.5.0",
            "_model_name": "HBoxModel",
            "_view_count": null,
            "_view_module": "@jupyter-widgets/controls",
            "_view_module_version": "1.5.0",
            "_view_name": "HBoxView",
            "box_style": "",
            "children": [
              "IPY_MODEL_87b432c39cc940a3a607376ba66d37c8",
              "IPY_MODEL_24634d773dbf4236bbc153ddfd8a0927",
              "IPY_MODEL_8e047f3da1474fc9b535b5738670c9b6"
            ],
            "layout": "IPY_MODEL_547a447c80e24a73947a934766efc101"
          }
        },
        "87b432c39cc940a3a607376ba66d37c8": {
          "model_module": "@jupyter-widgets/controls",
          "model_name": "HTMLModel",
          "model_module_version": "1.5.0",
          "state": {
            "_dom_classes": [],
            "_model_module": "@jupyter-widgets/controls",
            "_model_module_version": "1.5.0",
            "_model_name": "HTMLModel",
            "_view_count": null,
            "_view_module": "@jupyter-widgets/controls",
            "_view_module_version": "1.5.0",
            "_view_name": "HTMLView",
            "description": "",
            "description_tooltip": null,
            "layout": "IPY_MODEL_57ab254880e8456eb6f16eb82ba8ac81",
            "placeholder": "​",
            "style": "IPY_MODEL_b2dd4e6385e148c1910fea9327be110a",
            "value": "config.json: 100%"
          }
        },
        "24634d773dbf4236bbc153ddfd8a0927": {
          "model_module": "@jupyter-widgets/controls",
          "model_name": "FloatProgressModel",
          "model_module_version": "1.5.0",
          "state": {
            "_dom_classes": [],
            "_model_module": "@jupyter-widgets/controls",
            "_model_module_version": "1.5.0",
            "_model_name": "FloatProgressModel",
            "_view_count": null,
            "_view_module": "@jupyter-widgets/controls",
            "_view_module_version": "1.5.0",
            "_view_name": "ProgressView",
            "bar_style": "success",
            "description": "",
            "description_tooltip": null,
            "layout": "IPY_MODEL_b347b023327048c5b7dcde5207602944",
            "max": 579,
            "min": 0,
            "orientation": "horizontal",
            "style": "IPY_MODEL_217cd805dc3f4edcb0e145e1f006a433",
            "value": 579
          }
        },
        "8e047f3da1474fc9b535b5738670c9b6": {
          "model_module": "@jupyter-widgets/controls",
          "model_name": "HTMLModel",
          "model_module_version": "1.5.0",
          "state": {
            "_dom_classes": [],
            "_model_module": "@jupyter-widgets/controls",
            "_model_module_version": "1.5.0",
            "_model_name": "HTMLModel",
            "_view_count": null,
            "_view_module": "@jupyter-widgets/controls",
            "_view_module_version": "1.5.0",
            "_view_name": "HTMLView",
            "description": "",
            "description_tooltip": null,
            "layout": "IPY_MODEL_a678e142a28345ccbe9f9f48711177a4",
            "placeholder": "​",
            "style": "IPY_MODEL_0f2fe440947841a295863afdc5440a25",
            "value": " 579/579 [00:00&lt;00:00, 30.0kB/s]"
          }
        },
        "547a447c80e24a73947a934766efc101": {
          "model_module": "@jupyter-widgets/base",
          "model_name": "LayoutModel",
          "model_module_version": "1.2.0",
          "state": {
            "_model_module": "@jupyter-widgets/base",
            "_model_module_version": "1.2.0",
            "_model_name": "LayoutModel",
            "_view_count": null,
            "_view_module": "@jupyter-widgets/base",
            "_view_module_version": "1.2.0",
            "_view_name": "LayoutView",
            "align_content": null,
            "align_items": null,
            "align_self": null,
            "border": null,
            "bottom": null,
            "display": null,
            "flex": null,
            "flex_flow": null,
            "grid_area": null,
            "grid_auto_columns": null,
            "grid_auto_flow": null,
            "grid_auto_rows": null,
            "grid_column": null,
            "grid_gap": null,
            "grid_row": null,
            "grid_template_areas": null,
            "grid_template_columns": null,
            "grid_template_rows": null,
            "height": null,
            "justify_content": null,
            "justify_items": null,
            "left": null,
            "margin": null,
            "max_height": null,
            "max_width": null,
            "min_height": null,
            "min_width": null,
            "object_fit": null,
            "object_position": null,
            "order": null,
            "overflow": null,
            "overflow_x": null,
            "overflow_y": null,
            "padding": null,
            "right": null,
            "top": null,
            "visibility": null,
            "width": null
          }
        },
        "57ab254880e8456eb6f16eb82ba8ac81": {
          "model_module": "@jupyter-widgets/base",
          "model_name": "LayoutModel",
          "model_module_version": "1.2.0",
          "state": {
            "_model_module": "@jupyter-widgets/base",
            "_model_module_version": "1.2.0",
            "_model_name": "LayoutModel",
            "_view_count": null,
            "_view_module": "@jupyter-widgets/base",
            "_view_module_version": "1.2.0",
            "_view_name": "LayoutView",
            "align_content": null,
            "align_items": null,
            "align_self": null,
            "border": null,
            "bottom": null,
            "display": null,
            "flex": null,
            "flex_flow": null,
            "grid_area": null,
            "grid_auto_columns": null,
            "grid_auto_flow": null,
            "grid_auto_rows": null,
            "grid_column": null,
            "grid_gap": null,
            "grid_row": null,
            "grid_template_areas": null,
            "grid_template_columns": null,
            "grid_template_rows": null,
            "height": null,
            "justify_content": null,
            "justify_items": null,
            "left": null,
            "margin": null,
            "max_height": null,
            "max_width": null,
            "min_height": null,
            "min_width": null,
            "object_fit": null,
            "object_position": null,
            "order": null,
            "overflow": null,
            "overflow_x": null,
            "overflow_y": null,
            "padding": null,
            "right": null,
            "top": null,
            "visibility": null,
            "width": null
          }
        },
        "b2dd4e6385e148c1910fea9327be110a": {
          "model_module": "@jupyter-widgets/controls",
          "model_name": "DescriptionStyleModel",
          "model_module_version": "1.5.0",
          "state": {
            "_model_module": "@jupyter-widgets/controls",
            "_model_module_version": "1.5.0",
            "_model_name": "DescriptionStyleModel",
            "_view_count": null,
            "_view_module": "@jupyter-widgets/base",
            "_view_module_version": "1.2.0",
            "_view_name": "StyleView",
            "description_width": ""
          }
        },
        "b347b023327048c5b7dcde5207602944": {
          "model_module": "@jupyter-widgets/base",
          "model_name": "LayoutModel",
          "model_module_version": "1.2.0",
          "state": {
            "_model_module": "@jupyter-widgets/base",
            "_model_module_version": "1.2.0",
            "_model_name": "LayoutModel",
            "_view_count": null,
            "_view_module": "@jupyter-widgets/base",
            "_view_module_version": "1.2.0",
            "_view_name": "LayoutView",
            "align_content": null,
            "align_items": null,
            "align_self": null,
            "border": null,
            "bottom": null,
            "display": null,
            "flex": null,
            "flex_flow": null,
            "grid_area": null,
            "grid_auto_columns": null,
            "grid_auto_flow": null,
            "grid_auto_rows": null,
            "grid_column": null,
            "grid_gap": null,
            "grid_row": null,
            "grid_template_areas": null,
            "grid_template_columns": null,
            "grid_template_rows": null,
            "height": null,
            "justify_content": null,
            "justify_items": null,
            "left": null,
            "margin": null,
            "max_height": null,
            "max_width": null,
            "min_height": null,
            "min_width": null,
            "object_fit": null,
            "object_position": null,
            "order": null,
            "overflow": null,
            "overflow_x": null,
            "overflow_y": null,
            "padding": null,
            "right": null,
            "top": null,
            "visibility": null,
            "width": null
          }
        },
        "217cd805dc3f4edcb0e145e1f006a433": {
          "model_module": "@jupyter-widgets/controls",
          "model_name": "ProgressStyleModel",
          "model_module_version": "1.5.0",
          "state": {
            "_model_module": "@jupyter-widgets/controls",
            "_model_module_version": "1.5.0",
            "_model_name": "ProgressStyleModel",
            "_view_count": null,
            "_view_module": "@jupyter-widgets/base",
            "_view_module_version": "1.2.0",
            "_view_name": "StyleView",
            "bar_color": null,
            "description_width": ""
          }
        },
        "a678e142a28345ccbe9f9f48711177a4": {
          "model_module": "@jupyter-widgets/base",
          "model_name": "LayoutModel",
          "model_module_version": "1.2.0",
          "state": {
            "_model_module": "@jupyter-widgets/base",
            "_model_module_version": "1.2.0",
            "_model_name": "LayoutModel",
            "_view_count": null,
            "_view_module": "@jupyter-widgets/base",
            "_view_module_version": "1.2.0",
            "_view_name": "LayoutView",
            "align_content": null,
            "align_items": null,
            "align_self": null,
            "border": null,
            "bottom": null,
            "display": null,
            "flex": null,
            "flex_flow": null,
            "grid_area": null,
            "grid_auto_columns": null,
            "grid_auto_flow": null,
            "grid_auto_rows": null,
            "grid_column": null,
            "grid_gap": null,
            "grid_row": null,
            "grid_template_areas": null,
            "grid_template_columns": null,
            "grid_template_rows": null,
            "height": null,
            "justify_content": null,
            "justify_items": null,
            "left": null,
            "margin": null,
            "max_height": null,
            "max_width": null,
            "min_height": null,
            "min_width": null,
            "object_fit": null,
            "object_position": null,
            "order": null,
            "overflow": null,
            "overflow_x": null,
            "overflow_y": null,
            "padding": null,
            "right": null,
            "top": null,
            "visibility": null,
            "width": null
          }
        },
        "0f2fe440947841a295863afdc5440a25": {
          "model_module": "@jupyter-widgets/controls",
          "model_name": "DescriptionStyleModel",
          "model_module_version": "1.5.0",
          "state": {
            "_model_module": "@jupyter-widgets/controls",
            "_model_module_version": "1.5.0",
            "_model_name": "DescriptionStyleModel",
            "_view_count": null,
            "_view_module": "@jupyter-widgets/base",
            "_view_module_version": "1.2.0",
            "_view_name": "StyleView",
            "description_width": ""
          }
        },
        "c1fb0ee4d7a545bbabd4345378626c86": {
          "model_module": "@jupyter-widgets/controls",
          "model_name": "HBoxModel",
          "model_module_version": "1.5.0",
          "state": {
            "_dom_classes": [],
            "_model_module": "@jupyter-widgets/controls",
            "_model_module_version": "1.5.0",
            "_model_name": "HBoxModel",
            "_view_count": null,
            "_view_module": "@jupyter-widgets/controls",
            "_view_module_version": "1.5.0",
            "_view_name": "HBoxView",
            "box_style": "",
            "children": [
              "IPY_MODEL_889cd2b1fbba4e5c9c843896b9a949ca",
              "IPY_MODEL_08af25d262b248489cae9b26eeeae2fb",
              "IPY_MODEL_21aa23b88f9746e7b2a3204300ee0ab5"
            ],
            "layout": "IPY_MODEL_f09bfac983b24f4da72c9f085833e3a2"
          }
        },
        "889cd2b1fbba4e5c9c843896b9a949ca": {
          "model_module": "@jupyter-widgets/controls",
          "model_name": "HTMLModel",
          "model_module_version": "1.5.0",
          "state": {
            "_dom_classes": [],
            "_model_module": "@jupyter-widgets/controls",
            "_model_module_version": "1.5.0",
            "_model_name": "HTMLModel",
            "_view_count": null,
            "_view_module": "@jupyter-widgets/controls",
            "_view_module_version": "1.5.0",
            "_view_name": "HTMLView",
            "description": "",
            "description_tooltip": null,
            "layout": "IPY_MODEL_ad05a40ab5ea4cc0a6e894a294c27f98",
            "placeholder": "​",
            "style": "IPY_MODEL_a7609396e593436788b085d6bd39aee5",
            "value": "spm.model: 100%"
          }
        },
        "08af25d262b248489cae9b26eeeae2fb": {
          "model_module": "@jupyter-widgets/controls",
          "model_name": "FloatProgressModel",
          "model_module_version": "1.5.0",
          "state": {
            "_dom_classes": [],
            "_model_module": "@jupyter-widgets/controls",
            "_model_module_version": "1.5.0",
            "_model_name": "FloatProgressModel",
            "_view_count": null,
            "_view_module": "@jupyter-widgets/controls",
            "_view_module_version": "1.5.0",
            "_view_name": "ProgressView",
            "bar_style": "success",
            "description": "",
            "description_tooltip": null,
            "layout": "IPY_MODEL_5c3a3e37b706470e9df216d0b6ff15e8",
            "max": 4305025,
            "min": 0,
            "orientation": "horizontal",
            "style": "IPY_MODEL_96e69e44fed64cd2b6895657423507cb",
            "value": 4305025
          }
        },
        "21aa23b88f9746e7b2a3204300ee0ab5": {
          "model_module": "@jupyter-widgets/controls",
          "model_name": "HTMLModel",
          "model_module_version": "1.5.0",
          "state": {
            "_dom_classes": [],
            "_model_module": "@jupyter-widgets/controls",
            "_model_module_version": "1.5.0",
            "_model_name": "HTMLModel",
            "_view_count": null,
            "_view_module": "@jupyter-widgets/controls",
            "_view_module_version": "1.5.0",
            "_view_name": "HTMLView",
            "description": "",
            "description_tooltip": null,
            "layout": "IPY_MODEL_1ff790a100384674a0c55cb53b1020a9",
            "placeholder": "​",
            "style": "IPY_MODEL_20a43abf1692452eb15313a4a4a2fbd6",
            "value": " 4.31M/4.31M [00:00&lt;00:00, 41.9MB/s]"
          }
        },
        "f09bfac983b24f4da72c9f085833e3a2": {
          "model_module": "@jupyter-widgets/base",
          "model_name": "LayoutModel",
          "model_module_version": "1.2.0",
          "state": {
            "_model_module": "@jupyter-widgets/base",
            "_model_module_version": "1.2.0",
            "_model_name": "LayoutModel",
            "_view_count": null,
            "_view_module": "@jupyter-widgets/base",
            "_view_module_version": "1.2.0",
            "_view_name": "LayoutView",
            "align_content": null,
            "align_items": null,
            "align_self": null,
            "border": null,
            "bottom": null,
            "display": null,
            "flex": null,
            "flex_flow": null,
            "grid_area": null,
            "grid_auto_columns": null,
            "grid_auto_flow": null,
            "grid_auto_rows": null,
            "grid_column": null,
            "grid_gap": null,
            "grid_row": null,
            "grid_template_areas": null,
            "grid_template_columns": null,
            "grid_template_rows": null,
            "height": null,
            "justify_content": null,
            "justify_items": null,
            "left": null,
            "margin": null,
            "max_height": null,
            "max_width": null,
            "min_height": null,
            "min_width": null,
            "object_fit": null,
            "object_position": null,
            "order": null,
            "overflow": null,
            "overflow_x": null,
            "overflow_y": null,
            "padding": null,
            "right": null,
            "top": null,
            "visibility": null,
            "width": null
          }
        },
        "ad05a40ab5ea4cc0a6e894a294c27f98": {
          "model_module": "@jupyter-widgets/base",
          "model_name": "LayoutModel",
          "model_module_version": "1.2.0",
          "state": {
            "_model_module": "@jupyter-widgets/base",
            "_model_module_version": "1.2.0",
            "_model_name": "LayoutModel",
            "_view_count": null,
            "_view_module": "@jupyter-widgets/base",
            "_view_module_version": "1.2.0",
            "_view_name": "LayoutView",
            "align_content": null,
            "align_items": null,
            "align_self": null,
            "border": null,
            "bottom": null,
            "display": null,
            "flex": null,
            "flex_flow": null,
            "grid_area": null,
            "grid_auto_columns": null,
            "grid_auto_flow": null,
            "grid_auto_rows": null,
            "grid_column": null,
            "grid_gap": null,
            "grid_row": null,
            "grid_template_areas": null,
            "grid_template_columns": null,
            "grid_template_rows": null,
            "height": null,
            "justify_content": null,
            "justify_items": null,
            "left": null,
            "margin": null,
            "max_height": null,
            "max_width": null,
            "min_height": null,
            "min_width": null,
            "object_fit": null,
            "object_position": null,
            "order": null,
            "overflow": null,
            "overflow_x": null,
            "overflow_y": null,
            "padding": null,
            "right": null,
            "top": null,
            "visibility": null,
            "width": null
          }
        },
        "a7609396e593436788b085d6bd39aee5": {
          "model_module": "@jupyter-widgets/controls",
          "model_name": "DescriptionStyleModel",
          "model_module_version": "1.5.0",
          "state": {
            "_model_module": "@jupyter-widgets/controls",
            "_model_module_version": "1.5.0",
            "_model_name": "DescriptionStyleModel",
            "_view_count": null,
            "_view_module": "@jupyter-widgets/base",
            "_view_module_version": "1.2.0",
            "_view_name": "StyleView",
            "description_width": ""
          }
        },
        "5c3a3e37b706470e9df216d0b6ff15e8": {
          "model_module": "@jupyter-widgets/base",
          "model_name": "LayoutModel",
          "model_module_version": "1.2.0",
          "state": {
            "_model_module": "@jupyter-widgets/base",
            "_model_module_version": "1.2.0",
            "_model_name": "LayoutModel",
            "_view_count": null,
            "_view_module": "@jupyter-widgets/base",
            "_view_module_version": "1.2.0",
            "_view_name": "LayoutView",
            "align_content": null,
            "align_items": null,
            "align_self": null,
            "border": null,
            "bottom": null,
            "display": null,
            "flex": null,
            "flex_flow": null,
            "grid_area": null,
            "grid_auto_columns": null,
            "grid_auto_flow": null,
            "grid_auto_rows": null,
            "grid_column": null,
            "grid_gap": null,
            "grid_row": null,
            "grid_template_areas": null,
            "grid_template_columns": null,
            "grid_template_rows": null,
            "height": null,
            "justify_content": null,
            "justify_items": null,
            "left": null,
            "margin": null,
            "max_height": null,
            "max_width": null,
            "min_height": null,
            "min_width": null,
            "object_fit": null,
            "object_position": null,
            "order": null,
            "overflow": null,
            "overflow_x": null,
            "overflow_y": null,
            "padding": null,
            "right": null,
            "top": null,
            "visibility": null,
            "width": null
          }
        },
        "96e69e44fed64cd2b6895657423507cb": {
          "model_module": "@jupyter-widgets/controls",
          "model_name": "ProgressStyleModel",
          "model_module_version": "1.5.0",
          "state": {
            "_model_module": "@jupyter-widgets/controls",
            "_model_module_version": "1.5.0",
            "_model_name": "ProgressStyleModel",
            "_view_count": null,
            "_view_module": "@jupyter-widgets/base",
            "_view_module_version": "1.2.0",
            "_view_name": "StyleView",
            "bar_color": null,
            "description_width": ""
          }
        },
        "1ff790a100384674a0c55cb53b1020a9": {
          "model_module": "@jupyter-widgets/base",
          "model_name": "LayoutModel",
          "model_module_version": "1.2.0",
          "state": {
            "_model_module": "@jupyter-widgets/base",
            "_model_module_version": "1.2.0",
            "_model_name": "LayoutModel",
            "_view_count": null,
            "_view_module": "@jupyter-widgets/base",
            "_view_module_version": "1.2.0",
            "_view_name": "LayoutView",
            "align_content": null,
            "align_items": null,
            "align_self": null,
            "border": null,
            "bottom": null,
            "display": null,
            "flex": null,
            "flex_flow": null,
            "grid_area": null,
            "grid_auto_columns": null,
            "grid_auto_flow": null,
            "grid_auto_rows": null,
            "grid_column": null,
            "grid_gap": null,
            "grid_row": null,
            "grid_template_areas": null,
            "grid_template_columns": null,
            "grid_template_rows": null,
            "height": null,
            "justify_content": null,
            "justify_items": null,
            "left": null,
            "margin": null,
            "max_height": null,
            "max_width": null,
            "min_height": null,
            "min_width": null,
            "object_fit": null,
            "object_position": null,
            "order": null,
            "overflow": null,
            "overflow_x": null,
            "overflow_y": null,
            "padding": null,
            "right": null,
            "top": null,
            "visibility": null,
            "width": null
          }
        },
        "20a43abf1692452eb15313a4a4a2fbd6": {
          "model_module": "@jupyter-widgets/controls",
          "model_name": "DescriptionStyleModel",
          "model_module_version": "1.5.0",
          "state": {
            "_model_module": "@jupyter-widgets/controls",
            "_model_module_version": "1.5.0",
            "_model_name": "DescriptionStyleModel",
            "_view_count": null,
            "_view_module": "@jupyter-widgets/base",
            "_view_module_version": "1.2.0",
            "_view_name": "StyleView",
            "description_width": ""
          }
        },
        "2136926c809d4549aaef325f620e5983": {
          "model_module": "@jupyter-widgets/controls",
          "model_name": "HBoxModel",
          "model_module_version": "1.5.0",
          "state": {
            "_dom_classes": [],
            "_model_module": "@jupyter-widgets/controls",
            "_model_module_version": "1.5.0",
            "_model_name": "HBoxModel",
            "_view_count": null,
            "_view_module": "@jupyter-widgets/controls",
            "_view_module_version": "1.5.0",
            "_view_name": "HBoxView",
            "box_style": "",
            "children": [
              "IPY_MODEL_e029f6dbd0cc4a1abadd191bcb611327",
              "IPY_MODEL_c5c881ad47a345dba31913ca567c83aa",
              "IPY_MODEL_5ec3f1323a8e4dba9f97e61bb769c345"
            ],
            "layout": "IPY_MODEL_a563484501cc402a9b7b2b180a4fea82"
          }
        },
        "e029f6dbd0cc4a1abadd191bcb611327": {
          "model_module": "@jupyter-widgets/controls",
          "model_name": "HTMLModel",
          "model_module_version": "1.5.0",
          "state": {
            "_dom_classes": [],
            "_model_module": "@jupyter-widgets/controls",
            "_model_module_version": "1.5.0",
            "_model_name": "HTMLModel",
            "_view_count": null,
            "_view_module": "@jupyter-widgets/controls",
            "_view_module_version": "1.5.0",
            "_view_name": "HTMLView",
            "description": "",
            "description_tooltip": null,
            "layout": "IPY_MODEL_8ea125021062467ca1091ee43ae06931",
            "placeholder": "​",
            "style": "IPY_MODEL_f1509220f098400394c6281c8a6c37c8",
            "value": "pytorch_model.bin: 100%"
          }
        },
        "c5c881ad47a345dba31913ca567c83aa": {
          "model_module": "@jupyter-widgets/controls",
          "model_name": "FloatProgressModel",
          "model_module_version": "1.5.0",
          "state": {
            "_dom_classes": [],
            "_model_module": "@jupyter-widgets/controls",
            "_model_module_version": "1.5.0",
            "_model_name": "FloatProgressModel",
            "_view_count": null,
            "_view_module": "@jupyter-widgets/controls",
            "_view_module_version": "1.5.0",
            "_view_name": "ProgressView",
            "bar_style": "success",
            "description": "",
            "description_tooltip": null,
            "layout": "IPY_MODEL_9d645571bb1f48f98a48d43fc49b1c62",
            "max": 1332809049,
            "min": 0,
            "orientation": "horizontal",
            "style": "IPY_MODEL_3bf54acb64734c88a3e454b6d72be6d8",
            "value": 1332809049
          }
        },
        "5ec3f1323a8e4dba9f97e61bb769c345": {
          "model_module": "@jupyter-widgets/controls",
          "model_name": "HTMLModel",
          "model_module_version": "1.5.0",
          "state": {
            "_dom_classes": [],
            "_model_module": "@jupyter-widgets/controls",
            "_model_module_version": "1.5.0",
            "_model_name": "HTMLModel",
            "_view_count": null,
            "_view_module": "@jupyter-widgets/controls",
            "_view_module_version": "1.5.0",
            "_view_name": "HTMLView",
            "description": "",
            "description_tooltip": null,
            "layout": "IPY_MODEL_b53b7405d1fe40379cb59d07e2f10110",
            "placeholder": "​",
            "style": "IPY_MODEL_e8b674ec427d4a11b1b09614759a151f",
            "value": " 1.33G/1.33G [00:15&lt;00:00, 104MB/s]"
          }
        },
        "a563484501cc402a9b7b2b180a4fea82": {
          "model_module": "@jupyter-widgets/base",
          "model_name": "LayoutModel",
          "model_module_version": "1.2.0",
          "state": {
            "_model_module": "@jupyter-widgets/base",
            "_model_module_version": "1.2.0",
            "_model_name": "LayoutModel",
            "_view_count": null,
            "_view_module": "@jupyter-widgets/base",
            "_view_module_version": "1.2.0",
            "_view_name": "LayoutView",
            "align_content": null,
            "align_items": null,
            "align_self": null,
            "border": null,
            "bottom": null,
            "display": null,
            "flex": null,
            "flex_flow": null,
            "grid_area": null,
            "grid_auto_columns": null,
            "grid_auto_flow": null,
            "grid_auto_rows": null,
            "grid_column": null,
            "grid_gap": null,
            "grid_row": null,
            "grid_template_areas": null,
            "grid_template_columns": null,
            "grid_template_rows": null,
            "height": null,
            "justify_content": null,
            "justify_items": null,
            "left": null,
            "margin": null,
            "max_height": null,
            "max_width": null,
            "min_height": null,
            "min_width": null,
            "object_fit": null,
            "object_position": null,
            "order": null,
            "overflow": null,
            "overflow_x": null,
            "overflow_y": null,
            "padding": null,
            "right": null,
            "top": null,
            "visibility": null,
            "width": null
          }
        },
        "8ea125021062467ca1091ee43ae06931": {
          "model_module": "@jupyter-widgets/base",
          "model_name": "LayoutModel",
          "model_module_version": "1.2.0",
          "state": {
            "_model_module": "@jupyter-widgets/base",
            "_model_module_version": "1.2.0",
            "_model_name": "LayoutModel",
            "_view_count": null,
            "_view_module": "@jupyter-widgets/base",
            "_view_module_version": "1.2.0",
            "_view_name": "LayoutView",
            "align_content": null,
            "align_items": null,
            "align_self": null,
            "border": null,
            "bottom": null,
            "display": null,
            "flex": null,
            "flex_flow": null,
            "grid_area": null,
            "grid_auto_columns": null,
            "grid_auto_flow": null,
            "grid_auto_rows": null,
            "grid_column": null,
            "grid_gap": null,
            "grid_row": null,
            "grid_template_areas": null,
            "grid_template_columns": null,
            "grid_template_rows": null,
            "height": null,
            "justify_content": null,
            "justify_items": null,
            "left": null,
            "margin": null,
            "max_height": null,
            "max_width": null,
            "min_height": null,
            "min_width": null,
            "object_fit": null,
            "object_position": null,
            "order": null,
            "overflow": null,
            "overflow_x": null,
            "overflow_y": null,
            "padding": null,
            "right": null,
            "top": null,
            "visibility": null,
            "width": null
          }
        },
        "f1509220f098400394c6281c8a6c37c8": {
          "model_module": "@jupyter-widgets/controls",
          "model_name": "DescriptionStyleModel",
          "model_module_version": "1.5.0",
          "state": {
            "_model_module": "@jupyter-widgets/controls",
            "_model_module_version": "1.5.0",
            "_model_name": "DescriptionStyleModel",
            "_view_count": null,
            "_view_module": "@jupyter-widgets/base",
            "_view_module_version": "1.2.0",
            "_view_name": "StyleView",
            "description_width": ""
          }
        },
        "9d645571bb1f48f98a48d43fc49b1c62": {
          "model_module": "@jupyter-widgets/base",
          "model_name": "LayoutModel",
          "model_module_version": "1.2.0",
          "state": {
            "_model_module": "@jupyter-widgets/base",
            "_model_module_version": "1.2.0",
            "_model_name": "LayoutModel",
            "_view_count": null,
            "_view_module": "@jupyter-widgets/base",
            "_view_module_version": "1.2.0",
            "_view_name": "LayoutView",
            "align_content": null,
            "align_items": null,
            "align_self": null,
            "border": null,
            "bottom": null,
            "display": null,
            "flex": null,
            "flex_flow": null,
            "grid_area": null,
            "grid_auto_columns": null,
            "grid_auto_flow": null,
            "grid_auto_rows": null,
            "grid_column": null,
            "grid_gap": null,
            "grid_row": null,
            "grid_template_areas": null,
            "grid_template_columns": null,
            "grid_template_rows": null,
            "height": null,
            "justify_content": null,
            "justify_items": null,
            "left": null,
            "margin": null,
            "max_height": null,
            "max_width": null,
            "min_height": null,
            "min_width": null,
            "object_fit": null,
            "object_position": null,
            "order": null,
            "overflow": null,
            "overflow_x": null,
            "overflow_y": null,
            "padding": null,
            "right": null,
            "top": null,
            "visibility": null,
            "width": null
          }
        },
        "3bf54acb64734c88a3e454b6d72be6d8": {
          "model_module": "@jupyter-widgets/controls",
          "model_name": "ProgressStyleModel",
          "model_module_version": "1.5.0",
          "state": {
            "_model_module": "@jupyter-widgets/controls",
            "_model_module_version": "1.5.0",
            "_model_name": "ProgressStyleModel",
            "_view_count": null,
            "_view_module": "@jupyter-widgets/base",
            "_view_module_version": "1.2.0",
            "_view_name": "StyleView",
            "bar_color": null,
            "description_width": ""
          }
        },
        "b53b7405d1fe40379cb59d07e2f10110": {
          "model_module": "@jupyter-widgets/base",
          "model_name": "LayoutModel",
          "model_module_version": "1.2.0",
          "state": {
            "_model_module": "@jupyter-widgets/base",
            "_model_module_version": "1.2.0",
            "_model_name": "LayoutModel",
            "_view_count": null,
            "_view_module": "@jupyter-widgets/base",
            "_view_module_version": "1.2.0",
            "_view_name": "LayoutView",
            "align_content": null,
            "align_items": null,
            "align_self": null,
            "border": null,
            "bottom": null,
            "display": null,
            "flex": null,
            "flex_flow": null,
            "grid_area": null,
            "grid_auto_columns": null,
            "grid_auto_flow": null,
            "grid_auto_rows": null,
            "grid_column": null,
            "grid_gap": null,
            "grid_row": null,
            "grid_template_areas": null,
            "grid_template_columns": null,
            "grid_template_rows": null,
            "height": null,
            "justify_content": null,
            "justify_items": null,
            "left": null,
            "margin": null,
            "max_height": null,
            "max_width": null,
            "min_height": null,
            "min_width": null,
            "object_fit": null,
            "object_position": null,
            "order": null,
            "overflow": null,
            "overflow_x": null,
            "overflow_y": null,
            "padding": null,
            "right": null,
            "top": null,
            "visibility": null,
            "width": null
          }
        },
        "e8b674ec427d4a11b1b09614759a151f": {
          "model_module": "@jupyter-widgets/controls",
          "model_name": "DescriptionStyleModel",
          "model_module_version": "1.5.0",
          "state": {
            "_model_module": "@jupyter-widgets/controls",
            "_model_module_version": "1.5.0",
            "_model_name": "DescriptionStyleModel",
            "_view_count": null,
            "_view_module": "@jupyter-widgets/base",
            "_view_module_version": "1.2.0",
            "_view_name": "StyleView",
            "description_width": ""
          }
        }
      }
    }
  },
  "cells": [
    {
      "cell_type": "code",
      "source": [
        "! python -m spacy download en_core_web_md"
      ],
      "metadata": {
        "colab": {
          "base_uri": "https://localhost:8080/"
        },
        "id": "2POkQDuM-Fdh",
        "outputId": "89e121be-b82a-43c1-9aaa-6e1634580ff7"
      },
      "execution_count": 2,
      "outputs": [
        {
          "output_type": "stream",
          "name": "stdout",
          "text": [
            "Collecting en-core-web-md==3.7.1\n",
            "  Downloading https://github.com/explosion/spacy-models/releases/download/en_core_web_md-3.7.1/en_core_web_md-3.7.1-py3-none-any.whl (42.8 MB)\n",
            "\u001b[2K     \u001b[90m━━━━━━━━━━━━━━━━━━━━━━━━━━━━━━━━━━━━━━━━\u001b[0m \u001b[32m42.8/42.8 MB\u001b[0m \u001b[31m16.8 MB/s\u001b[0m eta \u001b[36m0:00:00\u001b[0m\n",
            "\u001b[?25hRequirement already satisfied: spacy<3.8.0,>=3.7.2 in /usr/local/lib/python3.10/dist-packages (from en-core-web-md==3.7.1) (3.7.4)\n",
            "Requirement already satisfied: spacy-legacy<3.1.0,>=3.0.11 in /usr/local/lib/python3.10/dist-packages (from spacy<3.8.0,>=3.7.2->en-core-web-md==3.7.1) (3.0.12)\n",
            "Requirement already satisfied: spacy-loggers<2.0.0,>=1.0.0 in /usr/local/lib/python3.10/dist-packages (from spacy<3.8.0,>=3.7.2->en-core-web-md==3.7.1) (1.0.5)\n",
            "Requirement already satisfied: murmurhash<1.1.0,>=0.28.0 in /usr/local/lib/python3.10/dist-packages (from spacy<3.8.0,>=3.7.2->en-core-web-md==3.7.1) (1.0.10)\n",
            "Requirement already satisfied: cymem<2.1.0,>=2.0.2 in /usr/local/lib/python3.10/dist-packages (from spacy<3.8.0,>=3.7.2->en-core-web-md==3.7.1) (2.0.8)\n",
            "Requirement already satisfied: preshed<3.1.0,>=3.0.2 in /usr/local/lib/python3.10/dist-packages (from spacy<3.8.0,>=3.7.2->en-core-web-md==3.7.1) (3.0.9)\n",
            "Requirement already satisfied: thinc<8.3.0,>=8.2.2 in /usr/local/lib/python3.10/dist-packages (from spacy<3.8.0,>=3.7.2->en-core-web-md==3.7.1) (8.2.3)\n",
            "Requirement already satisfied: wasabi<1.2.0,>=0.9.1 in /usr/local/lib/python3.10/dist-packages (from spacy<3.8.0,>=3.7.2->en-core-web-md==3.7.1) (1.1.3)\n",
            "Requirement already satisfied: srsly<3.0.0,>=2.4.3 in /usr/local/lib/python3.10/dist-packages (from spacy<3.8.0,>=3.7.2->en-core-web-md==3.7.1) (2.4.8)\n",
            "Requirement already satisfied: catalogue<2.1.0,>=2.0.6 in /usr/local/lib/python3.10/dist-packages (from spacy<3.8.0,>=3.7.2->en-core-web-md==3.7.1) (2.0.10)\n",
            "Requirement already satisfied: weasel<0.4.0,>=0.1.0 in /usr/local/lib/python3.10/dist-packages (from spacy<3.8.0,>=3.7.2->en-core-web-md==3.7.1) (0.3.4)\n",
            "Requirement already satisfied: typer<0.10.0,>=0.3.0 in /usr/local/lib/python3.10/dist-packages (from spacy<3.8.0,>=3.7.2->en-core-web-md==3.7.1) (0.9.4)\n",
            "Requirement already satisfied: smart-open<7.0.0,>=5.2.1 in /usr/local/lib/python3.10/dist-packages (from spacy<3.8.0,>=3.7.2->en-core-web-md==3.7.1) (6.4.0)\n",
            "Requirement already satisfied: tqdm<5.0.0,>=4.38.0 in /usr/local/lib/python3.10/dist-packages (from spacy<3.8.0,>=3.7.2->en-core-web-md==3.7.1) (4.66.4)\n",
            "Requirement already satisfied: requests<3.0.0,>=2.13.0 in /usr/local/lib/python3.10/dist-packages (from spacy<3.8.0,>=3.7.2->en-core-web-md==3.7.1) (2.31.0)\n",
            "Requirement already satisfied: pydantic!=1.8,!=1.8.1,<3.0.0,>=1.7.4 in /usr/local/lib/python3.10/dist-packages (from spacy<3.8.0,>=3.7.2->en-core-web-md==3.7.1) (2.7.3)\n",
            "Requirement already satisfied: jinja2 in /usr/local/lib/python3.10/dist-packages (from spacy<3.8.0,>=3.7.2->en-core-web-md==3.7.1) (3.1.4)\n",
            "Requirement already satisfied: setuptools in /usr/local/lib/python3.10/dist-packages (from spacy<3.8.0,>=3.7.2->en-core-web-md==3.7.1) (67.7.2)\n",
            "Requirement already satisfied: packaging>=20.0 in /usr/local/lib/python3.10/dist-packages (from spacy<3.8.0,>=3.7.2->en-core-web-md==3.7.1) (24.0)\n",
            "Requirement already satisfied: langcodes<4.0.0,>=3.2.0 in /usr/local/lib/python3.10/dist-packages (from spacy<3.8.0,>=3.7.2->en-core-web-md==3.7.1) (3.4.0)\n",
            "Requirement already satisfied: numpy>=1.19.0 in /usr/local/lib/python3.10/dist-packages (from spacy<3.8.0,>=3.7.2->en-core-web-md==3.7.1) (1.25.2)\n",
            "Requirement already satisfied: language-data>=1.2 in /usr/local/lib/python3.10/dist-packages (from langcodes<4.0.0,>=3.2.0->spacy<3.8.0,>=3.7.2->en-core-web-md==3.7.1) (1.2.0)\n",
            "Requirement already satisfied: annotated-types>=0.4.0 in /usr/local/lib/python3.10/dist-packages (from pydantic!=1.8,!=1.8.1,<3.0.0,>=1.7.4->spacy<3.8.0,>=3.7.2->en-core-web-md==3.7.1) (0.7.0)\n",
            "Requirement already satisfied: pydantic-core==2.18.4 in /usr/local/lib/python3.10/dist-packages (from pydantic!=1.8,!=1.8.1,<3.0.0,>=1.7.4->spacy<3.8.0,>=3.7.2->en-core-web-md==3.7.1) (2.18.4)\n",
            "Requirement already satisfied: typing-extensions>=4.6.1 in /usr/local/lib/python3.10/dist-packages (from pydantic!=1.8,!=1.8.1,<3.0.0,>=1.7.4->spacy<3.8.0,>=3.7.2->en-core-web-md==3.7.1) (4.12.1)\n",
            "Requirement already satisfied: charset-normalizer<4,>=2 in /usr/local/lib/python3.10/dist-packages (from requests<3.0.0,>=2.13.0->spacy<3.8.0,>=3.7.2->en-core-web-md==3.7.1) (3.3.2)\n",
            "Requirement already satisfied: idna<4,>=2.5 in /usr/local/lib/python3.10/dist-packages (from requests<3.0.0,>=2.13.0->spacy<3.8.0,>=3.7.2->en-core-web-md==3.7.1) (3.7)\n",
            "Requirement already satisfied: urllib3<3,>=1.21.1 in /usr/local/lib/python3.10/dist-packages (from requests<3.0.0,>=2.13.0->spacy<3.8.0,>=3.7.2->en-core-web-md==3.7.1) (2.0.7)\n",
            "Requirement already satisfied: certifi>=2017.4.17 in /usr/local/lib/python3.10/dist-packages (from requests<3.0.0,>=2.13.0->spacy<3.8.0,>=3.7.2->en-core-web-md==3.7.1) (2024.6.2)\n",
            "Requirement already satisfied: blis<0.8.0,>=0.7.8 in /usr/local/lib/python3.10/dist-packages (from thinc<8.3.0,>=8.2.2->spacy<3.8.0,>=3.7.2->en-core-web-md==3.7.1) (0.7.11)\n",
            "Requirement already satisfied: confection<1.0.0,>=0.0.1 in /usr/local/lib/python3.10/dist-packages (from thinc<8.3.0,>=8.2.2->spacy<3.8.0,>=3.7.2->en-core-web-md==3.7.1) (0.1.5)\n",
            "Requirement already satisfied: click<9.0.0,>=7.1.1 in /usr/local/lib/python3.10/dist-packages (from typer<0.10.0,>=0.3.0->spacy<3.8.0,>=3.7.2->en-core-web-md==3.7.1) (8.1.7)\n",
            "Requirement already satisfied: cloudpathlib<0.17.0,>=0.7.0 in /usr/local/lib/python3.10/dist-packages (from weasel<0.4.0,>=0.1.0->spacy<3.8.0,>=3.7.2->en-core-web-md==3.7.1) (0.16.0)\n",
            "Requirement already satisfied: MarkupSafe>=2.0 in /usr/local/lib/python3.10/dist-packages (from jinja2->spacy<3.8.0,>=3.7.2->en-core-web-md==3.7.1) (2.1.5)\n",
            "Requirement already satisfied: marisa-trie>=0.7.7 in /usr/local/lib/python3.10/dist-packages (from language-data>=1.2->langcodes<4.0.0,>=3.2.0->spacy<3.8.0,>=3.7.2->en-core-web-md==3.7.1) (1.1.1)\n",
            "Installing collected packages: en-core-web-md\n",
            "Successfully installed en-core-web-md-3.7.1\n",
            "\u001b[38;5;2m✔ Download and installation successful\u001b[0m\n",
            "You can now load the package via spacy.load('en_core_web_md')\n",
            "\u001b[38;5;3m⚠ Restart to reload dependencies\u001b[0m\n",
            "If you are in a Jupyter or Colab notebook, you may need to restart Python in\n",
            "order to load all the package's dependencies. You can do this by selecting the\n",
            "'Restart kernel' or 'Restart runtime' option.\n"
          ]
        }
      ]
    },
    {
      "cell_type": "code",
      "execution_count": 3,
      "metadata": {
        "id": "idixCqYa8UA7"
      },
      "outputs": [],
      "source": [
        "import spacy"
      ]
    },
    {
      "cell_type": "code",
      "source": [
        "nlp = spacy.blank(\"en\")"
      ],
      "metadata": {
        "id": "sYYrWB4j83tK"
      },
      "execution_count": 4,
      "outputs": []
    },
    {
      "cell_type": "code",
      "source": [
        "doc = nlp(\"My name is Vincent.\")"
      ],
      "metadata": {
        "id": "bIoTPLL-9PyS"
      },
      "execution_count": 5,
      "outputs": []
    },
    {
      "cell_type": "code",
      "source": [
        "for tok in doc:\n",
        "  print(tok)"
      ],
      "metadata": {
        "colab": {
          "base_uri": "https://localhost:8080/"
        },
        "id": "PwE_RSxc9RmS",
        "outputId": "c6e21452-236e-4f8c-ab36-66343cc425d1"
      },
      "execution_count": 6,
      "outputs": [
        {
          "output_type": "stream",
          "name": "stdout",
          "text": [
            "My\n",
            "name\n",
            "is\n",
            "Vincent\n",
            ".\n"
          ]
        }
      ]
    },
    {
      "cell_type": "code",
      "source": [
        "doc = nlp(\"My name isn't Vincent.\")"
      ],
      "metadata": {
        "id": "4jHxlSwH9dQK"
      },
      "execution_count": 7,
      "outputs": []
    },
    {
      "cell_type": "code",
      "source": [
        "for tok in doc:\n",
        "  print(tok)"
      ],
      "metadata": {
        "colab": {
          "base_uri": "https://localhost:8080/"
        },
        "id": "O0ceBb6D9iI6",
        "outputId": "9d31bd3d-503b-42c5-d15a-b5e817800eb9"
      },
      "execution_count": 8,
      "outputs": [
        {
          "output_type": "stream",
          "name": "stdout",
          "text": [
            "My\n",
            "name\n",
            "is\n",
            "n't\n",
            "Vincent\n",
            ".\n"
          ]
        }
      ]
    },
    {
      "cell_type": "code",
      "source": [
        "doc = nlp(\"My name is not Vincent.\")"
      ],
      "metadata": {
        "id": "6Hbxhsy49qMy"
      },
      "execution_count": 9,
      "outputs": []
    },
    {
      "cell_type": "code",
      "source": [
        "for tok in doc:\n",
        "  print(tok)"
      ],
      "metadata": {
        "colab": {
          "base_uri": "https://localhost:8080/"
        },
        "id": "QbHk3eua9trq",
        "outputId": "c73eb737-4a24-4696-a000-b44e3ee0d8a7"
      },
      "execution_count": 10,
      "outputs": [
        {
          "output_type": "stream",
          "name": "stdout",
          "text": [
            "My\n",
            "name\n",
            "is\n",
            "not\n",
            "Vincent\n",
            ".\n"
          ]
        }
      ]
    },
    {
      "cell_type": "code",
      "source": [
        "nlp = spacy.load(\"en_core_web_md\")"
      ],
      "metadata": {
        "id": "DdDdyQBD-vSx"
      },
      "execution_count": 11,
      "outputs": []
    },
    {
      "cell_type": "code",
      "source": [
        "doc = nlp(\"My name is Vincent.\")"
      ],
      "metadata": {
        "id": "ZobJOglV_DbZ"
      },
      "execution_count": 12,
      "outputs": []
    },
    {
      "cell_type": "code",
      "source": [
        "for tok in doc:\n",
        "  print(tok)"
      ],
      "metadata": {
        "colab": {
          "base_uri": "https://localhost:8080/"
        },
        "id": "ldWHhOmA_IDR",
        "outputId": "a555c6fd-073a-47b4-a7b2-dcb642168591"
      },
      "execution_count": 13,
      "outputs": [
        {
          "output_type": "stream",
          "name": "stdout",
          "text": [
            "My\n",
            "name\n",
            "is\n",
            "Vincent\n",
            ".\n"
          ]
        }
      ]
    },
    {
      "cell_type": "code",
      "source": [
        "tok\n"
      ],
      "metadata": {
        "colab": {
          "base_uri": "https://localhost:8080/"
        },
        "id": "OD4YWAHi_M04",
        "outputId": "83672489-6916-4b29-f2f0-3a26317375f4"
      },
      "execution_count": 14,
      "outputs": [
        {
          "output_type": "execute_result",
          "data": {
            "text/plain": [
              "."
            ]
          },
          "metadata": {},
          "execution_count": 14
        }
      ]
    },
    {
      "cell_type": "code",
      "source": [
        "dir(tok)"
      ],
      "metadata": {
        "colab": {
          "base_uri": "https://localhost:8080/"
        },
        "id": "r9xXaWeY_R_R",
        "outputId": "570d84cd-863e-4dc4-8ffa-78cf85a3097d"
      },
      "execution_count": 15,
      "outputs": [
        {
          "output_type": "execute_result",
          "data": {
            "text/plain": [
              "['_',\n",
              " '__bytes__',\n",
              " '__class__',\n",
              " '__delattr__',\n",
              " '__dir__',\n",
              " '__doc__',\n",
              " '__eq__',\n",
              " '__format__',\n",
              " '__ge__',\n",
              " '__getattribute__',\n",
              " '__gt__',\n",
              " '__hash__',\n",
              " '__init__',\n",
              " '__init_subclass__',\n",
              " '__le__',\n",
              " '__len__',\n",
              " '__lt__',\n",
              " '__ne__',\n",
              " '__new__',\n",
              " '__pyx_vtable__',\n",
              " '__reduce__',\n",
              " '__reduce_ex__',\n",
              " '__repr__',\n",
              " '__setattr__',\n",
              " '__sizeof__',\n",
              " '__str__',\n",
              " '__subclasshook__',\n",
              " '__unicode__',\n",
              " 'ancestors',\n",
              " 'check_flag',\n",
              " 'children',\n",
              " 'cluster',\n",
              " 'conjuncts',\n",
              " 'dep',\n",
              " 'dep_',\n",
              " 'doc',\n",
              " 'ent_id',\n",
              " 'ent_id_',\n",
              " 'ent_iob',\n",
              " 'ent_iob_',\n",
              " 'ent_kb_id',\n",
              " 'ent_kb_id_',\n",
              " 'ent_type',\n",
              " 'ent_type_',\n",
              " 'get_extension',\n",
              " 'has_dep',\n",
              " 'has_extension',\n",
              " 'has_head',\n",
              " 'has_morph',\n",
              " 'has_vector',\n",
              " 'head',\n",
              " 'i',\n",
              " 'idx',\n",
              " 'iob_strings',\n",
              " 'is_alpha',\n",
              " 'is_ancestor',\n",
              " 'is_ascii',\n",
              " 'is_bracket',\n",
              " 'is_currency',\n",
              " 'is_digit',\n",
              " 'is_left_punct',\n",
              " 'is_lower',\n",
              " 'is_oov',\n",
              " 'is_punct',\n",
              " 'is_quote',\n",
              " 'is_right_punct',\n",
              " 'is_sent_end',\n",
              " 'is_sent_start',\n",
              " 'is_space',\n",
              " 'is_stop',\n",
              " 'is_title',\n",
              " 'is_upper',\n",
              " 'lang',\n",
              " 'lang_',\n",
              " 'left_edge',\n",
              " 'lefts',\n",
              " 'lemma',\n",
              " 'lemma_',\n",
              " 'lex',\n",
              " 'lex_id',\n",
              " 'like_email',\n",
              " 'like_num',\n",
              " 'like_url',\n",
              " 'lower',\n",
              " 'lower_',\n",
              " 'morph',\n",
              " 'n_lefts',\n",
              " 'n_rights',\n",
              " 'nbor',\n",
              " 'norm',\n",
              " 'norm_',\n",
              " 'orth',\n",
              " 'orth_',\n",
              " 'pos',\n",
              " 'pos_',\n",
              " 'prefix',\n",
              " 'prefix_',\n",
              " 'prob',\n",
              " 'rank',\n",
              " 'remove_extension',\n",
              " 'right_edge',\n",
              " 'rights',\n",
              " 'sent',\n",
              " 'sent_start',\n",
              " 'sentiment',\n",
              " 'set_extension',\n",
              " 'set_morph',\n",
              " 'shape',\n",
              " 'shape_',\n",
              " 'similarity',\n",
              " 'subtree',\n",
              " 'suffix',\n",
              " 'suffix_',\n",
              " 'tag',\n",
              " 'tag_',\n",
              " 'tensor',\n",
              " 'text',\n",
              " 'text_with_ws',\n",
              " 'vector',\n",
              " 'vector_norm',\n",
              " 'vocab',\n",
              " 'whitespace_']"
            ]
          },
          "metadata": {},
          "execution_count": 15
        }
      ]
    },
    {
      "cell_type": "code",
      "source": [
        "tok.pos_"
      ],
      "metadata": {
        "colab": {
          "base_uri": "https://localhost:8080/",
          "height": 35
        },
        "id": "6wz9j819_ZXg",
        "outputId": "2bf9efd6-afe4-42c1-d692-2a9c9dddbfe1"
      },
      "execution_count": 16,
      "outputs": [
        {
          "output_type": "execute_result",
          "data": {
            "text/plain": [
              "'PUNCT'"
            ],
            "application/vnd.google.colaboratory.intrinsic+json": {
              "type": "string"
            }
          },
          "metadata": {},
          "execution_count": 16
        }
      ]
    },
    {
      "cell_type": "code",
      "source": [
        "for tok in doc:\n",
        "  print(tok, tok.pos_)"
      ],
      "metadata": {
        "colab": {
          "base_uri": "https://localhost:8080/"
        },
        "id": "UYnJQQoo_gEB",
        "outputId": "d8601354-6e40-4034-c9e0-f2e5471569ea"
      },
      "execution_count": 17,
      "outputs": [
        {
          "output_type": "stream",
          "name": "stdout",
          "text": [
            "My PRON\n",
            "name NOUN\n",
            "is AUX\n",
            "Vincent PROPN\n",
            ". PUNCT\n"
          ]
        }
      ]
    },
    {
      "cell_type": "code",
      "source": [
        "spacy.explain('AUX')"
      ],
      "metadata": {
        "colab": {
          "base_uri": "https://localhost:8080/",
          "height": 35
        },
        "id": "6Evu5M9B_pYB",
        "outputId": "66b3d84a-176e-403e-c4af-b0821f505e4f"
      },
      "execution_count": 18,
      "outputs": [
        {
          "output_type": "execute_result",
          "data": {
            "text/plain": [
              "'auxiliary'"
            ],
            "application/vnd.google.colaboratory.intrinsic+json": {
              "type": "string"
            }
          },
          "metadata": {},
          "execution_count": 18
        }
      ]
    },
    {
      "cell_type": "code",
      "source": [
        "doc.ents"
      ],
      "metadata": {
        "colab": {
          "base_uri": "https://localhost:8080/"
        },
        "id": "V7QPQabt_0nB",
        "outputId": "5ed36b7f-0fba-45df-9483-44160f38c0f5"
      },
      "execution_count": 19,
      "outputs": [
        {
          "output_type": "execute_result",
          "data": {
            "text/plain": [
              "(Vincent,)"
            ]
          },
          "metadata": {},
          "execution_count": 19
        }
      ]
    },
    {
      "cell_type": "code",
      "source": [
        "for tok in doc:\n",
        "  print(tok, tok.pos_, tok.ent_type_)"
      ],
      "metadata": {
        "colab": {
          "base_uri": "https://localhost:8080/"
        },
        "id": "nQJ22RQo_6oB",
        "outputId": "b8a6160c-044e-4d0b-dadf-e69eae654d59"
      },
      "execution_count": 20,
      "outputs": [
        {
          "output_type": "stream",
          "name": "stdout",
          "text": [
            "My PRON \n",
            "name NOUN \n",
            "is AUX \n",
            "Vincent PROPN PERSON\n",
            ". PUNCT \n"
          ]
        }
      ]
    },
    {
      "cell_type": "code",
      "source": [
        "doc = nlp(\"My name is not Vincent Warmerdam.\")"
      ],
      "metadata": {
        "id": "xE8A1yVa4o3w"
      },
      "execution_count": 21,
      "outputs": []
    },
    {
      "cell_type": "code",
      "source": [
        "for tok in doc:\n",
        "  print(tok, tok.pos_, tok.ent_type_)"
      ],
      "metadata": {
        "colab": {
          "base_uri": "https://localhost:8080/"
        },
        "id": "-DJ6siHh4uZY",
        "outputId": "0151b48c-f655-49a2-fe28-684b7e671b78"
      },
      "execution_count": 22,
      "outputs": [
        {
          "output_type": "stream",
          "name": "stdout",
          "text": [
            "My PRON \n",
            "name NOUN \n",
            "is AUX \n",
            "not PART \n",
            "Vincent PROPN PERSON\n",
            "Warmerdam PROPN PERSON\n",
            ". PUNCT \n"
          ]
        }
      ]
    },
    {
      "cell_type": "code",
      "source": [
        "doc.ents"
      ],
      "metadata": {
        "colab": {
          "base_uri": "https://localhost:8080/"
        },
        "id": "qyk4MzJk4xH_",
        "outputId": "62fdbefb-f40f-4621-db45-6e913413efbc"
      },
      "execution_count": 23,
      "outputs": [
        {
          "output_type": "execute_result",
          "data": {
            "text/plain": [
              "(Vincent Warmerdam,)"
            ]
          },
          "metadata": {},
          "execution_count": 23
        }
      ]
    },
    {
      "cell_type": "code",
      "source": [
        "doc = nlp(\"My name is not V W, buyt abcd efgh.\")"
      ],
      "metadata": {
        "id": "KUQMPBwG5ELg"
      },
      "execution_count": 24,
      "outputs": []
    },
    {
      "cell_type": "code",
      "source": [
        "for tok in doc:\n",
        "  print(tok, tok.pos_, tok.ent_type_)"
      ],
      "metadata": {
        "colab": {
          "base_uri": "https://localhost:8080/"
        },
        "id": "_QCfdShl5L3Q",
        "outputId": "9ca9a353-5c70-4177-a7b0-5c875914be0a"
      },
      "execution_count": 25,
      "outputs": [
        {
          "output_type": "stream",
          "name": "stdout",
          "text": [
            "My PRON \n",
            "name NOUN \n",
            "is AUX \n",
            "not PART \n",
            "V PROPN \n",
            "W PROPN \n",
            ", PUNCT \n",
            "buyt NOUN \n",
            "abcd PROPN \n",
            "efgh ADV \n",
            ". PUNCT \n"
          ]
        }
      ]
    },
    {
      "cell_type": "code",
      "source": [
        "doc.ents"
      ],
      "metadata": {
        "colab": {
          "base_uri": "https://localhost:8080/"
        },
        "id": "WKh2bgvJ5T1I",
        "outputId": "1259e8a5-921a-4355-f82a-a804b1547c29"
      },
      "execution_count": 26,
      "outputs": [
        {
          "output_type": "execute_result",
          "data": {
            "text/plain": [
              "()"
            ]
          },
          "metadata": {},
          "execution_count": 26
        }
      ]
    },
    {
      "cell_type": "code",
      "source": [
        "doc = nlp(\"My name is not Vincent W.\")"
      ],
      "metadata": {
        "id": "HRGewhsO5WLI"
      },
      "execution_count": 27,
      "outputs": []
    },
    {
      "cell_type": "code",
      "source": [
        "for tok in doc:\n",
        "  print(tok, tok.pos_, tok.ent_type_)"
      ],
      "metadata": {
        "colab": {
          "base_uri": "https://localhost:8080/"
        },
        "id": "tFkBiiEy5aKA",
        "outputId": "370a5422-d3ab-417f-ae08-123ed6b87f0a"
      },
      "execution_count": 28,
      "outputs": [
        {
          "output_type": "stream",
          "name": "stdout",
          "text": [
            "My PRON \n",
            "name NOUN \n",
            "is AUX \n",
            "not PART \n",
            "Vincent PROPN PERSON\n",
            "W. PROPN PERSON\n"
          ]
        }
      ]
    },
    {
      "cell_type": "code",
      "source": [
        "doc.ents"
      ],
      "metadata": {
        "colab": {
          "base_uri": "https://localhost:8080/"
        },
        "id": "j5Qmxaex5cjo",
        "outputId": "db46e946-875b-43e7-da83-67e048903cf5"
      },
      "execution_count": 29,
      "outputs": [
        {
          "output_type": "execute_result",
          "data": {
            "text/plain": [
              "(Vincent W.,)"
            ]
          },
          "metadata": {},
          "execution_count": 29
        }
      ]
    },
    {
      "cell_type": "code",
      "source": [
        "doc = nlp(\"My name is not vincent warmerdam\")"
      ],
      "metadata": {
        "id": "LD3QPWDM5hbg"
      },
      "execution_count": 33,
      "outputs": []
    },
    {
      "cell_type": "code",
      "source": [
        "for tok in doc:\n",
        "  print(tok, tok.pos_, tok.ent_type_)"
      ],
      "metadata": {
        "colab": {
          "base_uri": "https://localhost:8080/"
        },
        "id": "H__jZYM05lm4",
        "outputId": "b0323dd8-d8fa-4a6e-ef0b-9611709f5403"
      },
      "execution_count": 34,
      "outputs": [
        {
          "output_type": "stream",
          "name": "stdout",
          "text": [
            "My PRON \n",
            "name NOUN \n",
            "is AUX \n",
            "not PART \n",
            "vincent PROPN PERSON\n",
            "warmerdam PROPN PERSON\n"
          ]
        }
      ]
    },
    {
      "cell_type": "code",
      "source": [
        "doc.ents"
      ],
      "metadata": {
        "colab": {
          "base_uri": "https://localhost:8080/"
        },
        "id": "YcERjjyg5nyI",
        "outputId": "1568048d-c1c1-4f7c-dd24-dcbfb2eeba5e"
      },
      "execution_count": 35,
      "outputs": [
        {
          "output_type": "execute_result",
          "data": {
            "text/plain": [
              "(vincent warmerdam,)"
            ]
          },
          "metadata": {},
          "execution_count": 35
        }
      ]
    },
    {
      "cell_type": "code",
      "source": [
        "doc = nlp(\"My name is not bincent barmerdam\")"
      ],
      "metadata": {
        "id": "3lp4fI1O5wvo"
      },
      "execution_count": 36,
      "outputs": []
    },
    {
      "cell_type": "code",
      "source": [
        "for tok in doc:\n",
        "  print(tok, tok.pos_, tok.ent_type_)"
      ],
      "metadata": {
        "colab": {
          "base_uri": "https://localhost:8080/"
        },
        "id": "0qbfj-pK5yDw",
        "outputId": "c7e988c1-c107-4e19-9b89-c19f7113af59"
      },
      "execution_count": 37,
      "outputs": [
        {
          "output_type": "stream",
          "name": "stdout",
          "text": [
            "My PRON \n",
            "name NOUN \n",
            "is AUX \n",
            "not PART \n",
            "bincent ADJ \n",
            "barmerdam PROPN \n"
          ]
        }
      ]
    },
    {
      "cell_type": "code",
      "source": [
        "doc.ents"
      ],
      "metadata": {
        "colab": {
          "base_uri": "https://localhost:8080/"
        },
        "id": "AHJ0e21F5zZA",
        "outputId": "6eafc5b6-ece5-4549-bc07-3c31fe66fc97"
      },
      "execution_count": 38,
      "outputs": [
        {
          "output_type": "execute_result",
          "data": {
            "text/plain": [
              "()"
            ]
          },
          "metadata": {},
          "execution_count": 38
        }
      ]
    },
    {
      "cell_type": "code",
      "source": [
        "doc = nlp(\"My name is not Bincent Warmerdam\")"
      ],
      "metadata": {
        "id": "P6_mDM1C57Ho"
      },
      "execution_count": 39,
      "outputs": []
    },
    {
      "cell_type": "code",
      "source": [
        "for tok in doc:\n",
        "  print(tok, tok.pos_, tok.ent_type_)"
      ],
      "metadata": {
        "colab": {
          "base_uri": "https://localhost:8080/"
        },
        "id": "GKB1F78Z58Ag",
        "outputId": "8c170638-10e8-49b9-b575-590ffc2687dc"
      },
      "execution_count": 40,
      "outputs": [
        {
          "output_type": "stream",
          "name": "stdout",
          "text": [
            "My PRON \n",
            "name NOUN \n",
            "is AUX \n",
            "not PART \n",
            "Bincent PROPN ORG\n",
            "Warmerdam PROPN \n"
          ]
        }
      ]
    },
    {
      "cell_type": "code",
      "source": [
        "doc.ents"
      ],
      "metadata": {
        "colab": {
          "base_uri": "https://localhost:8080/"
        },
        "id": "j3DYwtcN586w",
        "outputId": "156fd40e-637a-437d-fc05-b71425b753b9"
      },
      "execution_count": 41,
      "outputs": [
        {
          "output_type": "execute_result",
          "data": {
            "text/plain": [
              "(Bincent,)"
            ]
          },
          "metadata": {},
          "execution_count": 41
        }
      ]
    },
    {
      "cell_type": "code",
      "source": [
        "doc = nlp(\"My name is not v w,it is ehg asda\")"
      ],
      "metadata": {
        "id": "dMFKTuUy6JqA"
      },
      "execution_count": 42,
      "outputs": []
    },
    {
      "cell_type": "code",
      "source": [
        "for tok in doc:\n",
        "  print(tok, tok.pos_, tok.ent_type_)"
      ],
      "metadata": {
        "colab": {
          "base_uri": "https://localhost:8080/"
        },
        "id": "AsplRsNn6K_Y",
        "outputId": "f43229c4-7008-46af-efb0-6b4db1a9f190"
      },
      "execution_count": 43,
      "outputs": [
        {
          "output_type": "stream",
          "name": "stdout",
          "text": [
            "My PRON \n",
            "name NOUN \n",
            "is AUX \n",
            "not PART \n",
            "v ADP \n",
            "w PROPN \n",
            ", PUNCT \n",
            "it PRON \n",
            "is AUX \n",
            "ehg PROPN \n",
            "asda NOUN \n"
          ]
        }
      ]
    },
    {
      "cell_type": "code",
      "source": [
        "doc.ents"
      ],
      "metadata": {
        "colab": {
          "base_uri": "https://localhost:8080/"
        },
        "id": "--Pc_rLK6L2Q",
        "outputId": "69f76a8d-2341-4ad4-fec1-d14581b3819e"
      },
      "execution_count": 44,
      "outputs": [
        {
          "output_type": "execute_result",
          "data": {
            "text/plain": [
              "()"
            ]
          },
          "metadata": {},
          "execution_count": 44
        }
      ]
    },
    {
      "cell_type": "code",
      "source": [
        "from spacy import displacy"
      ],
      "metadata": {
        "id": "o7GWNpIo6Xdw"
      },
      "execution_count": 46,
      "outputs": []
    },
    {
      "cell_type": "code",
      "source": [
        "displacy.render(doc)"
      ],
      "metadata": {
        "colab": {
          "base_uri": "https://localhost:8080/",
          "height": 421
        },
        "id": "Z4GOFISS6jiw",
        "outputId": "d2eb4d74-5552-4d60-b124-d889d96f153a"
      },
      "execution_count": 48,
      "outputs": [
        {
          "output_type": "display_data",
          "data": {
            "text/plain": [
              "<IPython.core.display.HTML object>"
            ],
            "text/html": [
              "<span class=\"tex2jax_ignore\"><svg xmlns=\"http://www.w3.org/2000/svg\" xmlns:xlink=\"http://www.w3.org/1999/xlink\" xml:lang=\"en\" id=\"c008bda16b5445b9a59c9ccca2220341-0\" class=\"displacy\" width=\"1800\" height=\"399.5\" direction=\"ltr\" style=\"max-width: none; height: 399.5px; color: #000000; background: #ffffff; font-family: Arial; direction: ltr\">\n",
              "<text class=\"displacy-token\" fill=\"currentColor\" text-anchor=\"middle\" y=\"309.5\">\n",
              "    <tspan class=\"displacy-word\" fill=\"currentColor\" x=\"50\">My</tspan>\n",
              "    <tspan class=\"displacy-tag\" dy=\"2em\" fill=\"currentColor\" x=\"50\">PRON</tspan>\n",
              "</text>\n",
              "\n",
              "<text class=\"displacy-token\" fill=\"currentColor\" text-anchor=\"middle\" y=\"309.5\">\n",
              "    <tspan class=\"displacy-word\" fill=\"currentColor\" x=\"225\">name</tspan>\n",
              "    <tspan class=\"displacy-tag\" dy=\"2em\" fill=\"currentColor\" x=\"225\">NOUN</tspan>\n",
              "</text>\n",
              "\n",
              "<text class=\"displacy-token\" fill=\"currentColor\" text-anchor=\"middle\" y=\"309.5\">\n",
              "    <tspan class=\"displacy-word\" fill=\"currentColor\" x=\"400\">is</tspan>\n",
              "    <tspan class=\"displacy-tag\" dy=\"2em\" fill=\"currentColor\" x=\"400\">AUX</tspan>\n",
              "</text>\n",
              "\n",
              "<text class=\"displacy-token\" fill=\"currentColor\" text-anchor=\"middle\" y=\"309.5\">\n",
              "    <tspan class=\"displacy-word\" fill=\"currentColor\" x=\"575\">not</tspan>\n",
              "    <tspan class=\"displacy-tag\" dy=\"2em\" fill=\"currentColor\" x=\"575\">PART</tspan>\n",
              "</text>\n",
              "\n",
              "<text class=\"displacy-token\" fill=\"currentColor\" text-anchor=\"middle\" y=\"309.5\">\n",
              "    <tspan class=\"displacy-word\" fill=\"currentColor\" x=\"750\">v</tspan>\n",
              "    <tspan class=\"displacy-tag\" dy=\"2em\" fill=\"currentColor\" x=\"750\">ADP</tspan>\n",
              "</text>\n",
              "\n",
              "<text class=\"displacy-token\" fill=\"currentColor\" text-anchor=\"middle\" y=\"309.5\">\n",
              "    <tspan class=\"displacy-word\" fill=\"currentColor\" x=\"925\">w,</tspan>\n",
              "    <tspan class=\"displacy-tag\" dy=\"2em\" fill=\"currentColor\" x=\"925\">PROPN</tspan>\n",
              "</text>\n",
              "\n",
              "<text class=\"displacy-token\" fill=\"currentColor\" text-anchor=\"middle\" y=\"309.5\">\n",
              "    <tspan class=\"displacy-word\" fill=\"currentColor\" x=\"1100\">it</tspan>\n",
              "    <tspan class=\"displacy-tag\" dy=\"2em\" fill=\"currentColor\" x=\"1100\">PRON</tspan>\n",
              "</text>\n",
              "\n",
              "<text class=\"displacy-token\" fill=\"currentColor\" text-anchor=\"middle\" y=\"309.5\">\n",
              "    <tspan class=\"displacy-word\" fill=\"currentColor\" x=\"1275\">is</tspan>\n",
              "    <tspan class=\"displacy-tag\" dy=\"2em\" fill=\"currentColor\" x=\"1275\">AUX</tspan>\n",
              "</text>\n",
              "\n",
              "<text class=\"displacy-token\" fill=\"currentColor\" text-anchor=\"middle\" y=\"309.5\">\n",
              "    <tspan class=\"displacy-word\" fill=\"currentColor\" x=\"1450\">ehg</tspan>\n",
              "    <tspan class=\"displacy-tag\" dy=\"2em\" fill=\"currentColor\" x=\"1450\">PROPN</tspan>\n",
              "</text>\n",
              "\n",
              "<text class=\"displacy-token\" fill=\"currentColor\" text-anchor=\"middle\" y=\"309.5\">\n",
              "    <tspan class=\"displacy-word\" fill=\"currentColor\" x=\"1625\">asda</tspan>\n",
              "    <tspan class=\"displacy-tag\" dy=\"2em\" fill=\"currentColor\" x=\"1625\">NOUN</tspan>\n",
              "</text>\n",
              "\n",
              "<g class=\"displacy-arrow\">\n",
              "    <path class=\"displacy-arc\" id=\"arrow-c008bda16b5445b9a59c9ccca2220341-0-0\" stroke-width=\"2px\" d=\"M70,264.5 C70,177.0 215.0,177.0 215.0,264.5\" fill=\"none\" stroke=\"currentColor\"/>\n",
              "    <text dy=\"1.25em\" style=\"font-size: 0.8em; letter-spacing: 1px\">\n",
              "        <textPath xlink:href=\"#arrow-c008bda16b5445b9a59c9ccca2220341-0-0\" class=\"displacy-label\" startOffset=\"50%\" side=\"left\" fill=\"currentColor\" text-anchor=\"middle\">poss</textPath>\n",
              "    </text>\n",
              "    <path class=\"displacy-arrowhead\" d=\"M70,266.5 L62,254.5 78,254.5\" fill=\"currentColor\"/>\n",
              "</g>\n",
              "\n",
              "<g class=\"displacy-arrow\">\n",
              "    <path class=\"displacy-arc\" id=\"arrow-c008bda16b5445b9a59c9ccca2220341-0-1\" stroke-width=\"2px\" d=\"M245,264.5 C245,177.0 390.0,177.0 390.0,264.5\" fill=\"none\" stroke=\"currentColor\"/>\n",
              "    <text dy=\"1.25em\" style=\"font-size: 0.8em; letter-spacing: 1px\">\n",
              "        <textPath xlink:href=\"#arrow-c008bda16b5445b9a59c9ccca2220341-0-1\" class=\"displacy-label\" startOffset=\"50%\" side=\"left\" fill=\"currentColor\" text-anchor=\"middle\">nsubj</textPath>\n",
              "    </text>\n",
              "    <path class=\"displacy-arrowhead\" d=\"M245,266.5 L237,254.5 253,254.5\" fill=\"currentColor\"/>\n",
              "</g>\n",
              "\n",
              "<g class=\"displacy-arrow\">\n",
              "    <path class=\"displacy-arc\" id=\"arrow-c008bda16b5445b9a59c9ccca2220341-0-2\" stroke-width=\"2px\" d=\"M420,264.5 C420,2.0 1275.0,2.0 1275.0,264.5\" fill=\"none\" stroke=\"currentColor\"/>\n",
              "    <text dy=\"1.25em\" style=\"font-size: 0.8em; letter-spacing: 1px\">\n",
              "        <textPath xlink:href=\"#arrow-c008bda16b5445b9a59c9ccca2220341-0-2\" class=\"displacy-label\" startOffset=\"50%\" side=\"left\" fill=\"currentColor\" text-anchor=\"middle\">ccomp</textPath>\n",
              "    </text>\n",
              "    <path class=\"displacy-arrowhead\" d=\"M420,266.5 L412,254.5 428,254.5\" fill=\"currentColor\"/>\n",
              "</g>\n",
              "\n",
              "<g class=\"displacy-arrow\">\n",
              "    <path class=\"displacy-arc\" id=\"arrow-c008bda16b5445b9a59c9ccca2220341-0-3\" stroke-width=\"2px\" d=\"M420,264.5 C420,177.0 565.0,177.0 565.0,264.5\" fill=\"none\" stroke=\"currentColor\"/>\n",
              "    <text dy=\"1.25em\" style=\"font-size: 0.8em; letter-spacing: 1px\">\n",
              "        <textPath xlink:href=\"#arrow-c008bda16b5445b9a59c9ccca2220341-0-3\" class=\"displacy-label\" startOffset=\"50%\" side=\"left\" fill=\"currentColor\" text-anchor=\"middle\">neg</textPath>\n",
              "    </text>\n",
              "    <path class=\"displacy-arrowhead\" d=\"M565.0,266.5 L573.0,254.5 557.0,254.5\" fill=\"currentColor\"/>\n",
              "</g>\n",
              "\n",
              "<g class=\"displacy-arrow\">\n",
              "    <path class=\"displacy-arc\" id=\"arrow-c008bda16b5445b9a59c9ccca2220341-0-4\" stroke-width=\"2px\" d=\"M420,264.5 C420,89.5 745.0,89.5 745.0,264.5\" fill=\"none\" stroke=\"currentColor\"/>\n",
              "    <text dy=\"1.25em\" style=\"font-size: 0.8em; letter-spacing: 1px\">\n",
              "        <textPath xlink:href=\"#arrow-c008bda16b5445b9a59c9ccca2220341-0-4\" class=\"displacy-label\" startOffset=\"50%\" side=\"left\" fill=\"currentColor\" text-anchor=\"middle\">prep</textPath>\n",
              "    </text>\n",
              "    <path class=\"displacy-arrowhead\" d=\"M745.0,266.5 L753.0,254.5 737.0,254.5\" fill=\"currentColor\"/>\n",
              "</g>\n",
              "\n",
              "<g class=\"displacy-arrow\">\n",
              "    <path class=\"displacy-arc\" id=\"arrow-c008bda16b5445b9a59c9ccca2220341-0-5\" stroke-width=\"2px\" d=\"M770,264.5 C770,177.0 915.0,177.0 915.0,264.5\" fill=\"none\" stroke=\"currentColor\"/>\n",
              "    <text dy=\"1.25em\" style=\"font-size: 0.8em; letter-spacing: 1px\">\n",
              "        <textPath xlink:href=\"#arrow-c008bda16b5445b9a59c9ccca2220341-0-5\" class=\"displacy-label\" startOffset=\"50%\" side=\"left\" fill=\"currentColor\" text-anchor=\"middle\">pobj</textPath>\n",
              "    </text>\n",
              "    <path class=\"displacy-arrowhead\" d=\"M915.0,266.5 L923.0,254.5 907.0,254.5\" fill=\"currentColor\"/>\n",
              "</g>\n",
              "\n",
              "<g class=\"displacy-arrow\">\n",
              "    <path class=\"displacy-arc\" id=\"arrow-c008bda16b5445b9a59c9ccca2220341-0-6\" stroke-width=\"2px\" d=\"M1120,264.5 C1120,177.0 1265.0,177.0 1265.0,264.5\" fill=\"none\" stroke=\"currentColor\"/>\n",
              "    <text dy=\"1.25em\" style=\"font-size: 0.8em; letter-spacing: 1px\">\n",
              "        <textPath xlink:href=\"#arrow-c008bda16b5445b9a59c9ccca2220341-0-6\" class=\"displacy-label\" startOffset=\"50%\" side=\"left\" fill=\"currentColor\" text-anchor=\"middle\">nsubj</textPath>\n",
              "    </text>\n",
              "    <path class=\"displacy-arrowhead\" d=\"M1120,266.5 L1112,254.5 1128,254.5\" fill=\"currentColor\"/>\n",
              "</g>\n",
              "\n",
              "<g class=\"displacy-arrow\">\n",
              "    <path class=\"displacy-arc\" id=\"arrow-c008bda16b5445b9a59c9ccca2220341-0-7\" stroke-width=\"2px\" d=\"M1470,264.5 C1470,177.0 1615.0,177.0 1615.0,264.5\" fill=\"none\" stroke=\"currentColor\"/>\n",
              "    <text dy=\"1.25em\" style=\"font-size: 0.8em; letter-spacing: 1px\">\n",
              "        <textPath xlink:href=\"#arrow-c008bda16b5445b9a59c9ccca2220341-0-7\" class=\"displacy-label\" startOffset=\"50%\" side=\"left\" fill=\"currentColor\" text-anchor=\"middle\">compound</textPath>\n",
              "    </text>\n",
              "    <path class=\"displacy-arrowhead\" d=\"M1470,266.5 L1462,254.5 1478,254.5\" fill=\"currentColor\"/>\n",
              "</g>\n",
              "\n",
              "<g class=\"displacy-arrow\">\n",
              "    <path class=\"displacy-arc\" id=\"arrow-c008bda16b5445b9a59c9ccca2220341-0-8\" stroke-width=\"2px\" d=\"M1295,264.5 C1295,89.5 1620.0,89.5 1620.0,264.5\" fill=\"none\" stroke=\"currentColor\"/>\n",
              "    <text dy=\"1.25em\" style=\"font-size: 0.8em; letter-spacing: 1px\">\n",
              "        <textPath xlink:href=\"#arrow-c008bda16b5445b9a59c9ccca2220341-0-8\" class=\"displacy-label\" startOffset=\"50%\" side=\"left\" fill=\"currentColor\" text-anchor=\"middle\">attr</textPath>\n",
              "    </text>\n",
              "    <path class=\"displacy-arrowhead\" d=\"M1620.0,266.5 L1628.0,254.5 1612.0,254.5\" fill=\"currentColor\"/>\n",
              "</g>\n",
              "</svg></span>"
            ]
          },
          "metadata": {}
        }
      ]
    },
    {
      "cell_type": "code",
      "source": [
        "displacy.render(nlp(\"Hi, my name is Vincent.\"))"
      ],
      "metadata": {
        "colab": {
          "base_uri": "https://localhost:8080/",
          "height": 333
        },
        "id": "XyB4RHTi64DI",
        "outputId": "5042a7a3-96a9-49e8-85d3-afb4ecf6f83d"
      },
      "execution_count": 49,
      "outputs": [
        {
          "output_type": "display_data",
          "data": {
            "text/plain": [
              "<IPython.core.display.HTML object>"
            ],
            "text/html": [
              "<span class=\"tex2jax_ignore\"><svg xmlns=\"http://www.w3.org/2000/svg\" xmlns:xlink=\"http://www.w3.org/1999/xlink\" xml:lang=\"en\" id=\"df33a4114404477c9c73472ccbbc37fa-0\" class=\"displacy\" width=\"925\" height=\"312.0\" direction=\"ltr\" style=\"max-width: none; height: 312.0px; color: #000000; background: #ffffff; font-family: Arial; direction: ltr\">\n",
              "<text class=\"displacy-token\" fill=\"currentColor\" text-anchor=\"middle\" y=\"222.0\">\n",
              "    <tspan class=\"displacy-word\" fill=\"currentColor\" x=\"50\">Hi,</tspan>\n",
              "    <tspan class=\"displacy-tag\" dy=\"2em\" fill=\"currentColor\" x=\"50\">INTJ</tspan>\n",
              "</text>\n",
              "\n",
              "<text class=\"displacy-token\" fill=\"currentColor\" text-anchor=\"middle\" y=\"222.0\">\n",
              "    <tspan class=\"displacy-word\" fill=\"currentColor\" x=\"225\">my</tspan>\n",
              "    <tspan class=\"displacy-tag\" dy=\"2em\" fill=\"currentColor\" x=\"225\">PRON</tspan>\n",
              "</text>\n",
              "\n",
              "<text class=\"displacy-token\" fill=\"currentColor\" text-anchor=\"middle\" y=\"222.0\">\n",
              "    <tspan class=\"displacy-word\" fill=\"currentColor\" x=\"400\">name</tspan>\n",
              "    <tspan class=\"displacy-tag\" dy=\"2em\" fill=\"currentColor\" x=\"400\">NOUN</tspan>\n",
              "</text>\n",
              "\n",
              "<text class=\"displacy-token\" fill=\"currentColor\" text-anchor=\"middle\" y=\"222.0\">\n",
              "    <tspan class=\"displacy-word\" fill=\"currentColor\" x=\"575\">is</tspan>\n",
              "    <tspan class=\"displacy-tag\" dy=\"2em\" fill=\"currentColor\" x=\"575\">AUX</tspan>\n",
              "</text>\n",
              "\n",
              "<text class=\"displacy-token\" fill=\"currentColor\" text-anchor=\"middle\" y=\"222.0\">\n",
              "    <tspan class=\"displacy-word\" fill=\"currentColor\" x=\"750\">Vincent.</tspan>\n",
              "    <tspan class=\"displacy-tag\" dy=\"2em\" fill=\"currentColor\" x=\"750\">PROPN</tspan>\n",
              "</text>\n",
              "\n",
              "<g class=\"displacy-arrow\">\n",
              "    <path class=\"displacy-arc\" id=\"arrow-df33a4114404477c9c73472ccbbc37fa-0-0\" stroke-width=\"2px\" d=\"M70,177.0 C70,2.0 575.0,2.0 575.0,177.0\" fill=\"none\" stroke=\"currentColor\"/>\n",
              "    <text dy=\"1.25em\" style=\"font-size: 0.8em; letter-spacing: 1px\">\n",
              "        <textPath xlink:href=\"#arrow-df33a4114404477c9c73472ccbbc37fa-0-0\" class=\"displacy-label\" startOffset=\"50%\" side=\"left\" fill=\"currentColor\" text-anchor=\"middle\">intj</textPath>\n",
              "    </text>\n",
              "    <path class=\"displacy-arrowhead\" d=\"M70,179.0 L62,167.0 78,167.0\" fill=\"currentColor\"/>\n",
              "</g>\n",
              "\n",
              "<g class=\"displacy-arrow\">\n",
              "    <path class=\"displacy-arc\" id=\"arrow-df33a4114404477c9c73472ccbbc37fa-0-1\" stroke-width=\"2px\" d=\"M245,177.0 C245,89.5 395.0,89.5 395.0,177.0\" fill=\"none\" stroke=\"currentColor\"/>\n",
              "    <text dy=\"1.25em\" style=\"font-size: 0.8em; letter-spacing: 1px\">\n",
              "        <textPath xlink:href=\"#arrow-df33a4114404477c9c73472ccbbc37fa-0-1\" class=\"displacy-label\" startOffset=\"50%\" side=\"left\" fill=\"currentColor\" text-anchor=\"middle\">poss</textPath>\n",
              "    </text>\n",
              "    <path class=\"displacy-arrowhead\" d=\"M245,179.0 L237,167.0 253,167.0\" fill=\"currentColor\"/>\n",
              "</g>\n",
              "\n",
              "<g class=\"displacy-arrow\">\n",
              "    <path class=\"displacy-arc\" id=\"arrow-df33a4114404477c9c73472ccbbc37fa-0-2\" stroke-width=\"2px\" d=\"M420,177.0 C420,89.5 570.0,89.5 570.0,177.0\" fill=\"none\" stroke=\"currentColor\"/>\n",
              "    <text dy=\"1.25em\" style=\"font-size: 0.8em; letter-spacing: 1px\">\n",
              "        <textPath xlink:href=\"#arrow-df33a4114404477c9c73472ccbbc37fa-0-2\" class=\"displacy-label\" startOffset=\"50%\" side=\"left\" fill=\"currentColor\" text-anchor=\"middle\">nsubj</textPath>\n",
              "    </text>\n",
              "    <path class=\"displacy-arrowhead\" d=\"M420,179.0 L412,167.0 428,167.0\" fill=\"currentColor\"/>\n",
              "</g>\n",
              "\n",
              "<g class=\"displacy-arrow\">\n",
              "    <path class=\"displacy-arc\" id=\"arrow-df33a4114404477c9c73472ccbbc37fa-0-3\" stroke-width=\"2px\" d=\"M595,177.0 C595,89.5 745.0,89.5 745.0,177.0\" fill=\"none\" stroke=\"currentColor\"/>\n",
              "    <text dy=\"1.25em\" style=\"font-size: 0.8em; letter-spacing: 1px\">\n",
              "        <textPath xlink:href=\"#arrow-df33a4114404477c9c73472ccbbc37fa-0-3\" class=\"displacy-label\" startOffset=\"50%\" side=\"left\" fill=\"currentColor\" text-anchor=\"middle\">attr</textPath>\n",
              "    </text>\n",
              "    <path class=\"displacy-arrowhead\" d=\"M745.0,179.0 L753.0,167.0 737.0,167.0\" fill=\"currentColor\"/>\n",
              "</g>\n",
              "</svg></span>"
            ]
          },
          "metadata": {}
        }
      ]
    },
    {
      "cell_type": "code",
      "source": [
        "displacy.render(nlp(\"Hi, my name is Vincent.\"), style='ent')"
      ],
      "metadata": {
        "colab": {
          "base_uri": "https://localhost:8080/",
          "height": 52
        },
        "id": "UA70XJuT7EBY",
        "outputId": "db663981-da10-442c-f2bb-14fe2f62bede"
      },
      "execution_count": 50,
      "outputs": [
        {
          "output_type": "display_data",
          "data": {
            "text/plain": [
              "<IPython.core.display.HTML object>"
            ],
            "text/html": [
              "<span class=\"tex2jax_ignore\"><div class=\"entities\" style=\"line-height: 2.5; direction: ltr\">Hi, my name is \n",
              "<mark class=\"entity\" style=\"background: #aa9cfc; padding: 0.45em 0.6em; margin: 0 0.25em; line-height: 1; border-radius: 0.35em;\">\n",
              "    Vincent\n",
              "    <span style=\"font-size: 0.8em; font-weight: bold; line-height: 1; border-radius: 0.35em; vertical-align: middle; margin-left: 0.5rem\">PERSON</span>\n",
              "</mark>\n",
              ".</div></span>"
            ]
          },
          "metadata": {}
        }
      ]
    },
    {
      "cell_type": "code",
      "source": [
        "displacy.render(nlp(\"Hi, my name is Vincent. I have a few cats in my house and my house is in Haarlem which is in the Netherlands.\"), style='ent')"
      ],
      "metadata": {
        "colab": {
          "base_uri": "https://localhost:8080/",
          "height": 52
        },
        "id": "DpOtKGt-7OWQ",
        "outputId": "022d8532-1802-4535-bd28-b0ece9e95559"
      },
      "execution_count": 51,
      "outputs": [
        {
          "output_type": "display_data",
          "data": {
            "text/plain": [
              "<IPython.core.display.HTML object>"
            ],
            "text/html": [
              "<span class=\"tex2jax_ignore\"><div class=\"entities\" style=\"line-height: 2.5; direction: ltr\">Hi, my name is \n",
              "<mark class=\"entity\" style=\"background: #aa9cfc; padding: 0.45em 0.6em; margin: 0 0.25em; line-height: 1; border-radius: 0.35em;\">\n",
              "    Vincent\n",
              "    <span style=\"font-size: 0.8em; font-weight: bold; line-height: 1; border-radius: 0.35em; vertical-align: middle; margin-left: 0.5rem\">PERSON</span>\n",
              "</mark>\n",
              ". I have a few cats in my house and my house is in \n",
              "<mark class=\"entity\" style=\"background: #feca74; padding: 0.45em 0.6em; margin: 0 0.25em; line-height: 1; border-radius: 0.35em;\">\n",
              "    Haarlem\n",
              "    <span style=\"font-size: 0.8em; font-weight: bold; line-height: 1; border-radius: 0.35em; vertical-align: middle; margin-left: 0.5rem\">GPE</span>\n",
              "</mark>\n",
              " which is in the \n",
              "<mark class=\"entity\" style=\"background: #feca74; padding: 0.45em 0.6em; margin: 0 0.25em; line-height: 1; border-radius: 0.35em;\">\n",
              "    Netherlands\n",
              "    <span style=\"font-size: 0.8em; font-weight: bold; line-height: 1; border-radius: 0.35em; vertical-align: middle; margin-left: 0.5rem\">GPE</span>\n",
              "</mark>\n",
              ".</div></span>"
            ]
          },
          "metadata": {}
        }
      ]
    },
    {
      "cell_type": "code",
      "source": [
        "spacy.explain('GPE')"
      ],
      "metadata": {
        "colab": {
          "base_uri": "https://localhost:8080/",
          "height": 35
        },
        "id": "106BLuKx7eRo",
        "outputId": "0ee9b5dd-d673-415a-e183-59b7f15aa02b"
      },
      "execution_count": 52,
      "outputs": [
        {
          "output_type": "execute_result",
          "data": {
            "text/plain": [
              "'Countries, cities, states'"
            ],
            "application/vnd.google.colaboratory.intrinsic+json": {
              "type": "string"
            }
          },
          "metadata": {},
          "execution_count": 52
        }
      ]
    },
    {
      "cell_type": "code",
      "source": [
        "displacy.render(nlp(\"Hi, my name is Vincent Warmerdam. I have a few cats in my house and my house is in Haarlem which is in the Netherlands.\"), style='ent')"
      ],
      "metadata": {
        "colab": {
          "base_uri": "https://localhost:8080/",
          "height": 52
        },
        "id": "DZa3R-HRBeRX",
        "outputId": "24a67693-24aa-48ee-9560-73c86a503e05"
      },
      "execution_count": 53,
      "outputs": [
        {
          "output_type": "display_data",
          "data": {
            "text/plain": [
              "<IPython.core.display.HTML object>"
            ],
            "text/html": [
              "<span class=\"tex2jax_ignore\"><div class=\"entities\" style=\"line-height: 2.5; direction: ltr\">Hi, my name is \n",
              "<mark class=\"entity\" style=\"background: #aa9cfc; padding: 0.45em 0.6em; margin: 0 0.25em; line-height: 1; border-radius: 0.35em;\">\n",
              "    Vincent Warmerdam\n",
              "    <span style=\"font-size: 0.8em; font-weight: bold; line-height: 1; border-radius: 0.35em; vertical-align: middle; margin-left: 0.5rem\">PERSON</span>\n",
              "</mark>\n",
              ". I have a few cats in my house and my house is in \n",
              "<mark class=\"entity\" style=\"background: #feca74; padding: 0.45em 0.6em; margin: 0 0.25em; line-height: 1; border-radius: 0.35em;\">\n",
              "    Haarlem\n",
              "    <span style=\"font-size: 0.8em; font-weight: bold; line-height: 1; border-radius: 0.35em; vertical-align: middle; margin-left: 0.5rem\">GPE</span>\n",
              "</mark>\n",
              " which is in the \n",
              "<mark class=\"entity\" style=\"background: #feca74; padding: 0.45em 0.6em; margin: 0 0.25em; line-height: 1; border-radius: 0.35em;\">\n",
              "    Netherlands\n",
              "    <span style=\"font-size: 0.8em; font-weight: bold; line-height: 1; border-radius: 0.35em; vertical-align: middle; margin-left: 0.5rem\">GPE</span>\n",
              "</mark>\n",
              ".</div></span>"
            ]
          },
          "metadata": {}
        }
      ]
    },
    {
      "cell_type": "code",
      "source": [
        "doc = nlp(\"I want to go and learn Python.\")"
      ],
      "metadata": {
        "id": "-qpAmieJByBf"
      },
      "execution_count": 54,
      "outputs": []
    },
    {
      "cell_type": "code",
      "source": [
        "for tok in doc:\n",
        "  print(tok, tok.pos_, tok.ent_type_)"
      ],
      "metadata": {
        "colab": {
          "base_uri": "https://localhost:8080/"
        },
        "id": "Z4AC4rjUB5C3",
        "outputId": "ff2cc6d5-8b08-4d74-f8b7-556c81c79e15"
      },
      "execution_count": 55,
      "outputs": [
        {
          "output_type": "stream",
          "name": "stdout",
          "text": [
            "I PRON \n",
            "want VERB \n",
            "to PART \n",
            "go VERB \n",
            "and CCONJ \n",
            "learn VERB \n",
            "Python PROPN PRODUCT\n",
            ". PUNCT \n"
          ]
        }
      ]
    },
    {
      "cell_type": "code",
      "source": [
        "doc.ents"
      ],
      "metadata": {
        "colab": {
          "base_uri": "https://localhost:8080/"
        },
        "id": "eemknzXIB8Jf",
        "outputId": "e15e2945-4d9c-41a7-ca8c-d71dcf524169"
      },
      "execution_count": 56,
      "outputs": [
        {
          "output_type": "execute_result",
          "data": {
            "text/plain": [
              "(Python,)"
            ]
          },
          "metadata": {},
          "execution_count": 56
        }
      ]
    },
    {
      "cell_type": "code",
      "source": [
        "doc = nlp(\"I really enjoy programming in the Go language.\")"
      ],
      "metadata": {
        "id": "Ok2lbfeBCF3X"
      },
      "execution_count": 57,
      "outputs": []
    },
    {
      "cell_type": "code",
      "source": [
        "for tok in doc:\n",
        "  print(tok, tok.pos_, tok.ent_type_)"
      ],
      "metadata": {
        "colab": {
          "base_uri": "https://localhost:8080/"
        },
        "id": "GW4gkcAKCHB_",
        "outputId": "08a45f65-aa1e-418c-900c-f378363cded9"
      },
      "execution_count": 58,
      "outputs": [
        {
          "output_type": "stream",
          "name": "stdout",
          "text": [
            "I PRON \n",
            "really ADV \n",
            "enjoy VERB \n",
            "programming NOUN \n",
            "in ADP \n",
            "the DET \n",
            "Go PROPN \n",
            "language NOUN \n",
            ". PUNCT \n"
          ]
        }
      ]
    },
    {
      "cell_type": "code",
      "source": [
        "list(doc.noun_chunks)"
      ],
      "metadata": {
        "colab": {
          "base_uri": "https://localhost:8080/"
        },
        "id": "WdwUE6mdCIBP",
        "outputId": "801c9fdc-29ac-4c05-a985-33d7f682ca5d"
      },
      "execution_count": 60,
      "outputs": [
        {
          "output_type": "execute_result",
          "data": {
            "text/plain": [
              "[I, programming, the Go language]"
            ]
          },
          "metadata": {},
          "execution_count": 60
        }
      ]
    },
    {
      "cell_type": "code",
      "source": [
        "displacy.render(doc)"
      ],
      "metadata": {
        "colab": {
          "base_uri": "https://localhost:8080/",
          "height": 421
        },
        "id": "2q0xupFvCd-H",
        "outputId": "0b2a5258-8fff-45e9-948d-21b9c8fe8451"
      },
      "execution_count": 62,
      "outputs": [
        {
          "output_type": "display_data",
          "data": {
            "text/plain": [
              "<IPython.core.display.HTML object>"
            ],
            "text/html": [
              "<span class=\"tex2jax_ignore\"><svg xmlns=\"http://www.w3.org/2000/svg\" xmlns:xlink=\"http://www.w3.org/1999/xlink\" xml:lang=\"en\" id=\"e47c974f80f14c75917bfcf1820f1162-0\" class=\"displacy\" width=\"1450\" height=\"399.5\" direction=\"ltr\" style=\"max-width: none; height: 399.5px; color: #000000; background: #ffffff; font-family: Arial; direction: ltr\">\n",
              "<text class=\"displacy-token\" fill=\"currentColor\" text-anchor=\"middle\" y=\"309.5\">\n",
              "    <tspan class=\"displacy-word\" fill=\"currentColor\" x=\"50\">I</tspan>\n",
              "    <tspan class=\"displacy-tag\" dy=\"2em\" fill=\"currentColor\" x=\"50\">PRON</tspan>\n",
              "</text>\n",
              "\n",
              "<text class=\"displacy-token\" fill=\"currentColor\" text-anchor=\"middle\" y=\"309.5\">\n",
              "    <tspan class=\"displacy-word\" fill=\"currentColor\" x=\"225\">really</tspan>\n",
              "    <tspan class=\"displacy-tag\" dy=\"2em\" fill=\"currentColor\" x=\"225\">ADV</tspan>\n",
              "</text>\n",
              "\n",
              "<text class=\"displacy-token\" fill=\"currentColor\" text-anchor=\"middle\" y=\"309.5\">\n",
              "    <tspan class=\"displacy-word\" fill=\"currentColor\" x=\"400\">enjoy</tspan>\n",
              "    <tspan class=\"displacy-tag\" dy=\"2em\" fill=\"currentColor\" x=\"400\">VERB</tspan>\n",
              "</text>\n",
              "\n",
              "<text class=\"displacy-token\" fill=\"currentColor\" text-anchor=\"middle\" y=\"309.5\">\n",
              "    <tspan class=\"displacy-word\" fill=\"currentColor\" x=\"575\">programming</tspan>\n",
              "    <tspan class=\"displacy-tag\" dy=\"2em\" fill=\"currentColor\" x=\"575\">NOUN</tspan>\n",
              "</text>\n",
              "\n",
              "<text class=\"displacy-token\" fill=\"currentColor\" text-anchor=\"middle\" y=\"309.5\">\n",
              "    <tspan class=\"displacy-word\" fill=\"currentColor\" x=\"750\">in</tspan>\n",
              "    <tspan class=\"displacy-tag\" dy=\"2em\" fill=\"currentColor\" x=\"750\">ADP</tspan>\n",
              "</text>\n",
              "\n",
              "<text class=\"displacy-token\" fill=\"currentColor\" text-anchor=\"middle\" y=\"309.5\">\n",
              "    <tspan class=\"displacy-word\" fill=\"currentColor\" x=\"925\">the</tspan>\n",
              "    <tspan class=\"displacy-tag\" dy=\"2em\" fill=\"currentColor\" x=\"925\">DET</tspan>\n",
              "</text>\n",
              "\n",
              "<text class=\"displacy-token\" fill=\"currentColor\" text-anchor=\"middle\" y=\"309.5\">\n",
              "    <tspan class=\"displacy-word\" fill=\"currentColor\" x=\"1100\">Go</tspan>\n",
              "    <tspan class=\"displacy-tag\" dy=\"2em\" fill=\"currentColor\" x=\"1100\">PROPN</tspan>\n",
              "</text>\n",
              "\n",
              "<text class=\"displacy-token\" fill=\"currentColor\" text-anchor=\"middle\" y=\"309.5\">\n",
              "    <tspan class=\"displacy-word\" fill=\"currentColor\" x=\"1275\">language.</tspan>\n",
              "    <tspan class=\"displacy-tag\" dy=\"2em\" fill=\"currentColor\" x=\"1275\">NOUN</tspan>\n",
              "</text>\n",
              "\n",
              "<g class=\"displacy-arrow\">\n",
              "    <path class=\"displacy-arc\" id=\"arrow-e47c974f80f14c75917bfcf1820f1162-0-0\" stroke-width=\"2px\" d=\"M70,264.5 C70,89.5 395.0,89.5 395.0,264.5\" fill=\"none\" stroke=\"currentColor\"/>\n",
              "    <text dy=\"1.25em\" style=\"font-size: 0.8em; letter-spacing: 1px\">\n",
              "        <textPath xlink:href=\"#arrow-e47c974f80f14c75917bfcf1820f1162-0-0\" class=\"displacy-label\" startOffset=\"50%\" side=\"left\" fill=\"currentColor\" text-anchor=\"middle\">nsubj</textPath>\n",
              "    </text>\n",
              "    <path class=\"displacy-arrowhead\" d=\"M70,266.5 L62,254.5 78,254.5\" fill=\"currentColor\"/>\n",
              "</g>\n",
              "\n",
              "<g class=\"displacy-arrow\">\n",
              "    <path class=\"displacy-arc\" id=\"arrow-e47c974f80f14c75917bfcf1820f1162-0-1\" stroke-width=\"2px\" d=\"M245,264.5 C245,177.0 390.0,177.0 390.0,264.5\" fill=\"none\" stroke=\"currentColor\"/>\n",
              "    <text dy=\"1.25em\" style=\"font-size: 0.8em; letter-spacing: 1px\">\n",
              "        <textPath xlink:href=\"#arrow-e47c974f80f14c75917bfcf1820f1162-0-1\" class=\"displacy-label\" startOffset=\"50%\" side=\"left\" fill=\"currentColor\" text-anchor=\"middle\">advmod</textPath>\n",
              "    </text>\n",
              "    <path class=\"displacy-arrowhead\" d=\"M245,266.5 L237,254.5 253,254.5\" fill=\"currentColor\"/>\n",
              "</g>\n",
              "\n",
              "<g class=\"displacy-arrow\">\n",
              "    <path class=\"displacy-arc\" id=\"arrow-e47c974f80f14c75917bfcf1820f1162-0-2\" stroke-width=\"2px\" d=\"M420,264.5 C420,177.0 565.0,177.0 565.0,264.5\" fill=\"none\" stroke=\"currentColor\"/>\n",
              "    <text dy=\"1.25em\" style=\"font-size: 0.8em; letter-spacing: 1px\">\n",
              "        <textPath xlink:href=\"#arrow-e47c974f80f14c75917bfcf1820f1162-0-2\" class=\"displacy-label\" startOffset=\"50%\" side=\"left\" fill=\"currentColor\" text-anchor=\"middle\">dobj</textPath>\n",
              "    </text>\n",
              "    <path class=\"displacy-arrowhead\" d=\"M565.0,266.5 L573.0,254.5 557.0,254.5\" fill=\"currentColor\"/>\n",
              "</g>\n",
              "\n",
              "<g class=\"displacy-arrow\">\n",
              "    <path class=\"displacy-arc\" id=\"arrow-e47c974f80f14c75917bfcf1820f1162-0-3\" stroke-width=\"2px\" d=\"M595,264.5 C595,177.0 740.0,177.0 740.0,264.5\" fill=\"none\" stroke=\"currentColor\"/>\n",
              "    <text dy=\"1.25em\" style=\"font-size: 0.8em; letter-spacing: 1px\">\n",
              "        <textPath xlink:href=\"#arrow-e47c974f80f14c75917bfcf1820f1162-0-3\" class=\"displacy-label\" startOffset=\"50%\" side=\"left\" fill=\"currentColor\" text-anchor=\"middle\">prep</textPath>\n",
              "    </text>\n",
              "    <path class=\"displacy-arrowhead\" d=\"M740.0,266.5 L748.0,254.5 732.0,254.5\" fill=\"currentColor\"/>\n",
              "</g>\n",
              "\n",
              "<g class=\"displacy-arrow\">\n",
              "    <path class=\"displacy-arc\" id=\"arrow-e47c974f80f14c75917bfcf1820f1162-0-4\" stroke-width=\"2px\" d=\"M945,264.5 C945,89.5 1270.0,89.5 1270.0,264.5\" fill=\"none\" stroke=\"currentColor\"/>\n",
              "    <text dy=\"1.25em\" style=\"font-size: 0.8em; letter-spacing: 1px\">\n",
              "        <textPath xlink:href=\"#arrow-e47c974f80f14c75917bfcf1820f1162-0-4\" class=\"displacy-label\" startOffset=\"50%\" side=\"left\" fill=\"currentColor\" text-anchor=\"middle\">det</textPath>\n",
              "    </text>\n",
              "    <path class=\"displacy-arrowhead\" d=\"M945,266.5 L937,254.5 953,254.5\" fill=\"currentColor\"/>\n",
              "</g>\n",
              "\n",
              "<g class=\"displacy-arrow\">\n",
              "    <path class=\"displacy-arc\" id=\"arrow-e47c974f80f14c75917bfcf1820f1162-0-5\" stroke-width=\"2px\" d=\"M1120,264.5 C1120,177.0 1265.0,177.0 1265.0,264.5\" fill=\"none\" stroke=\"currentColor\"/>\n",
              "    <text dy=\"1.25em\" style=\"font-size: 0.8em; letter-spacing: 1px\">\n",
              "        <textPath xlink:href=\"#arrow-e47c974f80f14c75917bfcf1820f1162-0-5\" class=\"displacy-label\" startOffset=\"50%\" side=\"left\" fill=\"currentColor\" text-anchor=\"middle\">compound</textPath>\n",
              "    </text>\n",
              "    <path class=\"displacy-arrowhead\" d=\"M1120,266.5 L1112,254.5 1128,254.5\" fill=\"currentColor\"/>\n",
              "</g>\n",
              "\n",
              "<g class=\"displacy-arrow\">\n",
              "    <path class=\"displacy-arc\" id=\"arrow-e47c974f80f14c75917bfcf1820f1162-0-6\" stroke-width=\"2px\" d=\"M770,264.5 C770,2.0 1275.0,2.0 1275.0,264.5\" fill=\"none\" stroke=\"currentColor\"/>\n",
              "    <text dy=\"1.25em\" style=\"font-size: 0.8em; letter-spacing: 1px\">\n",
              "        <textPath xlink:href=\"#arrow-e47c974f80f14c75917bfcf1820f1162-0-6\" class=\"displacy-label\" startOffset=\"50%\" side=\"left\" fill=\"currentColor\" text-anchor=\"middle\">pobj</textPath>\n",
              "    </text>\n",
              "    <path class=\"displacy-arrowhead\" d=\"M1275.0,266.5 L1283.0,254.5 1267.0,254.5\" fill=\"currentColor\"/>\n",
              "</g>\n",
              "</svg></span>"
            ]
          },
          "metadata": {}
        }
      ]
    },
    {
      "cell_type": "code",
      "source": [
        "doc = nlp(\"I really enjoy programming in the python language.\")"
      ],
      "metadata": {
        "id": "qom6t-uSCzSm"
      },
      "execution_count": 63,
      "outputs": []
    },
    {
      "cell_type": "code",
      "source": [
        "for tok in doc:\n",
        "  print(tok, tok.pos_, tok.ent_type_)"
      ],
      "metadata": {
        "colab": {
          "base_uri": "https://localhost:8080/"
        },
        "id": "fWCOX-EWC05f",
        "outputId": "966af6e5-83c8-4714-85ec-d7c18da6f207"
      },
      "execution_count": 64,
      "outputs": [
        {
          "output_type": "stream",
          "name": "stdout",
          "text": [
            "I PRON \n",
            "really ADV \n",
            "enjoy VERB \n",
            "programming NOUN \n",
            "in ADP \n",
            "the DET \n",
            "python NOUN \n",
            "language NOUN \n",
            ". PUNCT \n"
          ]
        }
      ]
    },
    {
      "cell_type": "code",
      "source": [
        "list(doc.noun_chunks)"
      ],
      "metadata": {
        "colab": {
          "base_uri": "https://localhost:8080/"
        },
        "id": "m8P91DnqC2qO",
        "outputId": "0efb2366-53ec-41dd-f331-d87aedde7de9"
      },
      "execution_count": 65,
      "outputs": [
        {
          "output_type": "execute_result",
          "data": {
            "text/plain": [
              "[I, programming, the python language]"
            ]
          },
          "metadata": {},
          "execution_count": 65
        }
      ]
    },
    {
      "cell_type": "code",
      "source": [
        "displacy.render(doc)"
      ],
      "metadata": {
        "colab": {
          "base_uri": "https://localhost:8080/",
          "height": 421
        },
        "id": "j4LQr57iC3nv",
        "outputId": "01ebd5c6-889c-405e-a9f4-d602c9ac628b"
      },
      "execution_count": 66,
      "outputs": [
        {
          "output_type": "display_data",
          "data": {
            "text/plain": [
              "<IPython.core.display.HTML object>"
            ],
            "text/html": [
              "<span class=\"tex2jax_ignore\"><svg xmlns=\"http://www.w3.org/2000/svg\" xmlns:xlink=\"http://www.w3.org/1999/xlink\" xml:lang=\"en\" id=\"1d99afa47a3c4998a38a1e287cca1335-0\" class=\"displacy\" width=\"1450\" height=\"399.5\" direction=\"ltr\" style=\"max-width: none; height: 399.5px; color: #000000; background: #ffffff; font-family: Arial; direction: ltr\">\n",
              "<text class=\"displacy-token\" fill=\"currentColor\" text-anchor=\"middle\" y=\"309.5\">\n",
              "    <tspan class=\"displacy-word\" fill=\"currentColor\" x=\"50\">I</tspan>\n",
              "    <tspan class=\"displacy-tag\" dy=\"2em\" fill=\"currentColor\" x=\"50\">PRON</tspan>\n",
              "</text>\n",
              "\n",
              "<text class=\"displacy-token\" fill=\"currentColor\" text-anchor=\"middle\" y=\"309.5\">\n",
              "    <tspan class=\"displacy-word\" fill=\"currentColor\" x=\"225\">really</tspan>\n",
              "    <tspan class=\"displacy-tag\" dy=\"2em\" fill=\"currentColor\" x=\"225\">ADV</tspan>\n",
              "</text>\n",
              "\n",
              "<text class=\"displacy-token\" fill=\"currentColor\" text-anchor=\"middle\" y=\"309.5\">\n",
              "    <tspan class=\"displacy-word\" fill=\"currentColor\" x=\"400\">enjoy</tspan>\n",
              "    <tspan class=\"displacy-tag\" dy=\"2em\" fill=\"currentColor\" x=\"400\">VERB</tspan>\n",
              "</text>\n",
              "\n",
              "<text class=\"displacy-token\" fill=\"currentColor\" text-anchor=\"middle\" y=\"309.5\">\n",
              "    <tspan class=\"displacy-word\" fill=\"currentColor\" x=\"575\">programming</tspan>\n",
              "    <tspan class=\"displacy-tag\" dy=\"2em\" fill=\"currentColor\" x=\"575\">NOUN</tspan>\n",
              "</text>\n",
              "\n",
              "<text class=\"displacy-token\" fill=\"currentColor\" text-anchor=\"middle\" y=\"309.5\">\n",
              "    <tspan class=\"displacy-word\" fill=\"currentColor\" x=\"750\">in</tspan>\n",
              "    <tspan class=\"displacy-tag\" dy=\"2em\" fill=\"currentColor\" x=\"750\">ADP</tspan>\n",
              "</text>\n",
              "\n",
              "<text class=\"displacy-token\" fill=\"currentColor\" text-anchor=\"middle\" y=\"309.5\">\n",
              "    <tspan class=\"displacy-word\" fill=\"currentColor\" x=\"925\">the</tspan>\n",
              "    <tspan class=\"displacy-tag\" dy=\"2em\" fill=\"currentColor\" x=\"925\">DET</tspan>\n",
              "</text>\n",
              "\n",
              "<text class=\"displacy-token\" fill=\"currentColor\" text-anchor=\"middle\" y=\"309.5\">\n",
              "    <tspan class=\"displacy-word\" fill=\"currentColor\" x=\"1100\">python</tspan>\n",
              "    <tspan class=\"displacy-tag\" dy=\"2em\" fill=\"currentColor\" x=\"1100\">NOUN</tspan>\n",
              "</text>\n",
              "\n",
              "<text class=\"displacy-token\" fill=\"currentColor\" text-anchor=\"middle\" y=\"309.5\">\n",
              "    <tspan class=\"displacy-word\" fill=\"currentColor\" x=\"1275\">language.</tspan>\n",
              "    <tspan class=\"displacy-tag\" dy=\"2em\" fill=\"currentColor\" x=\"1275\">NOUN</tspan>\n",
              "</text>\n",
              "\n",
              "<g class=\"displacy-arrow\">\n",
              "    <path class=\"displacy-arc\" id=\"arrow-1d99afa47a3c4998a38a1e287cca1335-0-0\" stroke-width=\"2px\" d=\"M70,264.5 C70,89.5 395.0,89.5 395.0,264.5\" fill=\"none\" stroke=\"currentColor\"/>\n",
              "    <text dy=\"1.25em\" style=\"font-size: 0.8em; letter-spacing: 1px\">\n",
              "        <textPath xlink:href=\"#arrow-1d99afa47a3c4998a38a1e287cca1335-0-0\" class=\"displacy-label\" startOffset=\"50%\" side=\"left\" fill=\"currentColor\" text-anchor=\"middle\">nsubj</textPath>\n",
              "    </text>\n",
              "    <path class=\"displacy-arrowhead\" d=\"M70,266.5 L62,254.5 78,254.5\" fill=\"currentColor\"/>\n",
              "</g>\n",
              "\n",
              "<g class=\"displacy-arrow\">\n",
              "    <path class=\"displacy-arc\" id=\"arrow-1d99afa47a3c4998a38a1e287cca1335-0-1\" stroke-width=\"2px\" d=\"M245,264.5 C245,177.0 390.0,177.0 390.0,264.5\" fill=\"none\" stroke=\"currentColor\"/>\n",
              "    <text dy=\"1.25em\" style=\"font-size: 0.8em; letter-spacing: 1px\">\n",
              "        <textPath xlink:href=\"#arrow-1d99afa47a3c4998a38a1e287cca1335-0-1\" class=\"displacy-label\" startOffset=\"50%\" side=\"left\" fill=\"currentColor\" text-anchor=\"middle\">advmod</textPath>\n",
              "    </text>\n",
              "    <path class=\"displacy-arrowhead\" d=\"M245,266.5 L237,254.5 253,254.5\" fill=\"currentColor\"/>\n",
              "</g>\n",
              "\n",
              "<g class=\"displacy-arrow\">\n",
              "    <path class=\"displacy-arc\" id=\"arrow-1d99afa47a3c4998a38a1e287cca1335-0-2\" stroke-width=\"2px\" d=\"M420,264.5 C420,177.0 565.0,177.0 565.0,264.5\" fill=\"none\" stroke=\"currentColor\"/>\n",
              "    <text dy=\"1.25em\" style=\"font-size: 0.8em; letter-spacing: 1px\">\n",
              "        <textPath xlink:href=\"#arrow-1d99afa47a3c4998a38a1e287cca1335-0-2\" class=\"displacy-label\" startOffset=\"50%\" side=\"left\" fill=\"currentColor\" text-anchor=\"middle\">dobj</textPath>\n",
              "    </text>\n",
              "    <path class=\"displacy-arrowhead\" d=\"M565.0,266.5 L573.0,254.5 557.0,254.5\" fill=\"currentColor\"/>\n",
              "</g>\n",
              "\n",
              "<g class=\"displacy-arrow\">\n",
              "    <path class=\"displacy-arc\" id=\"arrow-1d99afa47a3c4998a38a1e287cca1335-0-3\" stroke-width=\"2px\" d=\"M595,264.5 C595,177.0 740.0,177.0 740.0,264.5\" fill=\"none\" stroke=\"currentColor\"/>\n",
              "    <text dy=\"1.25em\" style=\"font-size: 0.8em; letter-spacing: 1px\">\n",
              "        <textPath xlink:href=\"#arrow-1d99afa47a3c4998a38a1e287cca1335-0-3\" class=\"displacy-label\" startOffset=\"50%\" side=\"left\" fill=\"currentColor\" text-anchor=\"middle\">prep</textPath>\n",
              "    </text>\n",
              "    <path class=\"displacy-arrowhead\" d=\"M740.0,266.5 L748.0,254.5 732.0,254.5\" fill=\"currentColor\"/>\n",
              "</g>\n",
              "\n",
              "<g class=\"displacy-arrow\">\n",
              "    <path class=\"displacy-arc\" id=\"arrow-1d99afa47a3c4998a38a1e287cca1335-0-4\" stroke-width=\"2px\" d=\"M945,264.5 C945,89.5 1270.0,89.5 1270.0,264.5\" fill=\"none\" stroke=\"currentColor\"/>\n",
              "    <text dy=\"1.25em\" style=\"font-size: 0.8em; letter-spacing: 1px\">\n",
              "        <textPath xlink:href=\"#arrow-1d99afa47a3c4998a38a1e287cca1335-0-4\" class=\"displacy-label\" startOffset=\"50%\" side=\"left\" fill=\"currentColor\" text-anchor=\"middle\">det</textPath>\n",
              "    </text>\n",
              "    <path class=\"displacy-arrowhead\" d=\"M945,266.5 L937,254.5 953,254.5\" fill=\"currentColor\"/>\n",
              "</g>\n",
              "\n",
              "<g class=\"displacy-arrow\">\n",
              "    <path class=\"displacy-arc\" id=\"arrow-1d99afa47a3c4998a38a1e287cca1335-0-5\" stroke-width=\"2px\" d=\"M1120,264.5 C1120,177.0 1265.0,177.0 1265.0,264.5\" fill=\"none\" stroke=\"currentColor\"/>\n",
              "    <text dy=\"1.25em\" style=\"font-size: 0.8em; letter-spacing: 1px\">\n",
              "        <textPath xlink:href=\"#arrow-1d99afa47a3c4998a38a1e287cca1335-0-5\" class=\"displacy-label\" startOffset=\"50%\" side=\"left\" fill=\"currentColor\" text-anchor=\"middle\">compound</textPath>\n",
              "    </text>\n",
              "    <path class=\"displacy-arrowhead\" d=\"M1120,266.5 L1112,254.5 1128,254.5\" fill=\"currentColor\"/>\n",
              "</g>\n",
              "\n",
              "<g class=\"displacy-arrow\">\n",
              "    <path class=\"displacy-arc\" id=\"arrow-1d99afa47a3c4998a38a1e287cca1335-0-6\" stroke-width=\"2px\" d=\"M770,264.5 C770,2.0 1275.0,2.0 1275.0,264.5\" fill=\"none\" stroke=\"currentColor\"/>\n",
              "    <text dy=\"1.25em\" style=\"font-size: 0.8em; letter-spacing: 1px\">\n",
              "        <textPath xlink:href=\"#arrow-1d99afa47a3c4998a38a1e287cca1335-0-6\" class=\"displacy-label\" startOffset=\"50%\" side=\"left\" fill=\"currentColor\" text-anchor=\"middle\">pobj</textPath>\n",
              "    </text>\n",
              "    <path class=\"displacy-arrowhead\" d=\"M1275.0,266.5 L1283.0,254.5 1267.0,254.5\" fill=\"currentColor\"/>\n",
              "</g>\n",
              "</svg></span>"
            ]
          },
          "metadata": {}
        }
      ]
    },
    {
      "cell_type": "code",
      "source": [
        "doc = nlp(\"I really enjoy programming in the python language 😊.\")"
      ],
      "metadata": {
        "id": "WoTLbHNxDI4-"
      },
      "execution_count": 67,
      "outputs": []
    },
    {
      "cell_type": "code",
      "source": [
        "for tok in doc:\n",
        "  print(tok, tok.pos_, tok.ent_type_)"
      ],
      "metadata": {
        "colab": {
          "base_uri": "https://localhost:8080/"
        },
        "id": "duaLpJB9J0Ru",
        "outputId": "f0c43252-56b8-45a7-964d-89ee29e65a58"
      },
      "execution_count": 68,
      "outputs": [
        {
          "output_type": "stream",
          "name": "stdout",
          "text": [
            "I PRON \n",
            "really ADV \n",
            "enjoy VERB \n",
            "programming NOUN \n",
            "in ADP \n",
            "the DET \n",
            "python NOUN \n",
            "language NOUN \n",
            "😊 NOUN \n",
            ". PUNCT \n"
          ]
        }
      ]
    },
    {
      "cell_type": "code",
      "source": [
        "doc = nlp(\"I really enjoy 👩‍💻 in the python language 😊.\")"
      ],
      "metadata": {
        "id": "LamGUjTdJSjW"
      },
      "execution_count": 69,
      "outputs": []
    },
    {
      "cell_type": "code",
      "source": [
        "for tok in doc:\n",
        "  print(tok, tok.pos_, tok.ent_type_)"
      ],
      "metadata": {
        "colab": {
          "base_uri": "https://localhost:8080/"
        },
        "id": "-_ICEKCPJ06W",
        "outputId": "bedf8bbc-aeb2-4569-ed29-a9fb2689b6a3"
      },
      "execution_count": 70,
      "outputs": [
        {
          "output_type": "stream",
          "name": "stdout",
          "text": [
            "I PRON \n",
            "really ADV \n",
            "enjoy VERB \n",
            "👩 NUM \n",
            "‍ PUNCT \n",
            "💻 ADP \n",
            "in ADP \n",
            "the DET \n",
            "python NOUN \n",
            "language NOUN \n",
            "😊 NOUN \n",
            ". PUNCT \n"
          ]
        }
      ]
    },
    {
      "cell_type": "code",
      "source": [
        "doc = nlp(\"I **really** enjoy programming in the python language.\")"
      ],
      "metadata": {
        "id": "NmQpd1l1JeUW"
      },
      "execution_count": 71,
      "outputs": []
    },
    {
      "cell_type": "code",
      "source": [
        "for tok in doc:\n",
        "  print(tok, tok.pos_, tok.ent_type_)"
      ],
      "metadata": {
        "colab": {
          "base_uri": "https://localhost:8080/"
        },
        "id": "6a7tlhbkDKiP",
        "outputId": "a2668ef8-9b9b-4b45-a17a-ae15cf0741f4"
      },
      "execution_count": 72,
      "outputs": [
        {
          "output_type": "stream",
          "name": "stdout",
          "text": [
            "I PRON \n",
            "* VERB \n",
            "* PUNCT \n",
            "really ADV \n",
            "* PUNCT \n",
            "* AUX \n",
            "enjoy AUX \n",
            "programming NOUN \n",
            "in ADP \n",
            "the DET \n",
            "python NOUN \n",
            "language NOUN \n",
            ". PUNCT \n"
          ]
        }
      ]
    },
    {
      "cell_type": "code",
      "source": [
        "%%time\n",
        "doc = nlp(\"Hi there. My name is Vincent. His name is Barry and his cat is Noa.\")"
      ],
      "metadata": {
        "colab": {
          "base_uri": "https://localhost:8080/"
        },
        "id": "51NRtJwsDLv2",
        "outputId": "6cdafdad-4123-4204-c010-714601f97ac1"
      },
      "execution_count": 75,
      "outputs": [
        {
          "output_type": "stream",
          "name": "stdout",
          "text": [
            "CPU times: user 18.4 ms, sys: 0 ns, total: 18.4 ms\n",
            "Wall time: 18.2 ms\n"
          ]
        }
      ]
    },
    {
      "cell_type": "code",
      "source": [
        "%%time\n",
        "texts = [\"Hi there. My name is Vincent. His name is Barry and his cat is Noa.\"] * 100\n",
        "doc = nlp.pipe(texts)"
      ],
      "metadata": {
        "colab": {
          "base_uri": "https://localhost:8080/"
        },
        "id": "AOmUDLZQKmtm",
        "outputId": "aa4f97d7-f5c4-4ee1-de37-92d1fdb1baf0"
      },
      "execution_count": 77,
      "outputs": [
        {
          "output_type": "stream",
          "name": "stdout",
          "text": [
            "CPU times: user 34 µs, sys: 0 ns, total: 34 µs\n",
            "Wall time: 37.4 µs\n"
          ]
        }
      ]
    },
    {
      "cell_type": "code",
      "source": [
        "%%time\n",
        "texts = [\"Hi there. My name is Vincent. His name is Barry and his cat is Noa.\"] * 100\n",
        "[doc for doc in nlp.pipe(texts)]"
      ],
      "metadata": {
        "colab": {
          "base_uri": "https://localhost:8080/"
        },
        "id": "qI_SkvpwK76F",
        "outputId": "f551d156-c395-4c28-8cdb-f1f3f518f821"
      },
      "execution_count": 78,
      "outputs": [
        {
          "output_type": "stream",
          "name": "stdout",
          "text": [
            "CPU times: user 290 ms, sys: 6.98 ms, total: 297 ms\n",
            "Wall time: 301 ms\n"
          ]
        },
        {
          "output_type": "execute_result",
          "data": {
            "text/plain": [
              "[Hi there. My name is Vincent. His name is Barry and his cat is Noa.,\n",
              " Hi there. My name is Vincent. His name is Barry and his cat is Noa.,\n",
              " Hi there. My name is Vincent. His name is Barry and his cat is Noa.,\n",
              " Hi there. My name is Vincent. His name is Barry and his cat is Noa.,\n",
              " Hi there. My name is Vincent. His name is Barry and his cat is Noa.,\n",
              " Hi there. My name is Vincent. His name is Barry and his cat is Noa.,\n",
              " Hi there. My name is Vincent. His name is Barry and his cat is Noa.,\n",
              " Hi there. My name is Vincent. His name is Barry and his cat is Noa.,\n",
              " Hi there. My name is Vincent. His name is Barry and his cat is Noa.,\n",
              " Hi there. My name is Vincent. His name is Barry and his cat is Noa.,\n",
              " Hi there. My name is Vincent. His name is Barry and his cat is Noa.,\n",
              " Hi there. My name is Vincent. His name is Barry and his cat is Noa.,\n",
              " Hi there. My name is Vincent. His name is Barry and his cat is Noa.,\n",
              " Hi there. My name is Vincent. His name is Barry and his cat is Noa.,\n",
              " Hi there. My name is Vincent. His name is Barry and his cat is Noa.,\n",
              " Hi there. My name is Vincent. His name is Barry and his cat is Noa.,\n",
              " Hi there. My name is Vincent. His name is Barry and his cat is Noa.,\n",
              " Hi there. My name is Vincent. His name is Barry and his cat is Noa.,\n",
              " Hi there. My name is Vincent. His name is Barry and his cat is Noa.,\n",
              " Hi there. My name is Vincent. His name is Barry and his cat is Noa.,\n",
              " Hi there. My name is Vincent. His name is Barry and his cat is Noa.,\n",
              " Hi there. My name is Vincent. His name is Barry and his cat is Noa.,\n",
              " Hi there. My name is Vincent. His name is Barry and his cat is Noa.,\n",
              " Hi there. My name is Vincent. His name is Barry and his cat is Noa.,\n",
              " Hi there. My name is Vincent. His name is Barry and his cat is Noa.,\n",
              " Hi there. My name is Vincent. His name is Barry and his cat is Noa.,\n",
              " Hi there. My name is Vincent. His name is Barry and his cat is Noa.,\n",
              " Hi there. My name is Vincent. His name is Barry and his cat is Noa.,\n",
              " Hi there. My name is Vincent. His name is Barry and his cat is Noa.,\n",
              " Hi there. My name is Vincent. His name is Barry and his cat is Noa.,\n",
              " Hi there. My name is Vincent. His name is Barry and his cat is Noa.,\n",
              " Hi there. My name is Vincent. His name is Barry and his cat is Noa.,\n",
              " Hi there. My name is Vincent. His name is Barry and his cat is Noa.,\n",
              " Hi there. My name is Vincent. His name is Barry and his cat is Noa.,\n",
              " Hi there. My name is Vincent. His name is Barry and his cat is Noa.,\n",
              " Hi there. My name is Vincent. His name is Barry and his cat is Noa.,\n",
              " Hi there. My name is Vincent. His name is Barry and his cat is Noa.,\n",
              " Hi there. My name is Vincent. His name is Barry and his cat is Noa.,\n",
              " Hi there. My name is Vincent. His name is Barry and his cat is Noa.,\n",
              " Hi there. My name is Vincent. His name is Barry and his cat is Noa.,\n",
              " Hi there. My name is Vincent. His name is Barry and his cat is Noa.,\n",
              " Hi there. My name is Vincent. His name is Barry and his cat is Noa.,\n",
              " Hi there. My name is Vincent. His name is Barry and his cat is Noa.,\n",
              " Hi there. My name is Vincent. His name is Barry and his cat is Noa.,\n",
              " Hi there. My name is Vincent. His name is Barry and his cat is Noa.,\n",
              " Hi there. My name is Vincent. His name is Barry and his cat is Noa.,\n",
              " Hi there. My name is Vincent. His name is Barry and his cat is Noa.,\n",
              " Hi there. My name is Vincent. His name is Barry and his cat is Noa.,\n",
              " Hi there. My name is Vincent. His name is Barry and his cat is Noa.,\n",
              " Hi there. My name is Vincent. His name is Barry and his cat is Noa.,\n",
              " Hi there. My name is Vincent. His name is Barry and his cat is Noa.,\n",
              " Hi there. My name is Vincent. His name is Barry and his cat is Noa.,\n",
              " Hi there. My name is Vincent. His name is Barry and his cat is Noa.,\n",
              " Hi there. My name is Vincent. His name is Barry and his cat is Noa.,\n",
              " Hi there. My name is Vincent. His name is Barry and his cat is Noa.,\n",
              " Hi there. My name is Vincent. His name is Barry and his cat is Noa.,\n",
              " Hi there. My name is Vincent. His name is Barry and his cat is Noa.,\n",
              " Hi there. My name is Vincent. His name is Barry and his cat is Noa.,\n",
              " Hi there. My name is Vincent. His name is Barry and his cat is Noa.,\n",
              " Hi there. My name is Vincent. His name is Barry and his cat is Noa.,\n",
              " Hi there. My name is Vincent. His name is Barry and his cat is Noa.,\n",
              " Hi there. My name is Vincent. His name is Barry and his cat is Noa.,\n",
              " Hi there. My name is Vincent. His name is Barry and his cat is Noa.,\n",
              " Hi there. My name is Vincent. His name is Barry and his cat is Noa.,\n",
              " Hi there. My name is Vincent. His name is Barry and his cat is Noa.,\n",
              " Hi there. My name is Vincent. His name is Barry and his cat is Noa.,\n",
              " Hi there. My name is Vincent. His name is Barry and his cat is Noa.,\n",
              " Hi there. My name is Vincent. His name is Barry and his cat is Noa.,\n",
              " Hi there. My name is Vincent. His name is Barry and his cat is Noa.,\n",
              " Hi there. My name is Vincent. His name is Barry and his cat is Noa.,\n",
              " Hi there. My name is Vincent. His name is Barry and his cat is Noa.,\n",
              " Hi there. My name is Vincent. His name is Barry and his cat is Noa.,\n",
              " Hi there. My name is Vincent. His name is Barry and his cat is Noa.,\n",
              " Hi there. My name is Vincent. His name is Barry and his cat is Noa.,\n",
              " Hi there. My name is Vincent. His name is Barry and his cat is Noa.,\n",
              " Hi there. My name is Vincent. His name is Barry and his cat is Noa.,\n",
              " Hi there. My name is Vincent. His name is Barry and his cat is Noa.,\n",
              " Hi there. My name is Vincent. His name is Barry and his cat is Noa.,\n",
              " Hi there. My name is Vincent. His name is Barry and his cat is Noa.,\n",
              " Hi there. My name is Vincent. His name is Barry and his cat is Noa.,\n",
              " Hi there. My name is Vincent. His name is Barry and his cat is Noa.,\n",
              " Hi there. My name is Vincent. His name is Barry and his cat is Noa.,\n",
              " Hi there. My name is Vincent. His name is Barry and his cat is Noa.,\n",
              " Hi there. My name is Vincent. His name is Barry and his cat is Noa.,\n",
              " Hi there. My name is Vincent. His name is Barry and his cat is Noa.,\n",
              " Hi there. My name is Vincent. His name is Barry and his cat is Noa.,\n",
              " Hi there. My name is Vincent. His name is Barry and his cat is Noa.,\n",
              " Hi there. My name is Vincent. His name is Barry and his cat is Noa.,\n",
              " Hi there. My name is Vincent. His name is Barry and his cat is Noa.,\n",
              " Hi there. My name is Vincent. His name is Barry and his cat is Noa.,\n",
              " Hi there. My name is Vincent. His name is Barry and his cat is Noa.,\n",
              " Hi there. My name is Vincent. His name is Barry and his cat is Noa.,\n",
              " Hi there. My name is Vincent. His name is Barry and his cat is Noa.,\n",
              " Hi there. My name is Vincent. His name is Barry and his cat is Noa.,\n",
              " Hi there. My name is Vincent. His name is Barry and his cat is Noa.,\n",
              " Hi there. My name is Vincent. His name is Barry and his cat is Noa.,\n",
              " Hi there. My name is Vincent. His name is Barry and his cat is Noa.,\n",
              " Hi there. My name is Vincent. His name is Barry and his cat is Noa.,\n",
              " Hi there. My name is Vincent. His name is Barry and his cat is Noa.,\n",
              " Hi there. My name is Vincent. His name is Barry and his cat is Noa.]"
            ]
          },
          "metadata": {},
          "execution_count": 78
        }
      ]
    },
    {
      "cell_type": "code",
      "source": [
        "%%time\n",
        "texts = [\"Hi there. My name is Vincent. His name is Barry and his cat is Noa.\"] * 1000\n",
        "[doc for doc in nlp.pipe(texts)]"
      ],
      "metadata": {
        "colab": {
          "base_uri": "https://localhost:8080/"
        },
        "id": "O6vCj7aHLH2l",
        "outputId": "40806c44-9443-4b2d-b79c-f5b682c29aec"
      },
      "execution_count": 79,
      "outputs": [
        {
          "output_type": "stream",
          "name": "stdout",
          "text": [
            "CPU times: user 2.02 s, sys: 50.4 ms, total: 2.07 s\n",
            "Wall time: 2.07 s\n"
          ]
        },
        {
          "output_type": "execute_result",
          "data": {
            "text/plain": [
              "[Hi there. My name is Vincent. His name is Barry and his cat is Noa.,\n",
              " Hi there. My name is Vincent. His name is Barry and his cat is Noa.,\n",
              " Hi there. My name is Vincent. His name is Barry and his cat is Noa.,\n",
              " Hi there. My name is Vincent. His name is Barry and his cat is Noa.,\n",
              " Hi there. My name is Vincent. His name is Barry and his cat is Noa.,\n",
              " Hi there. My name is Vincent. His name is Barry and his cat is Noa.,\n",
              " Hi there. My name is Vincent. His name is Barry and his cat is Noa.,\n",
              " Hi there. My name is Vincent. His name is Barry and his cat is Noa.,\n",
              " Hi there. My name is Vincent. His name is Barry and his cat is Noa.,\n",
              " Hi there. My name is Vincent. His name is Barry and his cat is Noa.,\n",
              " Hi there. My name is Vincent. His name is Barry and his cat is Noa.,\n",
              " Hi there. My name is Vincent. His name is Barry and his cat is Noa.,\n",
              " Hi there. My name is Vincent. His name is Barry and his cat is Noa.,\n",
              " Hi there. My name is Vincent. His name is Barry and his cat is Noa.,\n",
              " Hi there. My name is Vincent. His name is Barry and his cat is Noa.,\n",
              " Hi there. My name is Vincent. His name is Barry and his cat is Noa.,\n",
              " Hi there. My name is Vincent. His name is Barry and his cat is Noa.,\n",
              " Hi there. My name is Vincent. His name is Barry and his cat is Noa.,\n",
              " Hi there. My name is Vincent. His name is Barry and his cat is Noa.,\n",
              " Hi there. My name is Vincent. His name is Barry and his cat is Noa.,\n",
              " Hi there. My name is Vincent. His name is Barry and his cat is Noa.,\n",
              " Hi there. My name is Vincent. His name is Barry and his cat is Noa.,\n",
              " Hi there. My name is Vincent. His name is Barry and his cat is Noa.,\n",
              " Hi there. My name is Vincent. His name is Barry and his cat is Noa.,\n",
              " Hi there. My name is Vincent. His name is Barry and his cat is Noa.,\n",
              " Hi there. My name is Vincent. His name is Barry and his cat is Noa.,\n",
              " Hi there. My name is Vincent. His name is Barry and his cat is Noa.,\n",
              " Hi there. My name is Vincent. His name is Barry and his cat is Noa.,\n",
              " Hi there. My name is Vincent. His name is Barry and his cat is Noa.,\n",
              " Hi there. My name is Vincent. His name is Barry and his cat is Noa.,\n",
              " Hi there. My name is Vincent. His name is Barry and his cat is Noa.,\n",
              " Hi there. My name is Vincent. His name is Barry and his cat is Noa.,\n",
              " Hi there. My name is Vincent. His name is Barry and his cat is Noa.,\n",
              " Hi there. My name is Vincent. His name is Barry and his cat is Noa.,\n",
              " Hi there. My name is Vincent. His name is Barry and his cat is Noa.,\n",
              " Hi there. My name is Vincent. His name is Barry and his cat is Noa.,\n",
              " Hi there. My name is Vincent. His name is Barry and his cat is Noa.,\n",
              " Hi there. My name is Vincent. His name is Barry and his cat is Noa.,\n",
              " Hi there. My name is Vincent. His name is Barry and his cat is Noa.,\n",
              " Hi there. My name is Vincent. His name is Barry and his cat is Noa.,\n",
              " Hi there. My name is Vincent. His name is Barry and his cat is Noa.,\n",
              " Hi there. My name is Vincent. His name is Barry and his cat is Noa.,\n",
              " Hi there. My name is Vincent. His name is Barry and his cat is Noa.,\n",
              " Hi there. My name is Vincent. His name is Barry and his cat is Noa.,\n",
              " Hi there. My name is Vincent. His name is Barry and his cat is Noa.,\n",
              " Hi there. My name is Vincent. His name is Barry and his cat is Noa.,\n",
              " Hi there. My name is Vincent. His name is Barry and his cat is Noa.,\n",
              " Hi there. My name is Vincent. His name is Barry and his cat is Noa.,\n",
              " Hi there. My name is Vincent. His name is Barry and his cat is Noa.,\n",
              " Hi there. My name is Vincent. His name is Barry and his cat is Noa.,\n",
              " Hi there. My name is Vincent. His name is Barry and his cat is Noa.,\n",
              " Hi there. My name is Vincent. His name is Barry and his cat is Noa.,\n",
              " Hi there. My name is Vincent. His name is Barry and his cat is Noa.,\n",
              " Hi there. My name is Vincent. His name is Barry and his cat is Noa.,\n",
              " Hi there. My name is Vincent. His name is Barry and his cat is Noa.,\n",
              " Hi there. My name is Vincent. His name is Barry and his cat is Noa.,\n",
              " Hi there. My name is Vincent. His name is Barry and his cat is Noa.,\n",
              " Hi there. My name is Vincent. His name is Barry and his cat is Noa.,\n",
              " Hi there. My name is Vincent. His name is Barry and his cat is Noa.,\n",
              " Hi there. My name is Vincent. His name is Barry and his cat is Noa.,\n",
              " Hi there. My name is Vincent. His name is Barry and his cat is Noa.,\n",
              " Hi there. My name is Vincent. His name is Barry and his cat is Noa.,\n",
              " Hi there. My name is Vincent. His name is Barry and his cat is Noa.,\n",
              " Hi there. My name is Vincent. His name is Barry and his cat is Noa.,\n",
              " Hi there. My name is Vincent. His name is Barry and his cat is Noa.,\n",
              " Hi there. My name is Vincent. His name is Barry and his cat is Noa.,\n",
              " Hi there. My name is Vincent. His name is Barry and his cat is Noa.,\n",
              " Hi there. My name is Vincent. His name is Barry and his cat is Noa.,\n",
              " Hi there. My name is Vincent. His name is Barry and his cat is Noa.,\n",
              " Hi there. My name is Vincent. His name is Barry and his cat is Noa.,\n",
              " Hi there. My name is Vincent. His name is Barry and his cat is Noa.,\n",
              " Hi there. My name is Vincent. His name is Barry and his cat is Noa.,\n",
              " Hi there. My name is Vincent. His name is Barry and his cat is Noa.,\n",
              " Hi there. My name is Vincent. His name is Barry and his cat is Noa.,\n",
              " Hi there. My name is Vincent. His name is Barry and his cat is Noa.,\n",
              " Hi there. My name is Vincent. His name is Barry and his cat is Noa.,\n",
              " Hi there. My name is Vincent. His name is Barry and his cat is Noa.,\n",
              " Hi there. My name is Vincent. His name is Barry and his cat is Noa.,\n",
              " Hi there. My name is Vincent. His name is Barry and his cat is Noa.,\n",
              " Hi there. My name is Vincent. His name is Barry and his cat is Noa.,\n",
              " Hi there. My name is Vincent. His name is Barry and his cat is Noa.,\n",
              " Hi there. My name is Vincent. His name is Barry and his cat is Noa.,\n",
              " Hi there. My name is Vincent. His name is Barry and his cat is Noa.,\n",
              " Hi there. My name is Vincent. His name is Barry and his cat is Noa.,\n",
              " Hi there. My name is Vincent. His name is Barry and his cat is Noa.,\n",
              " Hi there. My name is Vincent. His name is Barry and his cat is Noa.,\n",
              " Hi there. My name is Vincent. His name is Barry and his cat is Noa.,\n",
              " Hi there. My name is Vincent. His name is Barry and his cat is Noa.,\n",
              " Hi there. My name is Vincent. His name is Barry and his cat is Noa.,\n",
              " Hi there. My name is Vincent. His name is Barry and his cat is Noa.,\n",
              " Hi there. My name is Vincent. His name is Barry and his cat is Noa.,\n",
              " Hi there. My name is Vincent. His name is Barry and his cat is Noa.,\n",
              " Hi there. My name is Vincent. His name is Barry and his cat is Noa.,\n",
              " Hi there. My name is Vincent. His name is Barry and his cat is Noa.,\n",
              " Hi there. My name is Vincent. His name is Barry and his cat is Noa.,\n",
              " Hi there. My name is Vincent. His name is Barry and his cat is Noa.,\n",
              " Hi there. My name is Vincent. His name is Barry and his cat is Noa.,\n",
              " Hi there. My name is Vincent. His name is Barry and his cat is Noa.,\n",
              " Hi there. My name is Vincent. His name is Barry and his cat is Noa.,\n",
              " Hi there. My name is Vincent. His name is Barry and his cat is Noa.,\n",
              " Hi there. My name is Vincent. His name is Barry and his cat is Noa.,\n",
              " Hi there. My name is Vincent. His name is Barry and his cat is Noa.,\n",
              " Hi there. My name is Vincent. His name is Barry and his cat is Noa.,\n",
              " Hi there. My name is Vincent. His name is Barry and his cat is Noa.,\n",
              " Hi there. My name is Vincent. His name is Barry and his cat is Noa.,\n",
              " Hi there. My name is Vincent. His name is Barry and his cat is Noa.,\n",
              " Hi there. My name is Vincent. His name is Barry and his cat is Noa.,\n",
              " Hi there. My name is Vincent. His name is Barry and his cat is Noa.,\n",
              " Hi there. My name is Vincent. His name is Barry and his cat is Noa.,\n",
              " Hi there. My name is Vincent. His name is Barry and his cat is Noa.,\n",
              " Hi there. My name is Vincent. His name is Barry and his cat is Noa.,\n",
              " Hi there. My name is Vincent. His name is Barry and his cat is Noa.,\n",
              " Hi there. My name is Vincent. His name is Barry and his cat is Noa.,\n",
              " Hi there. My name is Vincent. His name is Barry and his cat is Noa.,\n",
              " Hi there. My name is Vincent. His name is Barry and his cat is Noa.,\n",
              " Hi there. My name is Vincent. His name is Barry and his cat is Noa.,\n",
              " Hi there. My name is Vincent. His name is Barry and his cat is Noa.,\n",
              " Hi there. My name is Vincent. His name is Barry and his cat is Noa.,\n",
              " Hi there. My name is Vincent. His name is Barry and his cat is Noa.,\n",
              " Hi there. My name is Vincent. His name is Barry and his cat is Noa.,\n",
              " Hi there. My name is Vincent. His name is Barry and his cat is Noa.,\n",
              " Hi there. My name is Vincent. His name is Barry and his cat is Noa.,\n",
              " Hi there. My name is Vincent. His name is Barry and his cat is Noa.,\n",
              " Hi there. My name is Vincent. His name is Barry and his cat is Noa.,\n",
              " Hi there. My name is Vincent. His name is Barry and his cat is Noa.,\n",
              " Hi there. My name is Vincent. His name is Barry and his cat is Noa.,\n",
              " Hi there. My name is Vincent. His name is Barry and his cat is Noa.,\n",
              " Hi there. My name is Vincent. His name is Barry and his cat is Noa.,\n",
              " Hi there. My name is Vincent. His name is Barry and his cat is Noa.,\n",
              " Hi there. My name is Vincent. His name is Barry and his cat is Noa.,\n",
              " Hi there. My name is Vincent. His name is Barry and his cat is Noa.,\n",
              " Hi there. My name is Vincent. His name is Barry and his cat is Noa.,\n",
              " Hi there. My name is Vincent. His name is Barry and his cat is Noa.,\n",
              " Hi there. My name is Vincent. His name is Barry and his cat is Noa.,\n",
              " Hi there. My name is Vincent. His name is Barry and his cat is Noa.,\n",
              " Hi there. My name is Vincent. His name is Barry and his cat is Noa.,\n",
              " Hi there. My name is Vincent. His name is Barry and his cat is Noa.,\n",
              " Hi there. My name is Vincent. His name is Barry and his cat is Noa.,\n",
              " Hi there. My name is Vincent. His name is Barry and his cat is Noa.,\n",
              " Hi there. My name is Vincent. His name is Barry and his cat is Noa.,\n",
              " Hi there. My name is Vincent. His name is Barry and his cat is Noa.,\n",
              " Hi there. My name is Vincent. His name is Barry and his cat is Noa.,\n",
              " Hi there. My name is Vincent. His name is Barry and his cat is Noa.,\n",
              " Hi there. My name is Vincent. His name is Barry and his cat is Noa.,\n",
              " Hi there. My name is Vincent. His name is Barry and his cat is Noa.,\n",
              " Hi there. My name is Vincent. His name is Barry and his cat is Noa.,\n",
              " Hi there. My name is Vincent. His name is Barry and his cat is Noa.,\n",
              " Hi there. My name is Vincent. His name is Barry and his cat is Noa.,\n",
              " Hi there. My name is Vincent. His name is Barry and his cat is Noa.,\n",
              " Hi there. My name is Vincent. His name is Barry and his cat is Noa.,\n",
              " Hi there. My name is Vincent. His name is Barry and his cat is Noa.,\n",
              " Hi there. My name is Vincent. His name is Barry and his cat is Noa.,\n",
              " Hi there. My name is Vincent. His name is Barry and his cat is Noa.,\n",
              " Hi there. My name is Vincent. His name is Barry and his cat is Noa.,\n",
              " Hi there. My name is Vincent. His name is Barry and his cat is Noa.,\n",
              " Hi there. My name is Vincent. His name is Barry and his cat is Noa.,\n",
              " Hi there. My name is Vincent. His name is Barry and his cat is Noa.,\n",
              " Hi there. My name is Vincent. His name is Barry and his cat is Noa.,\n",
              " Hi there. My name is Vincent. His name is Barry and his cat is Noa.,\n",
              " Hi there. My name is Vincent. His name is Barry and his cat is Noa.,\n",
              " Hi there. My name is Vincent. His name is Barry and his cat is Noa.,\n",
              " Hi there. My name is Vincent. His name is Barry and his cat is Noa.,\n",
              " Hi there. My name is Vincent. His name is Barry and his cat is Noa.,\n",
              " Hi there. My name is Vincent. His name is Barry and his cat is Noa.,\n",
              " Hi there. My name is Vincent. His name is Barry and his cat is Noa.,\n",
              " Hi there. My name is Vincent. His name is Barry and his cat is Noa.,\n",
              " Hi there. My name is Vincent. His name is Barry and his cat is Noa.,\n",
              " Hi there. My name is Vincent. His name is Barry and his cat is Noa.,\n",
              " Hi there. My name is Vincent. His name is Barry and his cat is Noa.,\n",
              " Hi there. My name is Vincent. His name is Barry and his cat is Noa.,\n",
              " Hi there. My name is Vincent. His name is Barry and his cat is Noa.,\n",
              " Hi there. My name is Vincent. His name is Barry and his cat is Noa.,\n",
              " Hi there. My name is Vincent. His name is Barry and his cat is Noa.,\n",
              " Hi there. My name is Vincent. His name is Barry and his cat is Noa.,\n",
              " Hi there. My name is Vincent. His name is Barry and his cat is Noa.,\n",
              " Hi there. My name is Vincent. His name is Barry and his cat is Noa.,\n",
              " Hi there. My name is Vincent. His name is Barry and his cat is Noa.,\n",
              " Hi there. My name is Vincent. His name is Barry and his cat is Noa.,\n",
              " Hi there. My name is Vincent. His name is Barry and his cat is Noa.,\n",
              " Hi there. My name is Vincent. His name is Barry and his cat is Noa.,\n",
              " Hi there. My name is Vincent. His name is Barry and his cat is Noa.,\n",
              " Hi there. My name is Vincent. His name is Barry and his cat is Noa.,\n",
              " Hi there. My name is Vincent. His name is Barry and his cat is Noa.,\n",
              " Hi there. My name is Vincent. His name is Barry and his cat is Noa.,\n",
              " Hi there. My name is Vincent. His name is Barry and his cat is Noa.,\n",
              " Hi there. My name is Vincent. His name is Barry and his cat is Noa.,\n",
              " Hi there. My name is Vincent. His name is Barry and his cat is Noa.,\n",
              " Hi there. My name is Vincent. His name is Barry and his cat is Noa.,\n",
              " Hi there. My name is Vincent. His name is Barry and his cat is Noa.,\n",
              " Hi there. My name is Vincent. His name is Barry and his cat is Noa.,\n",
              " Hi there. My name is Vincent. His name is Barry and his cat is Noa.,\n",
              " Hi there. My name is Vincent. His name is Barry and his cat is Noa.,\n",
              " Hi there. My name is Vincent. His name is Barry and his cat is Noa.,\n",
              " Hi there. My name is Vincent. His name is Barry and his cat is Noa.,\n",
              " Hi there. My name is Vincent. His name is Barry and his cat is Noa.,\n",
              " Hi there. My name is Vincent. His name is Barry and his cat is Noa.,\n",
              " Hi there. My name is Vincent. His name is Barry and his cat is Noa.,\n",
              " Hi there. My name is Vincent. His name is Barry and his cat is Noa.,\n",
              " Hi there. My name is Vincent. His name is Barry and his cat is Noa.,\n",
              " Hi there. My name is Vincent. His name is Barry and his cat is Noa.,\n",
              " Hi there. My name is Vincent. His name is Barry and his cat is Noa.,\n",
              " Hi there. My name is Vincent. His name is Barry and his cat is Noa.,\n",
              " Hi there. My name is Vincent. His name is Barry and his cat is Noa.,\n",
              " Hi there. My name is Vincent. His name is Barry and his cat is Noa.,\n",
              " Hi there. My name is Vincent. His name is Barry and his cat is Noa.,\n",
              " Hi there. My name is Vincent. His name is Barry and his cat is Noa.,\n",
              " Hi there. My name is Vincent. His name is Barry and his cat is Noa.,\n",
              " Hi there. My name is Vincent. His name is Barry and his cat is Noa.,\n",
              " Hi there. My name is Vincent. His name is Barry and his cat is Noa.,\n",
              " Hi there. My name is Vincent. His name is Barry and his cat is Noa.,\n",
              " Hi there. My name is Vincent. His name is Barry and his cat is Noa.,\n",
              " Hi there. My name is Vincent. His name is Barry and his cat is Noa.,\n",
              " Hi there. My name is Vincent. His name is Barry and his cat is Noa.,\n",
              " Hi there. My name is Vincent. His name is Barry and his cat is Noa.,\n",
              " Hi there. My name is Vincent. His name is Barry and his cat is Noa.,\n",
              " Hi there. My name is Vincent. His name is Barry and his cat is Noa.,\n",
              " Hi there. My name is Vincent. His name is Barry and his cat is Noa.,\n",
              " Hi there. My name is Vincent. His name is Barry and his cat is Noa.,\n",
              " Hi there. My name is Vincent. His name is Barry and his cat is Noa.,\n",
              " Hi there. My name is Vincent. His name is Barry and his cat is Noa.,\n",
              " Hi there. My name is Vincent. His name is Barry and his cat is Noa.,\n",
              " Hi there. My name is Vincent. His name is Barry and his cat is Noa.,\n",
              " Hi there. My name is Vincent. His name is Barry and his cat is Noa.,\n",
              " Hi there. My name is Vincent. His name is Barry and his cat is Noa.,\n",
              " Hi there. My name is Vincent. His name is Barry and his cat is Noa.,\n",
              " Hi there. My name is Vincent. His name is Barry and his cat is Noa.,\n",
              " Hi there. My name is Vincent. His name is Barry and his cat is Noa.,\n",
              " Hi there. My name is Vincent. His name is Barry and his cat is Noa.,\n",
              " Hi there. My name is Vincent. His name is Barry and his cat is Noa.,\n",
              " Hi there. My name is Vincent. His name is Barry and his cat is Noa.,\n",
              " Hi there. My name is Vincent. His name is Barry and his cat is Noa.,\n",
              " Hi there. My name is Vincent. His name is Barry and his cat is Noa.,\n",
              " Hi there. My name is Vincent. His name is Barry and his cat is Noa.,\n",
              " Hi there. My name is Vincent. His name is Barry and his cat is Noa.,\n",
              " Hi there. My name is Vincent. His name is Barry and his cat is Noa.,\n",
              " Hi there. My name is Vincent. His name is Barry and his cat is Noa.,\n",
              " Hi there. My name is Vincent. His name is Barry and his cat is Noa.,\n",
              " Hi there. My name is Vincent. His name is Barry and his cat is Noa.,\n",
              " Hi there. My name is Vincent. His name is Barry and his cat is Noa.,\n",
              " Hi there. My name is Vincent. His name is Barry and his cat is Noa.,\n",
              " Hi there. My name is Vincent. His name is Barry and his cat is Noa.,\n",
              " Hi there. My name is Vincent. His name is Barry and his cat is Noa.,\n",
              " Hi there. My name is Vincent. His name is Barry and his cat is Noa.,\n",
              " Hi there. My name is Vincent. His name is Barry and his cat is Noa.,\n",
              " Hi there. My name is Vincent. His name is Barry and his cat is Noa.,\n",
              " Hi there. My name is Vincent. His name is Barry and his cat is Noa.,\n",
              " Hi there. My name is Vincent. His name is Barry and his cat is Noa.,\n",
              " Hi there. My name is Vincent. His name is Barry and his cat is Noa.,\n",
              " Hi there. My name is Vincent. His name is Barry and his cat is Noa.,\n",
              " Hi there. My name is Vincent. His name is Barry and his cat is Noa.,\n",
              " Hi there. My name is Vincent. His name is Barry and his cat is Noa.,\n",
              " Hi there. My name is Vincent. His name is Barry and his cat is Noa.,\n",
              " Hi there. My name is Vincent. His name is Barry and his cat is Noa.,\n",
              " Hi there. My name is Vincent. His name is Barry and his cat is Noa.,\n",
              " Hi there. My name is Vincent. His name is Barry and his cat is Noa.,\n",
              " Hi there. My name is Vincent. His name is Barry and his cat is Noa.,\n",
              " Hi there. My name is Vincent. His name is Barry and his cat is Noa.,\n",
              " Hi there. My name is Vincent. His name is Barry and his cat is Noa.,\n",
              " Hi there. My name is Vincent. His name is Barry and his cat is Noa.,\n",
              " Hi there. My name is Vincent. His name is Barry and his cat is Noa.,\n",
              " Hi there. My name is Vincent. His name is Barry and his cat is Noa.,\n",
              " Hi there. My name is Vincent. His name is Barry and his cat is Noa.,\n",
              " Hi there. My name is Vincent. His name is Barry and his cat is Noa.,\n",
              " Hi there. My name is Vincent. His name is Barry and his cat is Noa.,\n",
              " Hi there. My name is Vincent. His name is Barry and his cat is Noa.,\n",
              " Hi there. My name is Vincent. His name is Barry and his cat is Noa.,\n",
              " Hi there. My name is Vincent. His name is Barry and his cat is Noa.,\n",
              " Hi there. My name is Vincent. His name is Barry and his cat is Noa.,\n",
              " Hi there. My name is Vincent. His name is Barry and his cat is Noa.,\n",
              " Hi there. My name is Vincent. His name is Barry and his cat is Noa.,\n",
              " Hi there. My name is Vincent. His name is Barry and his cat is Noa.,\n",
              " Hi there. My name is Vincent. His name is Barry and his cat is Noa.,\n",
              " Hi there. My name is Vincent. His name is Barry and his cat is Noa.,\n",
              " Hi there. My name is Vincent. His name is Barry and his cat is Noa.,\n",
              " Hi there. My name is Vincent. His name is Barry and his cat is Noa.,\n",
              " Hi there. My name is Vincent. His name is Barry and his cat is Noa.,\n",
              " Hi there. My name is Vincent. His name is Barry and his cat is Noa.,\n",
              " Hi there. My name is Vincent. His name is Barry and his cat is Noa.,\n",
              " Hi there. My name is Vincent. His name is Barry and his cat is Noa.,\n",
              " Hi there. My name is Vincent. His name is Barry and his cat is Noa.,\n",
              " Hi there. My name is Vincent. His name is Barry and his cat is Noa.,\n",
              " Hi there. My name is Vincent. His name is Barry and his cat is Noa.,\n",
              " Hi there. My name is Vincent. His name is Barry and his cat is Noa.,\n",
              " Hi there. My name is Vincent. His name is Barry and his cat is Noa.,\n",
              " Hi there. My name is Vincent. His name is Barry and his cat is Noa.,\n",
              " Hi there. My name is Vincent. His name is Barry and his cat is Noa.,\n",
              " Hi there. My name is Vincent. His name is Barry and his cat is Noa.,\n",
              " Hi there. My name is Vincent. His name is Barry and his cat is Noa.,\n",
              " Hi there. My name is Vincent. His name is Barry and his cat is Noa.,\n",
              " Hi there. My name is Vincent. His name is Barry and his cat is Noa.,\n",
              " Hi there. My name is Vincent. His name is Barry and his cat is Noa.,\n",
              " Hi there. My name is Vincent. His name is Barry and his cat is Noa.,\n",
              " Hi there. My name is Vincent. His name is Barry and his cat is Noa.,\n",
              " Hi there. My name is Vincent. His name is Barry and his cat is Noa.,\n",
              " Hi there. My name is Vincent. His name is Barry and his cat is Noa.,\n",
              " Hi there. My name is Vincent. His name is Barry and his cat is Noa.,\n",
              " Hi there. My name is Vincent. His name is Barry and his cat is Noa.,\n",
              " Hi there. My name is Vincent. His name is Barry and his cat is Noa.,\n",
              " Hi there. My name is Vincent. His name is Barry and his cat is Noa.,\n",
              " Hi there. My name is Vincent. His name is Barry and his cat is Noa.,\n",
              " Hi there. My name is Vincent. His name is Barry and his cat is Noa.,\n",
              " Hi there. My name is Vincent. His name is Barry and his cat is Noa.,\n",
              " Hi there. My name is Vincent. His name is Barry and his cat is Noa.,\n",
              " Hi there. My name is Vincent. His name is Barry and his cat is Noa.,\n",
              " Hi there. My name is Vincent. His name is Barry and his cat is Noa.,\n",
              " Hi there. My name is Vincent. His name is Barry and his cat is Noa.,\n",
              " Hi there. My name is Vincent. His name is Barry and his cat is Noa.,\n",
              " Hi there. My name is Vincent. His name is Barry and his cat is Noa.,\n",
              " Hi there. My name is Vincent. His name is Barry and his cat is Noa.,\n",
              " Hi there. My name is Vincent. His name is Barry and his cat is Noa.,\n",
              " Hi there. My name is Vincent. His name is Barry and his cat is Noa.,\n",
              " Hi there. My name is Vincent. His name is Barry and his cat is Noa.,\n",
              " Hi there. My name is Vincent. His name is Barry and his cat is Noa.,\n",
              " Hi there. My name is Vincent. His name is Barry and his cat is Noa.,\n",
              " Hi there. My name is Vincent. His name is Barry and his cat is Noa.,\n",
              " Hi there. My name is Vincent. His name is Barry and his cat is Noa.,\n",
              " Hi there. My name is Vincent. His name is Barry and his cat is Noa.,\n",
              " Hi there. My name is Vincent. His name is Barry and his cat is Noa.,\n",
              " Hi there. My name is Vincent. His name is Barry and his cat is Noa.,\n",
              " Hi there. My name is Vincent. His name is Barry and his cat is Noa.,\n",
              " Hi there. My name is Vincent. His name is Barry and his cat is Noa.,\n",
              " Hi there. My name is Vincent. His name is Barry and his cat is Noa.,\n",
              " Hi there. My name is Vincent. His name is Barry and his cat is Noa.,\n",
              " Hi there. My name is Vincent. His name is Barry and his cat is Noa.,\n",
              " Hi there. My name is Vincent. His name is Barry and his cat is Noa.,\n",
              " Hi there. My name is Vincent. His name is Barry and his cat is Noa.,\n",
              " Hi there. My name is Vincent. His name is Barry and his cat is Noa.,\n",
              " Hi there. My name is Vincent. His name is Barry and his cat is Noa.,\n",
              " Hi there. My name is Vincent. His name is Barry and his cat is Noa.,\n",
              " Hi there. My name is Vincent. His name is Barry and his cat is Noa.,\n",
              " Hi there. My name is Vincent. His name is Barry and his cat is Noa.,\n",
              " Hi there. My name is Vincent. His name is Barry and his cat is Noa.,\n",
              " Hi there. My name is Vincent. His name is Barry and his cat is Noa.,\n",
              " Hi there. My name is Vincent. His name is Barry and his cat is Noa.,\n",
              " Hi there. My name is Vincent. His name is Barry and his cat is Noa.,\n",
              " Hi there. My name is Vincent. His name is Barry and his cat is Noa.,\n",
              " Hi there. My name is Vincent. His name is Barry and his cat is Noa.,\n",
              " Hi there. My name is Vincent. His name is Barry and his cat is Noa.,\n",
              " Hi there. My name is Vincent. His name is Barry and his cat is Noa.,\n",
              " Hi there. My name is Vincent. His name is Barry and his cat is Noa.,\n",
              " Hi there. My name is Vincent. His name is Barry and his cat is Noa.,\n",
              " Hi there. My name is Vincent. His name is Barry and his cat is Noa.,\n",
              " Hi there. My name is Vincent. His name is Barry and his cat is Noa.,\n",
              " Hi there. My name is Vincent. His name is Barry and his cat is Noa.,\n",
              " Hi there. My name is Vincent. His name is Barry and his cat is Noa.,\n",
              " Hi there. My name is Vincent. His name is Barry and his cat is Noa.,\n",
              " Hi there. My name is Vincent. His name is Barry and his cat is Noa.,\n",
              " Hi there. My name is Vincent. His name is Barry and his cat is Noa.,\n",
              " Hi there. My name is Vincent. His name is Barry and his cat is Noa.,\n",
              " Hi there. My name is Vincent. His name is Barry and his cat is Noa.,\n",
              " Hi there. My name is Vincent. His name is Barry and his cat is Noa.,\n",
              " Hi there. My name is Vincent. His name is Barry and his cat is Noa.,\n",
              " Hi there. My name is Vincent. His name is Barry and his cat is Noa.,\n",
              " Hi there. My name is Vincent. His name is Barry and his cat is Noa.,\n",
              " Hi there. My name is Vincent. His name is Barry and his cat is Noa.,\n",
              " Hi there. My name is Vincent. His name is Barry and his cat is Noa.,\n",
              " Hi there. My name is Vincent. His name is Barry and his cat is Noa.,\n",
              " Hi there. My name is Vincent. His name is Barry and his cat is Noa.,\n",
              " Hi there. My name is Vincent. His name is Barry and his cat is Noa.,\n",
              " Hi there. My name is Vincent. His name is Barry and his cat is Noa.,\n",
              " Hi there. My name is Vincent. His name is Barry and his cat is Noa.,\n",
              " Hi there. My name is Vincent. His name is Barry and his cat is Noa.,\n",
              " Hi there. My name is Vincent. His name is Barry and his cat is Noa.,\n",
              " Hi there. My name is Vincent. His name is Barry and his cat is Noa.,\n",
              " Hi there. My name is Vincent. His name is Barry and his cat is Noa.,\n",
              " Hi there. My name is Vincent. His name is Barry and his cat is Noa.,\n",
              " Hi there. My name is Vincent. His name is Barry and his cat is Noa.,\n",
              " Hi there. My name is Vincent. His name is Barry and his cat is Noa.,\n",
              " Hi there. My name is Vincent. His name is Barry and his cat is Noa.,\n",
              " Hi there. My name is Vincent. His name is Barry and his cat is Noa.,\n",
              " Hi there. My name is Vincent. His name is Barry and his cat is Noa.,\n",
              " Hi there. My name is Vincent. His name is Barry and his cat is Noa.,\n",
              " Hi there. My name is Vincent. His name is Barry and his cat is Noa.,\n",
              " Hi there. My name is Vincent. His name is Barry and his cat is Noa.,\n",
              " Hi there. My name is Vincent. His name is Barry and his cat is Noa.,\n",
              " Hi there. My name is Vincent. His name is Barry and his cat is Noa.,\n",
              " Hi there. My name is Vincent. His name is Barry and his cat is Noa.,\n",
              " Hi there. My name is Vincent. His name is Barry and his cat is Noa.,\n",
              " Hi there. My name is Vincent. His name is Barry and his cat is Noa.,\n",
              " Hi there. My name is Vincent. His name is Barry and his cat is Noa.,\n",
              " Hi there. My name is Vincent. His name is Barry and his cat is Noa.,\n",
              " Hi there. My name is Vincent. His name is Barry and his cat is Noa.,\n",
              " Hi there. My name is Vincent. His name is Barry and his cat is Noa.,\n",
              " Hi there. My name is Vincent. His name is Barry and his cat is Noa.,\n",
              " Hi there. My name is Vincent. His name is Barry and his cat is Noa.,\n",
              " Hi there. My name is Vincent. His name is Barry and his cat is Noa.,\n",
              " Hi there. My name is Vincent. His name is Barry and his cat is Noa.,\n",
              " Hi there. My name is Vincent. His name is Barry and his cat is Noa.,\n",
              " Hi there. My name is Vincent. His name is Barry and his cat is Noa.,\n",
              " Hi there. My name is Vincent. His name is Barry and his cat is Noa.,\n",
              " Hi there. My name is Vincent. His name is Barry and his cat is Noa.,\n",
              " Hi there. My name is Vincent. His name is Barry and his cat is Noa.,\n",
              " Hi there. My name is Vincent. His name is Barry and his cat is Noa.,\n",
              " Hi there. My name is Vincent. His name is Barry and his cat is Noa.,\n",
              " Hi there. My name is Vincent. His name is Barry and his cat is Noa.,\n",
              " Hi there. My name is Vincent. His name is Barry and his cat is Noa.,\n",
              " Hi there. My name is Vincent. His name is Barry and his cat is Noa.,\n",
              " Hi there. My name is Vincent. His name is Barry and his cat is Noa.,\n",
              " Hi there. My name is Vincent. His name is Barry and his cat is Noa.,\n",
              " Hi there. My name is Vincent. His name is Barry and his cat is Noa.,\n",
              " Hi there. My name is Vincent. His name is Barry and his cat is Noa.,\n",
              " Hi there. My name is Vincent. His name is Barry and his cat is Noa.,\n",
              " Hi there. My name is Vincent. His name is Barry and his cat is Noa.,\n",
              " Hi there. My name is Vincent. His name is Barry and his cat is Noa.,\n",
              " Hi there. My name is Vincent. His name is Barry and his cat is Noa.,\n",
              " Hi there. My name is Vincent. His name is Barry and his cat is Noa.,\n",
              " Hi there. My name is Vincent. His name is Barry and his cat is Noa.,\n",
              " Hi there. My name is Vincent. His name is Barry and his cat is Noa.,\n",
              " Hi there. My name is Vincent. His name is Barry and his cat is Noa.,\n",
              " Hi there. My name is Vincent. His name is Barry and his cat is Noa.,\n",
              " Hi there. My name is Vincent. His name is Barry and his cat is Noa.,\n",
              " Hi there. My name is Vincent. His name is Barry and his cat is Noa.,\n",
              " Hi there. My name is Vincent. His name is Barry and his cat is Noa.,\n",
              " Hi there. My name is Vincent. His name is Barry and his cat is Noa.,\n",
              " Hi there. My name is Vincent. His name is Barry and his cat is Noa.,\n",
              " Hi there. My name is Vincent. His name is Barry and his cat is Noa.,\n",
              " Hi there. My name is Vincent. His name is Barry and his cat is Noa.,\n",
              " Hi there. My name is Vincent. His name is Barry and his cat is Noa.,\n",
              " Hi there. My name is Vincent. His name is Barry and his cat is Noa.,\n",
              " Hi there. My name is Vincent. His name is Barry and his cat is Noa.,\n",
              " Hi there. My name is Vincent. His name is Barry and his cat is Noa.,\n",
              " Hi there. My name is Vincent. His name is Barry and his cat is Noa.,\n",
              " Hi there. My name is Vincent. His name is Barry and his cat is Noa.,\n",
              " Hi there. My name is Vincent. His name is Barry and his cat is Noa.,\n",
              " Hi there. My name is Vincent. His name is Barry and his cat is Noa.,\n",
              " Hi there. My name is Vincent. His name is Barry and his cat is Noa.,\n",
              " Hi there. My name is Vincent. His name is Barry and his cat is Noa.,\n",
              " Hi there. My name is Vincent. His name is Barry and his cat is Noa.,\n",
              " Hi there. My name is Vincent. His name is Barry and his cat is Noa.,\n",
              " Hi there. My name is Vincent. His name is Barry and his cat is Noa.,\n",
              " Hi there. My name is Vincent. His name is Barry and his cat is Noa.,\n",
              " Hi there. My name is Vincent. His name is Barry and his cat is Noa.,\n",
              " Hi there. My name is Vincent. His name is Barry and his cat is Noa.,\n",
              " Hi there. My name is Vincent. His name is Barry and his cat is Noa.,\n",
              " Hi there. My name is Vincent. His name is Barry and his cat is Noa.,\n",
              " Hi there. My name is Vincent. His name is Barry and his cat is Noa.,\n",
              " Hi there. My name is Vincent. His name is Barry and his cat is Noa.,\n",
              " Hi there. My name is Vincent. His name is Barry and his cat is Noa.,\n",
              " Hi there. My name is Vincent. His name is Barry and his cat is Noa.,\n",
              " Hi there. My name is Vincent. His name is Barry and his cat is Noa.,\n",
              " Hi there. My name is Vincent. His name is Barry and his cat is Noa.,\n",
              " Hi there. My name is Vincent. His name is Barry and his cat is Noa.,\n",
              " Hi there. My name is Vincent. His name is Barry and his cat is Noa.,\n",
              " Hi there. My name is Vincent. His name is Barry and his cat is Noa.,\n",
              " Hi there. My name is Vincent. His name is Barry and his cat is Noa.,\n",
              " Hi there. My name is Vincent. His name is Barry and his cat is Noa.,\n",
              " Hi there. My name is Vincent. His name is Barry and his cat is Noa.,\n",
              " Hi there. My name is Vincent. His name is Barry and his cat is Noa.,\n",
              " Hi there. My name is Vincent. His name is Barry and his cat is Noa.,\n",
              " Hi there. My name is Vincent. His name is Barry and his cat is Noa.,\n",
              " Hi there. My name is Vincent. His name is Barry and his cat is Noa.,\n",
              " Hi there. My name is Vincent. His name is Barry and his cat is Noa.,\n",
              " Hi there. My name is Vincent. His name is Barry and his cat is Noa.,\n",
              " Hi there. My name is Vincent. His name is Barry and his cat is Noa.,\n",
              " Hi there. My name is Vincent. His name is Barry and his cat is Noa.,\n",
              " Hi there. My name is Vincent. His name is Barry and his cat is Noa.,\n",
              " Hi there. My name is Vincent. His name is Barry and his cat is Noa.,\n",
              " Hi there. My name is Vincent. His name is Barry and his cat is Noa.,\n",
              " Hi there. My name is Vincent. His name is Barry and his cat is Noa.,\n",
              " Hi there. My name is Vincent. His name is Barry and his cat is Noa.,\n",
              " Hi there. My name is Vincent. His name is Barry and his cat is Noa.,\n",
              " Hi there. My name is Vincent. His name is Barry and his cat is Noa.,\n",
              " Hi there. My name is Vincent. His name is Barry and his cat is Noa.,\n",
              " Hi there. My name is Vincent. His name is Barry and his cat is Noa.,\n",
              " Hi there. My name is Vincent. His name is Barry and his cat is Noa.,\n",
              " Hi there. My name is Vincent. His name is Barry and his cat is Noa.,\n",
              " Hi there. My name is Vincent. His name is Barry and his cat is Noa.,\n",
              " Hi there. My name is Vincent. His name is Barry and his cat is Noa.,\n",
              " Hi there. My name is Vincent. His name is Barry and his cat is Noa.,\n",
              " Hi there. My name is Vincent. His name is Barry and his cat is Noa.,\n",
              " Hi there. My name is Vincent. His name is Barry and his cat is Noa.,\n",
              " Hi there. My name is Vincent. His name is Barry and his cat is Noa.,\n",
              " Hi there. My name is Vincent. His name is Barry and his cat is Noa.,\n",
              " Hi there. My name is Vincent. His name is Barry and his cat is Noa.,\n",
              " Hi there. My name is Vincent. His name is Barry and his cat is Noa.,\n",
              " Hi there. My name is Vincent. His name is Barry and his cat is Noa.,\n",
              " Hi there. My name is Vincent. His name is Barry and his cat is Noa.,\n",
              " Hi there. My name is Vincent. His name is Barry and his cat is Noa.,\n",
              " Hi there. My name is Vincent. His name is Barry and his cat is Noa.,\n",
              " Hi there. My name is Vincent. His name is Barry and his cat is Noa.,\n",
              " Hi there. My name is Vincent. His name is Barry and his cat is Noa.,\n",
              " Hi there. My name is Vincent. His name is Barry and his cat is Noa.,\n",
              " Hi there. My name is Vincent. His name is Barry and his cat is Noa.,\n",
              " Hi there. My name is Vincent. His name is Barry and his cat is Noa.,\n",
              " Hi there. My name is Vincent. His name is Barry and his cat is Noa.,\n",
              " Hi there. My name is Vincent. His name is Barry and his cat is Noa.,\n",
              " Hi there. My name is Vincent. His name is Barry and his cat is Noa.,\n",
              " Hi there. My name is Vincent. His name is Barry and his cat is Noa.,\n",
              " Hi there. My name is Vincent. His name is Barry and his cat is Noa.,\n",
              " Hi there. My name is Vincent. His name is Barry and his cat is Noa.,\n",
              " Hi there. My name is Vincent. His name is Barry and his cat is Noa.,\n",
              " Hi there. My name is Vincent. His name is Barry and his cat is Noa.,\n",
              " Hi there. My name is Vincent. His name is Barry and his cat is Noa.,\n",
              " Hi there. My name is Vincent. His name is Barry and his cat is Noa.,\n",
              " Hi there. My name is Vincent. His name is Barry and his cat is Noa.,\n",
              " Hi there. My name is Vincent. His name is Barry and his cat is Noa.,\n",
              " Hi there. My name is Vincent. His name is Barry and his cat is Noa.,\n",
              " Hi there. My name is Vincent. His name is Barry and his cat is Noa.,\n",
              " Hi there. My name is Vincent. His name is Barry and his cat is Noa.,\n",
              " Hi there. My name is Vincent. His name is Barry and his cat is Noa.,\n",
              " Hi there. My name is Vincent. His name is Barry and his cat is Noa.,\n",
              " Hi there. My name is Vincent. His name is Barry and his cat is Noa.,\n",
              " Hi there. My name is Vincent. His name is Barry and his cat is Noa.,\n",
              " Hi there. My name is Vincent. His name is Barry and his cat is Noa.,\n",
              " Hi there. My name is Vincent. His name is Barry and his cat is Noa.,\n",
              " Hi there. My name is Vincent. His name is Barry and his cat is Noa.,\n",
              " Hi there. My name is Vincent. His name is Barry and his cat is Noa.,\n",
              " Hi there. My name is Vincent. His name is Barry and his cat is Noa.,\n",
              " Hi there. My name is Vincent. His name is Barry and his cat is Noa.,\n",
              " Hi there. My name is Vincent. His name is Barry and his cat is Noa.,\n",
              " Hi there. My name is Vincent. His name is Barry and his cat is Noa.,\n",
              " Hi there. My name is Vincent. His name is Barry and his cat is Noa.,\n",
              " Hi there. My name is Vincent. His name is Barry and his cat is Noa.,\n",
              " Hi there. My name is Vincent. His name is Barry and his cat is Noa.,\n",
              " Hi there. My name is Vincent. His name is Barry and his cat is Noa.,\n",
              " Hi there. My name is Vincent. His name is Barry and his cat is Noa.,\n",
              " Hi there. My name is Vincent. His name is Barry and his cat is Noa.,\n",
              " Hi there. My name is Vincent. His name is Barry and his cat is Noa.,\n",
              " Hi there. My name is Vincent. His name is Barry and his cat is Noa.,\n",
              " Hi there. My name is Vincent. His name is Barry and his cat is Noa.,\n",
              " Hi there. My name is Vincent. His name is Barry and his cat is Noa.,\n",
              " Hi there. My name is Vincent. His name is Barry and his cat is Noa.,\n",
              " Hi there. My name is Vincent. His name is Barry and his cat is Noa.,\n",
              " Hi there. My name is Vincent. His name is Barry and his cat is Noa.,\n",
              " Hi there. My name is Vincent. His name is Barry and his cat is Noa.,\n",
              " Hi there. My name is Vincent. His name is Barry and his cat is Noa.,\n",
              " Hi there. My name is Vincent. His name is Barry and his cat is Noa.,\n",
              " Hi there. My name is Vincent. His name is Barry and his cat is Noa.,\n",
              " Hi there. My name is Vincent. His name is Barry and his cat is Noa.,\n",
              " Hi there. My name is Vincent. His name is Barry and his cat is Noa.,\n",
              " Hi there. My name is Vincent. His name is Barry and his cat is Noa.,\n",
              " Hi there. My name is Vincent. His name is Barry and his cat is Noa.,\n",
              " Hi there. My name is Vincent. His name is Barry and his cat is Noa.,\n",
              " Hi there. My name is Vincent. His name is Barry and his cat is Noa.,\n",
              " Hi there. My name is Vincent. His name is Barry and his cat is Noa.,\n",
              " Hi there. My name is Vincent. His name is Barry and his cat is Noa.,\n",
              " Hi there. My name is Vincent. His name is Barry and his cat is Noa.,\n",
              " Hi there. My name is Vincent. His name is Barry and his cat is Noa.,\n",
              " Hi there. My name is Vincent. His name is Barry and his cat is Noa.,\n",
              " Hi there. My name is Vincent. His name is Barry and his cat is Noa.,\n",
              " Hi there. My name is Vincent. His name is Barry and his cat is Noa.,\n",
              " Hi there. My name is Vincent. His name is Barry and his cat is Noa.,\n",
              " Hi there. My name is Vincent. His name is Barry and his cat is Noa.,\n",
              " Hi there. My name is Vincent. His name is Barry and his cat is Noa.,\n",
              " Hi there. My name is Vincent. His name is Barry and his cat is Noa.,\n",
              " Hi there. My name is Vincent. His name is Barry and his cat is Noa.,\n",
              " Hi there. My name is Vincent. His name is Barry and his cat is Noa.,\n",
              " Hi there. My name is Vincent. His name is Barry and his cat is Noa.,\n",
              " Hi there. My name is Vincent. His name is Barry and his cat is Noa.,\n",
              " Hi there. My name is Vincent. His name is Barry and his cat is Noa.,\n",
              " Hi there. My name is Vincent. His name is Barry and his cat is Noa.,\n",
              " Hi there. My name is Vincent. His name is Barry and his cat is Noa.,\n",
              " Hi there. My name is Vincent. His name is Barry and his cat is Noa.,\n",
              " Hi there. My name is Vincent. His name is Barry and his cat is Noa.,\n",
              " Hi there. My name is Vincent. His name is Barry and his cat is Noa.,\n",
              " Hi there. My name is Vincent. His name is Barry and his cat is Noa.,\n",
              " Hi there. My name is Vincent. His name is Barry and his cat is Noa.,\n",
              " Hi there. My name is Vincent. His name is Barry and his cat is Noa.,\n",
              " Hi there. My name is Vincent. His name is Barry and his cat is Noa.,\n",
              " Hi there. My name is Vincent. His name is Barry and his cat is Noa.,\n",
              " Hi there. My name is Vincent. His name is Barry and his cat is Noa.,\n",
              " Hi there. My name is Vincent. His name is Barry and his cat is Noa.,\n",
              " Hi there. My name is Vincent. His name is Barry and his cat is Noa.,\n",
              " Hi there. My name is Vincent. His name is Barry and his cat is Noa.,\n",
              " Hi there. My name is Vincent. His name is Barry and his cat is Noa.,\n",
              " Hi there. My name is Vincent. His name is Barry and his cat is Noa.,\n",
              " Hi there. My name is Vincent. His name is Barry and his cat is Noa.,\n",
              " Hi there. My name is Vincent. His name is Barry and his cat is Noa.,\n",
              " Hi there. My name is Vincent. His name is Barry and his cat is Noa.,\n",
              " Hi there. My name is Vincent. His name is Barry and his cat is Noa.,\n",
              " Hi there. My name is Vincent. His name is Barry and his cat is Noa.,\n",
              " Hi there. My name is Vincent. His name is Barry and his cat is Noa.,\n",
              " Hi there. My name is Vincent. His name is Barry and his cat is Noa.,\n",
              " Hi there. My name is Vincent. His name is Barry and his cat is Noa.,\n",
              " Hi there. My name is Vincent. His name is Barry and his cat is Noa.,\n",
              " Hi there. My name is Vincent. His name is Barry and his cat is Noa.,\n",
              " Hi there. My name is Vincent. His name is Barry and his cat is Noa.,\n",
              " Hi there. My name is Vincent. His name is Barry and his cat is Noa.,\n",
              " Hi there. My name is Vincent. His name is Barry and his cat is Noa.,\n",
              " Hi there. My name is Vincent. His name is Barry and his cat is Noa.,\n",
              " Hi there. My name is Vincent. His name is Barry and his cat is Noa.,\n",
              " Hi there. My name is Vincent. His name is Barry and his cat is Noa.,\n",
              " Hi there. My name is Vincent. His name is Barry and his cat is Noa.,\n",
              " Hi there. My name is Vincent. His name is Barry and his cat is Noa.,\n",
              " Hi there. My name is Vincent. His name is Barry and his cat is Noa.,\n",
              " Hi there. My name is Vincent. His name is Barry and his cat is Noa.,\n",
              " Hi there. My name is Vincent. His name is Barry and his cat is Noa.,\n",
              " Hi there. My name is Vincent. His name is Barry and his cat is Noa.,\n",
              " Hi there. My name is Vincent. His name is Barry and his cat is Noa.,\n",
              " Hi there. My name is Vincent. His name is Barry and his cat is Noa.,\n",
              " Hi there. My name is Vincent. His name is Barry and his cat is Noa.,\n",
              " Hi there. My name is Vincent. His name is Barry and his cat is Noa.,\n",
              " Hi there. My name is Vincent. His name is Barry and his cat is Noa.,\n",
              " Hi there. My name is Vincent. His name is Barry and his cat is Noa.,\n",
              " Hi there. My name is Vincent. His name is Barry and his cat is Noa.,\n",
              " Hi there. My name is Vincent. His name is Barry and his cat is Noa.,\n",
              " Hi there. My name is Vincent. His name is Barry and his cat is Noa.,\n",
              " Hi there. My name is Vincent. His name is Barry and his cat is Noa.,\n",
              " Hi there. My name is Vincent. His name is Barry and his cat is Noa.,\n",
              " Hi there. My name is Vincent. His name is Barry and his cat is Noa.,\n",
              " Hi there. My name is Vincent. His name is Barry and his cat is Noa.,\n",
              " Hi there. My name is Vincent. His name is Barry and his cat is Noa.,\n",
              " Hi there. My name is Vincent. His name is Barry and his cat is Noa.,\n",
              " Hi there. My name is Vincent. His name is Barry and his cat is Noa.,\n",
              " Hi there. My name is Vincent. His name is Barry and his cat is Noa.,\n",
              " Hi there. My name is Vincent. His name is Barry and his cat is Noa.,\n",
              " Hi there. My name is Vincent. His name is Barry and his cat is Noa.,\n",
              " Hi there. My name is Vincent. His name is Barry and his cat is Noa.,\n",
              " Hi there. My name is Vincent. His name is Barry and his cat is Noa.,\n",
              " Hi there. My name is Vincent. His name is Barry and his cat is Noa.,\n",
              " Hi there. My name is Vincent. His name is Barry and his cat is Noa.,\n",
              " Hi there. My name is Vincent. His name is Barry and his cat is Noa.,\n",
              " Hi there. My name is Vincent. His name is Barry and his cat is Noa.,\n",
              " Hi there. My name is Vincent. His name is Barry and his cat is Noa.,\n",
              " Hi there. My name is Vincent. His name is Barry and his cat is Noa.,\n",
              " Hi there. My name is Vincent. His name is Barry and his cat is Noa.,\n",
              " Hi there. My name is Vincent. His name is Barry and his cat is Noa.,\n",
              " Hi there. My name is Vincent. His name is Barry and his cat is Noa.,\n",
              " Hi there. My name is Vincent. His name is Barry and his cat is Noa.,\n",
              " Hi there. My name is Vincent. His name is Barry and his cat is Noa.,\n",
              " Hi there. My name is Vincent. His name is Barry and his cat is Noa.,\n",
              " Hi there. My name is Vincent. His name is Barry and his cat is Noa.,\n",
              " Hi there. My name is Vincent. His name is Barry and his cat is Noa.,\n",
              " Hi there. My name is Vincent. His name is Barry and his cat is Noa.,\n",
              " Hi there. My name is Vincent. His name is Barry and his cat is Noa.,\n",
              " Hi there. My name is Vincent. His name is Barry and his cat is Noa.,\n",
              " Hi there. My name is Vincent. His name is Barry and his cat is Noa.,\n",
              " Hi there. My name is Vincent. His name is Barry and his cat is Noa.,\n",
              " Hi there. My name is Vincent. His name is Barry and his cat is Noa.,\n",
              " Hi there. My name is Vincent. His name is Barry and his cat is Noa.,\n",
              " Hi there. My name is Vincent. His name is Barry and his cat is Noa.,\n",
              " Hi there. My name is Vincent. His name is Barry and his cat is Noa.,\n",
              " Hi there. My name is Vincent. His name is Barry and his cat is Noa.,\n",
              " Hi there. My name is Vincent. His name is Barry and his cat is Noa.,\n",
              " Hi there. My name is Vincent. His name is Barry and his cat is Noa.,\n",
              " Hi there. My name is Vincent. His name is Barry and his cat is Noa.,\n",
              " Hi there. My name is Vincent. His name is Barry and his cat is Noa.,\n",
              " Hi there. My name is Vincent. His name is Barry and his cat is Noa.,\n",
              " Hi there. My name is Vincent. His name is Barry and his cat is Noa.,\n",
              " Hi there. My name is Vincent. His name is Barry and his cat is Noa.,\n",
              " Hi there. My name is Vincent. His name is Barry and his cat is Noa.,\n",
              " Hi there. My name is Vincent. His name is Barry and his cat is Noa.,\n",
              " Hi there. My name is Vincent. His name is Barry and his cat is Noa.,\n",
              " Hi there. My name is Vincent. His name is Barry and his cat is Noa.,\n",
              " Hi there. My name is Vincent. His name is Barry and his cat is Noa.,\n",
              " Hi there. My name is Vincent. His name is Barry and his cat is Noa.,\n",
              " Hi there. My name is Vincent. His name is Barry and his cat is Noa.,\n",
              " Hi there. My name is Vincent. His name is Barry and his cat is Noa.,\n",
              " Hi there. My name is Vincent. His name is Barry and his cat is Noa.,\n",
              " Hi there. My name is Vincent. His name is Barry and his cat is Noa.,\n",
              " Hi there. My name is Vincent. His name is Barry and his cat is Noa.,\n",
              " Hi there. My name is Vincent. His name is Barry and his cat is Noa.,\n",
              " Hi there. My name is Vincent. His name is Barry and his cat is Noa.,\n",
              " Hi there. My name is Vincent. His name is Barry and his cat is Noa.,\n",
              " Hi there. My name is Vincent. His name is Barry and his cat is Noa.,\n",
              " Hi there. My name is Vincent. His name is Barry and his cat is Noa.,\n",
              " Hi there. My name is Vincent. His name is Barry and his cat is Noa.,\n",
              " Hi there. My name is Vincent. His name is Barry and his cat is Noa.,\n",
              " Hi there. My name is Vincent. His name is Barry and his cat is Noa.,\n",
              " Hi there. My name is Vincent. His name is Barry and his cat is Noa.,\n",
              " Hi there. My name is Vincent. His name is Barry and his cat is Noa.,\n",
              " Hi there. My name is Vincent. His name is Barry and his cat is Noa.,\n",
              " Hi there. My name is Vincent. His name is Barry and his cat is Noa.,\n",
              " Hi there. My name is Vincent. His name is Barry and his cat is Noa.,\n",
              " Hi there. My name is Vincent. His name is Barry and his cat is Noa.,\n",
              " Hi there. My name is Vincent. His name is Barry and his cat is Noa.,\n",
              " Hi there. My name is Vincent. His name is Barry and his cat is Noa.,\n",
              " Hi there. My name is Vincent. His name is Barry and his cat is Noa.,\n",
              " Hi there. My name is Vincent. His name is Barry and his cat is Noa.,\n",
              " Hi there. My name is Vincent. His name is Barry and his cat is Noa.,\n",
              " Hi there. My name is Vincent. His name is Barry and his cat is Noa.,\n",
              " Hi there. My name is Vincent. His name is Barry and his cat is Noa.,\n",
              " Hi there. My name is Vincent. His name is Barry and his cat is Noa.,\n",
              " Hi there. My name is Vincent. His name is Barry and his cat is Noa.,\n",
              " Hi there. My name is Vincent. His name is Barry and his cat is Noa.,\n",
              " Hi there. My name is Vincent. His name is Barry and his cat is Noa.,\n",
              " Hi there. My name is Vincent. His name is Barry and his cat is Noa.,\n",
              " Hi there. My name is Vincent. His name is Barry and his cat is Noa.,\n",
              " Hi there. My name is Vincent. His name is Barry and his cat is Noa.,\n",
              " Hi there. My name is Vincent. His name is Barry and his cat is Noa.,\n",
              " Hi there. My name is Vincent. His name is Barry and his cat is Noa.,\n",
              " Hi there. My name is Vincent. His name is Barry and his cat is Noa.,\n",
              " Hi there. My name is Vincent. His name is Barry and his cat is Noa.,\n",
              " Hi there. My name is Vincent. His name is Barry and his cat is Noa.,\n",
              " Hi there. My name is Vincent. His name is Barry and his cat is Noa.,\n",
              " Hi there. My name is Vincent. His name is Barry and his cat is Noa.,\n",
              " Hi there. My name is Vincent. His name is Barry and his cat is Noa.,\n",
              " Hi there. My name is Vincent. His name is Barry and his cat is Noa.,\n",
              " Hi there. My name is Vincent. His name is Barry and his cat is Noa.,\n",
              " Hi there. My name is Vincent. His name is Barry and his cat is Noa.,\n",
              " Hi there. My name is Vincent. His name is Barry and his cat is Noa.,\n",
              " Hi there. My name is Vincent. His name is Barry and his cat is Noa.,\n",
              " Hi there. My name is Vincent. His name is Barry and his cat is Noa.,\n",
              " Hi there. My name is Vincent. His name is Barry and his cat is Noa.,\n",
              " Hi there. My name is Vincent. His name is Barry and his cat is Noa.,\n",
              " Hi there. My name is Vincent. His name is Barry and his cat is Noa.,\n",
              " Hi there. My name is Vincent. His name is Barry and his cat is Noa.,\n",
              " Hi there. My name is Vincent. His name is Barry and his cat is Noa.,\n",
              " Hi there. My name is Vincent. His name is Barry and his cat is Noa.,\n",
              " Hi there. My name is Vincent. His name is Barry and his cat is Noa.,\n",
              " Hi there. My name is Vincent. His name is Barry and his cat is Noa.,\n",
              " Hi there. My name is Vincent. His name is Barry and his cat is Noa.,\n",
              " Hi there. My name is Vincent. His name is Barry and his cat is Noa.,\n",
              " Hi there. My name is Vincent. His name is Barry and his cat is Noa.,\n",
              " Hi there. My name is Vincent. His name is Barry and his cat is Noa.,\n",
              " Hi there. My name is Vincent. His name is Barry and his cat is Noa.,\n",
              " Hi there. My name is Vincent. His name is Barry and his cat is Noa.,\n",
              " Hi there. My name is Vincent. His name is Barry and his cat is Noa.,\n",
              " Hi there. My name is Vincent. His name is Barry and his cat is Noa.,\n",
              " Hi there. My name is Vincent. His name is Barry and his cat is Noa.,\n",
              " Hi there. My name is Vincent. His name is Barry and his cat is Noa.,\n",
              " Hi there. My name is Vincent. His name is Barry and his cat is Noa.,\n",
              " Hi there. My name is Vincent. His name is Barry and his cat is Noa.,\n",
              " Hi there. My name is Vincent. His name is Barry and his cat is Noa.,\n",
              " Hi there. My name is Vincent. His name is Barry and his cat is Noa.,\n",
              " Hi there. My name is Vincent. His name is Barry and his cat is Noa.,\n",
              " Hi there. My name is Vincent. His name is Barry and his cat is Noa.,\n",
              " Hi there. My name is Vincent. His name is Barry and his cat is Noa.,\n",
              " Hi there. My name is Vincent. His name is Barry and his cat is Noa.,\n",
              " Hi there. My name is Vincent. His name is Barry and his cat is Noa.,\n",
              " Hi there. My name is Vincent. His name is Barry and his cat is Noa.,\n",
              " Hi there. My name is Vincent. His name is Barry and his cat is Noa.,\n",
              " Hi there. My name is Vincent. His name is Barry and his cat is Noa.,\n",
              " Hi there. My name is Vincent. His name is Barry and his cat is Noa.,\n",
              " Hi there. My name is Vincent. His name is Barry and his cat is Noa.,\n",
              " Hi there. My name is Vincent. His name is Barry and his cat is Noa.,\n",
              " Hi there. My name is Vincent. His name is Barry and his cat is Noa.,\n",
              " Hi there. My name is Vincent. His name is Barry and his cat is Noa.,\n",
              " Hi there. My name is Vincent. His name is Barry and his cat is Noa.,\n",
              " Hi there. My name is Vincent. His name is Barry and his cat is Noa.,\n",
              " Hi there. My name is Vincent. His name is Barry and his cat is Noa.,\n",
              " Hi there. My name is Vincent. His name is Barry and his cat is Noa.,\n",
              " Hi there. My name is Vincent. His name is Barry and his cat is Noa.,\n",
              " Hi there. My name is Vincent. His name is Barry and his cat is Noa.,\n",
              " Hi there. My name is Vincent. His name is Barry and his cat is Noa.,\n",
              " Hi there. My name is Vincent. His name is Barry and his cat is Noa.,\n",
              " Hi there. My name is Vincent. His name is Barry and his cat is Noa.,\n",
              " Hi there. My name is Vincent. His name is Barry and his cat is Noa.,\n",
              " Hi there. My name is Vincent. His name is Barry and his cat is Noa.,\n",
              " Hi there. My name is Vincent. His name is Barry and his cat is Noa.,\n",
              " Hi there. My name is Vincent. His name is Barry and his cat is Noa.,\n",
              " Hi there. My name is Vincent. His name is Barry and his cat is Noa.,\n",
              " Hi there. My name is Vincent. His name is Barry and his cat is Noa.,\n",
              " Hi there. My name is Vincent. His name is Barry and his cat is Noa.,\n",
              " Hi there. My name is Vincent. His name is Barry and his cat is Noa.,\n",
              " Hi there. My name is Vincent. His name is Barry and his cat is Noa.,\n",
              " Hi there. My name is Vincent. His name is Barry and his cat is Noa.,\n",
              " Hi there. My name is Vincent. His name is Barry and his cat is Noa.,\n",
              " Hi there. My name is Vincent. His name is Barry and his cat is Noa.,\n",
              " Hi there. My name is Vincent. His name is Barry and his cat is Noa.,\n",
              " Hi there. My name is Vincent. His name is Barry and his cat is Noa.,\n",
              " Hi there. My name is Vincent. His name is Barry and his cat is Noa.,\n",
              " Hi there. My name is Vincent. His name is Barry and his cat is Noa.,\n",
              " Hi there. My name is Vincent. His name is Barry and his cat is Noa.,\n",
              " Hi there. My name is Vincent. His name is Barry and his cat is Noa.,\n",
              " Hi there. My name is Vincent. His name is Barry and his cat is Noa.,\n",
              " Hi there. My name is Vincent. His name is Barry and his cat is Noa.,\n",
              " Hi there. My name is Vincent. His name is Barry and his cat is Noa.,\n",
              " Hi there. My name is Vincent. His name is Barry and his cat is Noa.,\n",
              " Hi there. My name is Vincent. His name is Barry and his cat is Noa.,\n",
              " Hi there. My name is Vincent. His name is Barry and his cat is Noa.,\n",
              " Hi there. My name is Vincent. His name is Barry and his cat is Noa.,\n",
              " Hi there. My name is Vincent. His name is Barry and his cat is Noa.,\n",
              " Hi there. My name is Vincent. His name is Barry and his cat is Noa.,\n",
              " Hi there. My name is Vincent. His name is Barry and his cat is Noa.,\n",
              " Hi there. My name is Vincent. His name is Barry and his cat is Noa.,\n",
              " Hi there. My name is Vincent. His name is Barry and his cat is Noa.,\n",
              " Hi there. My name is Vincent. His name is Barry and his cat is Noa.,\n",
              " Hi there. My name is Vincent. His name is Barry and his cat is Noa.,\n",
              " Hi there. My name is Vincent. His name is Barry and his cat is Noa.,\n",
              " Hi there. My name is Vincent. His name is Barry and his cat is Noa.,\n",
              " Hi there. My name is Vincent. His name is Barry and his cat is Noa.,\n",
              " Hi there. My name is Vincent. His name is Barry and his cat is Noa.,\n",
              " Hi there. My name is Vincent. His name is Barry and his cat is Noa.,\n",
              " Hi there. My name is Vincent. His name is Barry and his cat is Noa.,\n",
              " Hi there. My name is Vincent. His name is Barry and his cat is Noa.,\n",
              " Hi there. My name is Vincent. His name is Barry and his cat is Noa.,\n",
              " Hi there. My name is Vincent. His name is Barry and his cat is Noa.,\n",
              " Hi there. My name is Vincent. His name is Barry and his cat is Noa.,\n",
              " Hi there. My name is Vincent. His name is Barry and his cat is Noa.,\n",
              " Hi there. My name is Vincent. His name is Barry and his cat is Noa.,\n",
              " Hi there. My name is Vincent. His name is Barry and his cat is Noa.,\n",
              " Hi there. My name is Vincent. His name is Barry and his cat is Noa.,\n",
              " Hi there. My name is Vincent. His name is Barry and his cat is Noa.,\n",
              " Hi there. My name is Vincent. His name is Barry and his cat is Noa.,\n",
              " Hi there. My name is Vincent. His name is Barry and his cat is Noa.,\n",
              " Hi there. My name is Vincent. His name is Barry and his cat is Noa.,\n",
              " Hi there. My name is Vincent. His name is Barry and his cat is Noa.,\n",
              " Hi there. My name is Vincent. His name is Barry and his cat is Noa.,\n",
              " Hi there. My name is Vincent. His name is Barry and his cat is Noa.,\n",
              " Hi there. My name is Vincent. His name is Barry and his cat is Noa.,\n",
              " Hi there. My name is Vincent. His name is Barry and his cat is Noa.,\n",
              " Hi there. My name is Vincent. His name is Barry and his cat is Noa.,\n",
              " Hi there. My name is Vincent. His name is Barry and his cat is Noa.,\n",
              " Hi there. My name is Vincent. His name is Barry and his cat is Noa.,\n",
              " Hi there. My name is Vincent. His name is Barry and his cat is Noa.,\n",
              " Hi there. My name is Vincent. His name is Barry and his cat is Noa.,\n",
              " Hi there. My name is Vincent. His name is Barry and his cat is Noa.,\n",
              " Hi there. My name is Vincent. His name is Barry and his cat is Noa.,\n",
              " Hi there. My name is Vincent. His name is Barry and his cat is Noa.,\n",
              " Hi there. My name is Vincent. His name is Barry and his cat is Noa.,\n",
              " Hi there. My name is Vincent. His name is Barry and his cat is Noa.,\n",
              " Hi there. My name is Vincent. His name is Barry and his cat is Noa.,\n",
              " Hi there. My name is Vincent. His name is Barry and his cat is Noa.,\n",
              " Hi there. My name is Vincent. His name is Barry and his cat is Noa.,\n",
              " Hi there. My name is Vincent. His name is Barry and his cat is Noa.,\n",
              " Hi there. My name is Vincent. His name is Barry and his cat is Noa.,\n",
              " Hi there. My name is Vincent. His name is Barry and his cat is Noa.,\n",
              " Hi there. My name is Vincent. His name is Barry and his cat is Noa.,\n",
              " Hi there. My name is Vincent. His name is Barry and his cat is Noa.,\n",
              " Hi there. My name is Vincent. His name is Barry and his cat is Noa.,\n",
              " Hi there. My name is Vincent. His name is Barry and his cat is Noa.,\n",
              " Hi there. My name is Vincent. His name is Barry and his cat is Noa.,\n",
              " Hi there. My name is Vincent. His name is Barry and his cat is Noa.,\n",
              " Hi there. My name is Vincent. His name is Barry and his cat is Noa.,\n",
              " Hi there. My name is Vincent. His name is Barry and his cat is Noa.,\n",
              " Hi there. My name is Vincent. His name is Barry and his cat is Noa.,\n",
              " Hi there. My name is Vincent. His name is Barry and his cat is Noa.,\n",
              " Hi there. My name is Vincent. His name is Barry and his cat is Noa.,\n",
              " Hi there. My name is Vincent. His name is Barry and his cat is Noa.,\n",
              " Hi there. My name is Vincent. His name is Barry and his cat is Noa.,\n",
              " Hi there. My name is Vincent. His name is Barry and his cat is Noa.,\n",
              " Hi there. My name is Vincent. His name is Barry and his cat is Noa.,\n",
              " Hi there. My name is Vincent. His name is Barry and his cat is Noa.,\n",
              " Hi there. My name is Vincent. His name is Barry and his cat is Noa.,\n",
              " Hi there. My name is Vincent. His name is Barry and his cat is Noa.,\n",
              " Hi there. My name is Vincent. His name is Barry and his cat is Noa.,\n",
              " Hi there. My name is Vincent. His name is Barry and his cat is Noa.,\n",
              " Hi there. My name is Vincent. His name is Barry and his cat is Noa.,\n",
              " Hi there. My name is Vincent. His name is Barry and his cat is Noa.,\n",
              " Hi there. My name is Vincent. His name is Barry and his cat is Noa.,\n",
              " Hi there. My name is Vincent. His name is Barry and his cat is Noa.,\n",
              " Hi there. My name is Vincent. His name is Barry and his cat is Noa.,\n",
              " Hi there. My name is Vincent. His name is Barry and his cat is Noa.,\n",
              " Hi there. My name is Vincent. His name is Barry and his cat is Noa.,\n",
              " Hi there. My name is Vincent. His name is Barry and his cat is Noa.,\n",
              " Hi there. My name is Vincent. His name is Barry and his cat is Noa.,\n",
              " Hi there. My name is Vincent. His name is Barry and his cat is Noa.,\n",
              " Hi there. My name is Vincent. His name is Barry and his cat is Noa.,\n",
              " Hi there. My name is Vincent. His name is Barry and his cat is Noa.,\n",
              " Hi there. My name is Vincent. His name is Barry and his cat is Noa.,\n",
              " Hi there. My name is Vincent. His name is Barry and his cat is Noa.,\n",
              " Hi there. My name is Vincent. His name is Barry and his cat is Noa.,\n",
              " Hi there. My name is Vincent. His name is Barry and his cat is Noa.,\n",
              " Hi there. My name is Vincent. His name is Barry and his cat is Noa.,\n",
              " Hi there. My name is Vincent. His name is Barry and his cat is Noa.,\n",
              " Hi there. My name is Vincent. His name is Barry and his cat is Noa.,\n",
              " Hi there. My name is Vincent. His name is Barry and his cat is Noa.,\n",
              " Hi there. My name is Vincent. His name is Barry and his cat is Noa.,\n",
              " Hi there. My name is Vincent. His name is Barry and his cat is Noa.,\n",
              " Hi there. My name is Vincent. His name is Barry and his cat is Noa.,\n",
              " Hi there. My name is Vincent. His name is Barry and his cat is Noa.,\n",
              " Hi there. My name is Vincent. His name is Barry and his cat is Noa.,\n",
              " Hi there. My name is Vincent. His name is Barry and his cat is Noa.,\n",
              " Hi there. My name is Vincent. His name is Barry and his cat is Noa.,\n",
              " Hi there. My name is Vincent. His name is Barry and his cat is Noa.,\n",
              " Hi there. My name is Vincent. His name is Barry and his cat is Noa.,\n",
              " Hi there. My name is Vincent. His name is Barry and his cat is Noa.,\n",
              " Hi there. My name is Vincent. His name is Barry and his cat is Noa.,\n",
              " Hi there. My name is Vincent. His name is Barry and his cat is Noa.,\n",
              " Hi there. My name is Vincent. His name is Barry and his cat is Noa.,\n",
              " Hi there. My name is Vincent. His name is Barry and his cat is Noa.,\n",
              " Hi there. My name is Vincent. His name is Barry and his cat is Noa.,\n",
              " Hi there. My name is Vincent. His name is Barry and his cat is Noa.,\n",
              " Hi there. My name is Vincent. His name is Barry and his cat is Noa.,\n",
              " Hi there. My name is Vincent. His name is Barry and his cat is Noa.,\n",
              " Hi there. My name is Vincent. His name is Barry and his cat is Noa.,\n",
              " Hi there. My name is Vincent. His name is Barry and his cat is Noa.,\n",
              " Hi there. My name is Vincent. His name is Barry and his cat is Noa.,\n",
              " Hi there. My name is Vincent. His name is Barry and his cat is Noa.,\n",
              " Hi there. My name is Vincent. His name is Barry and his cat is Noa.,\n",
              " Hi there. My name is Vincent. His name is Barry and his cat is Noa.,\n",
              " Hi there. My name is Vincent. His name is Barry and his cat is Noa.,\n",
              " Hi there. My name is Vincent. His name is Barry and his cat is Noa.,\n",
              " Hi there. My name is Vincent. His name is Barry and his cat is Noa.,\n",
              " Hi there. My name is Vincent. His name is Barry and his cat is Noa.,\n",
              " Hi there. My name is Vincent. His name is Barry and his cat is Noa.,\n",
              " Hi there. My name is Vincent. His name is Barry and his cat is Noa.,\n",
              " Hi there. My name is Vincent. His name is Barry and his cat is Noa.,\n",
              " Hi there. My name is Vincent. His name is Barry and his cat is Noa.,\n",
              " Hi there. My name is Vincent. His name is Barry and his cat is Noa.,\n",
              " Hi there. My name is Vincent. His name is Barry and his cat is Noa.,\n",
              " Hi there. My name is Vincent. His name is Barry and his cat is Noa.,\n",
              " Hi there. My name is Vincent. His name is Barry and his cat is Noa.,\n",
              " Hi there. My name is Vincent. His name is Barry and his cat is Noa.,\n",
              " Hi there. My name is Vincent. His name is Barry and his cat is Noa.,\n",
              " Hi there. My name is Vincent. His name is Barry and his cat is Noa.,\n",
              " Hi there. My name is Vincent. His name is Barry and his cat is Noa.,\n",
              " Hi there. My name is Vincent. His name is Barry and his cat is Noa.,\n",
              " Hi there. My name is Vincent. His name is Barry and his cat is Noa.,\n",
              " Hi there. My name is Vincent. His name is Barry and his cat is Noa.,\n",
              " Hi there. My name is Vincent. His name is Barry and his cat is Noa.,\n",
              " Hi there. My name is Vincent. His name is Barry and his cat is Noa.,\n",
              " Hi there. My name is Vincent. His name is Barry and his cat is Noa.,\n",
              " Hi there. My name is Vincent. His name is Barry and his cat is Noa.,\n",
              " Hi there. My name is Vincent. His name is Barry and his cat is Noa.,\n",
              " Hi there. My name is Vincent. His name is Barry and his cat is Noa.,\n",
              " Hi there. My name is Vincent. His name is Barry and his cat is Noa.,\n",
              " Hi there. My name is Vincent. His name is Barry and his cat is Noa.,\n",
              " Hi there. My name is Vincent. His name is Barry and his cat is Noa.,\n",
              " Hi there. My name is Vincent. His name is Barry and his cat is Noa.,\n",
              " Hi there. My name is Vincent. His name is Barry and his cat is Noa.,\n",
              " Hi there. My name is Vincent. His name is Barry and his cat is Noa.,\n",
              " Hi there. My name is Vincent. His name is Barry and his cat is Noa.,\n",
              " Hi there. My name is Vincent. His name is Barry and his cat is Noa.,\n",
              " Hi there. My name is Vincent. His name is Barry and his cat is Noa.,\n",
              " Hi there. My name is Vincent. His name is Barry and his cat is Noa.,\n",
              " Hi there. My name is Vincent. His name is Barry and his cat is Noa.,\n",
              " Hi there. My name is Vincent. His name is Barry and his cat is Noa.,\n",
              " Hi there. My name is Vincent. His name is Barry and his cat is Noa.,\n",
              " Hi there. My name is Vincent. His name is Barry and his cat is Noa.,\n",
              " Hi there. My name is Vincent. His name is Barry and his cat is Noa.,\n",
              " Hi there. My name is Vincent. His name is Barry and his cat is Noa.,\n",
              " Hi there. My name is Vincent. His name is Barry and his cat is Noa.,\n",
              " Hi there. My name is Vincent. His name is Barry and his cat is Noa.,\n",
              " Hi there. My name is Vincent. His name is Barry and his cat is Noa.,\n",
              " Hi there. My name is Vincent. His name is Barry and his cat is Noa.,\n",
              " Hi there. My name is Vincent. His name is Barry and his cat is Noa.,\n",
              " Hi there. My name is Vincent. His name is Barry and his cat is Noa.,\n",
              " Hi there. My name is Vincent. His name is Barry and his cat is Noa.,\n",
              " Hi there. My name is Vincent. His name is Barry and his cat is Noa.,\n",
              " Hi there. My name is Vincent. His name is Barry and his cat is Noa.,\n",
              " Hi there. My name is Vincent. His name is Barry and his cat is Noa.,\n",
              " Hi there. My name is Vincent. His name is Barry and his cat is Noa.,\n",
              " Hi there. My name is Vincent. His name is Barry and his cat is Noa.,\n",
              " Hi there. My name is Vincent. His name is Barry and his cat is Noa.,\n",
              " Hi there. My name is Vincent. His name is Barry and his cat is Noa.,\n",
              " Hi there. My name is Vincent. His name is Barry and his cat is Noa.,\n",
              " Hi there. My name is Vincent. His name is Barry and his cat is Noa.,\n",
              " Hi there. My name is Vincent. His name is Barry and his cat is Noa.,\n",
              " Hi there. My name is Vincent. His name is Barry and his cat is Noa.,\n",
              " Hi there. My name is Vincent. His name is Barry and his cat is Noa.,\n",
              " Hi there. My name is Vincent. His name is Barry and his cat is Noa.,\n",
              " Hi there. My name is Vincent. His name is Barry and his cat is Noa.,\n",
              " Hi there. My name is Vincent. His name is Barry and his cat is Noa.,\n",
              " Hi there. My name is Vincent. His name is Barry and his cat is Noa.,\n",
              " Hi there. My name is Vincent. His name is Barry and his cat is Noa.,\n",
              " Hi there. My name is Vincent. His name is Barry and his cat is Noa.,\n",
              " Hi there. My name is Vincent. His name is Barry and his cat is Noa.,\n",
              " Hi there. My name is Vincent. His name is Barry and his cat is Noa.,\n",
              " Hi there. My name is Vincent. His name is Barry and his cat is Noa.,\n",
              " Hi there. My name is Vincent. His name is Barry and his cat is Noa.,\n",
              " Hi there. My name is Vincent. His name is Barry and his cat is Noa.,\n",
              " Hi there. My name is Vincent. His name is Barry and his cat is Noa.,\n",
              " Hi there. My name is Vincent. His name is Barry and his cat is Noa.,\n",
              " Hi there. My name is Vincent. His name is Barry and his cat is Noa.,\n",
              " Hi there. My name is Vincent. His name is Barry and his cat is Noa.,\n",
              " Hi there. My name is Vincent. His name is Barry and his cat is Noa.,\n",
              " Hi there. My name is Vincent. His name is Barry and his cat is Noa.,\n",
              " Hi there. My name is Vincent. His name is Barry and his cat is Noa.,\n",
              " Hi there. My name is Vincent. His name is Barry and his cat is Noa.,\n",
              " Hi there. My name is Vincent. His name is Barry and his cat is Noa.,\n",
              " Hi there. My name is Vincent. His name is Barry and his cat is Noa.,\n",
              " Hi there. My name is Vincent. His name is Barry and his cat is Noa.,\n",
              " Hi there. My name is Vincent. His name is Barry and his cat is Noa.,\n",
              " Hi there. My name is Vincent. His name is Barry and his cat is Noa.,\n",
              " Hi there. My name is Vincent. His name is Barry and his cat is Noa.,\n",
              " Hi there. My name is Vincent. His name is Barry and his cat is Noa.,\n",
              " Hi there. My name is Vincent. His name is Barry and his cat is Noa.,\n",
              " Hi there. My name is Vincent. His name is Barry and his cat is Noa.,\n",
              " Hi there. My name is Vincent. His name is Barry and his cat is Noa.,\n",
              " Hi there. My name is Vincent. His name is Barry and his cat is Noa.,\n",
              " Hi there. My name is Vincent. His name is Barry and his cat is Noa.,\n",
              " Hi there. My name is Vincent. His name is Barry and his cat is Noa.,\n",
              " Hi there. My name is Vincent. His name is Barry and his cat is Noa.,\n",
              " Hi there. My name is Vincent. His name is Barry and his cat is Noa.,\n",
              " Hi there. My name is Vincent. His name is Barry and his cat is Noa.,\n",
              " Hi there. My name is Vincent. His name is Barry and his cat is Noa.,\n",
              " Hi there. My name is Vincent. His name is Barry and his cat is Noa.,\n",
              " Hi there. My name is Vincent. His name is Barry and his cat is Noa.,\n",
              " Hi there. My name is Vincent. His name is Barry and his cat is Noa.,\n",
              " Hi there. My name is Vincent. His name is Barry and his cat is Noa.,\n",
              " Hi there. My name is Vincent. His name is Barry and his cat is Noa.,\n",
              " Hi there. My name is Vincent. His name is Barry and his cat is Noa.,\n",
              " Hi there. My name is Vincent. His name is Barry and his cat is Noa.,\n",
              " Hi there. My name is Vincent. His name is Barry and his cat is Noa.,\n",
              " Hi there. My name is Vincent. His name is Barry and his cat is Noa.,\n",
              " Hi there. My name is Vincent. His name is Barry and his cat is Noa.,\n",
              " Hi there. My name is Vincent. His name is Barry and his cat is Noa.,\n",
              " Hi there. My name is Vincent. His name is Barry and his cat is Noa.,\n",
              " Hi there. My name is Vincent. His name is Barry and his cat is Noa.,\n",
              " Hi there. My name is Vincent. His name is Barry and his cat is Noa.,\n",
              " Hi there. My name is Vincent. His name is Barry and his cat is Noa.,\n",
              " Hi there. My name is Vincent. His name is Barry and his cat is Noa.,\n",
              " Hi there. My name is Vincent. His name is Barry and his cat is Noa.,\n",
              " Hi there. My name is Vincent. His name is Barry and his cat is Noa.,\n",
              " Hi there. My name is Vincent. His name is Barry and his cat is Noa.,\n",
              " Hi there. My name is Vincent. His name is Barry and his cat is Noa.,\n",
              " Hi there. My name is Vincent. His name is Barry and his cat is Noa.,\n",
              " Hi there. My name is Vincent. His name is Barry and his cat is Noa.,\n",
              " Hi there. My name is Vincent. His name is Barry and his cat is Noa.,\n",
              " Hi there. My name is Vincent. His name is Barry and his cat is Noa.,\n",
              " Hi there. My name is Vincent. His name is Barry and his cat is Noa.,\n",
              " Hi there. My name is Vincent. His name is Barry and his cat is Noa.,\n",
              " Hi there. My name is Vincent. His name is Barry and his cat is Noa.,\n",
              " Hi there. My name is Vincent. His name is Barry and his cat is Noa.,\n",
              " Hi there. My name is Vincent. His name is Barry and his cat is Noa.,\n",
              " Hi there. My name is Vincent. His name is Barry and his cat is Noa.,\n",
              " Hi there. My name is Vincent. His name is Barry and his cat is Noa.,\n",
              " Hi there. My name is Vincent. His name is Barry and his cat is Noa.]"
            ]
          },
          "metadata": {},
          "execution_count": 79
        }
      ]
    },
    {
      "cell_type": "code",
      "source": [
        "displacy.render(nlp(\"I really enjoy using FastAPI but for a proper webapp maybe something like Django is better because it comes with a big ORM.\"), style='ent')"
      ],
      "metadata": {
        "colab": {
          "base_uri": "https://localhost:8080/",
          "height": 52
        },
        "id": "6kJCKDyKLsQ1",
        "outputId": "189618c1-a853-4254-e377-cdd5d8fe60e1"
      },
      "execution_count": 80,
      "outputs": [
        {
          "output_type": "display_data",
          "data": {
            "text/plain": [
              "<IPython.core.display.HTML object>"
            ],
            "text/html": [
              "<span class=\"tex2jax_ignore\"><div class=\"entities\" style=\"line-height: 2.5; direction: ltr\">I really enjoy using \n",
              "<mark class=\"entity\" style=\"background: #bfeeb7; padding: 0.45em 0.6em; margin: 0 0.25em; line-height: 1; border-radius: 0.35em;\">\n",
              "    FastAPI\n",
              "    <span style=\"font-size: 0.8em; font-weight: bold; line-height: 1; border-radius: 0.35em; vertical-align: middle; margin-left: 0.5rem\">PRODUCT</span>\n",
              "</mark>\n",
              " but for a proper webapp maybe something like \n",
              "<mark class=\"entity\" style=\"background: #aa9cfc; padding: 0.45em 0.6em; margin: 0 0.25em; line-height: 1; border-radius: 0.35em;\">\n",
              "    Django\n",
              "    <span style=\"font-size: 0.8em; font-weight: bold; line-height: 1; border-radius: 0.35em; vertical-align: middle; margin-left: 0.5rem\">PERSON</span>\n",
              "</mark>\n",
              " is better because it comes with a big ORM.</div></span>"
            ]
          },
          "metadata": {}
        }
      ]
    },
    {
      "cell_type": "code",
      "source": [
        "displacy.render(nlp(\"I really enjoy using FastAPI but for a proper webapp maybe something like Flask is better because it comes with a big ORM.\"), style='ent')"
      ],
      "metadata": {
        "colab": {
          "base_uri": "https://localhost:8080/",
          "height": 52
        },
        "id": "2K5toFWOMOvl",
        "outputId": "ff672cf4-ab90-422a-f9aa-e082c72aca98"
      },
      "execution_count": 81,
      "outputs": [
        {
          "output_type": "display_data",
          "data": {
            "text/plain": [
              "<IPython.core.display.HTML object>"
            ],
            "text/html": [
              "<span class=\"tex2jax_ignore\"><div class=\"entities\" style=\"line-height: 2.5; direction: ltr\">I really enjoy using \n",
              "<mark class=\"entity\" style=\"background: #bfeeb7; padding: 0.45em 0.6em; margin: 0 0.25em; line-height: 1; border-radius: 0.35em;\">\n",
              "    FastAPI\n",
              "    <span style=\"font-size: 0.8em; font-weight: bold; line-height: 1; border-radius: 0.35em; vertical-align: middle; margin-left: 0.5rem\">PRODUCT</span>\n",
              "</mark>\n",
              " but for a proper webapp maybe something like \n",
              "<mark class=\"entity\" style=\"background: #7aecec; padding: 0.45em 0.6em; margin: 0 0.25em; line-height: 1; border-radius: 0.35em;\">\n",
              "    Flask\n",
              "    <span style=\"font-size: 0.8em; font-weight: bold; line-height: 1; border-radius: 0.35em; vertical-align: middle; margin-left: 0.5rem\">ORG</span>\n",
              "</mark>\n",
              " is better because it comes with a big ORM.</div></span>"
            ]
          },
          "metadata": {}
        }
      ]
    },
    {
      "cell_type": "code",
      "source": [
        "%pip install gliner"
      ],
      "metadata": {
        "colab": {
          "base_uri": "https://localhost:8080/",
          "height": 1000
        },
        "id": "aw1vl_YQMn4V",
        "outputId": "c38ac29e-abe8-4e2c-a15b-55ade53e618b"
      },
      "execution_count": 83,
      "outputs": [
        {
          "output_type": "stream",
          "name": "stdout",
          "text": [
            "Collecting gliner\n",
            "  Downloading gliner-0.2.2-py3-none-any.whl (30 kB)\n",
            "Requirement already satisfied: torch>=2.0.0 in /usr/local/lib/python3.10/dist-packages (from gliner) (2.3.0+cu121)\n",
            "Requirement already satisfied: transformers>=4.38.2 in /usr/local/lib/python3.10/dist-packages (from gliner) (4.41.2)\n",
            "Requirement already satisfied: huggingface-hub>=0.21.4 in /usr/local/lib/python3.10/dist-packages (from gliner) (0.23.2)\n",
            "Collecting flair==0.13.1 (from gliner)\n",
            "  Downloading flair-0.13.1-py3-none-any.whl (388 kB)\n",
            "\u001b[2K     \u001b[90m━━━━━━━━━━━━━━━━━━━━━━━━━━━━━━━━━━━━━━━━\u001b[0m \u001b[32m388.3/388.3 kB\u001b[0m \u001b[31m3.0 MB/s\u001b[0m eta \u001b[36m0:00:00\u001b[0m\n",
            "\u001b[?25hRequirement already satisfied: scipy<=1.12 in /usr/local/lib/python3.10/dist-packages (from gliner) (1.11.4)\n",
            "Collecting seqeval (from gliner)\n",
            "  Downloading seqeval-1.2.2.tar.gz (43 kB)\n",
            "\u001b[2K     \u001b[90m━━━━━━━━━━━━━━━━━━━━━━━━━━━━━━━━━━━━━━━━\u001b[0m \u001b[32m43.6/43.6 kB\u001b[0m \u001b[31m4.8 MB/s\u001b[0m eta \u001b[36m0:00:00\u001b[0m\n",
            "\u001b[?25h  Preparing metadata (setup.py) ... \u001b[?25l\u001b[?25hdone\n",
            "Requirement already satisfied: tqdm in /usr/local/lib/python3.10/dist-packages (from gliner) (4.66.4)\n",
            "Collecting boto3>=1.20.27 (from flair==0.13.1->gliner)\n",
            "  Downloading boto3-1.34.122-py3-none-any.whl (139 kB)\n",
            "\u001b[2K     \u001b[90m━━━━━━━━━━━━━━━━━━━━━━━━━━━━━━━━━━━━━━━━\u001b[0m \u001b[32m139.3/139.3 kB\u001b[0m \u001b[31m15.8 MB/s\u001b[0m eta \u001b[36m0:00:00\u001b[0m\n",
            "\u001b[?25hCollecting bpemb>=0.3.2 (from flair==0.13.1->gliner)\n",
            "  Downloading bpemb-0.3.5-py3-none-any.whl (19 kB)\n",
            "Collecting conllu>=4.0 (from flair==0.13.1->gliner)\n",
            "  Downloading conllu-4.5.3-py2.py3-none-any.whl (16 kB)\n",
            "Collecting deprecated>=1.2.13 (from flair==0.13.1->gliner)\n",
            "  Downloading Deprecated-1.2.14-py2.py3-none-any.whl (9.6 kB)\n",
            "Collecting ftfy>=6.1.0 (from flair==0.13.1->gliner)\n",
            "  Downloading ftfy-6.2.0-py3-none-any.whl (54 kB)\n",
            "\u001b[2K     \u001b[90m━━━━━━━━━━━━━━━━━━━━━━━━━━━━━━━━━━━━━━━━\u001b[0m \u001b[32m54.4/54.4 kB\u001b[0m \u001b[31m5.7 MB/s\u001b[0m eta \u001b[36m0:00:00\u001b[0m\n",
            "\u001b[?25hRequirement already satisfied: gdown>=4.4.0 in /usr/local/lib/python3.10/dist-packages (from flair==0.13.1->gliner) (5.1.0)\n",
            "Requirement already satisfied: gensim>=4.2.0 in /usr/local/lib/python3.10/dist-packages (from flair==0.13.1->gliner) (4.3.2)\n",
            "Collecting janome>=0.4.2 (from flair==0.13.1->gliner)\n",
            "  Downloading Janome-0.5.0-py2.py3-none-any.whl (19.7 MB)\n",
            "\u001b[2K     \u001b[90m━━━━━━━━━━━━━━━━━━━━━━━━━━━━━━━━━━━━━━━━\u001b[0m \u001b[32m19.7/19.7 MB\u001b[0m \u001b[31m37.2 MB/s\u001b[0m eta \u001b[36m0:00:00\u001b[0m\n",
            "\u001b[?25hCollecting langdetect>=1.0.9 (from flair==0.13.1->gliner)\n",
            "  Downloading langdetect-1.0.9.tar.gz (981 kB)\n",
            "\u001b[2K     \u001b[90m━━━━━━━━━━━━━━━━━━━━━━━━━━━━━━━━━━━━━━━━\u001b[0m \u001b[32m981.5/981.5 kB\u001b[0m \u001b[31m65.2 MB/s\u001b[0m eta \u001b[36m0:00:00\u001b[0m\n",
            "\u001b[?25h  Preparing metadata (setup.py) ... \u001b[?25l\u001b[?25hdone\n",
            "Requirement already satisfied: lxml>=4.8.0 in /usr/local/lib/python3.10/dist-packages (from flair==0.13.1->gliner) (4.9.4)\n",
            "Requirement already satisfied: matplotlib>=2.2.3 in /usr/local/lib/python3.10/dist-packages (from flair==0.13.1->gliner) (3.7.1)\n",
            "Requirement already satisfied: more-itertools>=8.13.0 in /usr/local/lib/python3.10/dist-packages (from flair==0.13.1->gliner) (10.1.0)\n",
            "Collecting mpld3>=0.3 (from flair==0.13.1->gliner)\n",
            "  Downloading mpld3-0.5.10-py3-none-any.whl (202 kB)\n",
            "\u001b[2K     \u001b[90m━━━━━━━━━━━━━━━━━━━━━━━━━━━━━━━━━━━━━━━━\u001b[0m \u001b[32m202.6/202.6 kB\u001b[0m \u001b[31m24.4 MB/s\u001b[0m eta \u001b[36m0:00:00\u001b[0m\n",
            "\u001b[?25hCollecting pptree>=3.1 (from flair==0.13.1->gliner)\n",
            "  Downloading pptree-3.1.tar.gz (3.0 kB)\n",
            "  Preparing metadata (setup.py) ... \u001b[?25l\u001b[?25hdone\n",
            "Requirement already satisfied: python-dateutil>=2.8.2 in /usr/local/lib/python3.10/dist-packages (from flair==0.13.1->gliner) (2.8.2)\n",
            "Collecting pytorch-revgrad>=0.2.0 (from flair==0.13.1->gliner)\n",
            "  Downloading pytorch_revgrad-0.2.0-py3-none-any.whl (4.6 kB)\n",
            "Requirement already satisfied: regex>=2022.1.18 in /usr/local/lib/python3.10/dist-packages (from flair==0.13.1->gliner) (2024.5.15)\n",
            "Requirement already satisfied: scikit-learn>=1.0.2 in /usr/local/lib/python3.10/dist-packages (from flair==0.13.1->gliner) (1.2.2)\n",
            "Collecting segtok>=1.5.11 (from flair==0.13.1->gliner)\n",
            "  Downloading segtok-1.5.11-py3-none-any.whl (24 kB)\n",
            "Collecting sqlitedict>=2.0.0 (from flair==0.13.1->gliner)\n",
            "  Downloading sqlitedict-2.1.0.tar.gz (21 kB)\n",
            "  Preparing metadata (setup.py) ... \u001b[?25l\u001b[?25hdone\n",
            "Requirement already satisfied: tabulate>=0.8.10 in /usr/local/lib/python3.10/dist-packages (from flair==0.13.1->gliner) (0.9.0)\n",
            "Collecting transformer-smaller-training-vocab>=0.2.3 (from flair==0.13.1->gliner)\n",
            "  Downloading transformer_smaller_training_vocab-0.4.0-py3-none-any.whl (14 kB)\n",
            "Collecting urllib3<2.0.0,>=1.0.0 (from flair==0.13.1->gliner)\n",
            "  Downloading urllib3-1.26.18-py2.py3-none-any.whl (143 kB)\n",
            "\u001b[2K     \u001b[90m━━━━━━━━━━━━━━━━━━━━━━━━━━━━━━━━━━━━━━━━\u001b[0m \u001b[32m143.8/143.8 kB\u001b[0m \u001b[31m19.0 MB/s\u001b[0m eta \u001b[36m0:00:00\u001b[0m\n",
            "\u001b[?25hCollecting wikipedia-api>=0.5.7 (from flair==0.13.1->gliner)\n",
            "  Downloading Wikipedia_API-0.6.0-py3-none-any.whl (14 kB)\n",
            "Collecting semver<4.0.0,>=3.0.0 (from flair==0.13.1->gliner)\n",
            "  Downloading semver-3.0.2-py3-none-any.whl (17 kB)\n",
            "Requirement already satisfied: filelock in /usr/local/lib/python3.10/dist-packages (from huggingface-hub>=0.21.4->gliner) (3.14.0)\n",
            "Requirement already satisfied: fsspec>=2023.5.0 in /usr/local/lib/python3.10/dist-packages (from huggingface-hub>=0.21.4->gliner) (2023.6.0)\n",
            "Requirement already satisfied: packaging>=20.9 in /usr/local/lib/python3.10/dist-packages (from huggingface-hub>=0.21.4->gliner) (24.0)\n",
            "Requirement already satisfied: pyyaml>=5.1 in /usr/local/lib/python3.10/dist-packages (from huggingface-hub>=0.21.4->gliner) (6.0.1)\n",
            "Requirement already satisfied: requests in /usr/local/lib/python3.10/dist-packages (from huggingface-hub>=0.21.4->gliner) (2.31.0)\n",
            "Requirement already satisfied: typing-extensions>=3.7.4.3 in /usr/local/lib/python3.10/dist-packages (from huggingface-hub>=0.21.4->gliner) (4.12.1)\n",
            "Requirement already satisfied: numpy<1.28.0,>=1.21.6 in /usr/local/lib/python3.10/dist-packages (from scipy<=1.12->gliner) (1.25.2)\n",
            "Requirement already satisfied: sympy in /usr/local/lib/python3.10/dist-packages (from torch>=2.0.0->gliner) (1.12.1)\n",
            "Requirement already satisfied: networkx in /usr/local/lib/python3.10/dist-packages (from torch>=2.0.0->gliner) (3.3)\n",
            "Requirement already satisfied: jinja2 in /usr/local/lib/python3.10/dist-packages (from torch>=2.0.0->gliner) (3.1.4)\n",
            "Collecting nvidia-cuda-nvrtc-cu12==12.1.105 (from torch>=2.0.0->gliner)\n",
            "  Using cached nvidia_cuda_nvrtc_cu12-12.1.105-py3-none-manylinux1_x86_64.whl (23.7 MB)\n",
            "Collecting nvidia-cuda-runtime-cu12==12.1.105 (from torch>=2.0.0->gliner)\n",
            "  Using cached nvidia_cuda_runtime_cu12-12.1.105-py3-none-manylinux1_x86_64.whl (823 kB)\n",
            "Collecting nvidia-cuda-cupti-cu12==12.1.105 (from torch>=2.0.0->gliner)\n",
            "  Using cached nvidia_cuda_cupti_cu12-12.1.105-py3-none-manylinux1_x86_64.whl (14.1 MB)\n",
            "Collecting nvidia-cudnn-cu12==8.9.2.26 (from torch>=2.0.0->gliner)\n",
            "  Using cached nvidia_cudnn_cu12-8.9.2.26-py3-none-manylinux1_x86_64.whl (731.7 MB)\n",
            "Collecting nvidia-cublas-cu12==12.1.3.1 (from torch>=2.0.0->gliner)\n",
            "  Using cached nvidia_cublas_cu12-12.1.3.1-py3-none-manylinux1_x86_64.whl (410.6 MB)\n",
            "Collecting nvidia-cufft-cu12==11.0.2.54 (from torch>=2.0.0->gliner)\n",
            "  Using cached nvidia_cufft_cu12-11.0.2.54-py3-none-manylinux1_x86_64.whl (121.6 MB)\n",
            "Collecting nvidia-curand-cu12==10.3.2.106 (from torch>=2.0.0->gliner)\n",
            "  Using cached nvidia_curand_cu12-10.3.2.106-py3-none-manylinux1_x86_64.whl (56.5 MB)\n",
            "Collecting nvidia-cusolver-cu12==11.4.5.107 (from torch>=2.0.0->gliner)\n",
            "  Using cached nvidia_cusolver_cu12-11.4.5.107-py3-none-manylinux1_x86_64.whl (124.2 MB)\n",
            "Collecting nvidia-cusparse-cu12==12.1.0.106 (from torch>=2.0.0->gliner)\n",
            "  Using cached nvidia_cusparse_cu12-12.1.0.106-py3-none-manylinux1_x86_64.whl (196.0 MB)\n",
            "Collecting nvidia-nccl-cu12==2.20.5 (from torch>=2.0.0->gliner)\n",
            "  Using cached nvidia_nccl_cu12-2.20.5-py3-none-manylinux2014_x86_64.whl (176.2 MB)\n",
            "Collecting nvidia-nvtx-cu12==12.1.105 (from torch>=2.0.0->gliner)\n",
            "  Using cached nvidia_nvtx_cu12-12.1.105-py3-none-manylinux1_x86_64.whl (99 kB)\n",
            "Requirement already satisfied: triton==2.3.0 in /usr/local/lib/python3.10/dist-packages (from torch>=2.0.0->gliner) (2.3.0)\n",
            "Collecting nvidia-nvjitlink-cu12 (from nvidia-cusolver-cu12==11.4.5.107->torch>=2.0.0->gliner)\n",
            "  Downloading nvidia_nvjitlink_cu12-12.5.40-py3-none-manylinux2014_x86_64.whl (21.3 MB)\n",
            "\u001b[2K     \u001b[90m━━━━━━━━━━━━━━━━━━━━━━━━━━━━━━━━━━━━━━━━\u001b[0m \u001b[32m21.3/21.3 MB\u001b[0m \u001b[31m24.6 MB/s\u001b[0m eta \u001b[36m0:00:00\u001b[0m\n",
            "\u001b[?25hRequirement already satisfied: tokenizers<0.20,>=0.19 in /usr/local/lib/python3.10/dist-packages (from transformers>=4.38.2->gliner) (0.19.1)\n",
            "Requirement already satisfied: safetensors>=0.4.1 in /usr/local/lib/python3.10/dist-packages (from transformers>=4.38.2->gliner) (0.4.3)\n",
            "Collecting botocore<1.35.0,>=1.34.122 (from boto3>=1.20.27->flair==0.13.1->gliner)\n",
            "  Downloading botocore-1.34.122-py3-none-any.whl (12.3 MB)\n",
            "\u001b[2K     \u001b[90m━━━━━━━━━━━━━━━━━━━━━━━━━━━━━━━━━━━━━━━━\u001b[0m \u001b[32m12.3/12.3 MB\u001b[0m \u001b[31m53.9 MB/s\u001b[0m eta \u001b[36m0:00:00\u001b[0m\n",
            "\u001b[?25hCollecting jmespath<2.0.0,>=0.7.1 (from boto3>=1.20.27->flair==0.13.1->gliner)\n",
            "  Downloading jmespath-1.0.1-py3-none-any.whl (20 kB)\n",
            "Collecting s3transfer<0.11.0,>=0.10.0 (from boto3>=1.20.27->flair==0.13.1->gliner)\n",
            "  Downloading s3transfer-0.10.1-py3-none-any.whl (82 kB)\n",
            "\u001b[2K     \u001b[90m━━━━━━━━━━━━━━━━━━━━━━━━━━━━━━━━━━━━━━━━\u001b[0m \u001b[32m82.2/82.2 kB\u001b[0m \u001b[31m11.1 MB/s\u001b[0m eta \u001b[36m0:00:00\u001b[0m\n",
            "\u001b[?25hRequirement already satisfied: sentencepiece in /usr/local/lib/python3.10/dist-packages (from bpemb>=0.3.2->flair==0.13.1->gliner) (0.1.99)\n",
            "Requirement already satisfied: wrapt<2,>=1.10 in /usr/local/lib/python3.10/dist-packages (from deprecated>=1.2.13->flair==0.13.1->gliner) (1.14.1)\n",
            "Requirement already satisfied: wcwidth<0.3.0,>=0.2.12 in /usr/local/lib/python3.10/dist-packages (from ftfy>=6.1.0->flair==0.13.1->gliner) (0.2.13)\n",
            "Requirement already satisfied: beautifulsoup4 in /usr/local/lib/python3.10/dist-packages (from gdown>=4.4.0->flair==0.13.1->gliner) (4.12.3)\n",
            "Requirement already satisfied: smart-open>=1.8.1 in /usr/local/lib/python3.10/dist-packages (from gensim>=4.2.0->flair==0.13.1->gliner) (6.4.0)\n",
            "Requirement already satisfied: six in /usr/local/lib/python3.10/dist-packages (from langdetect>=1.0.9->flair==0.13.1->gliner) (1.16.0)\n",
            "Requirement already satisfied: contourpy>=1.0.1 in /usr/local/lib/python3.10/dist-packages (from matplotlib>=2.2.3->flair==0.13.1->gliner) (1.2.1)\n",
            "Requirement already satisfied: cycler>=0.10 in /usr/local/lib/python3.10/dist-packages (from matplotlib>=2.2.3->flair==0.13.1->gliner) (0.12.1)\n",
            "Requirement already satisfied: fonttools>=4.22.0 in /usr/local/lib/python3.10/dist-packages (from matplotlib>=2.2.3->flair==0.13.1->gliner) (4.53.0)\n",
            "Requirement already satisfied: kiwisolver>=1.0.1 in /usr/local/lib/python3.10/dist-packages (from matplotlib>=2.2.3->flair==0.13.1->gliner) (1.4.5)\n",
            "Requirement already satisfied: pillow>=6.2.0 in /usr/local/lib/python3.10/dist-packages (from matplotlib>=2.2.3->flair==0.13.1->gliner) (9.4.0)\n",
            "Requirement already satisfied: pyparsing>=2.3.1 in /usr/local/lib/python3.10/dist-packages (from matplotlib>=2.2.3->flair==0.13.1->gliner) (3.1.2)\n",
            "Requirement already satisfied: joblib>=1.1.1 in /usr/local/lib/python3.10/dist-packages (from scikit-learn>=1.0.2->flair==0.13.1->gliner) (1.4.2)\n",
            "Requirement already satisfied: threadpoolctl>=2.0.0 in /usr/local/lib/python3.10/dist-packages (from scikit-learn>=1.0.2->flair==0.13.1->gliner) (3.5.0)\n",
            "Requirement already satisfied: protobuf in /usr/local/lib/python3.10/dist-packages (from transformers>=4.38.2->gliner) (3.20.3)\n",
            "Requirement already satisfied: MarkupSafe>=2.0 in /usr/local/lib/python3.10/dist-packages (from jinja2->torch>=2.0.0->gliner) (2.1.5)\n",
            "Requirement already satisfied: charset-normalizer<4,>=2 in /usr/local/lib/python3.10/dist-packages (from requests->huggingface-hub>=0.21.4->gliner) (3.3.2)\n",
            "Requirement already satisfied: idna<4,>=2.5 in /usr/local/lib/python3.10/dist-packages (from requests->huggingface-hub>=0.21.4->gliner) (3.7)\n",
            "Requirement already satisfied: certifi>=2017.4.17 in /usr/local/lib/python3.10/dist-packages (from requests->huggingface-hub>=0.21.4->gliner) (2024.6.2)\n",
            "Requirement already satisfied: mpmath<1.4.0,>=1.1.0 in /usr/local/lib/python3.10/dist-packages (from sympy->torch>=2.0.0->gliner) (1.3.0)\n",
            "Collecting accelerate>=0.21.0 (from transformers>=4.38.2->gliner)\n",
            "  Downloading accelerate-0.31.0-py3-none-any.whl (309 kB)\n",
            "\u001b[2K     \u001b[90m━━━━━━━━━━━━━━━━━━━━━━━━━━━━━━━━━━━━━━━━\u001b[0m \u001b[32m309.4/309.4 kB\u001b[0m \u001b[31m34.5 MB/s\u001b[0m eta \u001b[36m0:00:00\u001b[0m\n",
            "\u001b[?25hRequirement already satisfied: soupsieve>1.2 in /usr/local/lib/python3.10/dist-packages (from beautifulsoup4->gdown>=4.4.0->flair==0.13.1->gliner) (2.5)\n",
            "Requirement already satisfied: PySocks!=1.5.7,>=1.5.6 in /usr/local/lib/python3.10/dist-packages (from requests->huggingface-hub>=0.21.4->gliner) (1.7.1)\n",
            "Requirement already satisfied: psutil in /usr/local/lib/python3.10/dist-packages (from accelerate>=0.21.0->transformers>=4.38.2->gliner) (5.9.5)\n",
            "Building wheels for collected packages: seqeval, langdetect, pptree, sqlitedict\n",
            "  Building wheel for seqeval (setup.py) ... \u001b[?25l\u001b[?25hdone\n",
            "  Created wheel for seqeval: filename=seqeval-1.2.2-py3-none-any.whl size=16161 sha256=4756376d1a3871a2fd994cbdcfad92d8d93a8076137b3da8c6867c951f00b930\n",
            "  Stored in directory: /root/.cache/pip/wheels/1a/67/4a/ad4082dd7dfc30f2abfe4d80a2ed5926a506eb8a972b4767fa\n",
            "  Building wheel for langdetect (setup.py) ... \u001b[?25l\u001b[?25hdone\n",
            "  Created wheel for langdetect: filename=langdetect-1.0.9-py3-none-any.whl size=993227 sha256=3addb6f475ea7acfb5f491bd290dd5d33508e4e8659b391acc1bca98447df4e8\n",
            "  Stored in directory: /root/.cache/pip/wheels/95/03/7d/59ea870c70ce4e5a370638b5462a7711ab78fba2f655d05106\n",
            "  Building wheel for pptree (setup.py) ... \u001b[?25l\u001b[?25hdone\n",
            "  Created wheel for pptree: filename=pptree-3.1-py3-none-any.whl size=4609 sha256=cb6b63f80f8e21f6131bfff15a58ccf73b369f65431793a835e6045726e7ebc4\n",
            "  Stored in directory: /root/.cache/pip/wheels/9f/b6/0e/6f26eb9e6eb53ff2107a7888d72b5a6a597593956113037828\n",
            "  Building wheel for sqlitedict (setup.py) ... \u001b[?25l\u001b[?25hdone\n",
            "  Created wheel for sqlitedict: filename=sqlitedict-2.1.0-py3-none-any.whl size=16862 sha256=7809ba6bdb1b5562d5765fab9e88e65e5332827ef60c74290fddab5495a6fd32\n",
            "  Stored in directory: /root/.cache/pip/wheels/79/d6/e7/304e0e6cb2221022c26d8161f7c23cd4f259a9e41e8bbcfabd\n",
            "Successfully built seqeval langdetect pptree sqlitedict\n",
            "Installing collected packages: sqlitedict, pptree, janome, urllib3, semver, segtok, nvidia-nvtx-cu12, nvidia-nvjitlink-cu12, nvidia-nccl-cu12, nvidia-curand-cu12, nvidia-cufft-cu12, nvidia-cuda-runtime-cu12, nvidia-cuda-nvrtc-cu12, nvidia-cuda-cupti-cu12, nvidia-cublas-cu12, langdetect, jmespath, ftfy, deprecated, conllu, nvidia-cusparse-cu12, nvidia-cudnn-cu12, botocore, wikipedia-api, seqeval, s3transfer, nvidia-cusolver-cu12, mpld3, bpemb, boto3, pytorch-revgrad, accelerate, transformer-smaller-training-vocab, flair, gliner\n",
            "  Attempting uninstall: urllib3\n",
            "    Found existing installation: urllib3 2.0.7\n",
            "    Uninstalling urllib3-2.0.7:\n",
            "      Successfully uninstalled urllib3-2.0.7\n",
            "Successfully installed accelerate-0.31.0 boto3-1.34.122 botocore-1.34.122 bpemb-0.3.5 conllu-4.5.3 deprecated-1.2.14 flair-0.13.1 ftfy-6.2.0 gliner-0.2.2 janome-0.5.0 jmespath-1.0.1 langdetect-1.0.9 mpld3-0.5.10 nvidia-cublas-cu12-12.1.3.1 nvidia-cuda-cupti-cu12-12.1.105 nvidia-cuda-nvrtc-cu12-12.1.105 nvidia-cuda-runtime-cu12-12.1.105 nvidia-cudnn-cu12-8.9.2.26 nvidia-cufft-cu12-11.0.2.54 nvidia-curand-cu12-10.3.2.106 nvidia-cusolver-cu12-11.4.5.107 nvidia-cusparse-cu12-12.1.0.106 nvidia-nccl-cu12-2.20.5 nvidia-nvjitlink-cu12-12.5.40 nvidia-nvtx-cu12-12.1.105 pptree-3.1 pytorch-revgrad-0.2.0 s3transfer-0.10.1 segtok-1.5.11 semver-3.0.2 seqeval-1.2.2 sqlitedict-2.1.0 transformer-smaller-training-vocab-0.4.0 urllib3-1.26.18 wikipedia-api-0.6.0\n"
          ]
        },
        {
          "output_type": "display_data",
          "data": {
            "application/vnd.colab-display-data+json": {
              "pip_warning": {
                "packages": [
                  "urllib3"
                ]
              },
              "id": "1ee0042bff1f42e9a2c3e0595a4ed081"
            }
          },
          "metadata": {}
        }
      ]
    },
    {
      "cell_type": "code",
      "source": [
        "from gliner import GLiNER\n",
        "\n",
        "# Initialize GLiNER with the base model\n",
        "model = GLiNER.from_pretrained(\"urchade/gliner_medium-v2.1\")\n",
        "\n",
        "# Sample text for entity prediction\n",
        "text = \"\"\"\n",
        "Cristiano Ronaldo dos Santos Aveiro (Portuguese pronunciation: [kɾiʃˈtjɐnu ʁɔˈnaldu]; born 5 February 1985) is a Portuguese professional footballer who plays as a forward for and captains both Saudi Pro League club Al Nassr and the Portugal national team. Widely regarded as one of the greatest players of all time, Ronaldo has won five Ballon d'Or awards,[note 3] a record three UEFA Men's Player of the Year Awards, and four European Golden Shoes, the most by a European player. He has won 33 trophies in his career, including seven league titles, five UEFA Champions Leagues, the UEFA European Championship and the UEFA Nations League. Ronaldo holds the records for most appearances (183), goals (140) and assists (42) in the Champions League, goals in the European Championship (14), international goals (128) and international appearances (205). He is one of the few players to have made over 1,200 professional career appearances, the most by an outfield player, and has scored over 850 official senior career goals for club and country, making him the top goalscorer of all time.\n",
        "\"\"\"\n",
        "\n",
        "# Labels for entity prediction\n",
        "labels = [\"Person\", \"Award\", \"Date\", \"Competitions\", \"Teams\"] # for v2.1 use capital case for better performance\n",
        "\n",
        "# Perform entity prediction\n",
        "entities = model.predict_entities(text, labels, threshold=0.5)\n",
        "\n",
        "# Display predicted entities and their labels\n",
        "for entity in entities:\n",
        "    print(entity[\"text\"], \"=>\", entity[\"label\"])"
      ],
      "metadata": {
        "colab": {
          "base_uri": "https://localhost:8080/",
          "height": 576,
          "referenced_widgets": [
            "ae88eb9a08ed4d0f9e3a546068064f7a",
            "5c1dfdc6653b40e9b1fcee5460437e5a",
            "406dcea6986542bfa53cfd258b29de8e",
            "cc480863f81640febcf5e82893333690",
            "00a779257e6e48c3b195af2f58848d47",
            "8c005a8c50f04a9ea7f713837a962cb4",
            "48f56b5dd79d40438504c191eecc237f",
            "f733c7f4d3404582abb4a15c3f3b6a54",
            "822a50062d0d484480905a85e7b44a41",
            "33017436beea41b4b607b5319061cce6",
            "2a023af85fc84b2c84f8105b92c0c31b",
            "121fca868b844513878b2735d3d37b27",
            "8e1cdb90131c4a2b867abde02511aa27",
            "11265ed4bc324a96b98bfd806645fedf",
            "b9bb01885f89411fa3a18923e5fb1440",
            "1914c862eae0431a8fa2540de854a5f4",
            "833d8697237b48719e5844f95656b4f1",
            "d533beeef67546d6a7774564e8e9f7b5",
            "d80cbca43c0c4362bdb75577723efb94",
            "ad8057d12e6d42d4a06156bcc26b6774",
            "94d14e1dcb0d4085b2bfd34b5463f5a9",
            "72af8f6fb7574c769b7a6158464777cd",
            "3ceabc3ce8fb4fd59cd4d61530f90c11",
            "8e5339b1e9314df9a713327bb651d80e",
            "575448726bbd4a0390b8cbbf3745be3b",
            "64f66cc18f524a94a9dcc80982a0bee3",
            "96c20d8a92f745da9b6e10ec633f0a5b",
            "954dec0d011b4717ab8b19731a78c1b7",
            "8145076f9d8147a9b7afee030b44a177",
            "3f009ec802ec42aab307249131d21fc0",
            "d38cf0e1cddf42e6b707ed06b465d8f9",
            "2953f53c60994715a63a7045d1112b63",
            "af93378e55f844cb9dceb05f09a4abb8",
            "f65c55820b8240fd86db576e266113c8",
            "f895232e7bf542b6abad90767726e0e5",
            "c7f402c7fe514719ae785b882473c1d2",
            "3661a19c6b3047f8869f805a851994a9",
            "5e12e3a6faa5463d94be0212a16b8c57",
            "2d48c7ee9cf6455c98e2308c2751439a",
            "aef1ee2c2fb84f4db87ba25630c92ded",
            "71b21b0abdae4110b26f6049ffc5839f",
            "8071a986707c439f8c2ee4c20207e365",
            "99e2dc32cb1c4c879239189b91a63427",
            "a6ce503ad85a4b1a9ac0fe9997751f58",
            "6d8611b7632a4fc491c176ab9dcddf25",
            "1f4bcf8a2792498393cdde892a5febf4",
            "37d8042f7742430888e27a97e67cb889",
            "f619e04f59a64396a63b515f215672f8",
            "1fd6250294ae4aa193e81c1db332477f",
            "35ea7955a62446b483796c3872f8be44",
            "05130abba16d411f93516f7b9ba62f14",
            "68efd6e792de487a847804df4831c2f9",
            "6f8145deed0143ff9abb9cb5357d18b0",
            "3b95dddbc2cf48cfa0abea1083a50ae3",
            "957798e9b0a742709b2adba7fd063c3a",
            "e3164e3ec1134c6e920b76f906b023a5",
            "4ea0e2df6dff4ff387fb3bd5c6b2cfa3",
            "70d46ef369df43e3ab9e9fdaff802e7f",
            "29a794e2fde54585af83e6eda814065c",
            "8845d5d14ac04bfcaaccbf18eb83af3a",
            "e456cb9dc5b8489596aebf41b071bac7",
            "cb24633f52fa448c9b5191917047aa9a",
            "ba5f82c870eb4f03afa0d786ac1543aa",
            "f8003c9854494bc6845dc7044e219b9d",
            "5b4797bae6de412a99e5d098703eb726",
            "08b07c50b6af418f95e14719bca5bbc7"
          ]
        },
        "id": "NWB1vhz0MhWL",
        "outputId": "50f3be02-e5bb-43d5-8710-2209c3653c42"
      },
      "execution_count": 1,
      "outputs": [
        {
          "output_type": "stream",
          "name": "stderr",
          "text": [
            "/usr/local/lib/python3.10/dist-packages/huggingface_hub/utils/_token.py:89: UserWarning: \n",
            "The secret `HF_TOKEN` does not exist in your Colab secrets.\n",
            "To authenticate with the Hugging Face Hub, create a token in your settings tab (https://huggingface.co/settings/tokens), set it as secret in your Google Colab and restart your session.\n",
            "You will be able to reuse this secret in all of your notebooks.\n",
            "Please note that authentication is recommended but still optional to access public models or datasets.\n",
            "  warnings.warn(\n"
          ]
        },
        {
          "output_type": "display_data",
          "data": {
            "text/plain": [
              "pytorch_model.bin:   0%|          | 0.00/781M [00:00<?, ?B/s]"
            ],
            "application/vnd.jupyter.widget-view+json": {
              "version_major": 2,
              "version_minor": 0,
              "model_id": "ae88eb9a08ed4d0f9e3a546068064f7a"
            }
          },
          "metadata": {}
        },
        {
          "output_type": "display_data",
          "data": {
            "text/plain": [
              "gliner_config.json:   0%|          | 0.00/476 [00:00<?, ?B/s]"
            ],
            "application/vnd.jupyter.widget-view+json": {
              "version_major": 2,
              "version_minor": 0,
              "model_id": "121fca868b844513878b2735d3d37b27"
            }
          },
          "metadata": {}
        },
        {
          "output_type": "display_data",
          "data": {
            "text/plain": [
              "tokenizer_config.json:   0%|          | 0.00/52.0 [00:00<?, ?B/s]"
            ],
            "application/vnd.jupyter.widget-view+json": {
              "version_major": 2,
              "version_minor": 0,
              "model_id": "3ceabc3ce8fb4fd59cd4d61530f90c11"
            }
          },
          "metadata": {}
        },
        {
          "output_type": "stream",
          "name": "stderr",
          "text": [
            "/usr/local/lib/python3.10/dist-packages/huggingface_hub/file_download.py:1132: FutureWarning: `resume_download` is deprecated and will be removed in version 1.0.0. Downloads always resume when possible. If you want to force a new download, use `force_download=True`.\n",
            "  warnings.warn(\n"
          ]
        },
        {
          "output_type": "display_data",
          "data": {
            "text/plain": [
              "config.json:   0%|          | 0.00/579 [00:00<?, ?B/s]"
            ],
            "application/vnd.jupyter.widget-view+json": {
              "version_major": 2,
              "version_minor": 0,
              "model_id": "f65c55820b8240fd86db576e266113c8"
            }
          },
          "metadata": {}
        },
        {
          "output_type": "display_data",
          "data": {
            "text/plain": [
              "spm.model:   0%|          | 0.00/2.46M [00:00<?, ?B/s]"
            ],
            "application/vnd.jupyter.widget-view+json": {
              "version_major": 2,
              "version_minor": 0,
              "model_id": "6d8611b7632a4fc491c176ab9dcddf25"
            }
          },
          "metadata": {}
        },
        {
          "output_type": "stream",
          "name": "stderr",
          "text": [
            "/usr/local/lib/python3.10/dist-packages/transformers/convert_slow_tokenizer.py:560: UserWarning: The sentencepiece tokenizer that you are converting to a fast tokenizer uses the byte fallback option which is not implemented in the fast tokenizers. In practice this means that the fast version of the tokenizer can produce unknown tokens whereas the sentencepiece version would have converted these unknown tokens into a sequence of byte tokens matching the original piece of text.\n",
            "  warnings.warn(\n"
          ]
        },
        {
          "output_type": "display_data",
          "data": {
            "text/plain": [
              "pytorch_model.bin:   0%|          | 0.00/371M [00:00<?, ?B/s]"
            ],
            "application/vnd.jupyter.widget-view+json": {
              "version_major": 2,
              "version_minor": 0,
              "model_id": "e3164e3ec1134c6e920b76f906b023a5"
            }
          },
          "metadata": {}
        },
        {
          "output_type": "stream",
          "name": "stdout",
          "text": [
            "Cristiano Ronaldo dos Santos Aveiro => Person\n",
            "5 February 1985 => Date\n",
            "Portugal national team => Teams\n",
            "Ballon d'Or => Award\n",
            "UEFA Men's Player of the Year Awards => Award\n",
            "European Golden Shoes => Award\n",
            "UEFA Champions Leagues => Competitions\n",
            "UEFA European Championship => Competitions\n",
            "UEFA Nations League => Competitions\n",
            "European Championship => Competitions\n"
          ]
        }
      ]
    },
    {
      "cell_type": "code",
      "source": [
        "# Sample text for entity prediction\n",
        "text = \"\"\"\n",
        "I really like to make web apps with FastAPI but really Django is also super sweet. Admin interface for the win!\n",
        "\"\"\"\n",
        "\n",
        "# Labels for entity prediction\n",
        "labels = [\"Person\", \"Award\", \"Date\", \"Competitions\", \"Teams\"] # for v2.1 use capital case for better performance\n",
        "\n",
        "# Perform entity prediction\n",
        "entities = model.predict_entities(text, labels, threshold=0.5)\n",
        "\n",
        "# Display predicted entities and their labels\n",
        "for entity in entities:\n",
        "    print(entity[\"text\"], \"=>\", entity[\"label\"])"
      ],
      "metadata": {
        "colab": {
          "base_uri": "https://localhost:8080/"
        },
        "id": "GLFJj2WiNnJ9",
        "outputId": "056b5b02-f47c-46a7-9c06-d960feca07d1"
      },
      "execution_count": 2,
      "outputs": [
        {
          "output_type": "stream",
          "name": "stdout",
          "text": [
            "win => Award\n"
          ]
        }
      ]
    },
    {
      "cell_type": "code",
      "source": [
        "# Sample text for entity prediction\n",
        "text = \"\"\"\n",
        "I really like to make web apps with FastAPI but really Django is also super sweet. Admin interface for the win!\n",
        "\"\"\"\n",
        "\n",
        "# Labels for entity prediction\n",
        "labels = [\"Person\", \"Pythontool\"] # for v2.1 use capital case for better performance\n",
        "\n",
        "# Perform entity prediction\n",
        "entities = model.predict_entities(text, labels, threshold=0.5)\n",
        "\n",
        "# Display predicted entities and their labels\n",
        "for entity in entities:\n",
        "    print(entity[\"text\"], \"=>\", entity[\"label\"])"
      ],
      "metadata": {
        "colab": {
          "base_uri": "https://localhost:8080/"
        },
        "id": "qjDa9KChOT31",
        "outputId": "5dcbf9ed-55d5-46f2-9a9f-80e83119fabe"
      },
      "execution_count": 3,
      "outputs": [
        {
          "output_type": "stream",
          "name": "stdout",
          "text": [
            "FastAPI => Pythontool\n",
            "Django => Pythontool\n"
          ]
        }
      ]
    },
    {
      "cell_type": "code",
      "source": [
        "# Sample text for entity prediction\n",
        "text = \"\"\"\n",
        "I really like to make web apps with FastAPI but really Django is also super sweet. Admin interface for the win! Ruby on rails is neat too!\n",
        "\"\"\"\n",
        "\n",
        "# Labels for entity prediction\n",
        "labels = [\"Person\", \"Pythontool\"] # for v2.1 use capital case for better performance\n",
        "\n",
        "# Perform entity prediction\n",
        "entities = model.predict_entities(text, labels, threshold=0.5)\n",
        "\n",
        "# Display predicted entities and their labels\n",
        "for entity in entities:\n",
        "    print(entity[\"text\"], \"=>\", entity[\"label\"])"
      ],
      "metadata": {
        "colab": {
          "base_uri": "https://localhost:8080/"
        },
        "id": "NjS5Q6frOdMO",
        "outputId": "fc9c4b60-7dfb-4d4f-fb1e-a1e5b731d136"
      },
      "execution_count": 4,
      "outputs": [
        {
          "output_type": "stream",
          "name": "stdout",
          "text": [
            "FastAPI => Pythontool\n",
            "Django => Pythontool\n",
            "Ruby on rails => Pythontool\n"
          ]
        }
      ]
    },
    {
      "cell_type": "code",
      "source": [
        "%%time\n",
        "\n",
        "# Sample text for entity prediction\n",
        "text = \"\"\"\n",
        "I really like to make web apps with FastAPI but really Django is also super sweet. Admin interface for the win! Ruby on rails is neat too!\n",
        "\"\"\"\n",
        "\n",
        "# Labels for entity prediction\n",
        "labels = [\"Person\", \"Pythontool\"] # for v2.1 use capital case for better performance\n",
        "\n",
        "# Perform entity prediction\n",
        "entities = model.predict_entities(text, labels, threshold=0.5)\n",
        "\n",
        "# Display predicted entities and their labels\n",
        "for entity in entities:\n",
        "    print(entity[\"text\"], \"=>\", entity[\"label\"])"
      ],
      "metadata": {
        "colab": {
          "base_uri": "https://localhost:8080/"
        },
        "id": "vuKNZDpDOvG9",
        "outputId": "2f14d074-99fe-41c4-dc7e-99f94becc153"
      },
      "execution_count": 5,
      "outputs": [
        {
          "output_type": "stream",
          "name": "stdout",
          "text": [
            "FastAPI => Pythontool\n",
            "Django => Pythontool\n",
            "Ruby on rails => Pythontool\n",
            "CPU times: user 572 ms, sys: 1.1 ms, total: 573 ms\n",
            "Wall time: 572 ms\n"
          ]
        }
      ]
    },
    {
      "cell_type": "code",
      "source": [
        "%pip install gliner_spacy"
      ],
      "metadata": {
        "colab": {
          "base_uri": "https://localhost:8080/"
        },
        "id": "3AHl0mSuPD5d",
        "outputId": "c51b3e97-2d0b-4961-f437-1e92042a76fb"
      },
      "execution_count": 6,
      "outputs": [
        {
          "output_type": "stream",
          "name": "stdout",
          "text": [
            "Collecting gliner_spacy\n",
            "  Downloading gliner-spacy-0.0.8.tar.gz (4.6 kB)\n",
            "  Preparing metadata (setup.py) ... \u001b[?25l\u001b[?25hdone\n",
            "Requirement already satisfied: spacy>=3.0.0 in /usr/local/lib/python3.10/dist-packages (from gliner_spacy) (3.7.4)\n",
            "Requirement already satisfied: gliner>=0.2.0 in /usr/local/lib/python3.10/dist-packages (from gliner_spacy) (0.2.2)\n",
            "Requirement already satisfied: torch>=2.0.0 in /usr/local/lib/python3.10/dist-packages (from gliner>=0.2.0->gliner_spacy) (2.3.0+cu121)\n",
            "Requirement already satisfied: transformers>=4.38.2 in /usr/local/lib/python3.10/dist-packages (from gliner>=0.2.0->gliner_spacy) (4.41.2)\n",
            "Requirement already satisfied: huggingface-hub>=0.21.4 in /usr/local/lib/python3.10/dist-packages (from gliner>=0.2.0->gliner_spacy) (0.23.2)\n",
            "Requirement already satisfied: flair==0.13.1 in /usr/local/lib/python3.10/dist-packages (from gliner>=0.2.0->gliner_spacy) (0.13.1)\n",
            "Requirement already satisfied: scipy<=1.12 in /usr/local/lib/python3.10/dist-packages (from gliner>=0.2.0->gliner_spacy) (1.11.4)\n",
            "Requirement already satisfied: seqeval in /usr/local/lib/python3.10/dist-packages (from gliner>=0.2.0->gliner_spacy) (1.2.2)\n",
            "Requirement already satisfied: tqdm in /usr/local/lib/python3.10/dist-packages (from gliner>=0.2.0->gliner_spacy) (4.66.4)\n",
            "Requirement already satisfied: boto3>=1.20.27 in /usr/local/lib/python3.10/dist-packages (from flair==0.13.1->gliner>=0.2.0->gliner_spacy) (1.34.122)\n",
            "Requirement already satisfied: bpemb>=0.3.2 in /usr/local/lib/python3.10/dist-packages (from flair==0.13.1->gliner>=0.2.0->gliner_spacy) (0.3.5)\n",
            "Requirement already satisfied: conllu>=4.0 in /usr/local/lib/python3.10/dist-packages (from flair==0.13.1->gliner>=0.2.0->gliner_spacy) (4.5.3)\n",
            "Requirement already satisfied: deprecated>=1.2.13 in /usr/local/lib/python3.10/dist-packages (from flair==0.13.1->gliner>=0.2.0->gliner_spacy) (1.2.14)\n",
            "Requirement already satisfied: ftfy>=6.1.0 in /usr/local/lib/python3.10/dist-packages (from flair==0.13.1->gliner>=0.2.0->gliner_spacy) (6.2.0)\n",
            "Requirement already satisfied: gdown>=4.4.0 in /usr/local/lib/python3.10/dist-packages (from flair==0.13.1->gliner>=0.2.0->gliner_spacy) (5.1.0)\n",
            "Requirement already satisfied: gensim>=4.2.0 in /usr/local/lib/python3.10/dist-packages (from flair==0.13.1->gliner>=0.2.0->gliner_spacy) (4.3.2)\n",
            "Requirement already satisfied: janome>=0.4.2 in /usr/local/lib/python3.10/dist-packages (from flair==0.13.1->gliner>=0.2.0->gliner_spacy) (0.5.0)\n",
            "Requirement already satisfied: langdetect>=1.0.9 in /usr/local/lib/python3.10/dist-packages (from flair==0.13.1->gliner>=0.2.0->gliner_spacy) (1.0.9)\n",
            "Requirement already satisfied: lxml>=4.8.0 in /usr/local/lib/python3.10/dist-packages (from flair==0.13.1->gliner>=0.2.0->gliner_spacy) (4.9.4)\n",
            "Requirement already satisfied: matplotlib>=2.2.3 in /usr/local/lib/python3.10/dist-packages (from flair==0.13.1->gliner>=0.2.0->gliner_spacy) (3.7.1)\n",
            "Requirement already satisfied: more-itertools>=8.13.0 in /usr/local/lib/python3.10/dist-packages (from flair==0.13.1->gliner>=0.2.0->gliner_spacy) (10.1.0)\n",
            "Requirement already satisfied: mpld3>=0.3 in /usr/local/lib/python3.10/dist-packages (from flair==0.13.1->gliner>=0.2.0->gliner_spacy) (0.5.10)\n",
            "Requirement already satisfied: pptree>=3.1 in /usr/local/lib/python3.10/dist-packages (from flair==0.13.1->gliner>=0.2.0->gliner_spacy) (3.1)\n",
            "Requirement already satisfied: python-dateutil>=2.8.2 in /usr/local/lib/python3.10/dist-packages (from flair==0.13.1->gliner>=0.2.0->gliner_spacy) (2.8.2)\n",
            "Requirement already satisfied: pytorch-revgrad>=0.2.0 in /usr/local/lib/python3.10/dist-packages (from flair==0.13.1->gliner>=0.2.0->gliner_spacy) (0.2.0)\n",
            "Requirement already satisfied: regex>=2022.1.18 in /usr/local/lib/python3.10/dist-packages (from flair==0.13.1->gliner>=0.2.0->gliner_spacy) (2024.5.15)\n",
            "Requirement already satisfied: scikit-learn>=1.0.2 in /usr/local/lib/python3.10/dist-packages (from flair==0.13.1->gliner>=0.2.0->gliner_spacy) (1.2.2)\n",
            "Requirement already satisfied: segtok>=1.5.11 in /usr/local/lib/python3.10/dist-packages (from flair==0.13.1->gliner>=0.2.0->gliner_spacy) (1.5.11)\n",
            "Requirement already satisfied: sqlitedict>=2.0.0 in /usr/local/lib/python3.10/dist-packages (from flair==0.13.1->gliner>=0.2.0->gliner_spacy) (2.1.0)\n",
            "Requirement already satisfied: tabulate>=0.8.10 in /usr/local/lib/python3.10/dist-packages (from flair==0.13.1->gliner>=0.2.0->gliner_spacy) (0.9.0)\n",
            "Requirement already satisfied: transformer-smaller-training-vocab>=0.2.3 in /usr/local/lib/python3.10/dist-packages (from flair==0.13.1->gliner>=0.2.0->gliner_spacy) (0.4.0)\n",
            "Requirement already satisfied: urllib3<2.0.0,>=1.0.0 in /usr/local/lib/python3.10/dist-packages (from flair==0.13.1->gliner>=0.2.0->gliner_spacy) (1.26.18)\n",
            "Requirement already satisfied: wikipedia-api>=0.5.7 in /usr/local/lib/python3.10/dist-packages (from flair==0.13.1->gliner>=0.2.0->gliner_spacy) (0.6.0)\n",
            "Requirement already satisfied: semver<4.0.0,>=3.0.0 in /usr/local/lib/python3.10/dist-packages (from flair==0.13.1->gliner>=0.2.0->gliner_spacy) (3.0.2)\n",
            "Requirement already satisfied: spacy-legacy<3.1.0,>=3.0.11 in /usr/local/lib/python3.10/dist-packages (from spacy>=3.0.0->gliner_spacy) (3.0.12)\n",
            "Requirement already satisfied: spacy-loggers<2.0.0,>=1.0.0 in /usr/local/lib/python3.10/dist-packages (from spacy>=3.0.0->gliner_spacy) (1.0.5)\n",
            "Requirement already satisfied: murmurhash<1.1.0,>=0.28.0 in /usr/local/lib/python3.10/dist-packages (from spacy>=3.0.0->gliner_spacy) (1.0.10)\n",
            "Requirement already satisfied: cymem<2.1.0,>=2.0.2 in /usr/local/lib/python3.10/dist-packages (from spacy>=3.0.0->gliner_spacy) (2.0.8)\n",
            "Requirement already satisfied: preshed<3.1.0,>=3.0.2 in /usr/local/lib/python3.10/dist-packages (from spacy>=3.0.0->gliner_spacy) (3.0.9)\n",
            "Requirement already satisfied: thinc<8.3.0,>=8.2.2 in /usr/local/lib/python3.10/dist-packages (from spacy>=3.0.0->gliner_spacy) (8.2.3)\n",
            "Requirement already satisfied: wasabi<1.2.0,>=0.9.1 in /usr/local/lib/python3.10/dist-packages (from spacy>=3.0.0->gliner_spacy) (1.1.3)\n",
            "Requirement already satisfied: srsly<3.0.0,>=2.4.3 in /usr/local/lib/python3.10/dist-packages (from spacy>=3.0.0->gliner_spacy) (2.4.8)\n",
            "Requirement already satisfied: catalogue<2.1.0,>=2.0.6 in /usr/local/lib/python3.10/dist-packages (from spacy>=3.0.0->gliner_spacy) (2.0.10)\n",
            "Requirement already satisfied: weasel<0.4.0,>=0.1.0 in /usr/local/lib/python3.10/dist-packages (from spacy>=3.0.0->gliner_spacy) (0.3.4)\n",
            "Requirement already satisfied: typer<0.10.0,>=0.3.0 in /usr/local/lib/python3.10/dist-packages (from spacy>=3.0.0->gliner_spacy) (0.9.4)\n",
            "Requirement already satisfied: smart-open<7.0.0,>=5.2.1 in /usr/local/lib/python3.10/dist-packages (from spacy>=3.0.0->gliner_spacy) (6.4.0)\n",
            "Requirement already satisfied: requests<3.0.0,>=2.13.0 in /usr/local/lib/python3.10/dist-packages (from spacy>=3.0.0->gliner_spacy) (2.31.0)\n",
            "Requirement already satisfied: pydantic!=1.8,!=1.8.1,<3.0.0,>=1.7.4 in /usr/local/lib/python3.10/dist-packages (from spacy>=3.0.0->gliner_spacy) (2.7.3)\n",
            "Requirement already satisfied: jinja2 in /usr/local/lib/python3.10/dist-packages (from spacy>=3.0.0->gliner_spacy) (3.1.4)\n",
            "Requirement already satisfied: setuptools in /usr/local/lib/python3.10/dist-packages (from spacy>=3.0.0->gliner_spacy) (67.7.2)\n",
            "Requirement already satisfied: packaging>=20.0 in /usr/local/lib/python3.10/dist-packages (from spacy>=3.0.0->gliner_spacy) (24.0)\n",
            "Requirement already satisfied: langcodes<4.0.0,>=3.2.0 in /usr/local/lib/python3.10/dist-packages (from spacy>=3.0.0->gliner_spacy) (3.4.0)\n",
            "Requirement already satisfied: numpy>=1.19.0 in /usr/local/lib/python3.10/dist-packages (from spacy>=3.0.0->gliner_spacy) (1.25.2)\n",
            "Requirement already satisfied: filelock in /usr/local/lib/python3.10/dist-packages (from huggingface-hub>=0.21.4->gliner>=0.2.0->gliner_spacy) (3.14.0)\n",
            "Requirement already satisfied: fsspec>=2023.5.0 in /usr/local/lib/python3.10/dist-packages (from huggingface-hub>=0.21.4->gliner>=0.2.0->gliner_spacy) (2023.6.0)\n",
            "Requirement already satisfied: pyyaml>=5.1 in /usr/local/lib/python3.10/dist-packages (from huggingface-hub>=0.21.4->gliner>=0.2.0->gliner_spacy) (6.0.1)\n",
            "Requirement already satisfied: typing-extensions>=3.7.4.3 in /usr/local/lib/python3.10/dist-packages (from huggingface-hub>=0.21.4->gliner>=0.2.0->gliner_spacy) (4.12.1)\n",
            "Requirement already satisfied: language-data>=1.2 in /usr/local/lib/python3.10/dist-packages (from langcodes<4.0.0,>=3.2.0->spacy>=3.0.0->gliner_spacy) (1.2.0)\n",
            "Requirement already satisfied: annotated-types>=0.4.0 in /usr/local/lib/python3.10/dist-packages (from pydantic!=1.8,!=1.8.1,<3.0.0,>=1.7.4->spacy>=3.0.0->gliner_spacy) (0.7.0)\n",
            "Requirement already satisfied: pydantic-core==2.18.4 in /usr/local/lib/python3.10/dist-packages (from pydantic!=1.8,!=1.8.1,<3.0.0,>=1.7.4->spacy>=3.0.0->gliner_spacy) (2.18.4)\n",
            "Requirement already satisfied: charset-normalizer<4,>=2 in /usr/local/lib/python3.10/dist-packages (from requests<3.0.0,>=2.13.0->spacy>=3.0.0->gliner_spacy) (3.3.2)\n",
            "Requirement already satisfied: idna<4,>=2.5 in /usr/local/lib/python3.10/dist-packages (from requests<3.0.0,>=2.13.0->spacy>=3.0.0->gliner_spacy) (3.7)\n",
            "Requirement already satisfied: certifi>=2017.4.17 in /usr/local/lib/python3.10/dist-packages (from requests<3.0.0,>=2.13.0->spacy>=3.0.0->gliner_spacy) (2024.6.2)\n",
            "Requirement already satisfied: blis<0.8.0,>=0.7.8 in /usr/local/lib/python3.10/dist-packages (from thinc<8.3.0,>=8.2.2->spacy>=3.0.0->gliner_spacy) (0.7.11)\n",
            "Requirement already satisfied: confection<1.0.0,>=0.0.1 in /usr/local/lib/python3.10/dist-packages (from thinc<8.3.0,>=8.2.2->spacy>=3.0.0->gliner_spacy) (0.1.5)\n",
            "Requirement already satisfied: sympy in /usr/local/lib/python3.10/dist-packages (from torch>=2.0.0->gliner>=0.2.0->gliner_spacy) (1.12.1)\n",
            "Requirement already satisfied: networkx in /usr/local/lib/python3.10/dist-packages (from torch>=2.0.0->gliner>=0.2.0->gliner_spacy) (3.3)\n",
            "Requirement already satisfied: nvidia-cuda-nvrtc-cu12==12.1.105 in /usr/local/lib/python3.10/dist-packages (from torch>=2.0.0->gliner>=0.2.0->gliner_spacy) (12.1.105)\n",
            "Requirement already satisfied: nvidia-cuda-runtime-cu12==12.1.105 in /usr/local/lib/python3.10/dist-packages (from torch>=2.0.0->gliner>=0.2.0->gliner_spacy) (12.1.105)\n",
            "Requirement already satisfied: nvidia-cuda-cupti-cu12==12.1.105 in /usr/local/lib/python3.10/dist-packages (from torch>=2.0.0->gliner>=0.2.0->gliner_spacy) (12.1.105)\n",
            "Requirement already satisfied: nvidia-cudnn-cu12==8.9.2.26 in /usr/local/lib/python3.10/dist-packages (from torch>=2.0.0->gliner>=0.2.0->gliner_spacy) (8.9.2.26)\n",
            "Requirement already satisfied: nvidia-cublas-cu12==12.1.3.1 in /usr/local/lib/python3.10/dist-packages (from torch>=2.0.0->gliner>=0.2.0->gliner_spacy) (12.1.3.1)\n",
            "Requirement already satisfied: nvidia-cufft-cu12==11.0.2.54 in /usr/local/lib/python3.10/dist-packages (from torch>=2.0.0->gliner>=0.2.0->gliner_spacy) (11.0.2.54)\n",
            "Requirement already satisfied: nvidia-curand-cu12==10.3.2.106 in /usr/local/lib/python3.10/dist-packages (from torch>=2.0.0->gliner>=0.2.0->gliner_spacy) (10.3.2.106)\n",
            "Requirement already satisfied: nvidia-cusolver-cu12==11.4.5.107 in /usr/local/lib/python3.10/dist-packages (from torch>=2.0.0->gliner>=0.2.0->gliner_spacy) (11.4.5.107)\n",
            "Requirement already satisfied: nvidia-cusparse-cu12==12.1.0.106 in /usr/local/lib/python3.10/dist-packages (from torch>=2.0.0->gliner>=0.2.0->gliner_spacy) (12.1.0.106)\n",
            "Requirement already satisfied: nvidia-nccl-cu12==2.20.5 in /usr/local/lib/python3.10/dist-packages (from torch>=2.0.0->gliner>=0.2.0->gliner_spacy) (2.20.5)\n",
            "Requirement already satisfied: nvidia-nvtx-cu12==12.1.105 in /usr/local/lib/python3.10/dist-packages (from torch>=2.0.0->gliner>=0.2.0->gliner_spacy) (12.1.105)\n",
            "Requirement already satisfied: triton==2.3.0 in /usr/local/lib/python3.10/dist-packages (from torch>=2.0.0->gliner>=0.2.0->gliner_spacy) (2.3.0)\n",
            "Requirement already satisfied: nvidia-nvjitlink-cu12 in /usr/local/lib/python3.10/dist-packages (from nvidia-cusolver-cu12==11.4.5.107->torch>=2.0.0->gliner>=0.2.0->gliner_spacy) (12.5.40)\n",
            "Requirement already satisfied: tokenizers<0.20,>=0.19 in /usr/local/lib/python3.10/dist-packages (from transformers>=4.38.2->gliner>=0.2.0->gliner_spacy) (0.19.1)\n",
            "Requirement already satisfied: safetensors>=0.4.1 in /usr/local/lib/python3.10/dist-packages (from transformers>=4.38.2->gliner>=0.2.0->gliner_spacy) (0.4.3)\n",
            "Requirement already satisfied: click<9.0.0,>=7.1.1 in /usr/local/lib/python3.10/dist-packages (from typer<0.10.0,>=0.3.0->spacy>=3.0.0->gliner_spacy) (8.1.7)\n",
            "Requirement already satisfied: cloudpathlib<0.17.0,>=0.7.0 in /usr/local/lib/python3.10/dist-packages (from weasel<0.4.0,>=0.1.0->spacy>=3.0.0->gliner_spacy) (0.16.0)\n",
            "Requirement already satisfied: MarkupSafe>=2.0 in /usr/local/lib/python3.10/dist-packages (from jinja2->spacy>=3.0.0->gliner_spacy) (2.1.5)\n",
            "Requirement already satisfied: botocore<1.35.0,>=1.34.122 in /usr/local/lib/python3.10/dist-packages (from boto3>=1.20.27->flair==0.13.1->gliner>=0.2.0->gliner_spacy) (1.34.122)\n",
            "Requirement already satisfied: jmespath<2.0.0,>=0.7.1 in /usr/local/lib/python3.10/dist-packages (from boto3>=1.20.27->flair==0.13.1->gliner>=0.2.0->gliner_spacy) (1.0.1)\n",
            "Requirement already satisfied: s3transfer<0.11.0,>=0.10.0 in /usr/local/lib/python3.10/dist-packages (from boto3>=1.20.27->flair==0.13.1->gliner>=0.2.0->gliner_spacy) (0.10.1)\n",
            "Requirement already satisfied: sentencepiece in /usr/local/lib/python3.10/dist-packages (from bpemb>=0.3.2->flair==0.13.1->gliner>=0.2.0->gliner_spacy) (0.1.99)\n",
            "Requirement already satisfied: wrapt<2,>=1.10 in /usr/local/lib/python3.10/dist-packages (from deprecated>=1.2.13->flair==0.13.1->gliner>=0.2.0->gliner_spacy) (1.14.1)\n",
            "Requirement already satisfied: wcwidth<0.3.0,>=0.2.12 in /usr/local/lib/python3.10/dist-packages (from ftfy>=6.1.0->flair==0.13.1->gliner>=0.2.0->gliner_spacy) (0.2.13)\n",
            "Requirement already satisfied: beautifulsoup4 in /usr/local/lib/python3.10/dist-packages (from gdown>=4.4.0->flair==0.13.1->gliner>=0.2.0->gliner_spacy) (4.12.3)\n",
            "Requirement already satisfied: six in /usr/local/lib/python3.10/dist-packages (from langdetect>=1.0.9->flair==0.13.1->gliner>=0.2.0->gliner_spacy) (1.16.0)\n",
            "Requirement already satisfied: marisa-trie>=0.7.7 in /usr/local/lib/python3.10/dist-packages (from language-data>=1.2->langcodes<4.0.0,>=3.2.0->spacy>=3.0.0->gliner_spacy) (1.1.1)\n",
            "Requirement already satisfied: contourpy>=1.0.1 in /usr/local/lib/python3.10/dist-packages (from matplotlib>=2.2.3->flair==0.13.1->gliner>=0.2.0->gliner_spacy) (1.2.1)\n",
            "Requirement already satisfied: cycler>=0.10 in /usr/local/lib/python3.10/dist-packages (from matplotlib>=2.2.3->flair==0.13.1->gliner>=0.2.0->gliner_spacy) (0.12.1)\n",
            "Requirement already satisfied: fonttools>=4.22.0 in /usr/local/lib/python3.10/dist-packages (from matplotlib>=2.2.3->flair==0.13.1->gliner>=0.2.0->gliner_spacy) (4.53.0)\n",
            "Requirement already satisfied: kiwisolver>=1.0.1 in /usr/local/lib/python3.10/dist-packages (from matplotlib>=2.2.3->flair==0.13.1->gliner>=0.2.0->gliner_spacy) (1.4.5)\n",
            "Requirement already satisfied: pillow>=6.2.0 in /usr/local/lib/python3.10/dist-packages (from matplotlib>=2.2.3->flair==0.13.1->gliner>=0.2.0->gliner_spacy) (9.4.0)\n",
            "Requirement already satisfied: pyparsing>=2.3.1 in /usr/local/lib/python3.10/dist-packages (from matplotlib>=2.2.3->flair==0.13.1->gliner>=0.2.0->gliner_spacy) (3.1.2)\n",
            "Requirement already satisfied: joblib>=1.1.1 in /usr/local/lib/python3.10/dist-packages (from scikit-learn>=1.0.2->flair==0.13.1->gliner>=0.2.0->gliner_spacy) (1.4.2)\n",
            "Requirement already satisfied: threadpoolctl>=2.0.0 in /usr/local/lib/python3.10/dist-packages (from scikit-learn>=1.0.2->flair==0.13.1->gliner>=0.2.0->gliner_spacy) (3.5.0)\n",
            "Requirement already satisfied: protobuf in /usr/local/lib/python3.10/dist-packages (from transformers>=4.38.2->gliner>=0.2.0->gliner_spacy) (3.20.3)\n",
            "Requirement already satisfied: mpmath<1.4.0,>=1.1.0 in /usr/local/lib/python3.10/dist-packages (from sympy->torch>=2.0.0->gliner>=0.2.0->gliner_spacy) (1.3.0)\n",
            "Requirement already satisfied: accelerate>=0.21.0 in /usr/local/lib/python3.10/dist-packages (from transformers>=4.38.2->gliner>=0.2.0->gliner_spacy) (0.31.0)\n",
            "Requirement already satisfied: soupsieve>1.2 in /usr/local/lib/python3.10/dist-packages (from beautifulsoup4->gdown>=4.4.0->flair==0.13.1->gliner>=0.2.0->gliner_spacy) (2.5)\n",
            "Requirement already satisfied: PySocks!=1.5.7,>=1.5.6 in /usr/local/lib/python3.10/dist-packages (from requests<3.0.0,>=2.13.0->spacy>=3.0.0->gliner_spacy) (1.7.1)\n",
            "Requirement already satisfied: psutil in /usr/local/lib/python3.10/dist-packages (from accelerate>=0.21.0->transformers>=4.38.2->gliner>=0.2.0->gliner_spacy) (5.9.5)\n",
            "Building wheels for collected packages: gliner_spacy\n",
            "  Building wheel for gliner_spacy (setup.py) ... \u001b[?25l\u001b[?25hdone\n",
            "  Created wheel for gliner_spacy: filename=gliner_spacy-0.0.8-py3-none-any.whl size=5177 sha256=ce61c525d2f3dc69bff74c7f83abf55f905fc5c4aaa03ff3a93ba50182db73a9\n",
            "  Stored in directory: /root/.cache/pip/wheels/ef/8b/40/73ef25b53df678957aa0cba74daf26ed8649011bf16d4e387e\n",
            "Successfully built gliner_spacy\n",
            "Installing collected packages: gliner_spacy\n",
            "Successfully installed gliner_spacy-0.0.8\n"
          ]
        }
      ]
    },
    {
      "cell_type": "code",
      "source": [
        "import spacy\n",
        "from gliner_spacy.pipeline import GlinerSpacy\n",
        "\n",
        "# Configuration for GLiNER integration\n",
        "custom_spacy_config = {\n",
        "    \"gliner_model\": \"urchade/gliner_multi-v2.1\",\n",
        "    \"chunk_size\": 250,\n",
        "    \"labels\": [\"person\", \"organization\", \"email\"],\n",
        "    \"style\": \"ent\",\n",
        "    \"threshold\": 0.3,\n",
        "    \"map_location\": \"cpu\" # only available in v.0.0.7\n",
        "}\n",
        "\n",
        "# Initialize a blank English spaCy pipeline and add GLiNER\n",
        "nlp = spacy.blank(\"en\")\n",
        "nlp.add_pipe(\"gliner_spacy\", config=custom_spacy_config)\n",
        "\n",
        "# Example text for entity detection\n",
        "text = \"This is a text about Bill Gates and Microsoft.\"\n",
        "\n",
        "# Process the text with the pipeline\n",
        "doc = nlp(text)\n",
        "\n",
        "# Output detected entities\n",
        "for ent in doc.ents:\n",
        "    print(ent.text, ent.label_, ent._.score) # ent._.score only available in v. 0.0.7"
      ],
      "metadata": {
        "colab": {
          "base_uri": "https://localhost:8080/",
          "height": 333,
          "referenced_widgets": [
            "dd703a86e5aa4fda8932ced38089efb3",
            "fd0e3cc0166748b2864d5e0052cf8629",
            "a2270797403c4f7bbd625b0e2bed4396",
            "13eb66a3618e4d67b93b4a2622a4b1f3",
            "c2c3aac4c02847fbbec31385032fb235",
            "bbb062fa36b648fcac67b9967e2b449e",
            "c036dc283cce44b1bc623bfe8bec161e",
            "db45221f80f9444498c7090d09302891",
            "bf4fe7be78b643929035a74bd39fdf35",
            "46d95e472e41443993847a10132e69dd",
            "ea3b521f73a048fcb07177ef108c9053",
            "43a72a0f8f04473fbaa39b54ed5ce657",
            "99c476cec15143ff881cae8261e57aa0",
            "80d875e3a2af4222854f17bf1e7cfe0d",
            "96cab7be098943ef8072dbe700ee8ad5",
            "f5c168ae53194443a328089ec2c1453d",
            "e64cfac1c5b54a989530259727fd1b67",
            "d24f28dfd7264e099e2ca6c5f74ddd8c",
            "49c362ba9e084f52bad5aade8f1e5b78",
            "ef2d9b834b014a6e8327a9f4a308ca3c",
            "fc1c7830d92d4365b477841c05b35265",
            "abcaaddb7b8a47d8b2fb1d4c7c122c44",
            "dd2604b08cb34a3d9041e35ed73aea2f",
            "5083d875e0a64003a2b85bbf5923872d",
            "996d4643af2d4f65be18346876b9dc1e",
            "acb64698b4a94cf9bece5628cd6a6e88",
            "25af9a68275643af8a80c58ed6a3333b",
            "9ec78681d5e74bc6a366e5f4b1fe16b8",
            "c17e1bc4c8fd4ec5acbaf4fd765f1555",
            "fa24d79b6aaf419e852d24421404fe3d",
            "f722771bd6be4109a89b0c8dee547309",
            "756b18ecc05b451396c10d7fafd13f9d",
            "46f624e0d2b24b19a60623869b88face",
            "a2a9bd4607bc476a937320a23e7c9e03",
            "87b432c39cc940a3a607376ba66d37c8",
            "24634d773dbf4236bbc153ddfd8a0927",
            "8e047f3da1474fc9b535b5738670c9b6",
            "547a447c80e24a73947a934766efc101",
            "57ab254880e8456eb6f16eb82ba8ac81",
            "b2dd4e6385e148c1910fea9327be110a",
            "b347b023327048c5b7dcde5207602944",
            "217cd805dc3f4edcb0e145e1f006a433",
            "a678e142a28345ccbe9f9f48711177a4",
            "0f2fe440947841a295863afdc5440a25",
            "c1fb0ee4d7a545bbabd4345378626c86",
            "889cd2b1fbba4e5c9c843896b9a949ca",
            "08af25d262b248489cae9b26eeeae2fb",
            "21aa23b88f9746e7b2a3204300ee0ab5",
            "f09bfac983b24f4da72c9f085833e3a2",
            "ad05a40ab5ea4cc0a6e894a294c27f98",
            "a7609396e593436788b085d6bd39aee5",
            "5c3a3e37b706470e9df216d0b6ff15e8",
            "96e69e44fed64cd2b6895657423507cb",
            "1ff790a100384674a0c55cb53b1020a9",
            "20a43abf1692452eb15313a4a4a2fbd6",
            "2136926c809d4549aaef325f620e5983",
            "e029f6dbd0cc4a1abadd191bcb611327",
            "c5c881ad47a345dba31913ca567c83aa",
            "5ec3f1323a8e4dba9f97e61bb769c345",
            "a563484501cc402a9b7b2b180a4fea82",
            "8ea125021062467ca1091ee43ae06931",
            "f1509220f098400394c6281c8a6c37c8",
            "9d645571bb1f48f98a48d43fc49b1c62",
            "3bf54acb64734c88a3e454b6d72be6d8",
            "b53b7405d1fe40379cb59d07e2f10110",
            "e8b674ec427d4a11b1b09614759a151f"
          ]
        },
        "id": "YdgLIYYwPK1d",
        "outputId": "59c2bc49-5df5-4dbc-f6a7-c6ac237ebc33"
      },
      "execution_count": 7,
      "outputs": [
        {
          "output_type": "display_data",
          "data": {
            "text/plain": [
              "pytorch_model.bin:   0%|          | 0.00/1.16G [00:00<?, ?B/s]"
            ],
            "application/vnd.jupyter.widget-view+json": {
              "version_major": 2,
              "version_minor": 0,
              "model_id": "dd703a86e5aa4fda8932ced38089efb3"
            }
          },
          "metadata": {}
        },
        {
          "output_type": "display_data",
          "data": {
            "text/plain": [
              "gliner_config.json:   0%|          | 0.00/477 [00:00<?, ?B/s]"
            ],
            "application/vnd.jupyter.widget-view+json": {
              "version_major": 2,
              "version_minor": 0,
              "model_id": "43a72a0f8f04473fbaa39b54ed5ce657"
            }
          },
          "metadata": {}
        },
        {
          "output_type": "display_data",
          "data": {
            "text/plain": [
              "tokenizer_config.json:   0%|          | 0.00/52.0 [00:00<?, ?B/s]"
            ],
            "application/vnd.jupyter.widget-view+json": {
              "version_major": 2,
              "version_minor": 0,
              "model_id": "dd2604b08cb34a3d9041e35ed73aea2f"
            }
          },
          "metadata": {}
        },
        {
          "output_type": "stream",
          "name": "stderr",
          "text": [
            "/usr/local/lib/python3.10/dist-packages/huggingface_hub/file_download.py:1132: FutureWarning: `resume_download` is deprecated and will be removed in version 1.0.0. Downloads always resume when possible. If you want to force a new download, use `force_download=True`.\n",
            "  warnings.warn(\n"
          ]
        },
        {
          "output_type": "display_data",
          "data": {
            "text/plain": [
              "config.json:   0%|          | 0.00/579 [00:00<?, ?B/s]"
            ],
            "application/vnd.jupyter.widget-view+json": {
              "version_major": 2,
              "version_minor": 0,
              "model_id": "a2a9bd4607bc476a937320a23e7c9e03"
            }
          },
          "metadata": {}
        },
        {
          "output_type": "display_data",
          "data": {
            "text/plain": [
              "spm.model:   0%|          | 0.00/4.31M [00:00<?, ?B/s]"
            ],
            "application/vnd.jupyter.widget-view+json": {
              "version_major": 2,
              "version_minor": 0,
              "model_id": "c1fb0ee4d7a545bbabd4345378626c86"
            }
          },
          "metadata": {}
        },
        {
          "output_type": "stream",
          "name": "stderr",
          "text": [
            "/usr/local/lib/python3.10/dist-packages/transformers/convert_slow_tokenizer.py:560: UserWarning: The sentencepiece tokenizer that you are converting to a fast tokenizer uses the byte fallback option which is not implemented in the fast tokenizers. In practice this means that the fast version of the tokenizer can produce unknown tokens whereas the sentencepiece version would have converted these unknown tokens into a sequence of byte tokens matching the original piece of text.\n",
            "  warnings.warn(\n"
          ]
        },
        {
          "output_type": "display_data",
          "data": {
            "text/plain": [
              "pytorch_model.bin:   0%|          | 0.00/1.33G [00:00<?, ?B/s]"
            ],
            "application/vnd.jupyter.widget-view+json": {
              "version_major": 2,
              "version_minor": 0,
              "model_id": "2136926c809d4549aaef325f620e5983"
            }
          },
          "metadata": {}
        },
        {
          "output_type": "stream",
          "name": "stdout",
          "text": [
            "Bill Gates person 0.994448184967041\n",
            "Microsoft organization 0.9595022797584534\n"
          ]
        }
      ]
    }
  ]
}