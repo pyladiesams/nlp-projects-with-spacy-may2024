{
  "nbformat": 4,
  "nbformat_minor": 0,
  "metadata": {
    "colab": {
      "provenance": []
    },
    "kernelspec": {
      "name": "python3",
      "display_name": "Python 3"
    },
    "language_info": {
      "name": "python"
    }
  },
  "cells": [
    {
      "cell_type": "code",
      "source": [
        "! python -m spacy download en_core_web_md"
      ],
      "metadata": {
        "id": "2POkQDuM-Fdh"
      },
      "execution_count": null,
      "outputs": []
    },
    {
      "cell_type": "code",
      "execution_count": null,
      "metadata": {
        "id": "idixCqYa8UA7"
      },
      "outputs": [],
      "source": [
        "import spacy"
      ]
    },
    {
      "cell_type": "code",
      "source": [
        "nlp = spacy.blank(\"en\")"
      ],
      "metadata": {
        "id": "sYYrWB4j83tK"
      },
      "execution_count": null,
      "outputs": []
    },
    {
      "cell_type": "code",
      "source": [
        "doc = nlp(\"My name is Vincent.\")"
      ],
      "metadata": {
        "id": "bIoTPLL-9PyS"
      },
      "execution_count": null,
      "outputs": []
    },
    {
      "cell_type": "code",
      "source": [
        "for tok in doc:\n",
        "  print(tok)"
      ],
      "metadata": {
        "id": "PwE_RSxc9RmS"
      },
      "execution_count": null,
      "outputs": []
    },
    {
      "cell_type": "code",
      "source": [
        "doc = nlp(\"My name isn't Vincent.\")"
      ],
      "metadata": {
        "id": "4jHxlSwH9dQK"
      },
      "execution_count": null,
      "outputs": []
    },
    {
      "cell_type": "code",
      "source": [
        "for tok in doc:\n",
        "  print(tok)"
      ],
      "metadata": {
        "id": "O0ceBb6D9iI6"
      },
      "execution_count": null,
      "outputs": []
    },
    {
      "cell_type": "code",
      "source": [
        "doc = nlp(\"My name is not Vincent.\")"
      ],
      "metadata": {
        "id": "6Hbxhsy49qMy"
      },
      "execution_count": null,
      "outputs": []
    },
    {
      "cell_type": "code",
      "source": [
        "for tok in doc:\n",
        "  print(tok)"
      ],
      "metadata": {
        "id": "QbHk3eua9trq"
      },
      "execution_count": null,
      "outputs": []
    },
    {
      "cell_type": "code",
      "source": [
        "nlp = spacy.load(\"en_core_web_md\")"
      ],
      "metadata": {
        "id": "DdDdyQBD-vSx"
      },
      "execution_count": null,
      "outputs": []
    },
    {
      "cell_type": "code",
      "source": [
        "doc = nlp(\"My name is Vincent.\")"
      ],
      "metadata": {
        "id": "ZobJOglV_DbZ"
      },
      "execution_count": null,
      "outputs": []
    },
    {
      "cell_type": "code",
      "source": [
        "for tok in doc:\n",
        "  print(tok)"
      ],
      "metadata": {
        "id": "ldWHhOmA_IDR"
      },
      "execution_count": null,
      "outputs": []
    },
    {
      "cell_type": "code",
      "source": [
        "tok\n"
      ],
      "metadata": {
        "id": "OD4YWAHi_M04"
      },
      "execution_count": null,
      "outputs": []
    },
    {
      "cell_type": "code",
      "source": [
        "dir(tok)"
      ],
      "metadata": {
        "id": "r9xXaWeY_R_R"
      },
      "execution_count": null,
      "outputs": []
    },
    {
      "cell_type": "code",
      "source": [
        "tok.pos_"
      ],
      "metadata": {
        "id": "6wz9j819_ZXg"
      },
      "execution_count": null,
      "outputs": []
    },
    {
      "cell_type": "code",
      "source": [
        "for tok in doc:\n",
        "  print(tok, tok.pos_)"
      ],
      "metadata": {
        "id": "UYnJQQoo_gEB"
      },
      "execution_count": null,
      "outputs": []
    },
    {
      "cell_type": "code",
      "source": [
        "spacy.explain('AUX')"
      ],
      "metadata": {
        "id": "6Evu5M9B_pYB"
      },
      "execution_count": null,
      "outputs": []
    },
    {
      "cell_type": "code",
      "source": [
        "doc.ents"
      ],
      "metadata": {
        "id": "V7QPQabt_0nB"
      },
      "execution_count": null,
      "outputs": []
    },
    {
      "cell_type": "code",
      "source": [
        "for tok in doc:\n",
        "  print(tok, tok.pos_, tok.ent_type_)"
      ],
      "metadata": {
        "id": "nQJ22RQo_6oB"
      },
      "execution_count": null,
      "outputs": []
    },
    {
      "cell_type": "code",
      "source": [
        "doc = nlp(\"My name is not Vincent Warmerdam.\")"
      ],
      "metadata": {
        "id": "xE8A1yVa4o3w"
      },
      "execution_count": null,
      "outputs": []
    },
    {
      "cell_type": "code",
      "source": [
        "for tok in doc:\n",
        "  print(tok, tok.pos_, tok.ent_type_)"
      ],
      "metadata": {
        "id": "-DJ6siHh4uZY"
      },
      "execution_count": null,
      "outputs": []
    },
    {
      "cell_type": "code",
      "source": [
        "doc.ents"
      ],
      "metadata": {
        "id": "qyk4MzJk4xH_"
      },
      "execution_count": null,
      "outputs": []
    },
    {
      "cell_type": "code",
      "source": [
        "doc = nlp(\"My name is not V W, buyt abcd efgh.\")"
      ],
      "metadata": {
        "id": "KUQMPBwG5ELg"
      },
      "execution_count": null,
      "outputs": []
    },
    {
      "cell_type": "code",
      "source": [
        "for tok in doc:\n",
        "  print(tok, tok.pos_, tok.ent_type_)"
      ],
      "metadata": {
        "id": "_QCfdShl5L3Q"
      },
      "execution_count": null,
      "outputs": []
    },
    {
      "cell_type": "code",
      "source": [
        "doc.ents"
      ],
      "metadata": {
        "id": "WKh2bgvJ5T1I"
      },
      "execution_count": null,
      "outputs": []
    },
    {
      "cell_type": "code",
      "source": [
        "doc = nlp(\"My name is not Vincent W.\")"
      ],
      "metadata": {
        "id": "HRGewhsO5WLI"
      },
      "execution_count": null,
      "outputs": []
    },
    {
      "cell_type": "code",
      "source": [
        "for tok in doc:\n",
        "  print(tok, tok.pos_, tok.ent_type_)"
      ],
      "metadata": {
        "id": "tFkBiiEy5aKA"
      },
      "execution_count": null,
      "outputs": []
    },
    {
      "cell_type": "code",
      "source": [
        "doc.ents"
      ],
      "metadata": {
        "id": "j5Qmxaex5cjo"
      },
      "execution_count": null,
      "outputs": []
    },
    {
      "cell_type": "code",
      "source": [
        "doc = nlp(\"My name is not vincent warmerdam\")"
      ],
      "metadata": {
        "id": "LD3QPWDM5hbg"
      },
      "execution_count": null,
      "outputs": []
    },
    {
      "cell_type": "code",
      "source": [
        "for tok in doc:\n",
        "  print(tok, tok.pos_, tok.ent_type_)"
      ],
      "metadata": {
        "id": "H__jZYM05lm4"
      },
      "execution_count": null,
      "outputs": []
    },
    {
      "cell_type": "code",
      "source": [
        "doc.ents"
      ],
      "metadata": {
        "id": "YcERjjyg5nyI"
      },
      "execution_count": null,
      "outputs": []
    },
    {
      "cell_type": "code",
      "source": [
        "doc = nlp(\"My name is not bincent barmerdam\")"
      ],
      "metadata": {
        "id": "3lp4fI1O5wvo"
      },
      "execution_count": null,
      "outputs": []
    },
    {
      "cell_type": "code",
      "source": [
        "for tok in doc:\n",
        "  print(tok, tok.pos_, tok.ent_type_)"
      ],
      "metadata": {
        "id": "0qbfj-pK5yDw"
      },
      "execution_count": null,
      "outputs": []
    },
    {
      "cell_type": "code",
      "source": [
        "doc.ents"
      ],
      "metadata": {
        "id": "AHJ0e21F5zZA"
      },
      "execution_count": null,
      "outputs": []
    },
    {
      "cell_type": "code",
      "source": [
        "doc = nlp(\"My name is not Bincent Warmerdam\")"
      ],
      "metadata": {
        "id": "P6_mDM1C57Ho"
      },
      "execution_count": null,
      "outputs": []
    },
    {
      "cell_type": "code",
      "source": [
        "for tok in doc:\n",
        "  print(tok, tok.pos_, tok.ent_type_)"
      ],
      "metadata": {
        "id": "GKB1F78Z58Ag"
      },
      "execution_count": null,
      "outputs": []
    },
    {
      "cell_type": "code",
      "source": [
        "doc.ents"
      ],
      "metadata": {
        "id": "j3DYwtcN586w"
      },
      "execution_count": null,
      "outputs": []
    },
    {
      "cell_type": "code",
      "source": [
        "doc = nlp(\"My name is not v w,it is ehg asda\")"
      ],
      "metadata": {
        "id": "dMFKTuUy6JqA"
      },
      "execution_count": null,
      "outputs": []
    },
    {
      "cell_type": "code",
      "source": [
        "for tok in doc:\n",
        "  print(tok, tok.pos_, tok.ent_type_)"
      ],
      "metadata": {
        "id": "AsplRsNn6K_Y"
      },
      "execution_count": null,
      "outputs": []
    },
    {
      "cell_type": "code",
      "source": [
        "doc.ents"
      ],
      "metadata": {
        "id": "--Pc_rLK6L2Q"
      },
      "execution_count": null,
      "outputs": []
    },
    {
      "cell_type": "code",
      "source": [
        "from spacy import displacy"
      ],
      "metadata": {
        "id": "o7GWNpIo6Xdw"
      },
      "execution_count": null,
      "outputs": []
    },
    {
      "cell_type": "code",
      "source": [
        "displacy.render(doc)"
      ],
      "metadata": {
        "id": "Z4GOFISS6jiw"
      },
      "execution_count": null,
      "outputs": []
    },
    {
      "cell_type": "code",
      "source": [
        "displacy.render(nlp(\"Hi, my name is Vincent.\"))"
      ],
      "metadata": {
        "id": "XyB4RHTi64DI"
      },
      "execution_count": null,
      "outputs": []
    },
    {
      "cell_type": "code",
      "source": [
        "displacy.render(nlp(\"Hi, my name is Vincent.\"), style='ent')"
      ],
      "metadata": {
        "id": "UA70XJuT7EBY"
      },
      "execution_count": null,
      "outputs": []
    },
    {
      "cell_type": "code",
      "source": [
        "displacy.render(nlp(\"Hi, my name is Vincent. I have a few cats in my house and my house is in Haarlem which is in the Netherlands.\"), style='ent')"
      ],
      "metadata": {
        "id": "DpOtKGt-7OWQ"
      },
      "execution_count": null,
      "outputs": []
    },
    {
      "cell_type": "code",
      "source": [
        "spacy.explain('GPE')"
      ],
      "metadata": {
        "id": "106BLuKx7eRo"
      },
      "execution_count": null,
      "outputs": []
    },
    {
      "cell_type": "code",
      "source": [
        "displacy.render(nlp(\"Hi, my name is Vincent Warmerdam. I have a few cats in my house and my house is in Haarlem which is in the Netherlands.\"), style='ent')"
      ],
      "metadata": {
        "id": "DZa3R-HRBeRX"
      },
      "execution_count": null,
      "outputs": []
    },
    {
      "cell_type": "code",
      "source": [
        "doc = nlp(\"I want to go and learn Python.\")"
      ],
      "metadata": {
        "id": "-qpAmieJByBf"
      },
      "execution_count": null,
      "outputs": []
    },
    {
      "cell_type": "code",
      "source": [
        "for tok in doc:\n",
        "  print(tok, tok.pos_, tok.ent_type_)"
      ],
      "metadata": {
        "id": "Z4AC4rjUB5C3"
      },
      "execution_count": null,
      "outputs": []
    },
    {
      "cell_type": "code",
      "source": [
        "doc.ents"
      ],
      "metadata": {
        "id": "eemknzXIB8Jf"
      },
      "execution_count": null,
      "outputs": []
    },
    {
      "cell_type": "code",
      "source": [
        "doc = nlp(\"I really enjoy programming in the Go language.\")"
      ],
      "metadata": {
        "id": "Ok2lbfeBCF3X"
      },
      "execution_count": null,
      "outputs": []
    },
    {
      "cell_type": "code",
      "source": [
        "for tok in doc:\n",
        "  print(tok, tok.pos_, tok.ent_type_)"
      ],
      "metadata": {
        "id": "GW4gkcAKCHB_"
      },
      "execution_count": null,
      "outputs": []
    },
    {
      "cell_type": "code",
      "source": [
        "list(doc.noun_chunks)"
      ],
      "metadata": {
        "id": "WdwUE6mdCIBP"
      },
      "execution_count": null,
      "outputs": []
    },
    {
      "cell_type": "code",
      "source": [
        "displacy.render(doc)"
      ],
      "metadata": {
        "id": "2q0xupFvCd-H"
      },
      "execution_count": null,
      "outputs": []
    },
    {
      "cell_type": "code",
      "source": [
        "doc = nlp(\"I really enjoy programming in the python language.\")"
      ],
      "metadata": {
        "id": "qom6t-uSCzSm"
      },
      "execution_count": null,
      "outputs": []
    },
    {
      "cell_type": "code",
      "source": [
        "for tok in doc:\n",
        "  print(tok, tok.pos_, tok.ent_type_)"
      ],
      "metadata": {
        "id": "fWCOX-EWC05f"
      },
      "execution_count": null,
      "outputs": []
    },
    {
      "cell_type": "code",
      "source": [
        "list(doc.noun_chunks)"
      ],
      "metadata": {
        "id": "m8P91DnqC2qO"
      },
      "execution_count": null,
      "outputs": []
    },
    {
      "cell_type": "code",
      "source": [
        "displacy.render(doc)"
      ],
      "metadata": {
        "id": "j4LQr57iC3nv"
      },
      "execution_count": null,
      "outputs": []
    },
    {
      "cell_type": "code",
      "source": [
        "doc = nlp(\"I really enjoy programming in the python language 😊.\")"
      ],
      "metadata": {
        "id": "WoTLbHNxDI4-"
      },
      "execution_count": null,
      "outputs": []
    },
    {
      "cell_type": "code",
      "source": [
        "for tok in doc:\n",
        "  print(tok, tok.pos_, tok.ent_type_)"
      ],
      "metadata": {
        "id": "duaLpJB9J0Ru"
      },
      "execution_count": null,
      "outputs": []
    },
    {
      "cell_type": "code",
      "source": [
        "doc = nlp(\"I really enjoy 👩‍💻 in the python language 😊.\")"
      ],
      "metadata": {
        "id": "LamGUjTdJSjW"
      },
      "execution_count": null,
      "outputs": []
    },
    {
      "cell_type": "code",
      "source": [
        "for tok in doc:\n",
        "  print(tok, tok.pos_, tok.ent_type_)"
      ],
      "metadata": {
        "id": "-_ICEKCPJ06W"
      },
      "execution_count": null,
      "outputs": []
    },
    {
      "cell_type": "code",
      "source": [
        "doc = nlp(\"I **really** enjoy programming in the python language.\")"
      ],
      "metadata": {
        "id": "NmQpd1l1JeUW"
      },
      "execution_count": null,
      "outputs": []
    },
    {
      "cell_type": "code",
      "source": [
        "for tok in doc:\n",
        "  print(tok, tok.pos_, tok.ent_type_)"
      ],
      "metadata": {
        "id": "6a7tlhbkDKiP"
      },
      "execution_count": null,
      "outputs": []
    },
    {
      "cell_type": "code",
      "source": [
        "%%time\n",
        "doc = nlp(\"Hi there. My name is Vincent. His name is Barry and his cat is Noa.\")"
      ],
      "metadata": {
        "id": "51NRtJwsDLv2"
      },
      "execution_count": null,
      "outputs": []
    },
    {
      "cell_type": "code",
      "source": [
        "%%time\n",
        "texts = [\"Hi there. My name is Vincent. His name is Barry and his cat is Noa.\"] * 100\n",
        "doc = nlp.pipe(texts)"
      ],
      "metadata": {
        "id": "AOmUDLZQKmtm"
      },
      "execution_count": null,
      "outputs": []
    },
    {
      "cell_type": "code",
      "source": [
        "%%time\n",
        "texts = [\"Hi there. My name is Vincent. His name is Barry and his cat is Noa.\"] * 100\n",
        "[doc for doc in nlp.pipe(texts)]"
      ],
      "metadata": {
        "id": "qI_SkvpwK76F"
      },
      "execution_count": null,
      "outputs": []
    },
    {
      "cell_type": "code",
      "source": [
        "%%time\n",
        "texts = [\"Hi there. My name is Vincent. His name is Barry and his cat is Noa.\"] * 1000\n",
        "[doc for doc in nlp.pipe(texts)]"
      ],
      "metadata": {
        "id": "O6vCj7aHLH2l"
      },
      "execution_count": null,
      "outputs": []
    },
    {
      "cell_type": "code",
      "source": [
        "displacy.render(nlp(\"I really enjoy using FastAPI but for a proper webapp maybe something like Django is better because it comes with a big ORM.\"), style='ent')"
      ],
      "metadata": {
        "id": "6kJCKDyKLsQ1"
      },
      "execution_count": null,
      "outputs": []
    },
    {
      "cell_type": "code",
      "source": [
        "displacy.render(nlp(\"I really enjoy using FastAPI but for a proper webapp maybe something like Flask is better because it comes with a big ORM.\"), style='ent')"
      ],
      "metadata": {
        "id": "2K5toFWOMOvl"
      },
      "execution_count": null,
      "outputs": []
    },
    {
      "cell_type": "code",
      "source": [
        "%pip install gliner"
      ],
      "metadata": {
        "id": "aw1vl_YQMn4V"
      },
      "execution_count": null,
      "outputs": []
    },
    {
      "cell_type": "code",
      "source": [
        "from gliner import GLiNER\n",
        "\n",
        "# Initialize GLiNER with the base model\n",
        "model = GLiNER.from_pretrained(\"urchade/gliner_medium-v2.1\")\n",
        "\n",
        "# Sample text for entity prediction\n",
        "text = \"\"\"\n",
        "Cristiano Ronaldo dos Santos Aveiro (Portuguese pronunciation: [kɾiʃˈtjɐnu ʁɔˈnaldu]; born 5 February 1985) is a Portuguese professional footballer who plays as a forward for and captains both Saudi Pro League club Al Nassr and the Portugal national team. Widely regarded as one of the greatest players of all time, Ronaldo has won five Ballon d'Or awards,[note 3] a record three UEFA Men's Player of the Year Awards, and four European Golden Shoes, the most by a European player. He has won 33 trophies in his career, including seven league titles, five UEFA Champions Leagues, the UEFA European Championship and the UEFA Nations League. Ronaldo holds the records for most appearances (183), goals (140) and assists (42) in the Champions League, goals in the European Championship (14), international goals (128) and international appearances (205). He is one of the few players to have made over 1,200 professional career appearances, the most by an outfield player, and has scored over 850 official senior career goals for club and country, making him the top goalscorer of all time.\n",
        "\"\"\"\n",
        "\n",
        "# Labels for entity prediction\n",
        "labels = [\"Person\", \"Award\", \"Date\", \"Competitions\", \"Teams\"] # for v2.1 use capital case for better performance\n",
        "\n",
        "# Perform entity prediction\n",
        "entities = model.predict_entities(text, labels, threshold=0.5)\n",
        "\n",
        "# Display predicted entities and their labels\n",
        "for entity in entities:\n",
        "    print(entity[\"text\"], \"=>\", entity[\"label\"])"
      ],
      "metadata": {
        "id": "NWB1vhz0MhWL"
      },
      "execution_count": null,
      "outputs": []
    },
    {
      "cell_type": "code",
      "source": [
        "# Sample text for entity prediction\n",
        "text = \"\"\"\n",
        "I really like to make web apps with FastAPI but really Django is also super sweet. Admin interface for the win!\n",
        "\"\"\"\n",
        "\n",
        "# Labels for entity prediction\n",
        "labels = [\"Person\", \"Award\", \"Date\", \"Competitions\", \"Teams\"] # for v2.1 use capital case for better performance\n",
        "\n",
        "# Perform entity prediction\n",
        "entities = model.predict_entities(text, labels, threshold=0.5)\n",
        "\n",
        "# Display predicted entities and their labels\n",
        "for entity in entities:\n",
        "    print(entity[\"text\"], \"=>\", entity[\"label\"])"
      ],
      "metadata": {
        "id": "GLFJj2WiNnJ9"
      },
      "execution_count": null,
      "outputs": []
    },
    {
      "cell_type": "code",
      "source": [
        "# Sample text for entity prediction\n",
        "text = \"\"\"\n",
        "I really like to make web apps with FastAPI but really Django is also super sweet. Admin interface for the win!\n",
        "\"\"\"\n",
        "\n",
        "# Labels for entity prediction\n",
        "labels = [\"Person\", \"Pythontool\"] # for v2.1 use capital case for better performance\n",
        "\n",
        "# Perform entity prediction\n",
        "entities = model.predict_entities(text, labels, threshold=0.5)\n",
        "\n",
        "# Display predicted entities and their labels\n",
        "for entity in entities:\n",
        "    print(entity[\"text\"], \"=>\", entity[\"label\"])"
      ],
      "metadata": {
        "id": "qjDa9KChOT31"
      },
      "execution_count": null,
      "outputs": []
    },
    {
      "cell_type": "code",
      "source": [
        "# Sample text for entity prediction\n",
        "text = \"\"\"\n",
        "I really like to make web apps with FastAPI but really Django is also super sweet. Admin interface for the win! Ruby on rails is neat too!\n",
        "\"\"\"\n",
        "\n",
        "# Labels for entity prediction\n",
        "labels = [\"Person\", \"Pythontool\"] # for v2.1 use capital case for better performance\n",
        "\n",
        "# Perform entity prediction\n",
        "entities = model.predict_entities(text, labels, threshold=0.5)\n",
        "\n",
        "# Display predicted entities and their labels\n",
        "for entity in entities:\n",
        "    print(entity[\"text\"], \"=>\", entity[\"label\"])"
      ],
      "metadata": {
        "id": "NjS5Q6frOdMO"
      },
      "execution_count": null,
      "outputs": []
    },
    {
      "cell_type": "code",
      "source": [
        "%%time\n",
        "\n",
        "# Sample text for entity prediction\n",
        "text = \"\"\"\n",
        "I really like to make web apps with FastAPI but really Django is also super sweet. Admin interface for the win! Ruby on rails is neat too!\n",
        "\"\"\"\n",
        "\n",
        "# Labels for entity prediction\n",
        "labels = [\"Person\", \"Pythontool\"] # for v2.1 use capital case for better performance\n",
        "\n",
        "# Perform entity prediction\n",
        "entities = model.predict_entities(text, labels, threshold=0.5)\n",
        "\n",
        "# Display predicted entities and their labels\n",
        "for entity in entities:\n",
        "    print(entity[\"text\"], \"=>\", entity[\"label\"])"
      ],
      "metadata": {
        "id": "vuKNZDpDOvG9"
      },
      "execution_count": null,
      "outputs": []
    },
    {
      "cell_type": "code",
      "source": [
        "%pip install gliner_spacy"
      ],
      "metadata": {
        "id": "3AHl0mSuPD5d"
      },
      "execution_count": null,
      "outputs": []
    },
    {
      "cell_type": "code",
      "source": [
        "import spacy\n",
        "from gliner_spacy.pipeline import GlinerSpacy\n",
        "\n",
        "# Configuration for GLiNER integration\n",
        "custom_spacy_config = {\n",
        "    \"gliner_model\": \"urchade/gliner_multi-v2.1\",\n",
        "    \"chunk_size\": 250,\n",
        "    \"labels\": [\"person\", \"organization\", \"email\"],\n",
        "    \"style\": \"ent\",\n",
        "    \"threshold\": 0.3,\n",
        "    \"map_location\": \"cpu\" # only available in v.0.0.7\n",
        "}\n",
        "\n",
        "# Initialize a blank English spaCy pipeline and add GLiNER\n",
        "nlp = spacy.blank(\"en\")\n",
        "nlp.add_pipe(\"gliner_spacy\", config=custom_spacy_config)\n",
        "\n",
        "# Example text for entity detection\n",
        "text = \"This is a text about Bill Gates and Microsoft.\"\n",
        "\n",
        "# Process the text with the pipeline\n",
        "doc = nlp(text)\n",
        "\n",
        "# Output detected entities\n",
        "for ent in doc.ents:\n",
        "    print(ent.text, ent.label_, ent._.score) # ent._.score only available in v. 0.0.7"
      ],
      "metadata": {
        "id": "YdgLIYYwPK1d"
      },
      "execution_count": null,
      "outputs": []
    }
  ]
}